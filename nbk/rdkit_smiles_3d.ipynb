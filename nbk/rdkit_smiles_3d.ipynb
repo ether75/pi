{
 "cells": [
  {
   "cell_type": "markdown",
   "metadata": {},
   "source": [
    "# Requirement: rdkit\n",
    "\n",
    "```bash\n",
    "conda install rdkit -c rdkit\n",
    "```"
   ]
  },
  {
   "cell_type": "code",
   "execution_count": 1,
   "metadata": {},
   "outputs": [
    {
     "data": {
      "application/vnd.jupyter.widget-view+json": {
       "model_id": "91790ae7b7dc4ea2bbc56ca23039a551",
       "version_major": 2,
       "version_minor": 0
      },
      "text/plain": [
       "HTML(value='<style>.smilesApp{background-color: white}\\n</style>')"
      ]
     },
     "metadata": {},
     "output_type": "display_data"
    }
   ],
   "source": [
    "from ipywidgets import HTML\n",
    "HTML(\"\"\"<style>.smilesApp{background-color: white}\n",
    "</style>\"\"\")"
   ]
  },
  {
   "cell_type": "code",
   "execution_count": 2,
   "metadata": {
    "scrolled": false
   },
   "outputs": [
    {
     "data": {
      "application/vnd.jupyter.widget-view+json": {
       "model_id": "a68a96a3528a4637b6731e423852bed6",
       "version_major": 2,
       "version_minor": 0
      },
      "text/plain": []
     },
     "metadata": {},
     "output_type": "display_data"
    },
    {
     "name": "stderr",
     "output_type": "stream",
     "text": [
      "RDKit WARNING: [12:17:13] Enabling RDKit 2019.09.1 jupyter extensions\n"
     ]
    },
    {
     "data": {
      "application/vnd.jupyter.widget-view+json": {
       "model_id": "bd7c3fedc5bb48d58befc56200d922a7",
       "version_major": 2,
       "version_minor": 0
      },
      "text/plain": [
       "ThemeManager()"
      ]
     },
     "metadata": {},
     "output_type": "display_data"
    },
    {
     "data": {
      "application/vnd.jupyter.widget-view+json": {
       "model_id": "b24316e0ba8c4c77853b997cb56e8208",
       "version_major": 2,
       "version_minor": 0
      },
      "text/plain": [
       "Fullscreen()"
      ]
     },
     "metadata": {},
     "output_type": "display_data"
    },
    {
     "data": {
      "application/vnd.jupyter.widget-view+json": {
       "model_id": "0bc98f6118894914b237f93716d51320",
       "version_major": 2,
       "version_minor": 0
      },
      "text/plain": [
       "SmilesView(children=(HBox(children=(VBox(children=(Text(value=''), Output())), VBox(children=(Button(descripti…"
      ]
     },
     "metadata": {},
     "output_type": "display_data"
    }
   ],
   "source": [
    "import nglview as nv\n",
    "from IPython.display import display\n",
    "from nglview.widget import Fullscreen\n",
    "from ipywidgets import Text, Button, AppLayout, VBox, HBox, Output, GridspecLayout, Checkbox, Image\n",
    "import nglview as nv\n",
    "from rdkit import Chem # doctest: +SKIP\n",
    "from rdkit.Chem import AllChem\n",
    "from rdkit import Chem\n",
    "from rdkit.Chem import Draw\n",
    "from rdkit.Chem import rdDepictor\n",
    "from rdkit.Chem.Draw import rdMolDraw2D\n",
    "from io import BytesIO\n",
    "\n",
    "\n",
    "class SmilesView(AppLayout):\n",
    "    def __init__(self, *args, **kwargs):\n",
    "        super().__init__(*args, **kwargs)\n",
    "        self.view = nv.NGLWidget()\n",
    "        self.view.gui_style = 'ngl'\n",
    "        self.view.background = 'black'\n",
    "        self.text = Text()\n",
    "        btn = Button(description='Generate')\n",
    "        btn_fs = Button(description='Fullscreen')\n",
    "        self.center = self.view\n",
    "        self._out = Output()\n",
    "        self._err = Output()\n",
    "        self._check = Checkbox(description='Replace', value=True)\n",
    "        bgen = VBox([self.text, self._out])\n",
    "        bfull = VBox([btn, btn_fs])\n",
    "        footer = self.footer = HBox([bgen, bfull])\n",
    "        # self.left_sidebar = lbar = Image()\n",
    "        # self.left_sidebar.layout.align_self = 'center'\n",
    "        # lbar.layout.display = 'none'\n",
    "        self._fs = Fullscreen(self, [self.view])\n",
    "        self.footer.layout.justify_content = 'center'\n",
    "        display(self._fs)\n",
    "        self._m = None\n",
    "        @btn.on_click\n",
    "        def on_click_smiles(_):\n",
    "            self._handle_smiles_changed()\n",
    "        \n",
    "        @btn_fs.on_click\n",
    "        def on_click_fs(_):\n",
    "            self._fs.fullscreen()\n",
    "        \n",
    "        self.on_displayed(self.display_callback)\n",
    "        \n",
    "    def display_callback(self, _):\n",
    "        s.layout.height = '600px'\n",
    "        s.view.handle_resize()\n",
    "            \n",
    "    def _handle_smiles_changed(self):\n",
    "        self._out.clear_output()\n",
    "        self._err.clear_output()\n",
    "        st = None\n",
    "        with self._err:\n",
    "            m = Chem.MolFromSmiles(self.text.value)\n",
    "            print(type(m))\n",
    "            m = Chem.AddHs(m)\n",
    "            print(type(m))\n",
    "            Chem.AllChem.EmbedMultipleConfs(m, useExpTorsionAnglePrefs=True, useBasicKnowledge=True)\n",
    "            st = nv.RdkitStructure(m)\n",
    "            self._m = m\n",
    "            self._rdm = st\n",
    "            # self.left_sidebar.value = m._repr_png_()\n",
    "            # self.left_sidebar.layout.display = 'flex'\n",
    "\n",
    "        if st:\n",
    "            if self.view.n_components == 0:\n",
    "                self.view.add_component(st, default=False)\n",
    "                self.view.add_licorice('/0')\n",
    "                self.view.center()\n",
    "            else:\n",
    "                struct = dict(data=st.get_structure_string(), ext='pdb')\n",
    "                self.view._remote_call('replaceStructure', args=[struct])\n",
    "        else:\n",
    "            self._out.append_stdout(\"ERROR: bad input\")\n",
    "        \n",
    "s = SmilesView()\n",
    "s.add_class('smilesApp')\n",
    "#smiles =(COc1ccc2[C@H](O)[C@H](COc2c1)N3CCC(O)(CC3)c4ccc(F)cc4)\n",
    "s"
   ]
  },
  {
   "cell_type": "code",
   "execution_count": null,
   "metadata": {},
   "outputs": [],
   "source": []
  },
  {
   "cell_type": "code",
   "execution_count": null,
   "metadata": {},
   "outputs": [],
   "source": []
  }
 ],
 "metadata": {
  "kernelspec": {
   "display_name": "Python 3",
   "language": "python",
   "name": "python3"
  },
  "language_info": {
   "codemirror_mode": {
    "name": "ipython",
    "version": 3
   },
   "file_extension": ".py",
   "mimetype": "text/x-python",
   "name": "python",
   "nbconvert_exporter": "python",
   "pygments_lexer": "ipython3",
   "version": "3.8.2"
  }
 },
 "nbformat": 4,
 "nbformat_minor": 2
}
