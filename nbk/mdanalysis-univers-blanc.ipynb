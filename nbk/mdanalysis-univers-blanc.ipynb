{
 "cells": [
  {
   "cell_type": "code",
   "execution_count": 1,
   "metadata": {},
   "outputs": [
    {
     "data": {
      "application/vnd.jupyter.widget-view+json": {
       "model_id": "41b0edbfb27d444884867b5bdaba95e1",
       "version_major": 2,
       "version_minor": 0
      },
      "text/plain": []
     },
     "metadata": {},
     "output_type": "display_data"
    },
    {
     "data": {
      "application/vnd.jupyter.widget-view+json": {
       "model_id": "10c7c1a8d516489c8d477d1e1405cb49",
       "version_major": 2,
       "version_minor": 0
      },
      "text/plain": [
       "NGLWidget()"
      ]
     },
     "metadata": {},
     "output_type": "display_data"
    }
   ],
   "source": [
    "import warnings\n",
    "warnings.filterwarnings(\"ignore\")\n",
    "import MDAnalysis as mda\n",
    "import nglview as nv\n",
    "from nglview.datafiles import PDB\n",
    "u = mda.Universe(PDB)\n",
    "elements = mda.topology.guessers.guess_types(\n",
    "    u.atoms.names)\n",
    "u.add_TopologyAttr('elements', elements)\n",
    "lig = u.select_atoms(\"resname LRT\")\n",
    "nv.show_mdanalysis(lig)"
   ]
  },
  {
   "cell_type": "code",
   "execution_count": 2,
   "metadata": {},
   "outputs": [
    {
     "data": {
      "application/vnd.jupyter.widget-view+json": {
       "model_id": "708da0cadd5b4223bbf586282a905dbd",
       "version_major": 2,
       "version_minor": 0
      },
      "text/plain": [
       "NGLWidget()"
      ]
     },
     "metadata": {},
     "output_type": "display_data"
    }
   ],
   "source": [
    "import nglview as nv\n",
    "import numpy as np\n",
    "view = nv.show_mdanalysis(u)\n",
    "view.add_unitcell()\n",
    "view.add_representation(\"ball+stick\")\n",
    "view.control.rotate(\n",
    "mda.lib.transformations.quaternion_from_euler(\n",
    "-np.pi/2, np.pi/3, np.pi/6, 'rzyz').tolist())\n",
    "view.control.zoom(-0.3);view"
   ]
  },
  {
   "cell_type": "code",
   "execution_count": 3,
   "metadata": {
    "scrolled": true
   },
   "outputs": [
    {
     "data": {
      "application/vnd.jupyter.widget-view+json": {
       "model_id": "dd55833682c542a698e31dcc2c105731",
       "version_major": 2,
       "version_minor": 0
      },
      "text/plain": [
       "NGLWidget()"
      ]
     },
     "metadata": {},
     "output_type": "display_data"
    }
   ],
   "source": [
    "view = nv.show_mdanalysis(lig);view"
   ]
  },
  {
   "cell_type": "code",
   "execution_count": 4,
   "metadata": {},
   "outputs": [],
   "source": [
    "import MDAnalysis as mda\n",
    "from MDAnalysis.tests.datafiles import GRO\n",
    "u = mda.Universe(GRO)\n",
    "sol = u.select_atoms('resname SOL')\n",
    "ow_hw1 = sol.select_atoms('name OW or name HW1').split('residue')\n",
    "ow_hw2 = sol.select_atoms('name OW or name HW2').split('residue')\n",
    "ow_mw = sol.select_atoms('name OW or name MW').split('residue')\n",
    "u.add_bonds(ow_hw1 + ow_hw2 + ow_mw)"
   ]
  },
  {
   "cell_type": "code",
   "execution_count": 5,
   "metadata": {},
   "outputs": [
    {
     "data": {
      "application/vnd.jupyter.widget-view+json": {
       "model_id": "cd8d848877dc4e77810d950e5a875c19",
       "version_major": 2,
       "version_minor": 0
      },
      "text/plain": [
       "NGLWidget()"
      ]
     },
     "metadata": {},
     "output_type": "display_data"
    }
   ],
   "source": [
    "import MDAnalysis as mda\n",
    "import nglview as nv\n",
    "from nglview.datafiles import PDB\n",
    "u = mda.Universe(PDB)\n",
    "view = nv.show_mdanalysis(u)\n",
    "view.add_representation('point','resname LRT')\n",
    "view"
   ]
  },
  {
   "cell_type": "code",
   "execution_count": 6,
   "metadata": {},
   "outputs": [],
   "source": [
    "import MDAnalysis as mda\n",
    "from MDAnalysis.tests.datafiles import GRO\n",
    "u = mda.Universe(GRO)\n",
    "sol = u.select_atoms('resname SOL')\n",
    "ow_hw1 = sol.select_atoms('name OW or name HW1').split('residue')\n",
    "ow_hw2 = sol.select_atoms('name OW or name HW2').split('residue')\n",
    "ow_mw = sol.select_atoms('name OW or name MW').split('residue')\n",
    "u.add_bonds(ow_hw1 + ow_hw2 + ow_mw)"
   ]
  },
  {
   "cell_type": "code",
   "execution_count": 7,
   "metadata": {},
   "outputs": [],
   "source": [
    "#nv.show_mdanalysis(sol)"
   ]
  },
  {
   "cell_type": "code",
   "execution_count": 8,
   "metadata": {},
   "outputs": [],
   "source": [
    "u = mda.Universe.empty(6, 2, atom_resindex=[\n",
    "    0, 0, 0, 1, 1, 1], trajectory=True)"
   ]
  },
  {
   "cell_type": "code",
   "execution_count": 9,
   "metadata": {},
   "outputs": [
    {
     "name": "stdout",
     "output_type": "stream",
     "text": [
      "Using MDAnalysis version 1.0.0\n",
      "Using NGLView version 2.7.7\n"
     ]
    }
   ],
   "source": [
    "import MDAnalysis as mda\n",
    "from MDAnalysis.tests.datafiles import PDB_small\n",
    "import nglview as nv\n",
    "import numpy as np\n",
    "from IPython.core.display import Image\n",
    "print(\"Using MDAnalysis version\", mda.__version__)\n",
    "print(\"Using NGLView version\", nv.__version__)"
   ]
  },
  {
   "cell_type": "code",
   "execution_count": 10,
   "metadata": {},
   "outputs": [
    {
     "name": "stdout",
     "output_type": "stream",
     "text": [
      "resindices: [0 0 0 1 1 1 2 2 2 3]\n",
      "segindices: [0, 0, 0, 0, 0, 0, 0, 0, 0, 0]\n"
     ]
    }
   ],
   "source": [
    "n_residues = 1000\n",
    "n_atoms = n_residues * 3\n",
    "# create resindex list\n",
    "resindices = np.repeat(range(n_residues), 3)\n",
    "assert len(resindices) == n_atoms\n",
    "print(\"resindices:\", resindices[:10])\n",
    "# all water molecules belong to 1 segment\n",
    "segindices = [0] * n_residues\n",
    "print(\"segindices:\", segindices[:10])"
   ]
  },
  {
   "cell_type": "code",
   "execution_count": 11,
   "metadata": {},
   "outputs": [
    {
     "data": {
      "text/plain": [
       "<Universe with 3000 atoms>"
      ]
     },
     "execution_count": 11,
     "metadata": {},
     "output_type": "execute_result"
    }
   ],
   "source": [
    "# create the Universe\n",
    "sol = mda.Universe.empty(n_atoms,\n",
    "                         n_residues=n_residues,\n",
    "                         atom_resindex=resindices,\n",
    "                         residue_segindex=segindices,\n",
    "                         trajectory=True) # necessary for adding coordinates\n",
    "sol"
   ]
  },
  {
   "cell_type": "code",
   "execution_count": 12,
   "metadata": {},
   "outputs": [
    {
     "data": {
      "text/plain": [
       "array(['O', 'H1', 'H2', ..., 'O', 'H1', 'H2'], dtype=object)"
      ]
     },
     "execution_count": 12,
     "metadata": {},
     "output_type": "execute_result"
    }
   ],
   "source": [
    "sol.add_TopologyAttr('name', ['O', 'H1', 'H2']*n_residues)\n",
    "sol.atoms.names"
   ]
  },
  {
   "cell_type": "code",
   "execution_count": 13,
   "metadata": {},
   "outputs": [
    {
     "data": {
      "text/plain": [
       "array(['O', 'H', 'H', ..., 'O', 'H', 'H'], dtype=object)"
      ]
     },
     "execution_count": 13,
     "metadata": {},
     "output_type": "execute_result"
    }
   ],
   "source": [
    "sol.add_TopologyAttr('type', ['O', 'H', 'H']*n_residues)\n",
    "sol.atoms.types"
   ]
  },
  {
   "cell_type": "code",
   "execution_count": 14,
   "metadata": {},
   "outputs": [
    {
     "data": {
      "text/plain": [
       "array(['SOL', 'SOL', 'SOL', ..., 'SOL', 'SOL', 'SOL'], dtype=object)"
      ]
     },
     "execution_count": 14,
     "metadata": {},
     "output_type": "execute_result"
    }
   ],
   "source": [
    "sol.add_TopologyAttr('resname', ['SOL']*n_residues)\n",
    "sol.atoms.resnames"
   ]
  },
  {
   "cell_type": "code",
   "execution_count": 15,
   "metadata": {},
   "outputs": [
    {
     "data": {
      "text/plain": [
       "array([   1,    1,    1, ..., 1000, 1000, 1000])"
      ]
     },
     "execution_count": 15,
     "metadata": {},
     "output_type": "execute_result"
    }
   ],
   "source": [
    "sol.add_TopologyAttr('resid', list(range(1, n_residues+1)))\n",
    "sol.atoms.resids"
   ]
  },
  {
   "cell_type": "code",
   "execution_count": 16,
   "metadata": {},
   "outputs": [],
   "source": [
    "#view = nv.show_mdanalysis(sol);view"
   ]
  },
  {
   "cell_type": "code",
   "execution_count": 17,
   "metadata": {},
   "outputs": [
    {
     "data": {
      "text/plain": [
       "array(['SOL', 'SOL', 'SOL', ..., 'SOL', 'SOL', 'SOL'], dtype=object)"
      ]
     },
     "execution_count": 17,
     "metadata": {},
     "output_type": "execute_result"
    }
   ],
   "source": [
    "sol.add_TopologyAttr('segid', ['SOL'])\n",
    "sol.atoms.segids"
   ]
  },
  {
   "cell_type": "code",
   "execution_count": 18,
   "metadata": {},
   "outputs": [],
   "source": [
    "h2o = np.array([[ 0,        0,       0      ], \n",
    "                [ 0.95908, -0.02691, 0.03231],\n",
    "                [-0.28004, -0.58767, 0.70556]])"
   ]
  },
  {
   "cell_type": "code",
   "execution_count": 19,
   "metadata": {},
   "outputs": [
    {
     "name": "stdout",
     "output_type": "stream",
     "text": [
      "[array([0., 0., 0.]), array([ 0.95908, -0.02691,  0.03231]), array([-0.28004, -0.58767,  0.70556]), array([8., 0., 0.]), array([ 8.95908, -0.02691,  0.03231]), array([ 7.71996, -0.58767,  0.70556]), array([16.,  0.,  0.]), array([16.95908, -0.02691,  0.03231]), array([15.71996, -0.58767,  0.70556]), array([24.,  0.,  0.])]\n"
     ]
    }
   ],
   "source": [
    "grid_size = 10\n",
    "spacing = 8\n",
    "\n",
    "coordinates = []\n",
    "\n",
    "# translating h2o coordinates around a grid\n",
    "for i in range(n_residues):\n",
    "    x = spacing * (i % grid_size)\n",
    "    y = spacing * ((i // grid_size) % grid_size)\n",
    "    z = spacing * (i // (grid_size * grid_size))\n",
    "\n",
    "    xyz = np.array([x, y, z])\n",
    "\n",
    "    coordinates.extend(h2o + xyz.T)\n",
    "\n",
    "print(coordinates[:10])"
   ]
  },
  {
   "cell_type": "code",
   "execution_count": 20,
   "metadata": {},
   "outputs": [],
   "source": [
    "coord_array = np.array(coordinates)\n",
    "assert coord_array.shape == (n_atoms, 3)\n",
    "sol.atoms.positions = coord_array"
   ]
  },
  {
   "cell_type": "code",
   "execution_count": 21,
   "metadata": {},
   "outputs": [
    {
     "data": {
      "application/vnd.jupyter.widget-view+json": {
       "model_id": "6d9998828b8b43ddba4a71d3f4606dc9",
       "version_major": 2,
       "version_minor": 0
      },
      "text/plain": [
       "NGLWidget()"
      ]
     },
     "metadata": {},
     "output_type": "display_data"
    }
   ],
   "source": [
    "sol_view = nv.show_mdanalysis(sol)\n",
    "sol_view.add_representation('ball+stick', selection='all')\n",
    "sol_view.center()\n",
    "sol_view"
   ]
  },
  {
   "cell_type": "code",
   "execution_count": 22,
   "metadata": {},
   "outputs": [],
   "source": [
    "assert not hasattr(sol, 'bonds')"
   ]
  },
  {
   "cell_type": "code",
   "execution_count": 23,
   "metadata": {},
   "outputs": [
    {
     "data": {
      "text/plain": [
       "[(0, 1),\n",
       " (0, 2),\n",
       " (3, 4),\n",
       " (3, 5),\n",
       " (6, 7),\n",
       " (6, 8),\n",
       " (9, 10),\n",
       " (9, 11),\n",
       " (12, 13),\n",
       " (12, 14)]"
      ]
     },
     "execution_count": 23,
     "metadata": {},
     "output_type": "execute_result"
    }
   ],
   "source": [
    "bonds = []\n",
    "for o in range(0, n_atoms, 3):\n",
    "    bonds.extend([(o, o+1), (o, o+2)])\n",
    "bonds[:10]"
   ]
  },
  {
   "cell_type": "code",
   "execution_count": 24,
   "metadata": {},
   "outputs": [
    {
     "data": {
      "text/plain": [
       "<TopologyGroup containing 2000 bonds>"
      ]
     },
     "execution_count": 24,
     "metadata": {},
     "output_type": "execute_result"
    }
   ],
   "source": [
    "sol.add_TopologyAttr('bonds', bonds)\n",
    "sol.bonds"
   ]
  },
  {
   "cell_type": "code",
   "execution_count": 25,
   "metadata": {},
   "outputs": [
    {
     "name": "stdout",
     "output_type": "stream",
     "text": [
      "<TopologyGroup containing 2 bonds>\n",
      "<TopologyGroup containing 7 bonds>\n"
     ]
    }
   ],
   "source": [
    "print(sol.atoms[0].bonds)\n",
    "print(sol.atoms[-10:].bonds)"
   ]
  },
  {
   "cell_type": "code",
   "execution_count": 26,
   "metadata": {},
   "outputs": [
    {
     "data": {
      "application/vnd.jupyter.widget-view+json": {
       "model_id": "34c9bb86cc384abca5f8aa6757e9693a",
       "version_major": 2,
       "version_minor": 0
      },
      "text/plain": [
       "NGLWidget()"
      ]
     },
     "metadata": {},
     "output_type": "display_data"
    }
   ],
   "source": [
    "protein = mda.Universe(PDB_small)\n",
    "nv.show_mdanalysis(protein)"
   ]
  },
  {
   "cell_type": "code",
   "execution_count": 27,
   "metadata": {},
   "outputs": [
    {
     "name": "stdout",
     "output_type": "stream",
     "text": [
      "Original solvent center of geometry:  [36.22634681 35.79514029 36.24595657]\n",
      "New solvent center of geometry:  [36.22634681 35.79514029 36.24595657]\n"
     ]
    }
   ],
   "source": [
    "cog = sol.atoms.center_of_geometry()\n",
    "print('Original solvent center of geometry: ', \n",
    "      cog)\n",
    "cog2 = sol.atoms.center_of_geometry()\n",
    "print('New solvent center of geometry: ', cog2)"
   ]
  },
  {
   "cell_type": "code",
   "execution_count": 28,
   "metadata": {},
   "outputs": [
    {
     "name": "stdout",
     "output_type": "stream",
     "text": [
      "Original solvent center of geometry:  [-3.66508082  9.60502842 14.33355791]\n",
      "New solvent center of geometry:  [8.30580288e-08 3.49225059e-08 2.51332265e-08]\n"
     ]
    }
   ],
   "source": [
    "cog = protein.atoms.center_of_geometry()\n",
    "print('Original solvent center of geometry: ',\n",
    "cog);protein.atoms.positions -= cog\n",
    "cog2 = protein.atoms.center_of_geometry()\n",
    "print('New solvent center of geometry: ',cog2)"
   ]
  },
  {
   "cell_type": "code",
   "execution_count": 29,
   "metadata": {},
   "outputs": [
    {
     "data": {
      "application/vnd.jupyter.widget-view+json": {
       "model_id": "44da5f54f5304b65853d03bbee60be04",
       "version_major": 2,
       "version_minor": 0
      },
      "text/plain": [
       "NGLWidget()"
      ]
     },
     "metadata": {},
     "output_type": "display_data"
    }
   ],
   "source": [
    "combined = mda.Merge(protein.atoms, sol.atoms)\n",
    "combined_view = nv.show_mdanalysis(combined)\n",
    "combined_view.add_representation(\"ball+stick\", selection=\"not protein\")\n",
    "combined_view"
   ]
  },
  {
   "cell_type": "code",
   "execution_count": 30,
   "metadata": {},
   "outputs": [],
   "source": [
    "no_overlap = combined.select_atoms(\"same resid \\\n",
    "as (not around 6 protein)\")"
   ]
  },
  {
   "cell_type": "code",
   "execution_count": 31,
   "metadata": {},
   "outputs": [
    {
     "data": {
      "application/vnd.jupyter.widget-view+json": {
       "model_id": "31266317ffe74efb887af6ca8b622f59",
       "version_major": 2,
       "version_minor": 0
      },
      "text/plain": [
       "NGLWidget()"
      ]
     },
     "metadata": {},
     "output_type": "display_data"
    }
   ],
   "source": [
    "u = mda.Merge(no_overlap)\n",
    "view = nv.show_mdanalysis(u)\n",
    "view.add_representation(\"ball+stick\", selection=\"not protein\")\n",
    "view"
   ]
  },
  {
   "cell_type": "code",
   "execution_count": 32,
   "metadata": {},
   "outputs": [
    {
     "data": {
      "text/plain": [
       "array(['4AKE', 'SOL'], dtype=object)"
      ]
     },
     "execution_count": 32,
     "metadata": {},
     "output_type": "execute_result"
    }
   ],
   "source": [
    "u.segments.segids"
   ]
  },
  {
   "cell_type": "code",
   "execution_count": 33,
   "metadata": {},
   "outputs": [
    {
     "data": {
      "text/plain": [
       "<AtomGroup with 0 atoms>"
      ]
     },
     "execution_count": 33,
     "metadata": {},
     "output_type": "execute_result"
    }
   ],
   "source": [
    "core_segment = u.add_Segment(segid='CORE')\n",
    "core_segment.atoms"
   ]
  },
  {
   "cell_type": "code",
   "execution_count": 34,
   "metadata": {},
   "outputs": [
    {
     "data": {
      "text/plain": [
       "<AtomGroup with 2744 atoms>"
      ]
     },
     "execution_count": 34,
     "metadata": {},
     "output_type": "execute_result"
    }
   ],
   "source": [
    "core_atoms = u.select_atoms(\n",
    "'resid 1:29 or resid 60:121 or resid 160-214')\n",
    "core_atoms.residues.segments = core_segment\n",
    "core_segment.atoms"
   ]
  },
  {
   "cell_type": "code",
   "execution_count": 35,
   "metadata": {},
   "outputs": [],
   "source": [
    "nmp_segment = u.add_Segment(segid='NMP')\n",
    "lid_segment = u.add_Segment(segid='LID')\n",
    "nmp_atoms = u.select_atoms('resid 30:59')\n",
    "nmp_atoms.residues.segments = nmp_segment\n",
    "lid_atoms = u.select_atoms('resid 122:159')\n",
    "lid_atoms.residues.segments = lid_segment\n"
   ]
  },
  {
   "cell_type": "code",
   "execution_count": 36,
   "metadata": {},
   "outputs": [
    {
     "data": {
      "application/vnd.jupyter.widget-view+json": {
       "model_id": "b19a2c8a9de54d09bfd823cf6399a7f8",
       "version_major": 2,
       "version_minor": 0
      },
      "text/plain": [
       "NGLWidget()"
      ]
     },
     "metadata": {},
     "output_type": "display_data"
    }
   ],
   "source": [
    "domain_view = nv.show_mdanalysis(u)\n",
    "domain_view.color_by('chainID')\n",
    "domain_view"
   ]
  },
  {
   "cell_type": "code",
   "execution_count": null,
   "metadata": {},
   "outputs": [],
   "source": []
  }
 ],
 "metadata": {
  "kernelspec": {
   "display_name": "Python 3",
   "language": "python",
   "name": "python3"
  },
  "language_info": {
   "codemirror_mode": {
    "name": "ipython",
    "version": 3
   },
   "file_extension": ".py",
   "mimetype": "text/x-python",
   "name": "python",
   "nbconvert_exporter": "python",
   "pygments_lexer": "ipython3",
   "version": "3.8.2"
  }
 },
 "nbformat": 4,
 "nbformat_minor": 4
}
