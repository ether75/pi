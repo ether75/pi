{
 "cells": [
  {
   "cell_type": "code",
   "execution_count": 22,
   "metadata": {},
   "outputs": [],
   "source": [
    "import warnings\n",
    "warnings.filterwarnings(\"ignore\")\n",
    "import os\n",
    "from rdkit import Chem\n",
    "import MDAnalysis as mda;"
   ]
  },
  {
   "cell_type": "code",
   "execution_count": 2,
   "metadata": {},
   "outputs": [
    {
     "data": {
      "application/vnd.jupyter.widget-view+json": {
       "model_id": "d56626debab44c808a544ae7a1bb8637",
       "version_major": 2,
       "version_minor": 0
      },
      "text/plain": []
     },
     "metadata": {},
     "output_type": "display_data"
    },
    {
     "data": {
      "application/vnd.jupyter.widget-view+json": {
       "model_id": "8d01d205c39d4b9d8cbc575dc5a2f398",
       "version_major": 2,
       "version_minor": 0
      },
      "text/plain": [
       "NGLWidget()"
      ]
     },
     "metadata": {},
     "output_type": "display_data"
    }
   ],
   "source": [
    "import nglview\n",
    "import mdtraj\n",
    "traj = mdtraj.load('dat/dna1.pdb')\n",
    "ngl_traj = nglview.MDTrajTrajectory(traj)\n",
    "view = nglview.NGLWidget(ngl_traj);view"
   ]
  },
  {
   "cell_type": "code",
   "execution_count": 3,
   "metadata": {},
   "outputs": [
    {
     "data": {
      "application/vnd.jupyter.widget-view+json": {
       "model_id": "63bde4bfbdbb4b7484fc42c0db12c9bc",
       "version_major": 2,
       "version_minor": 0
      },
      "text/plain": [
       "NGLWidget()"
      ]
     },
     "metadata": {},
     "output_type": "display_data"
    }
   ],
   "source": [
    "import nglview\n",
    "import mdtraj\n",
    "traj = mdtraj.load('dat/dna1.pdb')\n",
    "ngl_traj = nglview.MDTrajTrajectory(traj)\n",
    "view = nglview.NGLWidget(ngl_traj)\n",
    "view"
   ]
  },
  {
   "attachments": {
    "image.png": {
     "image/png": "[encoded data removed]"
    }
   },
   "cell_type": "markdown",
   "metadata": {},
   "source": [
    "![image.png](attachment:image.png)"
   ]
  },
  {
   "cell_type": "code",
   "execution_count": 4,
   "metadata": {},
   "outputs": [],
   "source": [
    "import MDAnalysis as mda\n",
    "from MDAnalysis.tests.datafiles \\\n",
    "import PSF, DCD, GRO, XTC\n",
    "import nglview\n",
    "view = nglview.show_pdbid(\"1ilc\")"
   ]
  },
  {
   "cell_type": "code",
   "execution_count": 5,
   "metadata": {},
   "outputs": [
    {
     "data": {
      "application/vnd.jupyter.widget-view+json": {
       "model_id": "21f1cfcdf2034f2a82e6721873d63426",
       "version_major": 2,
       "version_minor": 0
      },
      "text/plain": [
       "NGLWidget()"
      ]
     },
     "metadata": {},
     "output_type": "display_data"
    }
   ],
   "source": [
    "view.add_ball_and_stick(selection=\"protein\", \n",
    "color='blue');view"
   ]
  },
  {
   "cell_type": "code",
   "execution_count": 6,
   "metadata": {},
   "outputs": [
    {
     "data": {
      "application/vnd.jupyter.widget-view+json": {
       "model_id": "5fe800ca98424cc8b312b409e8b0fb85",
       "version_major": 2,
       "version_minor": 0
      },
      "text/plain": [
       "NGLWidget()"
      ]
     },
     "metadata": {},
     "output_type": "display_data"
    }
   ],
   "source": [
    "import MDAnalysis as mda\n",
    "import nglview as nv\n",
    "from nglview.datafiles import PDB\n",
    "u = mda.Universe(PDB)\n",
    "elements = mda.topology.guessers.guess_types(\n",
    "    u.atoms.names)\n",
    "u.add_TopologyAttr('elements', elements)\n",
    "lig = u.select_atoms(\"resname LRT\")\n",
    "view = nv.show_mdanalysis(lig);view"
   ]
  },
  {
   "cell_type": "code",
   "execution_count": 7,
   "metadata": {},
   "outputs": [
    {
     "name": "stdout",
     "output_type": "stream",
     "text": [
      "<Universe with 3341 atoms>\n",
      "False\n",
      "<Universe with 47681 atoms>\n",
      "1\n",
      "<Universe with 3341 atoms>\n",
      "98\n",
      "<ResidueGroup [<Residue MET, 1>, <Residue ARG, 2>, <Residue ILE, 3>, ..., <Residue ILE, 212>, <Residue LEU, 213>, <Residue GLY, 214>]>\n"
     ]
    }
   ],
   "source": [
    "import MDAnalysis as mda\n",
    "from MDAnalysis.tests.datafiles \\\n",
    "import PSF, DCD, GRO, XTC\n",
    "psf = mda.Universe(PSF)\n",
    "print(psf)\n",
    "print(hasattr(psf, 'trajectory'))\n",
    "gro = mda.Universe(GRO)\n",
    "print(gro)\n",
    "print(len(gro.trajectory))\n",
    "u = mda.Universe(PSF, DCD)\n",
    "print(u)\n",
    "print(len(u.trajectory))\n",
    "structure_only = mda.Universe(\"dat/dna1.pdb\")\n",
    "print(u.residues)"
   ]
  },
  {
   "cell_type": "code",
   "execution_count": 8,
   "metadata": {},
   "outputs": [
    {
     "name": "stdout",
     "output_type": "stream",
     "text": [
      "<AtomGroup [<Atom 3337: HA1 of type 6 of resname GLY, resid 214 and segid 4AKE>, <Atom 3338: HA2 of type 6 of resname GLY, resid 214 and segid 4AKE>, <Atom 3339: C of type 32 of resname GLY, resid 214 and segid 4AKE>, <Atom 3340: OT1 of type 72 of resname GLY, resid 214 and segid 4AKE>, <Atom 3341: OT2 of type 72 of resname GLY, resid 214 and segid 4AKE>]>\n"
     ]
    }
   ],
   "source": [
    "u.atoms;last_five = u.atoms[-5:];print(last_five)"
   ]
  },
  {
   "cell_type": "code",
   "execution_count": 9,
   "metadata": {},
   "outputs": [
    {
     "name": "stdout",
     "output_type": "stream",
     "text": [
      "<AtomGroup [<Atom 3337: HA1 of type 6 of resname GLY, resid 214 and segid 4AKE>, <Atom 3340: OT1 of type 72 of resname GLY, resid 214 and segid 4AKE>, <Atom 3341: OT2 of type 72 of resname GLY, resid 214 and segid 4AKE>, <Atom 3338: HA2 of type 6 of resname GLY, resid 214 and segid 4AKE>, <Atom 3340: OT1 of type 72 of resname GLY, resid 214 and segid 4AKE>, <Atom 3337: HA1 of type 6 of resname GLY, resid 214 and segid 4AKE>]>\n"
     ]
    }
   ],
   "source": [
    "print(last_five[[0, 3, -1, 1, 3, 0]])"
   ]
  },
  {
   "cell_type": "code",
   "execution_count": 10,
   "metadata": {},
   "outputs": [
    {
     "name": "stdout",
     "output_type": "stream",
     "text": [
      "<AtomGroup [<Atom 318: N of type 54 of resname GLU, resid 22 and segid 4AKE>, <Atom 319: HN of type 1 of resname GLU, resid 22 and segid 4AKE>, <Atom 320: CA of type 22 of resname GLU, resid 22 and segid 4AKE>, ..., <Atom 3271: OE2 of type 72 of resname GLU, resid 210 and segid 4AKE>, <Atom 3272: C of type 20 of resname GLU, resid 210 and segid 4AKE>, <Atom 3273: O of type 70 of resname GLU, resid 210 and segid 4AKE>]>\n"
     ]
    }
   ],
   "source": [
    "print(u.select_atoms('resname ASP or resname GLU'))"
   ]
  },
  {
   "cell_type": "code",
   "execution_count": 11,
   "metadata": {},
   "outputs": [
    {
     "name": "stdout",
     "output_type": "stream",
     "text": [
      "51\n",
      "50\n"
     ]
    }
   ],
   "source": [
    "print(u.select_atoms('resid 50-100').n_residues)\n",
    "print(u.residues[50:100].n_residues)"
   ]
  },
  {
   "cell_type": "code",
   "execution_count": 12,
   "metadata": {},
   "outputs": [
    {
     "data": {
      "text/plain": [
       "{('ARG', 'N'): <AtomGroup with 1 atom>,\n",
       " ('THR', 'N'): <AtomGroup with 1 atom>,\n",
       " ('ILE', 'C'): <AtomGroup with 2 atoms>,\n",
       " ('ALA', 'HN'): <AtomGroup with 2 atoms>,\n",
       " ('ALA', 'C'): <AtomGroup with 1 atom>,\n",
       " ('GLN', 'C'): <AtomGroup with 1 atom>,\n",
       " ('ASN', 'O'): <AtomGroup with 1 atom>,\n",
       " ('ASP', 'N'): <AtomGroup with 1 atom>,\n",
       " ('ASP', 'C'): <AtomGroup with 1 atom>,\n",
       " ('LEU', 'N'): <AtomGroup with 1 atom>,\n",
       " ('LYS', 'N'): <AtomGroup with 1 atom>,\n",
       " ('GLU', 'N'): <AtomGroup with 1 atom>}"
      ]
     },
     "execution_count": 12,
     "metadata": {},
     "output_type": "execute_result"
    }
   ],
   "source": [
    "u.select_atoms(\"(resname GLU or resname HS*)\\\n",
    "and name CA and (resid 1:100)\")\n",
    "near_met = u.select_atoms('not resname MET and (around 2 resname MET)')\n",
    "near_met.groupby(['resnames', 'names'])"
   ]
  },
  {
   "cell_type": "code",
   "execution_count": 13,
   "metadata": {},
   "outputs": [
    {
     "name": "stdout",
     "output_type": "stream",
     "text": [
      "['N' 'HT1' 'HT2']\n"
     ]
    }
   ],
   "source": [
    "nhh = u.atoms[:3]\n",
    "print(nhh.names)\n"
   ]
  },
  {
   "cell_type": "code",
   "execution_count": 14,
   "metadata": {},
   "outputs": [
    {
     "name": "stdout",
     "output_type": "stream",
     "text": [
      "37.99234750892497\n"
     ]
    }
   ],
   "source": [
    "angle_nhh = nhh.angle\n",
    "print(angle_nhh.value())"
   ]
  },
  {
   "cell_type": "code",
   "execution_count": 15,
   "metadata": {},
   "outputs": [
    {
     "name": "stdout",
     "output_type": "stream",
     "text": [
      "Frame:   0, Time:    1 ps,     Rgyr: 16.6690 A\n",
      "Frame:   1, Time:    2 ps,     Rgyr: 16.6732 A\n",
      "Frame:   2, Time:    3 ps,     Rgyr: 16.7315 A\n",
      "Frame:   3, Time:    4 ps,     Rgyr: 16.7223 A\n",
      "Frame:   4, Time:    5 ps,     Rgyr: 16.7440 A\n",
      "Frame:   5, Time:    6 ps,     Rgyr: 16.7185 A\n",
      "Frame:   6, Time:    7 ps,     Rgyr: 16.7741 A\n",
      "Frame:   7, Time:    8 ps,     Rgyr: 16.7764 A\n",
      "Frame:   8, Time:    9 ps,     Rgyr: 16.7894 A\n",
      "Frame:   9, Time:   10 ps,     Rgyr: 16.8289 A\n",
      "Frame:  10, Time:   11 ps,     Rgyr: 16.8521 A\n",
      "Frame:  11, Time:   12 ps,     Rgyr: 16.8549 A\n",
      "Frame:  12, Time:   13 ps,     Rgyr: 16.8723 A\n",
      "Frame:  13, Time:   14 ps,     Rgyr: 16.9108 A\n",
      "Frame:  14, Time:   15 ps,     Rgyr: 16.9494 A\n",
      "Frame:  15, Time:   16 ps,     Rgyr: 16.9810 A\n",
      "Frame:  16, Time:   17 ps,     Rgyr: 17.0033 A\n",
      "Frame:  17, Time:   18 ps,     Rgyr: 17.0196 A\n",
      "Frame:  18, Time:   19 ps,     Rgyr: 17.0784 A\n",
      "Frame:  19, Time:   20 ps,     Rgyr: 17.1265 A\n"
     ]
    }
   ],
   "source": [
    "for ts in u.trajectory[:20]:\n",
    "    time = u.trajectory.time\n",
    "    rgyr = u.atoms.radius_of_gyration()\n",
    "    print(\"Frame: {:3d}, Time: {:4.0f} ps, \\\n",
    "    Rgyr: {:.4f} A\".format(ts.frame, time, rgyr))"
   ]
  },
  {
   "cell_type": "code",
   "execution_count": 16,
   "metadata": {},
   "outputs": [],
   "source": [
    "import warnings\n",
    "warnings.filterwarnings(\"ignore\")\n",
    "import MDAnalysis as mda\n",
    "from MDAnalysis.tests.datafiles import TPR, XTC\n",
    "import numpy as np\n",
    "import nglview as nv\n",
    "u = mda.Universe(TPR, XTC, in_memory=True)"
   ]
  },
  {
   "cell_type": "code",
   "execution_count": 17,
   "metadata": {},
   "outputs": [
    {
     "data": {
      "application/vnd.jupyter.widget-view+json": {
       "model_id": "5a289155ed90485094a6f91011a681b8",
       "version_major": 2,
       "version_minor": 0
      },
      "text/plain": [
       "NGLWidget(max_frame=9)"
      ]
     },
     "metadata": {},
     "output_type": "display_data"
    }
   ],
   "source": [
    "view = nv.show_mdanalysis(u)\n",
    "view.add_representation('point', 'resname SOL')\n",
    "view.center()\n",
    "view"
   ]
  },
  {
   "cell_type": "code",
   "execution_count": 18,
   "metadata": {},
   "outputs": [],
   "source": [
    "import MDAnalysis as mda\n",
    "from MDAnalysis.analysis import align\n",
    "from MDAnalysis.tests.datafiles import CRD, PSF, DCD, DCD2\n",
    "import nglview as nv"
   ]
  },
  {
   "cell_type": "code",
   "execution_count": 19,
   "metadata": {},
   "outputs": [
    {
     "data": {
      "application/vnd.jupyter.widget-view+json": {
       "model_id": "02b57aa5d87e4b4eb2eb1abcdae34354",
       "version_major": 2,
       "version_minor": 0
      },
      "text/plain": [
       "NGLWidget(max_frame=101)"
      ]
     },
     "metadata": {},
     "output_type": "display_data"
    }
   ],
   "source": [
    "adk_open = mda.Universe(CRD, DCD2)\n",
    "nv.show_mdanalysis(adk_open)"
   ]
  },
  {
   "cell_type": "code",
   "execution_count": 20,
   "metadata": {},
   "outputs": [
    {
     "data": {
      "application/vnd.jupyter.widget-view+json": {
       "model_id": "dba526565f7d4b0f9d08c6c1889f11af",
       "version_major": 2,
       "version_minor": 0
      },
      "text/plain": [
       "NGLWidget()"
      ]
     },
     "metadata": {},
     "output_type": "display_data"
    }
   ],
   "source": [
    "import MDAnalysis as mda\n",
    "import nglview as nv\n",
    "from nglview.datafiles import PDB\n",
    "u = mda.Universe(PDB)\n",
    "#elements = mda.topology.guessers.guess_types(\n",
    " #   u.atoms.names)\n",
    "#u.add_TopologyAttr('elements', elements)\n",
    "lig = u.select_atoms(\"resname LRT\")\n",
    "view = nv.show_mdanalysis(lig);view"
   ]
  },
  {
   "cell_type": "code",
   "execution_count": 21,
   "metadata": {},
   "outputs": [
    {
     "data": {
      "image/png": "[encoded data removed]",
      "text/plain": [
       "<rdkit.Chem.rdchem.Mol at 0x7f9dde7f8b70>"
      ]
     },
     "execution_count": 21,
     "metadata": {},
     "output_type": "execute_result"
    }
   ],
   "source": [
    "mol = Chem.MolFromPDBFile(PDB)\n",
    "mol = Chem.SplitMolByPDBResidues(mol)[\"LRT\"]\n",
    "mol.RemoveAllConformers();mol"
   ]
  },
  {
   "cell_type": "code",
   "execution_count": null,
   "metadata": {},
   "outputs": [],
   "source": []
  },
  {
   "cell_type": "code",
   "execution_count": null,
   "metadata": {},
   "outputs": [],
   "source": []
  }
 ],
 "metadata": {
  "kernelspec": {
   "display_name": "Python 3",
   "language": "python",
   "name": "python3"
  },
  "language_info": {
   "codemirror_mode": {
    "name": "ipython",
    "version": 3
   },
   "file_extension": ".py",
   "mimetype": "text/x-python",
   "name": "python",
   "nbconvert_exporter": "python",
   "pygments_lexer": "ipython3",
   "version": "3.8.2"
  }
 },
 "nbformat": 4,
 "nbformat_minor": 4
}
