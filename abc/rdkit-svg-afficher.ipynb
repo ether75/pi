{
 "cells": [
  {
   "cell_type": "code",
   "execution_count": 1,
   "metadata": {},
   "outputs": [
    {
     "data": {
      "text/html": [
       "<style type=\"text/css\">\n",
       "table.dataframe td, table.dataframe th{border: 1px \n",
       "black solid ! important;color:black !important;}\n"
      ],
      "text/plain": [
       "<IPython.core.display.HTML object>"
      ]
     },
     "metadata": {},
     "output_type": "display_data"
    }
   ],
   "source": [
    "%%HTML\n",
    "<style type=\"text/css\">\n",
    "table.dataframe td, table.dataframe th{border: 1px \n",
    "black solid ! important;color:black !important;}"
   ]
  },
  {
   "cell_type": "code",
   "execution_count": 2,
   "metadata": {},
   "outputs": [
    {
     "data": {
      "image/svg+xml": [
       "<svg xmlns=\"http://www.w3.org/2000/svg\" xmlns:rdkit=\"http://www.rdkit.org/xml\" xmlns:xlink=\"http://www.w3.org/1999/xlink\" version=\"1.1\" baseProfile=\"full\" xml:space=\"preserve\" width=\"450px\" height=\"150px\" viewBox=\"0 0 450 150\">\n",
       "<!-- END OF HEADER -->\n",
       "<rect style=\"opacity:1.0;fill:#FFFFFF;stroke:none\" width=\"450\" height=\"150\" x=\"0\" y=\"0\"> </rect>\n",
       "<path class=\"bond-0\" d=\"M 209.035,143.182 L 137.217,143.182\" style=\"fill:none;fill-rule:evenodd;stroke:#000000;stroke-width:2px;stroke-linecap:butt;stroke-linejoin:miter;stroke-opacity:1\"/>\n",
       "<path class=\"bond-0\" d=\"M 198.263,128.818 L 147.989,128.818\" style=\"fill:none;fill-rule:evenodd;stroke:#000000;stroke-width:2px;stroke-linecap:butt;stroke-linejoin:miter;stroke-opacity:1\"/>\n",
       "<path class=\"bond-6\" d=\"M 209.035,143.182 L 244.945,80.9849\" style=\"fill:none;fill-rule:evenodd;stroke:#000000;stroke-width:2px;stroke-linecap:butt;stroke-linejoin:miter;stroke-opacity:1\"/>\n",
       "<path class=\"bond-1\" d=\"M 137.217,143.182 L 101.307,80.9849\" style=\"fill:none;fill-rule:evenodd;stroke:#000000;stroke-width:2px;stroke-linecap:butt;stroke-linejoin:miter;stroke-opacity:1\"/>\n",
       "<path class=\"bond-2\" d=\"M 101.307,80.9849 L 137.217,18.788\" style=\"fill:none;fill-rule:evenodd;stroke:#000000;stroke-width:2px;stroke-linecap:butt;stroke-linejoin:miter;stroke-opacity:1\"/>\n",
       "<path class=\"bond-2\" d=\"M 119.133,78.8372 L 144.27,35.2994\" style=\"fill:none;fill-rule:evenodd;stroke:#000000;stroke-width:2px;stroke-linecap:butt;stroke-linejoin:miter;stroke-opacity:1\"/>\n",
       "<path class=\"bond-3\" d=\"M 137.217,18.788 L 167.939,18.788\" style=\"fill:none;fill-rule:evenodd;stroke:#000000;stroke-width:2px;stroke-linecap:butt;stroke-linejoin:miter;stroke-opacity:1\"/>\n",
       "<path class=\"bond-3\" d=\"M 167.939,18.788 L 198.661,18.788\" style=\"fill:none;fill-rule:evenodd;stroke:#0000FF;stroke-width:2px;stroke-linecap:butt;stroke-linejoin:miter;stroke-opacity:1\"/>\n",
       "<path class=\"bond-4\" d=\"M 215.946,30.7578 L 230.446,55.8713\" style=\"fill:none;fill-rule:evenodd;stroke:#0000FF;stroke-width:2px;stroke-linecap:butt;stroke-linejoin:miter;stroke-opacity:1\"/>\n",
       "<path class=\"bond-4\" d=\"M 230.446,55.8713 L 244.945,80.9849\" style=\"fill:none;fill-rule:evenodd;stroke:#000000;stroke-width:2px;stroke-linecap:butt;stroke-linejoin:miter;stroke-opacity:1\"/>\n",
       "<path class=\"bond-4\" d=\"M 207.857,45.4737 L 218.006,63.0532\" style=\"fill:none;fill-rule:evenodd;stroke:#0000FF;stroke-width:2px;stroke-linecap:butt;stroke-linejoin:miter;stroke-opacity:1\"/>\n",
       "<path class=\"bond-4\" d=\"M 218.006,63.0532 L 228.156,80.6327\" style=\"fill:none;fill-rule:evenodd;stroke:#000000;stroke-width:2px;stroke-linecap:butt;stroke-linejoin:miter;stroke-opacity:1\"/>\n",
       "<path class=\"bond-5\" d=\"M 244.945,80.9849 L 275.265,80.9849\" style=\"fill:none;fill-rule:evenodd;stroke:#000000;stroke-width:2px;stroke-linecap:butt;stroke-linejoin:miter;stroke-opacity:1\"/>\n",
       "<path class=\"bond-5\" d=\"M 275.265,80.9849 L 305.584,80.9849\" style=\"fill:none;fill-rule:evenodd;stroke:#FF0000;stroke-width:2px;stroke-linecap:butt;stroke-linejoin:miter;stroke-opacity:1\"/>\n",
       "<text dominant-baseline=\"central\" text-anchor=\"start\" x=\"201.055\" y=\"22.3789\" style=\"font-size:23px;font-style:normal;font-weight:normal;fill-opacity:1;stroke:none;font-family:sans-serif;fill:#0000FF\"><tspan>N</tspan></text>\n",
       "<text dominant-baseline=\"central\" text-anchor=\"start\" x=\"307.978\" y=\"84.5758\" style=\"font-size:23px;font-style:normal;font-weight:normal;fill-opacity:1;stroke:none;font-family:sans-serif;fill:#FF0000\"><tspan>OH</tspan></text>\n",
       "</svg>"
      ],
      "text/plain": [
       "<IPython.core.display.SVG object>"
      ]
     },
     "metadata": {},
     "output_type": "display_data"
    }
   ],
   "source": [
    "from IPython.display import SVG\n",
    "from rdkit import Chem\n",
    "from rdkit.Chem import rdDepictor\n",
    "from rdkit.Chem.Draw import rdMolDraw2D\n",
    "# Create mol object from smiles string\n",
    "mol = Chem.MolFromSmiles('c1cccnc1O')\n",
    "molSize=(450,150)\n",
    "mc = Chem.Mol(mol.ToBinary())\n",
    "if not mc.GetNumConformers():\n",
    "#Compute 2D coordinates\n",
    "    rdDepictor.Compute2DCoords(mc)\n",
    "# init the drawer with the size\n",
    "drawer = rdMolDraw2D.MolDraw2DSVG(molSize[0],\n",
    "                                  molSize[1])\n",
    "#draw the molcule\n",
    "drawer.DrawMolecule(mc)\n",
    "drawer.FinishDrawing()\n",
    "# get the SVG string\n",
    "svg = drawer.GetDrawingText()\n",
    "# fix the svg string and display it\n",
    "display(SVG(svg.replace('svg:','')))"
   ]
  },
  {
   "cell_type": "code",
   "execution_count": 3,
   "metadata": {},
   "outputs": [
    {
     "data": {
      "image/svg+xml": [
       "<svg xmlns=\"http://www.w3.org/2000/svg\" xmlns:rdkit=\"http://www.rdkit.org/xml\" xmlns:xlink=\"http://www.w3.org/1999/xlink\" version=\"1.1\" baseProfile=\"full\" xml:space=\"preserve\" width=\"450px\" height=\"150px\" viewBox=\"0 0 450 150\">\n",
       "<!-- END OF HEADER -->\n",
       "<rect style=\"opacity:1.0;fill:#FFFFFF;stroke:none\" width=\"450\" height=\"150\" x=\"0\" y=\"0\"> </rect>\n",
       "<path class=\"bond-0\" d=\"M 343.094,75 L 264.365,75\" style=\"fill:none;fill-rule:evenodd;stroke:#000000;stroke-width:2px;stroke-linecap:butt;stroke-linejoin:miter;stroke-opacity:1\"/>\n",
       "<path class=\"bond-1\" d=\"M 264.365,75 L 225,143.182\" style=\"fill:none;fill-rule:evenodd;stroke:#000000;stroke-width:2px;stroke-linecap:butt;stroke-linejoin:miter;stroke-opacity:1\"/>\n",
       "<path class=\"bond-1\" d=\"M 244.824,77.3543 L 217.268,125.082\" style=\"fill:none;fill-rule:evenodd;stroke:#000000;stroke-width:2px;stroke-linecap:butt;stroke-linejoin:miter;stroke-opacity:1\"/>\n",
       "<path class=\"bond-6\" d=\"M 264.365,75 L 225,6.81818\" style=\"fill:none;fill-rule:evenodd;stroke:#000000;stroke-width:2px;stroke-linecap:butt;stroke-linejoin:miter;stroke-opacity:1\"/>\n",
       "<path class=\"bond-2\" d=\"M 225,143.182 L 146.27,143.182\" style=\"fill:none;fill-rule:evenodd;stroke:#000000;stroke-width:2px;stroke-linecap:butt;stroke-linejoin:miter;stroke-opacity:1\"/>\n",
       "<path class=\"bond-3\" d=\"M 146.27,143.182 L 106.906,75\" style=\"fill:none;fill-rule:evenodd;stroke:#000000;stroke-width:2px;stroke-linecap:butt;stroke-linejoin:miter;stroke-opacity:1\"/>\n",
       "<path class=\"bond-3\" d=\"M 154.002,125.082 L 126.447,77.3543\" style=\"fill:none;fill-rule:evenodd;stroke:#000000;stroke-width:2px;stroke-linecap:butt;stroke-linejoin:miter;stroke-opacity:1\"/>\n",
       "<path class=\"bond-4\" d=\"M 106.906,75 L 146.27,6.81818\" style=\"fill:none;fill-rule:evenodd;stroke:#000000;stroke-width:2px;stroke-linecap:butt;stroke-linejoin:miter;stroke-opacity:1\"/>\n",
       "<path class=\"bond-5\" d=\"M 146.27,6.81818 L 225,6.81818\" style=\"fill:none;fill-rule:evenodd;stroke:#000000;stroke-width:2px;stroke-linecap:butt;stroke-linejoin:miter;stroke-opacity:1\"/>\n",
       "<path class=\"bond-5\" d=\"M 158.08,22.5641 L 213.191,22.5641\" style=\"fill:none;fill-rule:evenodd;stroke:#000000;stroke-width:2px;stroke-linecap:butt;stroke-linejoin:miter;stroke-opacity:1\"/>\n",
       "</svg>"
      ],
      "text/plain": [
       "<IPython.core.display.SVG object>"
      ]
     },
     "metadata": {},
     "output_type": "display_data"
    }
   ],
   "source": [
    "from IPython.display import SVG\n",
    "from rdkit import Chem\n",
    "from rdkit.Chem import rdDepictor\n",
    "from rdkit.Chem.Draw import rdMolDraw2D\n",
    "# Create mol object from smiles string\n",
    "mol = Chem.MolFromSmiles('CC1=CC=CC=C1')\n",
    "molSize=(450,150)\n",
    "mc = Chem.Mol(mol.ToBinary())\n",
    "if not mc.GetNumConformers():\n",
    "#Compute 2D coordinates\n",
    "    rdDepictor.Compute2DCoords(mc)\n",
    "# init the drawer with the size\n",
    "drawer = rdMolDraw2D.MolDraw2DSVG(molSize[0],\n",
    "                                  molSize[1])\n",
    "#draw the molcule\n",
    "drawer.DrawMolecule(mc)\n",
    "drawer.FinishDrawing()\n",
    "# get the SVG string\n",
    "svg = drawer.GetDrawingText()\n",
    "# fix the svg string and display it\n",
    "display(SVG(svg.replace('svg:','')))"
   ]
  },
  {
   "cell_type": "code",
   "execution_count": 4,
   "metadata": {},
   "outputs": [],
   "source": [
    "from rdkit import Chem\n",
    "def inchi_to_mol_file(inchi, name):\n",
    "    \"\"\"Converts inchi to mol, also returns mol\n",
    "    \n",
    "    Args:\n",
    "        inchi (string): inchi to convert\n",
    "        name (string): name of molecule, will be used in filename\n",
    "    \n",
    "    \"\"\"\n",
    "    \n",
    "    #Read in the InChI, set the name of the molecule in memory, then create the MolBlock.\n",
    "    molObj = Chem.MolFromInchi(inchi)\n",
    "    molObj.SetProp(\"_Name\",name)\n",
    "    imported = Chem.MolToMolBlock(molObj)\n",
    "    \n",
    "    #Writes the MolBlock to a .mol file\n",
    "    with open(f\"../mols/{name}.mol\", \"w\") as newfile:\n",
    "        newfile.write(imported)\n",
    "    \n",
    "    #Also return the mol in case we want to store a variable\n",
    "    return (imported)"
   ]
  },
  {
   "cell_type": "code",
   "execution_count": 5,
   "metadata": {},
   "outputs": [
    {
     "name": "stdout",
     "output_type": "stream",
     "text": [
      "2020.03.4\n",
      "Thu Nov  5 11:43:04 2020\n"
     ]
    }
   ],
   "source": [
    "from rdkit import Chem\n",
    "#from rdkit.Chem import AllChem\n",
    "from rdkit.Chem import Draw\n",
    "from rdkit.Chem.Draw import rdMolDraw2D\n",
    "from IPython.display import SVG\n",
    "from rdkit.Chem.Draw import IPythonConsole\n",
    "import rdkit\n",
    "import time\n",
    "import pandas as pd\n",
    "print(rdkit.__version__)\n",
    "print(time.asctime())"
   ]
  },
  {
   "cell_type": "code",
   "execution_count": 6,
   "metadata": {},
   "outputs": [],
   "source": [
    "import ipywidgets as widgets\n",
    "from traitlets import Unicode, Int, validate\n",
    "class MolSVGWidget(widgets.DOMWidget):\n",
    "    _view_name = Unicode('MolSVGView').tag(sync=True)\n",
    "    _view_module = Unicode('molsvg_widget').tag(sync=True)\n",
    "    _view_module_version = Unicode('0.0.1').tag(sync=True)\n",
    "     \n",
    "    svg = Unicode('', help=\"svg to be rendered\").tag(sync=True)\n",
    "    #selected_atoms = Unicode('', help=\"list of currently selected atoms\").tag(sync=True)\n",
    "    clicked_atom_idx = Unicode('', help=\"The index of the atom that was just clicked\").tag(sync=True)"
   ]
  },
  {
   "cell_type": "code",
   "execution_count": 7,
   "metadata": {
    "scrolled": true
   },
   "outputs": [
    {
     "data": {
      "application/javascript": [
       "// make sure our module is only defined\n",
       "// only once.\n",
       "require.undef('molsvg_widget');\n",
       "\n",
       "// Define the `molsvg_widget` module using the Jupyter widgets framework.\n",
       "define('molsvg_widget', [\"@jupyter-widgets/base\"],\n",
       "       function(widgets) {\n",
       "\n",
       "    // The frontend class:\n",
       "    var MolSVGView = widgets.DOMWidgetView.extend({\n",
       "\n",
       "        // This method creates the HTML widget.\n",
       "        render: function() {\n",
       "            this.svg_div = document.createElement('div');\n",
       "            this.el.appendChild(this.svg_div);\n",
       "            this.model.on('change:svg', this.svg_changed, this);\n",
       "            this.svg_changed();\n",
       "        },\n",
       "        \n",
       "        // called when the SVG is updated on the Python side\n",
       "        svg_changed: function() {\n",
       "            var txt = this.model.get('svg'); \n",
       "            this.svg_div.innerHTML = txt;\n",
       "            var sels = this.svg_div.getElementsByClassName(\"atom-selector\");\n",
       "            for(var i=0;i<sels.length;i++){\n",
       "                sels[i].onclick = (evt) => { return this.atom_clicked(evt) };\n",
       "            }\n",
       "            \n",
       "        },\n",
       "\n",
       "        // callback for when an atom is clicked\n",
       "        atom_clicked: function(evt) {\n",
       "            //alert(\"  \"+evt+\"|\"+this);\n",
       "            if(!evt.currentTarget.getAttribute('class')){\n",
       "                return;\n",
       "            }\n",
       "            var satmid = evt.currentTarget.getAttribute('class').match(/atom-([0-9]+)/);\n",
       "            if(satmid.length >1){\n",
       "                var atmid = Number(satmid[1]);\n",
       "                var curSel = this.model.get('selected_atoms');\n",
       "                var splitSel = curSel.split(',');\n",
       "                var selItms = [];\n",
       "                var idx = -1;\n",
       "                //alert(\"|\"+atmid+\"|\"+curSel+\"|len: \"+splitSel.length);\n",
       "                if(curSel != \"\" && splitSel.length>0){\n",
       "                    selItms = Array.from(splitSel).map(item => Number(item));\n",
       "                    idx = selItms.indexOf(atmid);\n",
       "                }\n",
       "                if(idx == -1){\n",
       "                    selItms = selItms.concat(atmid);\n",
       "                    evt.currentTarget.style[\"stroke-width\"]=3;\n",
       "                    evt.currentTarget.style[\"stroke-opacity\"]=1;\n",
       "                    evt.currentTarget.style[\"stroke\"]='#AA22FF';\n",
       "                } else {\n",
       "                    selItms.splice(idx,1);\n",
       "                    evt.currentTarget.style[\"stroke-width\"]=1;\n",
       "                    evt.currentTarget.style[\"stroke-opacity\"]=0;\n",
       "                    evt.currentTarget.style[\"stroke\"]='#FFFFFF';\n",
       "                }\n",
       "                this.model.set('selected_atoms',String(selItms));\n",
       "                this.touch();\n",
       "            }\n",
       "        }\n",
       "\n",
       "    });\n",
       "\n",
       "    return {\n",
       "        MolSVGView : MolSVGView\n",
       "    };\n",
       "});\n"
      ],
      "text/plain": [
       "<IPython.core.display.Javascript object>"
      ]
     },
     "metadata": {},
     "output_type": "display_data"
    }
   ],
   "source": [
    "%%javascript\n",
    "// make sure our module is only defined\n",
    "// only once.\n",
    "require.undef('molsvg_widget');\n",
    "\n",
    "// Define the `molsvg_widget` module using the Jupyter widgets framework.\n",
    "define('molsvg_widget', [\"@jupyter-widgets/base\"],\n",
    "       function(widgets) {\n",
    "\n",
    "    // The frontend class:\n",
    "    var MolSVGView = widgets.DOMWidgetView.extend({\n",
    "\n",
    "        // This method creates the HTML widget.\n",
    "        render: function() {\n",
    "            this.svg_div = document.createElement('div');\n",
    "            this.el.appendChild(this.svg_div);\n",
    "            this.model.on('change:svg', this.svg_changed, this);\n",
    "            this.svg_changed();\n",
    "        },\n",
    "        \n",
    "        // called when the SVG is updated on the Python side\n",
    "        svg_changed: function() {\n",
    "            var txt = this.model.get('svg'); \n",
    "            this.svg_div.innerHTML = txt;\n",
    "            var sels = this.svg_div.getElementsByClassName(\"atom-selector\");\n",
    "            for(var i=0;i<sels.length;i++){\n",
    "                sels[i].onclick = (evt) => { return this.atom_clicked(evt) };\n",
    "            }\n",
    "            \n",
    "        },\n",
    "\n",
    "        // callback for when an atom is clicked\n",
    "        atom_clicked: function(evt) {\n",
    "            //alert(\"  \"+evt+\"|\"+this);\n",
    "            if(!evt.currentTarget.getAttribute('class')){\n",
    "                return;\n",
    "            }\n",
    "            var satmid = evt.currentTarget.getAttribute('class').match(/atom-([0-9]+)/);\n",
    "            if(satmid.length >1){\n",
    "                var atmid = Number(satmid[1]);\n",
    "                var curSel = this.model.get('selected_atoms');\n",
    "                var splitSel = curSel.split(',');\n",
    "                var selItms = [];\n",
    "                var idx = -1;\n",
    "                //alert(\"|\"+atmid+\"|\"+curSel+\"|len: \"+splitSel.length);\n",
    "                if(curSel != \"\" && splitSel.length>0){\n",
    "                    selItms = Array.from(splitSel).map(item => Number(item));\n",
    "                    idx = selItms.indexOf(atmid);\n",
    "                }\n",
    "                if(idx == -1){\n",
    "                    selItms = selItms.concat(atmid);\n",
    "                    evt.currentTarget.style[\"stroke-width\"]=3;\n",
    "                    evt.currentTarget.style[\"stroke-opacity\"]=1;\n",
    "                    evt.currentTarget.style[\"stroke\"]='#AA22FF';\n",
    "                } else {\n",
    "                    selItms.splice(idx,1);\n",
    "                    evt.currentTarget.style[\"stroke-width\"]=1;\n",
    "                    evt.currentTarget.style[\"stroke-opacity\"]=0;\n",
    "                    evt.currentTarget.style[\"stroke\"]='#FFFFFF';\n",
    "                }\n",
    "                this.model.set('selected_atoms',String(selItms));\n",
    "                this.touch();\n",
    "            }\n",
    "        }\n",
    "\n",
    "    });\n",
    "\n",
    "    return {\n",
    "        MolSVGView : MolSVGView\n",
    "    };\n",
    "});"
   ]
  },
  {
   "cell_type": "code",
   "execution_count": 8,
   "metadata": {},
   "outputs": [],
   "source": [
    "def mol_to_svg(mol):\n",
    "    d = Draw.MolDraw2DSVG(350, 200)\n",
    "    d.SetFontSize(0.8)\n",
    "    d.DrawMolecule(mol)\n",
    "    d.TagAtoms(mol)\n",
    "    d.FinishDrawing()\n",
    "    return d.GetDrawingText()\n"
   ]
  },
  {
   "cell_type": "code",
   "execution_count": 9,
   "metadata": {},
   "outputs": [],
   "source": [
    "bilastine_smi = \"O=C(O)C(c1ccc(cc1)CCN4CCC\\\n",
    "(c2nc3ccccc3n2CCOCC)CC4)(C)C\""
   ]
  },
  {
   "cell_type": "code",
   "execution_count": 10,
   "metadata": {},
   "outputs": [],
   "source": [
    "bilastine = Chem.MolFromSmiles(bilastine_smi)\n",
    "dbilastine = Draw.PrepareMolForDrawing(bilastine)"
   ]
  },
  {
   "cell_type": "code",
   "execution_count": 11,
   "metadata": {},
   "outputs": [
    {
     "data": {
      "application/vnd.jupyter.widget-view+json": {
       "model_id": "82606cdabff14120ad1671d28c63f5a4",
       "version_major": 2,
       "version_minor": 0
      },
      "text/plain": [
       "MolSVGWidget(svg='<?xml version=\\'1.0\\' encoding=\\'iso-8859-1\\'?>\\n<svg version=\\'1.1\\' baseProfile=\\'full\\'\\n…"
      ]
     },
     "metadata": {},
     "output_type": "display_data"
    }
   ],
   "source": [
    "w = MolSVGWidget(svg=mol_to_svg(dbilastine));w"
   ]
  },
  {
   "cell_type": "code",
   "execution_count": 12,
   "metadata": {},
   "outputs": [],
   "source": [
    "#w.selected_atoms"
   ]
  },
  {
   "cell_type": "code",
   "execution_count": 13,
   "metadata": {},
   "outputs": [],
   "source": [
    "celecoxib_pdb = Chem.MolFromPDBBlock(\"\"\"\\\n",
    "HETATM18014  S1  CEL A 682      25.931 -21.467 -17.155  1.00 43.78           S  \n",
    "HETATM18015  C15 CEL A 682      27.679 -21.706 -17.131  1.00 41.41           C  \n",
    "HETATM18016  C14 CEL A 682      28.218 -22.829 -16.556  1.00 39.70           C  \n",
    "HETATM18017  C13 CEL A 682      29.584 -22.964 -16.543  1.00 39.68           C  \n",
    "HETATM18018  C12 CEL A 682      30.341 -21.967 -17.109  1.00 39.92           C  \n",
    "HETATM18019  C17 CEL A 682      29.796 -20.853 -17.697  1.00 40.26           C  \n",
    "HETATM18020  C16 CEL A 682      28.434 -20.714 -17.707  1.00 40.98           C  \n",
    "HETATM18021  N2  CEL A 682      31.724 -22.006 -17.132  1.00 40.07           N  \n",
    "HETATM18022  C3  CEL A 682      32.622 -22.574 -16.260  1.00 40.53           C  \n",
    "HETATM18023  C5  CEL A 682      32.417 -23.237 -14.985  1.00 39.27           C  \n",
    "HETATM18024  C10 CEL A 682      31.570 -22.735 -14.016  1.00 37.27           C  \n",
    "HETATM18025  C9  CEL A 682      31.446 -23.390 -12.819  1.00 37.20           C  \n",
    "HETATM18026  C8  CEL A 682      32.170 -24.541 -12.587  1.00 37.91           C  \n",
    "HETATM18027  C11 CEL A 682      32.056 -25.290 -11.306  1.00 35.46           C  \n",
    "HETATM18028  C7  CEL A 682      33.023 -25.030 -13.549  1.00 38.04           C  \n",
    "HETATM18029  C6  CEL A 682      33.152 -24.373 -14.743  1.00 38.09           C  \n",
    "HETATM18030  C2  CEL A 682      33.843 -22.337 -16.837  1.00 41.52           C  \n",
    "HETATM18031  C1  CEL A 682      33.589 -21.637 -18.031  1.00 41.45           C  \n",
    "HETATM18032  C4  CEL A 682      34.554 -21.135 -19.002  1.00 43.00           C  \n",
    "HETATM18033  F3  CEL A 682      34.560 -21.752 -20.210  1.00 43.04           F  \n",
    "HETATM18034  F2  CEL A 682      34.302 -19.828 -19.223  1.00 45.98           F  \n",
    "HETATM18035  F1  CEL A 682      35.816 -21.214 -18.544  1.00 43.55           F  \n",
    "HETATM18036  N1  CEL A 682      32.290 -21.424 -18.201  1.00 41.09           N  \n",
    "HETATM18037  N3  CEL A 682      25.378 -22.226 -18.605  1.00 42.37           N  \n",
    "HETATM18038  O2  CEL A 682      25.772 -20.039 -17.291  1.00 45.34           O  \n",
    "HETATM18039  O1  CEL A 682      25.436 -22.106 -15.949  1.00 45.63           O  \n",
    "\"\"\")"
   ]
  },
  {
   "cell_type": "code",
   "execution_count": 14,
   "metadata": {},
   "outputs": [],
   "source": [
    "[a.SetProp(\"AtomLabel\", a.GetPDBResidueInfo().GetName().strip())\n",
    " for a in celecoxib_pdb.GetAtoms()];"
   ]
  },
  {
   "cell_type": "code",
   "execution_count": 15,
   "metadata": {},
   "outputs": [],
   "source": [
    "Chem.CreateAtomStringPropertyList(celecoxib_pdb, \"AtomLabel\")\n",
    "Chem.CreateAtomDoublePropertyList(celecoxib_pdb, \"TemperatureFactor\")"
   ]
  },
  {
   "cell_type": "code",
   "execution_count": 16,
   "metadata": {},
   "outputs": [],
   "source": [
    "import sys,os\n",
    "w = Chem.SDWriter(sys.stdout)"
   ]
  },
  {
   "cell_type": "code",
   "execution_count": 17,
   "metadata": {
    "scrolled": true
   },
   "outputs": [
    {
     "name": "stdout",
     "output_type": "stream",
     "text": [
      "2020.03.4\n"
     ]
    }
   ],
   "source": [
    "from rdkit import Chem\n",
    "from rdkit.Chem import Draw\n",
    "from rdkit.Chem.Draw import rdMolDraw2D\n",
    "from rdkit.Chem import rdDepictor\n",
    "rdDepictor.SetPreferCoordGen(True)\n",
    "from rdkit.Chem.Draw import IPythonConsole\n",
    "from IPython.display import SVG\n",
    "import rdkit\n",
    "print(rdkit.__version__)"
   ]
  },
  {
   "cell_type": "markdown",
   "metadata": {},
   "source": [
    "###### Créer une molécule"
   ]
  },
  {
   "cell_type": "code",
   "execution_count": 18,
   "metadata": {},
   "outputs": [
    {
     "data": {
      "image/svg+xml": [
       "<svg xmlns=\"http://www.w3.org/2000/svg\" xmlns:rdkit=\"http://www.rdkit.org/xml\" xmlns:xlink=\"http://www.w3.org/1999/xlink\" version=\"1.1\" baseProfile=\"full\" xml:space=\"preserve\" width=\"250px\" height=\"200px\" viewBox=\"0 0 250 200\">\n",
       "<!-- END OF HEADER -->\n",
       "<rect style=\"opacity:1.0;fill:#FFFFFF;stroke:none\" width=\"250\" height=\"200\" x=\"0\" y=\"0\"> </rect>\n",
       "<path class=\"bond-0\" d=\"M 60.4942,36.9234 L 60.5043,49.5541\" style=\"fill:none;fill-rule:evenodd;stroke:#FF0000;stroke-width:2px;stroke-linecap:butt;stroke-linejoin:miter;stroke-opacity:1\"/>\n",
       "<path class=\"bond-0\" d=\"M 60.5043,49.5541 L 60.5144,62.1847\" style=\"fill:none;fill-rule:evenodd;stroke:#000000;stroke-width:2px;stroke-linecap:butt;stroke-linejoin:miter;stroke-opacity:1\"/>\n",
       "<path class=\"bond-0\" d=\"M 66.5569,36.9186 L 66.567,49.5492\" style=\"fill:none;fill-rule:evenodd;stroke:#FF0000;stroke-width:2px;stroke-linecap:butt;stroke-linejoin:miter;stroke-opacity:1\"/>\n",
       "<path class=\"bond-0\" d=\"M 66.567,49.5492 L 66.5771,62.1798\" style=\"fill:none;fill-rule:evenodd;stroke:#000000;stroke-width:2px;stroke-linecap:butt;stroke-linejoin:miter;stroke-opacity:1\"/>\n",
       "<path class=\"bond-1\" d=\"M 63.5457,62.1823 L 52.6175,68.5023\" style=\"fill:none;fill-rule:evenodd;stroke:#000000;stroke-width:2px;stroke-linecap:butt;stroke-linejoin:miter;stroke-opacity:1\"/>\n",
       "<path class=\"bond-1\" d=\"M 52.6175,68.5023 L 41.6892,74.8224\" style=\"fill:none;fill-rule:evenodd;stroke:#FF0000;stroke-width:2px;stroke-linecap:butt;stroke-linejoin:miter;stroke-opacity:1\"/>\n",
       "<path class=\"bond-2\" d=\"M 63.5457,62.1823 L 92.7275,78.9961\" style=\"fill:none;fill-rule:evenodd;stroke:#000000;stroke-width:2px;stroke-linecap:butt;stroke-linejoin:miter;stroke-opacity:1\"/>\n",
       "<path class=\"bond-3\" d=\"M 92.7275,78.9961 L 121.882,62.1351\" style=\"fill:none;fill-rule:evenodd;stroke:#000000;stroke-width:2px;stroke-linecap:butt;stroke-linejoin:miter;stroke-opacity:1\"/>\n",
       "<path class=\"bond-4\" d=\"M 121.882,62.1351 L 121.855,28.4535\" style=\"fill:none;fill-rule:evenodd;stroke:#000000;stroke-width:2px;stroke-linecap:butt;stroke-linejoin:miter;stroke-opacity:1\"/>\n",
       "<path class=\"bond-4\" d=\"M 127.941,57.078 L 127.922,33.5008\" style=\"fill:none;fill-rule:evenodd;stroke:#000000;stroke-width:2px;stroke-linecap:butt;stroke-linejoin:miter;stroke-opacity:1\"/>\n",
       "<path class=\"bond-18\" d=\"M 121.882,62.1351 L 151.064,78.949\" style=\"fill:none;fill-rule:evenodd;stroke:#000000;stroke-width:2px;stroke-linecap:butt;stroke-linejoin:miter;stroke-opacity:1\"/>\n",
       "<path class=\"bond-5\" d=\"M 121.855,28.4535 L 151.01,11.5857\" style=\"fill:none;fill-rule:evenodd;stroke:#000000;stroke-width:2px;stroke-linecap:butt;stroke-linejoin:miter;stroke-opacity:1\"/>\n",
       "<path class=\"bond-6\" d=\"M 151.01,11.5857 L 180.192,28.4063\" style=\"fill:none;fill-rule:evenodd;stroke:#000000;stroke-width:2px;stroke-linecap:butt;stroke-linejoin:miter;stroke-opacity:1\"/>\n",
       "<path class=\"bond-6\" d=\"M 152.36,19.3614 L 172.787,31.1358\" style=\"fill:none;fill-rule:evenodd;stroke:#000000;stroke-width:2px;stroke-linecap:butt;stroke-linejoin:miter;stroke-opacity:1\"/>\n",
       "<path class=\"bond-7\" d=\"M 180.192,28.4063 L 180.219,62.0879\" style=\"fill:none;fill-rule:evenodd;stroke:#000000;stroke-width:2px;stroke-linecap:butt;stroke-linejoin:miter;stroke-opacity:1\"/>\n",
       "<path class=\"bond-8\" d=\"M 180.219,62.0879 L 151.064,78.949\" style=\"fill:none;fill-rule:evenodd;stroke:#000000;stroke-width:2px;stroke-linecap:butt;stroke-linejoin:miter;stroke-opacity:1\"/>\n",
       "<path class=\"bond-8\" d=\"M 172.811,59.3689 L 152.402,71.1716\" style=\"fill:none;fill-rule:evenodd;stroke:#000000;stroke-width:2px;stroke-linecap:butt;stroke-linejoin:miter;stroke-opacity:1\"/>\n",
       "<path class=\"bond-9\" d=\"M 151.064,78.949 L 151.074,91.5796\" style=\"fill:none;fill-rule:evenodd;stroke:#000000;stroke-width:2px;stroke-linecap:butt;stroke-linejoin:miter;stroke-opacity:1\"/>\n",
       "<path class=\"bond-9\" d=\"M 151.074,91.5796 L 151.084,104.21\" style=\"fill:none;fill-rule:evenodd;stroke:#0000FF;stroke-width:2px;stroke-linecap:butt;stroke-linejoin:miter;stroke-opacity:1\"/>\n",
       "<path class=\"bond-10\" d=\"M 158.389,116.837 L 169.331,123.144\" style=\"fill:none;fill-rule:evenodd;stroke:#0000FF;stroke-width:2px;stroke-linecap:butt;stroke-linejoin:miter;stroke-opacity:1\"/>\n",
       "<path class=\"bond-10\" d=\"M 169.331,123.144 L 180.273,129.451\" style=\"fill:none;fill-rule:evenodd;stroke:#000000;stroke-width:2px;stroke-linecap:butt;stroke-linejoin:miter;stroke-opacity:1\"/>\n",
       "<path class=\"bond-11\" d=\"M 180.273,129.451 L 180.3,163.133\" style=\"fill:none;fill-rule:evenodd;stroke:#000000;stroke-width:2px;stroke-linecap:butt;stroke-linejoin:miter;stroke-opacity:1\"/>\n",
       "<path class=\"bond-11\" d=\"M 186.34,134.499 L 186.358,158.076\" style=\"fill:none;fill-rule:evenodd;stroke:#000000;stroke-width:2px;stroke-linecap:butt;stroke-linejoin:miter;stroke-opacity:1\"/>\n",
       "<path class=\"bond-19\" d=\"M 180.273,129.451 L 209.428,112.583\" style=\"fill:none;fill-rule:evenodd;stroke:#000000;stroke-width:2px;stroke-linecap:butt;stroke-linejoin:miter;stroke-opacity:1\"/>\n",
       "<path class=\"bond-12\" d=\"M 180.3,163.133 L 170.494,168.804\" style=\"fill:none;fill-rule:evenodd;stroke:#000000;stroke-width:2px;stroke-linecap:butt;stroke-linejoin:miter;stroke-opacity:1\"/>\n",
       "<path class=\"bond-12\" d=\"M 170.494,168.804 L 160.687,174.475\" style=\"fill:none;fill-rule:evenodd;stroke:#00CC00;stroke-width:2px;stroke-linecap:butt;stroke-linejoin:miter;stroke-opacity:1\"/>\n",
       "<path class=\"bond-13\" d=\"M 180.3,163.133 L 209.482,179.953\" style=\"fill:none;fill-rule:evenodd;stroke:#000000;stroke-width:2px;stroke-linecap:butt;stroke-linejoin:miter;stroke-opacity:1\"/>\n",
       "<path class=\"bond-14\" d=\"M 209.482,179.953 L 238.636,163.086\" style=\"fill:none;fill-rule:evenodd;stroke:#000000;stroke-width:2px;stroke-linecap:butt;stroke-linejoin:miter;stroke-opacity:1\"/>\n",
       "<path class=\"bond-14\" d=\"M 210.819,172.176 L 231.227,160.368\" style=\"fill:none;fill-rule:evenodd;stroke:#000000;stroke-width:2px;stroke-linecap:butt;stroke-linejoin:miter;stroke-opacity:1\"/>\n",
       "<path class=\"bond-15\" d=\"M 238.636,163.086 L 238.609,129.404\" style=\"fill:none;fill-rule:evenodd;stroke:#000000;stroke-width:2px;stroke-linecap:butt;stroke-linejoin:miter;stroke-opacity:1\"/>\n",
       "<path class=\"bond-16\" d=\"M 238.609,129.404 L 209.428,112.583\" style=\"fill:none;fill-rule:evenodd;stroke:#000000;stroke-width:2px;stroke-linecap:butt;stroke-linejoin:miter;stroke-opacity:1\"/>\n",
       "<path class=\"bond-16\" d=\"M 231.205,132.134 L 210.777,120.359\" style=\"fill:none;fill-rule:evenodd;stroke:#000000;stroke-width:2px;stroke-linecap:butt;stroke-linejoin:miter;stroke-opacity:1\"/>\n",
       "<path class=\"bond-17\" d=\"M 209.428,112.583 L 209.418,99.9528\" style=\"fill:none;fill-rule:evenodd;stroke:#000000;stroke-width:2px;stroke-linecap:butt;stroke-linejoin:miter;stroke-opacity:1\"/>\n",
       "<path class=\"bond-17\" d=\"M 209.418,99.9528 L 209.407,87.3222\" style=\"fill:none;fill-rule:evenodd;stroke:#00CC00;stroke-width:2px;stroke-linecap:butt;stroke-linejoin:miter;stroke-opacity:1\"/>\n",
       "<text dominant-baseline=\"central\" text-anchor=\"start\" x=\"57.3384\" y=\"31.0267\" style=\"font-size:16px;font-style:normal;font-weight:normal;fill-opacity:1;stroke:none;font-family:sans-serif;fill:#FF0000\"><tspan>O</tspan></text>\n",
       "<text dominant-baseline=\"central\" text-anchor=\"end\" x=\"40.5712\" y=\"81.5694\" style=\"font-size:16px;font-style:normal;font-weight:normal;fill-opacity:1;stroke:none;font-family:sans-serif;fill:#FF0000\"><tspan>HO</tspan></text>\n",
       "<text dominant-baseline=\"central\" text-anchor=\"end\" x=\"156.705\" y=\"115.157\" style=\"font-size:16px;font-style:normal;font-weight:normal;fill-opacity:1;stroke:none;font-family:sans-serif;fill:#0000FF\"><tspan>HN</tspan></text>\n",
       "<text dominant-baseline=\"central\" text-anchor=\"end\" x=\"159.003\" y=\"182.52\" style=\"font-size:16px;font-style:normal;font-weight:normal;fill-opacity:1;stroke:none;font-family:sans-serif;fill:#00CC00\"><tspan>Cl</tspan></text>\n",
       "<text dominant-baseline=\"central\" text-anchor=\"start\" x=\"201.542\" y=\"81.4279\" style=\"font-size:16px;font-style:normal;font-weight:normal;fill-opacity:1;stroke:none;font-family:sans-serif;fill:#00CC00\"><tspan>Cl</tspan></text>\n",
       "</svg>"
      ],
      "text/plain": [
       "<IPython.core.display.SVG object>"
      ]
     },
     "execution_count": 18,
     "metadata": {},
     "output_type": "execute_result"
    }
   ],
   "source": [
    "diclofenac = Chem.MolFromSmiles(\n",
    "    'O=C(O)Cc1ccccc1Nc1c(Cl)cccc1Cl')\n",
    "d2d = rdMolDraw2D.MolDraw2DSVG(250,200)\n",
    "d2d.DrawMolecule(diclofenac)\n",
    "d2d.FinishDrawing()\n",
    "SVG(d2d.GetDrawingText())"
   ]
  },
  {
   "cell_type": "markdown",
   "metadata": {},
   "source": [
    "##### Atomes"
   ]
  },
  {
   "cell_type": "code",
   "execution_count": 19,
   "metadata": {},
   "outputs": [
    {
     "data": {
      "image/svg+xml": [
       "<svg xmlns=\"http://www.w3.org/2000/svg\" xmlns:rdkit=\"http://www.rdkit.org/xml\" xmlns:xlink=\"http://www.w3.org/1999/xlink\" version=\"1.1\" baseProfile=\"full\" xml:space=\"preserve\" width=\"250px\" height=\"200px\" viewBox=\"0 0 250 200\">\n",
       "<!-- END OF HEADER -->\n",
       "<rect style=\"opacity:1.0;fill:#FFFFFF;stroke:none\" width=\"250\" height=\"200\" x=\"0\" y=\"0\"> </rect>\n",
       "<path class=\"bond-0\" d=\"M 58.0329,44.6629 L 58.0418,55.7438\" style=\"fill:none;fill-rule:evenodd;stroke:#FF0000;stroke-width:2px;stroke-linecap:butt;stroke-linejoin:miter;stroke-opacity:1\"/>\n",
       "<path class=\"bond-0\" d=\"M 58.0418,55.7438 L 58.0506,66.8246\" style=\"fill:none;fill-rule:evenodd;stroke:#000000;stroke-width:2px;stroke-linecap:butt;stroke-linejoin:miter;stroke-opacity:1\"/>\n",
       "<path class=\"bond-0\" d=\"M 63.3517,44.6587 L 63.3606,55.7395\" style=\"fill:none;fill-rule:evenodd;stroke:#FF0000;stroke-width:2px;stroke-linecap:butt;stroke-linejoin:miter;stroke-opacity:1\"/>\n",
       "<path class=\"bond-0\" d=\"M 63.3606,55.7395 L 63.3695,66.8203\" style=\"fill:none;fill-rule:evenodd;stroke:#000000;stroke-width:2px;stroke-linecap:butt;stroke-linejoin:miter;stroke-opacity:1\"/>\n",
       "<path class=\"bond-1\" d=\"M 60.71,66.8225 L 51.1227,72.3671\" style=\"fill:none;fill-rule:evenodd;stroke:#000000;stroke-width:2px;stroke-linecap:butt;stroke-linejoin:miter;stroke-opacity:1\"/>\n",
       "<path class=\"bond-1\" d=\"M 51.1227,72.3671 L 41.5354,77.9117\" style=\"fill:none;fill-rule:evenodd;stroke:#FF0000;stroke-width:2px;stroke-linecap:butt;stroke-linejoin:miter;stroke-opacity:1\"/>\n",
       "<path class=\"bond-2\" d=\"M 60.71,66.8225 L 86.3112,81.5733\" style=\"fill:none;fill-rule:evenodd;stroke:#000000;stroke-width:2px;stroke-linecap:butt;stroke-linejoin:miter;stroke-opacity:1\"/>\n",
       "<path class=\"bond-3\" d=\"M 86.3112,81.5733 L 111.889,66.7811\" style=\"fill:none;fill-rule:evenodd;stroke:#000000;stroke-width:2px;stroke-linecap:butt;stroke-linejoin:miter;stroke-opacity:1\"/>\n",
       "<path class=\"bond-4\" d=\"M 111.889,66.7811 L 111.865,37.2322\" style=\"fill:none;fill-rule:evenodd;stroke:#000000;stroke-width:2px;stroke-linecap:butt;stroke-linejoin:miter;stroke-opacity:1\"/>\n",
       "<path class=\"bond-4\" d=\"M 117.204,62.3445 L 117.187,41.6603\" style=\"fill:none;fill-rule:evenodd;stroke:#000000;stroke-width:2px;stroke-linecap:butt;stroke-linejoin:miter;stroke-opacity:1\"/>\n",
       "<path class=\"bond-18\" d=\"M 111.889,66.7811 L 137.49,81.5319\" style=\"fill:none;fill-rule:evenodd;stroke:#000000;stroke-width:2px;stroke-linecap:butt;stroke-linejoin:miter;stroke-opacity:1\"/>\n",
       "<path class=\"bond-5\" d=\"M 111.865,37.2322 L 137.443,22.4341\" style=\"fill:none;fill-rule:evenodd;stroke:#000000;stroke-width:2px;stroke-linecap:butt;stroke-linejoin:miter;stroke-opacity:1\"/>\n",
       "<path class=\"bond-6\" d=\"M 137.443,22.4341 L 163.044,37.1908\" style=\"fill:none;fill-rule:evenodd;stroke:#000000;stroke-width:2px;stroke-linecap:butt;stroke-linejoin:miter;stroke-opacity:1\"/>\n",
       "<path class=\"bond-6\" d=\"M 138.627,29.2557 L 156.548,39.5854\" style=\"fill:none;fill-rule:evenodd;stroke:#000000;stroke-width:2px;stroke-linecap:butt;stroke-linejoin:miter;stroke-opacity:1\"/>\n",
       "<path class=\"bond-7\" d=\"M 163.044,37.1908 L 163.068,66.7397\" style=\"fill:none;fill-rule:evenodd;stroke:#000000;stroke-width:2px;stroke-linecap:butt;stroke-linejoin:miter;stroke-opacity:1\"/>\n",
       "<path class=\"bond-8\" d=\"M 163.068,66.7397 L 137.49,81.5319\" style=\"fill:none;fill-rule:evenodd;stroke:#000000;stroke-width:2px;stroke-linecap:butt;stroke-linejoin:miter;stroke-opacity:1\"/>\n",
       "<path class=\"bond-8\" d=\"M 156.568,64.3543 L 138.664,74.7088\" style=\"fill:none;fill-rule:evenodd;stroke:#000000;stroke-width:2px;stroke-linecap:butt;stroke-linejoin:miter;stroke-opacity:1\"/>\n",
       "<path class=\"bond-9\" d=\"M 137.49,81.5319 L 137.499,92.6128\" style=\"fill:none;fill-rule:evenodd;stroke:#000000;stroke-width:2px;stroke-linecap:butt;stroke-linejoin:miter;stroke-opacity:1\"/>\n",
       "<path class=\"bond-9\" d=\"M 137.499,92.6128 L 137.508,103.694\" style=\"fill:none;fill-rule:evenodd;stroke:#0000FF;stroke-width:2px;stroke-linecap:butt;stroke-linejoin:miter;stroke-opacity:1\"/>\n",
       "<path class=\"bond-10\" d=\"M 143.916,114.772 L 153.516,120.305\" style=\"fill:none;fill-rule:evenodd;stroke:#0000FF;stroke-width:2px;stroke-linecap:butt;stroke-linejoin:miter;stroke-opacity:1\"/>\n",
       "<path class=\"bond-10\" d=\"M 153.516,120.305 L 163.115,125.838\" style=\"fill:none;fill-rule:evenodd;stroke:#000000;stroke-width:2px;stroke-linecap:butt;stroke-linejoin:miter;stroke-opacity:1\"/>\n",
       "<path class=\"bond-11\" d=\"M 163.115,125.838 L 163.138,155.386\" style=\"fill:none;fill-rule:evenodd;stroke:#000000;stroke-width:2px;stroke-linecap:butt;stroke-linejoin:miter;stroke-opacity:1\"/>\n",
       "<path class=\"bond-11\" d=\"M 168.437,130.266 L 168.454,150.95\" style=\"fill:none;fill-rule:evenodd;stroke:#000000;stroke-width:2px;stroke-linecap:butt;stroke-linejoin:miter;stroke-opacity:1\"/>\n",
       "<path class=\"bond-19\" d=\"M 163.115,125.838 L 188.692,111.039\" style=\"fill:none;fill-rule:evenodd;stroke:#000000;stroke-width:2px;stroke-linecap:butt;stroke-linejoin:miter;stroke-opacity:1\"/>\n",
       "<path class=\"bond-12\" d=\"M 163.138,155.386 L 154.535,160.362\" style=\"fill:none;fill-rule:evenodd;stroke:#000000;stroke-width:2px;stroke-linecap:butt;stroke-linejoin:miter;stroke-opacity:1\"/>\n",
       "<path class=\"bond-12\" d=\"M 154.535,160.362 L 145.932,165.337\" style=\"fill:none;fill-rule:evenodd;stroke:#00CC00;stroke-width:2px;stroke-linecap:butt;stroke-linejoin:miter;stroke-opacity:1\"/>\n",
       "<path class=\"bond-13\" d=\"M 163.138,155.386 L 188.74,170.143\" style=\"fill:none;fill-rule:evenodd;stroke:#000000;stroke-width:2px;stroke-linecap:butt;stroke-linejoin:miter;stroke-opacity:1\"/>\n",
       "<path class=\"bond-14\" d=\"M 188.74,170.143 L 214.317,155.345\" style=\"fill:none;fill-rule:evenodd;stroke:#000000;stroke-width:2px;stroke-linecap:butt;stroke-linejoin:miter;stroke-opacity:1\"/>\n",
       "<path class=\"bond-14\" d=\"M 189.913,163.32 L 207.817,152.961\" style=\"fill:none;fill-rule:evenodd;stroke:#000000;stroke-width:2px;stroke-linecap:butt;stroke-linejoin:miter;stroke-opacity:1\"/>\n",
       "<path class=\"bond-15\" d=\"M 214.317,155.345 L 214.294,125.796\" style=\"fill:none;fill-rule:evenodd;stroke:#000000;stroke-width:2px;stroke-linecap:butt;stroke-linejoin:miter;stroke-opacity:1\"/>\n",
       "<path class=\"bond-16\" d=\"M 214.294,125.796 L 188.692,111.039\" style=\"fill:none;fill-rule:evenodd;stroke:#000000;stroke-width:2px;stroke-linecap:butt;stroke-linejoin:miter;stroke-opacity:1\"/>\n",
       "<path class=\"bond-16\" d=\"M 207.797,128.191 L 189.876,117.861\" style=\"fill:none;fill-rule:evenodd;stroke:#000000;stroke-width:2px;stroke-linecap:butt;stroke-linejoin:miter;stroke-opacity:1\"/>\n",
       "<path class=\"bond-17\" d=\"M 188.692,111.039 L 188.683,99.9586\" style=\"fill:none;fill-rule:evenodd;stroke:#000000;stroke-width:2px;stroke-linecap:butt;stroke-linejoin:miter;stroke-opacity:1\"/>\n",
       "<path class=\"bond-17\" d=\"M 188.683,99.9586 L 188.675,88.8778\" style=\"fill:none;fill-rule:evenodd;stroke:#00CC00;stroke-width:2px;stroke-linecap:butt;stroke-linejoin:miter;stroke-opacity:1\"/>\n",
       "<text dominant-baseline=\"central\" text-anchor=\"start\" x=\"55.2644\" y=\"39.4897\" style=\"font-size:14px;font-style:normal;font-weight:normal;fill-opacity:1;stroke:none;font-family:sans-serif;fill:#FF0000\"><tspan>O</tspan></text>\n",
       "<text dominant-baseline=\"central\" text-anchor=\"end\" x=\"40.5545\" y=\"83.8308\" style=\"font-size:14px;font-style:normal;font-weight:normal;fill-opacity:1;stroke:none;font-family:sans-serif;fill:#FF0000\"><tspan>HO</tspan></text>\n",
       "<text dominant-baseline=\"central\" text-anchor=\"end\" x=\"142.439\" y=\"113.297\" style=\"font-size:14px;font-style:normal;font-weight:normal;fill-opacity:1;stroke:none;font-family:sans-serif;fill:#0000FF\"><tspan>HN</tspan></text>\n",
       "<text dominant-baseline=\"central\" text-anchor=\"end\" x=\"144.455\" y=\"172.395\" style=\"font-size:14px;font-style:normal;font-weight:normal;fill-opacity:1;stroke:none;font-family:sans-serif;fill:#00CC00\"><tspan>Cl</tspan></text>\n",
       "<text dominant-baseline=\"central\" text-anchor=\"start\" x=\"181.775\" y=\"83.7067\" style=\"font-size:14px;font-style:normal;font-weight:normal;fill-opacity:1;stroke:none;font-family:sans-serif;fill:#00CC00\"><tspan>Cl</tspan></text>\n",
       "<text dominant-baseline=\"central\" text-anchor=\"middle\" x=\"60.6746\" y=\"24.1612\" style=\"font-size:11px;font-style:normal;font-weight:normal;fill-opacity:1;stroke:none;font-family:sans-serif;fill:#000000\"><tspan>0</tspan></text>\n",
       "<text dominant-baseline=\"central\" text-anchor=\"middle\" x=\"47.9093\" y=\"61.1072\" style=\"font-size:11px;font-style:normal;font-weight:normal;fill-opacity:1;stroke:none;font-family:sans-serif;fill:#000000\"><tspan>1</tspan></text>\n",
       "<text dominant-baseline=\"central\" text-anchor=\"middle\" x=\"35.1433\" y=\"98.0512\" style=\"font-size:11px;font-style:normal;font-weight:normal;fill-opacity:1;stroke:none;font-family:sans-serif;fill:#000000\"><tspan>2</tspan></text>\n",
       "<text dominant-baseline=\"central\" text-anchor=\"middle\" x=\"86.3172\" y=\"90.6226\" style=\"font-size:11px;font-style:normal;font-weight:normal;fill-opacity:1;stroke:none;font-family:sans-serif;fill:#000000\"><tspan>3</tspan></text>\n",
       "<text dominant-baseline=\"central\" text-anchor=\"middle\" x=\"99.0881\" y=\"61.0658\" style=\"font-size:11px;font-style:normal;font-weight:normal;fill-opacity:1;stroke:none;font-family:sans-serif;fill:#000000\"><tspan>4</tspan></text>\n",
       "<text dominant-baseline=\"central\" text-anchor=\"middle\" x=\"105.464\" y=\"35.2062\" style=\"font-size:11px;font-style:normal;font-weight:normal;fill-opacity:1;stroke:none;font-family:sans-serif;fill:#000000\"><tspan>5</tspan></text>\n",
       "<text dominant-baseline=\"central\" text-anchor=\"middle\" x=\"137.437\" y=\"16.709\" style=\"font-size:11px;font-style:normal;font-weight:normal;fill-opacity:1;stroke:none;font-family:sans-serif;fill:#000000\"><tspan>6</tspan></text>\n",
       "<text dominant-baseline=\"central\" text-anchor=\"middle\" x=\"169.439\" y=\"35.1545\" style=\"font-size:11px;font-style:normal;font-weight:normal;fill-opacity:1;stroke:none;font-family:sans-serif;fill:#000000\"><tspan>7</tspan></text>\n",
       "<text dominant-baseline=\"central\" text-anchor=\"middle\" x=\"169.468\" y=\"72.0906\" style=\"font-size:11px;font-style:normal;font-weight:normal;fill-opacity:1;stroke:none;font-family:sans-serif;fill:#000000\"><tspan>8</tspan></text>\n",
       "<text dominant-baseline=\"central\" text-anchor=\"middle\" x=\"150.291\" y=\"90.5715\" style=\"font-size:11px;font-style:normal;font-weight:normal;fill-opacity:1;stroke:none;font-family:sans-serif;fill:#000000\"><tspan>9</tspan></text>\n",
       "<text dominant-baseline=\"central\" text-anchor=\"middle\" x=\"137.525\" y=\"127.517\" style=\"font-size:11px;font-style:normal;font-weight:normal;fill-opacity:1;stroke:none;font-family:sans-serif;fill:#000000\"><tspan>10</tspan></text>\n",
       "<text dominant-baseline=\"central\" text-anchor=\"middle\" x=\"163.104\" y=\"112.725\" style=\"font-size:11px;font-style:normal;font-weight:normal;fill-opacity:1;stroke:none;font-family:sans-serif;fill:#000000\"><tspan>11</tspan></text>\n",
       "<text dominant-baseline=\"central\" text-anchor=\"middle\" x=\"150.338\" y=\"149.671\" style=\"font-size:11px;font-style:normal;font-weight:normal;fill-opacity:1;stroke:none;font-family:sans-serif;fill:#000000\"><tspan>12</tspan></text>\n",
       "<text dominant-baseline=\"central\" text-anchor=\"middle\" x=\"137.572\" y=\"186.615\" style=\"font-size:11px;font-style:normal;font-weight:normal;fill-opacity:1;stroke:none;font-family:sans-serif;fill:#000000\"><tspan>13</tspan></text>\n",
       "<text dominant-baseline=\"central\" text-anchor=\"middle\" x=\"188.746\" y=\"179.193\" style=\"font-size:11px;font-style:normal;font-weight:normal;fill-opacity:1;stroke:none;font-family:sans-serif;fill:#000000\"><tspan>14</tspan></text>\n",
       "<text dominant-baseline=\"central\" text-anchor=\"middle\" x=\"227.119\" y=\"164.384\" style=\"font-size:11px;font-style:normal;font-weight:normal;fill-opacity:1;stroke:none;font-family:sans-serif;fill:#000000\"><tspan>15</tspan></text>\n",
       "<text dominant-baseline=\"central\" text-anchor=\"middle\" x=\"227.083\" y=\"120.061\" style=\"font-size:11px;font-style:normal;font-weight:normal;fill-opacity:1;stroke:none;font-family:sans-serif;fill:#000000\"><tspan>16</tspan></text>\n",
       "<text dominant-baseline=\"central\" text-anchor=\"middle\" x=\"201.482\" y=\"105.305\" style=\"font-size:11px;font-style:normal;font-weight:normal;fill-opacity:1;stroke:none;font-family:sans-serif;fill:#000000\"><tspan>17</tspan></text>\n",
       "<text dominant-baseline=\"central\" text-anchor=\"middle\" x=\"188.657\" y=\"68.3782\" style=\"font-size:11px;font-style:normal;font-weight:normal;fill-opacity:1;stroke:none;font-family:sans-serif;fill:#000000\"><tspan>18</tspan></text>\n",
       "</svg>"
      ],
      "text/plain": [
       "<IPython.core.display.SVG object>"
      ]
     },
     "execution_count": 19,
     "metadata": {},
     "output_type": "execute_result"
    }
   ],
   "source": [
    "d2d = rdMolDraw2D.MolDraw2DSVG(250,200)\n",
    "d2d.drawOptions().addAtomIndices=True\n",
    "d2d.DrawMolecule(diclofenac)\n",
    "d2d.FinishDrawing()\n",
    "SVG(d2d.GetDrawingText())"
   ]
  },
  {
   "cell_type": "markdown",
   "metadata": {},
   "source": [
    "##### Liens et indices des  atomes"
   ]
  },
  {
   "cell_type": "code",
   "execution_count": 20,
   "metadata": {},
   "outputs": [
    {
     "data": {
      "image/svg+xml": [
       "<svg xmlns=\"http://www.w3.org/2000/svg\" xmlns:rdkit=\"http://www.rdkit.org/xml\" xmlns:xlink=\"http://www.w3.org/1999/xlink\" version=\"1.1\" baseProfile=\"full\" xml:space=\"preserve\" width=\"350px\" height=\"300px\" viewBox=\"0 0 350 300\">\n",
       "<!-- END OF HEADER -->\n",
       "<rect style=\"opacity:1.0;fill:#FFFFFF;stroke:none\" width=\"350\" height=\"300\" x=\"0\" y=\"0\"> </rect>\n",
       "<path class=\"bond-0\" d=\"M 77.3333,76.4291 L 77.3459,92.2202\" style=\"fill:none;fill-rule:evenodd;stroke:#FF0000;stroke-width:2px;stroke-linecap:butt;stroke-linejoin:miter;stroke-opacity:1\"/>\n",
       "<path class=\"bond-0\" d=\"M 77.3459,92.2202 L 77.3585,108.011\" style=\"fill:none;fill-rule:evenodd;stroke:#000000;stroke-width:2px;stroke-linecap:butt;stroke-linejoin:miter;stroke-opacity:1\"/>\n",
       "<path class=\"bond-0\" d=\"M 84.913,76.423 L 84.9256,92.2142\" style=\"fill:none;fill-rule:evenodd;stroke:#FF0000;stroke-width:2px;stroke-linecap:butt;stroke-linejoin:miter;stroke-opacity:1\"/>\n",
       "<path class=\"bond-0\" d=\"M 84.9256,92.2142 L 84.9383,108.005\" style=\"fill:none;fill-rule:evenodd;stroke:#000000;stroke-width:2px;stroke-linecap:butt;stroke-linejoin:miter;stroke-opacity:1\"/>\n",
       "<path class=\"bond-1\" d=\"M 81.1484,108.008 L 67.4857,115.91\" style=\"fill:none;fill-rule:evenodd;stroke:#000000;stroke-width:2px;stroke-linecap:butt;stroke-linejoin:miter;stroke-opacity:1\"/>\n",
       "<path class=\"bond-1\" d=\"M 67.4857,115.91 L 53.8229,123.811\" style=\"fill:none;fill-rule:evenodd;stroke:#FF0000;stroke-width:2px;stroke-linecap:butt;stroke-linejoin:miter;stroke-opacity:1\"/>\n",
       "<path class=\"bond-2\" d=\"M 81.1484,108.008 L 117.632,129.029\" style=\"fill:none;fill-rule:evenodd;stroke:#000000;stroke-width:2px;stroke-linecap:butt;stroke-linejoin:miter;stroke-opacity:1\"/>\n",
       "<path class=\"bond-3\" d=\"M 117.632,129.029 L 154.082,107.949\" style=\"fill:none;fill-rule:evenodd;stroke:#000000;stroke-width:2px;stroke-linecap:butt;stroke-linejoin:miter;stroke-opacity:1\"/>\n",
       "<path class=\"bond-4\" d=\"M 154.082,107.949 L 154.049,65.8397\" style=\"fill:none;fill-rule:evenodd;stroke:#000000;stroke-width:2px;stroke-linecap:butt;stroke-linejoin:miter;stroke-opacity:1\"/>\n",
       "<path class=\"bond-4\" d=\"M 161.657,101.627 L 161.633,72.1501\" style=\"fill:none;fill-rule:evenodd;stroke:#000000;stroke-width:2px;stroke-linecap:butt;stroke-linejoin:miter;stroke-opacity:1\"/>\n",
       "<path class=\"bond-18\" d=\"M 154.082,107.949 L 190.566,128.97\" style=\"fill:none;fill-rule:evenodd;stroke:#000000;stroke-width:2px;stroke-linecap:butt;stroke-linejoin:miter;stroke-opacity:1\"/>\n",
       "<path class=\"bond-5\" d=\"M 154.049,65.8397 L 190.499,44.7512\" style=\"fill:none;fill-rule:evenodd;stroke:#000000;stroke-width:2px;stroke-linecap:butt;stroke-linejoin:miter;stroke-opacity:1\"/>\n",
       "<path class=\"bond-6\" d=\"M 190.499,44.7512 L 226.982,65.7808\" style=\"fill:none;fill-rule:evenodd;stroke:#000000;stroke-width:2px;stroke-linecap:butt;stroke-linejoin:miter;stroke-opacity:1\"/>\n",
       "<path class=\"bond-6\" d=\"M 192.186,54.4726 L 217.725,69.1933\" style=\"fill:none;fill-rule:evenodd;stroke:#000000;stroke-width:2px;stroke-linecap:butt;stroke-linejoin:miter;stroke-opacity:1\"/>\n",
       "<path class=\"bond-7\" d=\"M 226.982,65.7808 L 227.016,107.89\" style=\"fill:none;fill-rule:evenodd;stroke:#000000;stroke-width:2px;stroke-linecap:butt;stroke-linejoin:miter;stroke-opacity:1\"/>\n",
       "<path class=\"bond-8\" d=\"M 227.016,107.89 L 190.566,128.97\" style=\"fill:none;fill-rule:evenodd;stroke:#000000;stroke-width:2px;stroke-linecap:butt;stroke-linejoin:miter;stroke-opacity:1\"/>\n",
       "<path class=\"bond-8\" d=\"M 217.754,104.491 L 192.239,119.247\" style=\"fill:none;fill-rule:evenodd;stroke:#000000;stroke-width:2px;stroke-linecap:butt;stroke-linejoin:miter;stroke-opacity:1\"/>\n",
       "<path class=\"bond-9\" d=\"M 190.566,128.97 L 190.579,144.762\" style=\"fill:none;fill-rule:evenodd;stroke:#000000;stroke-width:2px;stroke-linecap:butt;stroke-linejoin:miter;stroke-opacity:1\"/>\n",
       "<path class=\"bond-9\" d=\"M 190.579,144.762 L 190.591,160.553\" style=\"fill:none;fill-rule:evenodd;stroke:#0000FF;stroke-width:2px;stroke-linecap:butt;stroke-linejoin:miter;stroke-opacity:1\"/>\n",
       "<path class=\"bond-10\" d=\"M 199.724,176.34 L 213.404,184.225\" style=\"fill:none;fill-rule:evenodd;stroke:#0000FF;stroke-width:2px;stroke-linecap:butt;stroke-linejoin:miter;stroke-opacity:1\"/>\n",
       "<path class=\"bond-10\" d=\"M 213.404,184.225 L 227.083,192.11\" style=\"fill:none;fill-rule:evenodd;stroke:#000000;stroke-width:2px;stroke-linecap:butt;stroke-linejoin:miter;stroke-opacity:1\"/>\n",
       "<path class=\"bond-11\" d=\"M 227.083,192.11 L 227.117,234.219\" style=\"fill:none;fill-rule:evenodd;stroke:#000000;stroke-width:2px;stroke-linecap:butt;stroke-linejoin:miter;stroke-opacity:1\"/>\n",
       "<path class=\"bond-11\" d=\"M 234.668,198.42 L 234.692,227.897\" style=\"fill:none;fill-rule:evenodd;stroke:#000000;stroke-width:2px;stroke-linecap:butt;stroke-linejoin:miter;stroke-opacity:1\"/>\n",
       "<path class=\"bond-19\" d=\"M 227.083,192.11 L 263.534,171.021\" style=\"fill:none;fill-rule:evenodd;stroke:#000000;stroke-width:2px;stroke-linecap:butt;stroke-linejoin:miter;stroke-opacity:1\"/>\n",
       "<path class=\"bond-12\" d=\"M 227.117,234.219 L 214.857,241.309\" style=\"fill:none;fill-rule:evenodd;stroke:#000000;stroke-width:2px;stroke-linecap:butt;stroke-linejoin:miter;stroke-opacity:1\"/>\n",
       "<path class=\"bond-12\" d=\"M 214.857,241.309 L 202.597,248.4\" style=\"fill:none;fill-rule:evenodd;stroke:#00CC00;stroke-width:2px;stroke-linecap:butt;stroke-linejoin:miter;stroke-opacity:1\"/>\n",
       "<path class=\"bond-13\" d=\"M 227.117,234.219 L 263.601,255.249\" style=\"fill:none;fill-rule:evenodd;stroke:#000000;stroke-width:2px;stroke-linecap:butt;stroke-linejoin:miter;stroke-opacity:1\"/>\n",
       "<path class=\"bond-14\" d=\"M 263.601,255.249 L 300.051,234.16\" style=\"fill:none;fill-rule:evenodd;stroke:#000000;stroke-width:2px;stroke-linecap:butt;stroke-linejoin:miter;stroke-opacity:1\"/>\n",
       "<path class=\"bond-14\" d=\"M 265.273,245.525 L 290.788,230.763\" style=\"fill:none;fill-rule:evenodd;stroke:#000000;stroke-width:2px;stroke-linecap:butt;stroke-linejoin:miter;stroke-opacity:1\"/>\n",
       "<path class=\"bond-15\" d=\"M 300.051,234.16 L 300.017,192.051\" style=\"fill:none;fill-rule:evenodd;stroke:#000000;stroke-width:2px;stroke-linecap:butt;stroke-linejoin:miter;stroke-opacity:1\"/>\n",
       "<path class=\"bond-16\" d=\"M 300.017,192.051 L 263.534,171.021\" style=\"fill:none;fill-rule:evenodd;stroke:#000000;stroke-width:2px;stroke-linecap:butt;stroke-linejoin:miter;stroke-opacity:1\"/>\n",
       "<path class=\"bond-16\" d=\"M 290.76,195.463 L 265.221,180.742\" style=\"fill:none;fill-rule:evenodd;stroke:#000000;stroke-width:2px;stroke-linecap:butt;stroke-linejoin:miter;stroke-opacity:1\"/>\n",
       "<path class=\"bond-17\" d=\"M 263.534,171.021 L 263.521,155.23\" style=\"fill:none;fill-rule:evenodd;stroke:#000000;stroke-width:2px;stroke-linecap:butt;stroke-linejoin:miter;stroke-opacity:1\"/>\n",
       "<path class=\"bond-17\" d=\"M 263.521,155.23 L 263.508,139.439\" style=\"fill:none;fill-rule:evenodd;stroke:#00CC00;stroke-width:2px;stroke-linecap:butt;stroke-linejoin:miter;stroke-opacity:1\"/>\n",
       "<text dominant-baseline=\"central\" text-anchor=\"start\" x=\"73.3879\" y=\"69.0569\" style=\"font-size:21px;font-style:normal;font-weight:normal;fill-opacity:1;stroke:none;font-family:sans-serif;fill:#FF0000\"><tspan>O</tspan></text>\n",
       "<text dominant-baseline=\"central\" text-anchor=\"end\" x=\"52.4252\" y=\"132.247\" style=\"font-size:21px;font-style:normal;font-weight:normal;fill-opacity:1;stroke:none;font-family:sans-serif;fill:#FF0000\"><tspan>HO</tspan></text>\n",
       "<text dominant-baseline=\"central\" text-anchor=\"end\" x=\"197.619\" y=\"174.238\" style=\"font-size:21px;font-style:normal;font-weight:normal;fill-opacity:1;stroke:none;font-family:sans-serif;fill:#0000FF\"><tspan>HN</tspan></text>\n",
       "<text dominant-baseline=\"central\" text-anchor=\"end\" x=\"200.492\" y=\"258.458\" style=\"font-size:21px;font-style:normal;font-weight:normal;fill-opacity:1;stroke:none;font-family:sans-serif;fill:#00CC00\"><tspan>Cl</tspan></text>\n",
       "<text dominant-baseline=\"central\" text-anchor=\"start\" x=\"253.675\" y=\"132.07\" style=\"font-size:21px;font-style:normal;font-weight:normal;fill-opacity:1;stroke:none;font-family:sans-serif;fill:#00CC00\"><tspan>Cl</tspan></text>\n",
       "<text dominant-baseline=\"central\" text-anchor=\"middle\" x=\"62.1822\" y=\"89.3373\" style=\"font-size:15px;font-style:normal;font-weight:normal;fill-opacity:1;stroke:none;font-family:sans-serif;fill:#000000\"><tspan>0</tspan></text>\n",
       "<text dominant-baseline=\"central\" text-anchor=\"middle\" x=\"72.41\" y=\"137.321\" style=\"font-size:15px;font-style:normal;font-weight:normal;fill-opacity:1;stroke:none;font-family:sans-serif;fill:#000000\"><tspan>1</tspan></text>\n",
       "<text dominant-baseline=\"central\" text-anchor=\"middle\" x=\"89.9301\" y=\"137.306\" style=\"font-size:15px;font-style:normal;font-weight:normal;fill-opacity:1;stroke:none;font-family:sans-serif;fill:#000000\"><tspan>2</tspan></text>\n",
       "<text dominant-baseline=\"central\" text-anchor=\"middle\" x=\"145.344\" y=\"137.262\" style=\"font-size:15px;font-style:normal;font-weight:normal;fill-opacity:1;stroke:none;font-family:sans-serif;fill:#000000\"><tspan>3</tspan></text>\n",
       "<text dominant-baseline=\"central\" text-anchor=\"middle\" x=\"141.433\" y=\"89.2733\" style=\"font-size:15px;font-style:normal;font-weight:normal;fill-opacity:1;stroke:none;font-family:sans-serif;fill:#000000\"><tspan>4</tspan></text>\n",
       "<text dominant-baseline=\"central\" text-anchor=\"middle\" x=\"181.763\" y=\"74.0662\" style=\"font-size:15px;font-style:normal;font-weight:normal;fill-opacity:1;stroke:none;font-family:sans-serif;fill:#000000\"><tspan>5</tspan></text>\n",
       "<text dominant-baseline=\"central\" text-anchor=\"middle\" x=\"218.204\" y=\"41.2174\" style=\"font-size:15px;font-style:normal;font-weight:normal;fill-opacity:1;stroke:none;font-family:sans-serif;fill:#000000\"><tspan>6</tspan></text>\n",
       "<text dominant-baseline=\"central\" text-anchor=\"middle\" x=\"214.366\" y=\"89.2143\" style=\"font-size:15px;font-style:normal;font-weight:normal;fill-opacity:1;stroke:none;font-family:sans-serif;fill:#000000\"><tspan>7</tspan></text>\n",
       "<text dominant-baseline=\"central\" text-anchor=\"middle\" x=\"218.278\" y=\"137.203\" style=\"font-size:15px;font-style:normal;font-weight:normal;fill-opacity:1;stroke:none;font-family:sans-serif;fill:#000000\"><tspan>8</tspan></text>\n",
       "<text dominant-baseline=\"central\" text-anchor=\"middle\" x=\"177.944\" y=\"145.245\" style=\"font-size:15px;font-style:normal;font-weight:normal;fill-opacity:1;stroke:none;font-family:sans-serif;fill:#000000\"><tspan>9</tspan></text>\n",
       "<text dominant-baseline=\"central\" text-anchor=\"middle\" x=\"199.379\" y=\"200.381\" style=\"font-size:15px;font-style:normal;font-weight:normal;fill-opacity:1;stroke:none;font-family:sans-serif;fill:#000000\"><tspan>10</tspan></text>\n",
       "<text dominant-baseline=\"central\" text-anchor=\"middle\" x=\"252.366\" y=\"215.513\" style=\"font-size:15px;font-style:normal;font-weight:normal;fill-opacity:1;stroke:none;font-family:sans-serif;fill:#000000\"><tspan>11</tspan></text>\n",
       "<text dominant-baseline=\"central\" text-anchor=\"middle\" x=\"199.405\" y=\"230.724\" style=\"font-size:15px;font-style:normal;font-weight:normal;fill-opacity:1;stroke:none;font-family:sans-serif;fill:#000000\"><tspan>12</tspan></text>\n",
       "<text dominant-baseline=\"central\" text-anchor=\"middle\" x=\"235.896\" y=\"263.52\" style=\"font-size:15px;font-style:normal;font-weight:normal;fill-opacity:1;stroke:none;font-family:sans-serif;fill:#000000\"><tspan>13</tspan></text>\n",
       "<text dominant-baseline=\"central\" text-anchor=\"middle\" x=\"291.316\" y=\"263.475\" style=\"font-size:15px;font-style:normal;font-weight:normal;fill-opacity:1;stroke:none;font-family:sans-serif;fill:#000000\"><tspan>14</tspan></text>\n",
       "<text dominant-baseline=\"central\" text-anchor=\"middle\" x=\"318.984\" y=\"215.459\" style=\"font-size:15px;font-style:normal;font-weight:normal;fill-opacity:1;stroke:none;font-family:sans-serif;fill:#000000\"><tspan>15</tspan></text>\n",
       "<text dominant-baseline=\"central\" text-anchor=\"middle\" x=\"291.239\" y=\"167.487\" style=\"font-size:15px;font-style:normal;font-weight:normal;fill-opacity:1;stroke:none;font-family:sans-serif;fill:#000000\"><tspan>16</tspan></text>\n",
       "<text dominant-baseline=\"central\" text-anchor=\"middle\" x=\"244.573\" y=\"159.509\" style=\"font-size:15px;font-style:normal;font-weight:normal;fill-opacity:1;stroke:none;font-family:sans-serif;fill:#000000\"><tspan>17</tspan></text>\n",
       "<text dominant-baseline=\"central\" text-anchor=\"middle\" x=\"181.784\" y=\"104.41\" style=\"font-size:15px;font-style:normal;font-weight:normal;fill-opacity:1;stroke:none;font-family:sans-serif;fill:#000000\"><tspan>18</tspan></text>\n",
       "<text dominant-baseline=\"central\" text-anchor=\"middle\" x=\"242.145\" y=\"178.467\" style=\"font-size:15px;font-style:normal;font-weight:normal;fill-opacity:1;stroke:none;font-family:sans-serif;fill:#000000\"><tspan>19</tspan></text>\n",
       "</svg>"
      ],
      "text/plain": [
       "<IPython.core.display.SVG object>"
      ]
     },
     "execution_count": 20,
     "metadata": {},
     "output_type": "execute_result"
    }
   ],
   "source": [
    "d2d = rdMolDraw2D.MolDraw2DSVG(350,300)\n",
    "d2d.drawOptions().addBondIndices=True\n",
    "d2d.DrawMolecule(diclofenac)\n",
    "d2d.FinishDrawing()\n",
    "SVG(d2d.GetDrawingText())"
   ]
  },
  {
   "cell_type": "markdown",
   "metadata": {},
   "source": [
    "#####  Notes et annotations"
   ]
  },
  {
   "cell_type": "code",
   "execution_count": 21,
   "metadata": {},
   "outputs": [
    {
     "data": {
      "image/svg+xml": [
       "<svg xmlns=\"http://www.w3.org/2000/svg\" xmlns:rdkit=\"http://www.rdkit.org/xml\" xmlns:xlink=\"http://www.w3.org/1999/xlink\" version=\"1.1\" baseProfile=\"full\" xml:space=\"preserve\" width=\"350px\" height=\"300px\" viewBox=\"0 0 350 300\">\n",
       "<!-- END OF HEADER -->\n",
       "<rect style=\"opacity:1.0;fill:#FFFFFF;stroke:none\" width=\"350\" height=\"300\" x=\"0\" y=\"0\"> </rect>\n",
       "<ellipse cx=\"46.6815\" cy=\"121.604\" rx=\"29.0559\" ry=\"16.1357\" style=\"fill:#CCCCCC;fill-rule:evenodd;stroke:#CCCCCC;stroke-width:2px;stroke-linecap:butt;stroke-linejoin:miter;stroke-opacity:1\"/>\n",
       "<path class=\"bond-0\" d=\"M 92.7078,64.5311 L 92.7215,81.6456\" style=\"fill:none;fill-rule:evenodd;stroke:#FF0000;stroke-width:2px;stroke-linecap:butt;stroke-linejoin:miter;stroke-opacity:1\"/>\n",
       "<path class=\"bond-0\" d=\"M 92.7215,81.6456 L 92.7352,98.7601\" style=\"fill:none;fill-rule:evenodd;stroke:#000000;stroke-width:2px;stroke-linecap:butt;stroke-linejoin:miter;stroke-opacity:1\"/>\n",
       "<path class=\"bond-0\" d=\"M 100.923,64.5245 L 100.936,81.6391\" style=\"fill:none;fill-rule:evenodd;stroke:#FF0000;stroke-width:2px;stroke-linecap:butt;stroke-linejoin:miter;stroke-opacity:1\"/>\n",
       "<path class=\"bond-0\" d=\"M 100.936,81.6391 L 100.95,98.7536\" style=\"fill:none;fill-rule:evenodd;stroke:#000000;stroke-width:2px;stroke-linecap:butt;stroke-linejoin:miter;stroke-opacity:1\"/>\n",
       "<path class=\"bond-1\" d=\"M 96.8427,98.7569 L 82.0349,107.321\" style=\"fill:none;fill-rule:evenodd;stroke:#000000;stroke-width:2px;stroke-linecap:butt;stroke-linejoin:miter;stroke-opacity:1\"/>\n",
       "<path class=\"bond-1\" d=\"M 82.0349,107.321 L 67.2271,115.884\" style=\"fill:none;fill-rule:evenodd;stroke:#FF0000;stroke-width:2px;stroke-linecap:butt;stroke-linejoin:miter;stroke-opacity:1\"/>\n",
       "<path class=\"bond-2\" d=\"M 96.8427,98.7569 L 136.384,121.54\" style=\"fill:none;fill-rule:evenodd;stroke:#000000;stroke-width:2px;stroke-linecap:butt;stroke-linejoin:miter;stroke-opacity:1\"/>\n",
       "<path class=\"bond-3\" d=\"M 136.384,121.54 L 175.889,98.693\" style=\"fill:none;fill-rule:evenodd;stroke:#000000;stroke-width:2px;stroke-linecap:butt;stroke-linejoin:miter;stroke-opacity:1\"/>\n",
       "<path class=\"bond-4\" d=\"M 175.889,98.693 L 175.852,53.0543\" style=\"fill:none;fill-rule:evenodd;stroke:#000000;stroke-width:2px;stroke-linecap:butt;stroke-linejoin:miter;stroke-opacity:1\"/>\n",
       "<path class=\"bond-4\" d=\"M 184.098,91.8406 L 184.073,59.8935\" style=\"fill:none;fill-rule:evenodd;stroke:#000000;stroke-width:2px;stroke-linecap:butt;stroke-linejoin:miter;stroke-opacity:1\"/>\n",
       "<path class=\"bond-18\" d=\"M 175.889,98.693 L 215.43,121.476\" style=\"fill:none;fill-rule:evenodd;stroke:#000000;stroke-width:2px;stroke-linecap:butt;stroke-linejoin:miter;stroke-opacity:1\"/>\n",
       "<path class=\"bond-5\" d=\"M 175.852,53.0543 L 215.357,30.1984\" style=\"fill:none;fill-rule:evenodd;stroke:#000000;stroke-width:2px;stroke-linecap:butt;stroke-linejoin:miter;stroke-opacity:1\"/>\n",
       "<path class=\"bond-6\" d=\"M 215.357,30.1984 L 254.899,52.9904\" style=\"fill:none;fill-rule:evenodd;stroke:#000000;stroke-width:2px;stroke-linecap:butt;stroke-linejoin:miter;stroke-opacity:1\"/>\n",
       "<path class=\"bond-6\" d=\"M 217.186,40.7345 L 244.865,56.6888\" style=\"fill:none;fill-rule:evenodd;stroke:#000000;stroke-width:2px;stroke-linecap:butt;stroke-linejoin:miter;stroke-opacity:1\"/>\n",
       "<path class=\"bond-7\" d=\"M 254.899,52.9904 L 254.935,98.6291\" style=\"fill:none;fill-rule:evenodd;stroke:#000000;stroke-width:2px;stroke-linecap:butt;stroke-linejoin:miter;stroke-opacity:1\"/>\n",
       "<path class=\"bond-8\" d=\"M 254.935,98.6291 L 215.43,121.476\" style=\"fill:none;fill-rule:evenodd;stroke:#000000;stroke-width:2px;stroke-linecap:butt;stroke-linejoin:miter;stroke-opacity:1\"/>\n",
       "<path class=\"bond-8\" d=\"M 244.897,94.9447 L 217.243,110.937\" style=\"fill:none;fill-rule:evenodd;stroke:#000000;stroke-width:2px;stroke-linecap:butt;stroke-linejoin:miter;stroke-opacity:1\"/>\n",
       "<path class=\"bond-9\" d=\"M 215.43,121.476 L 215.444,138.59\" style=\"fill:none;fill-rule:evenodd;stroke:#000000;stroke-width:2px;stroke-linecap:butt;stroke-linejoin:miter;stroke-opacity:1\"/>\n",
       "<path class=\"bond-9\" d=\"M 215.444,138.59 L 215.458,155.705\" style=\"fill:none;fill-rule:evenodd;stroke:#0000FF;stroke-width:2px;stroke-linecap:butt;stroke-linejoin:miter;stroke-opacity:1\"/>\n",
       "<path class=\"bond-10\" d=\"M 225.356,172.815 L 240.182,181.361\" style=\"fill:none;fill-rule:evenodd;stroke:#0000FF;stroke-width:2px;stroke-linecap:butt;stroke-linejoin:miter;stroke-opacity:1\"/>\n",
       "<path class=\"bond-10\" d=\"M 240.182,181.361 L 255.008,189.906\" style=\"fill:none;fill-rule:evenodd;stroke:#000000;stroke-width:2px;stroke-linecap:butt;stroke-linejoin:miter;stroke-opacity:1\"/>\n",
       "<path class=\"bond-11\" d=\"M 255.008,189.906 L 255.045,235.545\" style=\"fill:none;fill-rule:evenodd;stroke:#000000;stroke-width:2px;stroke-linecap:butt;stroke-linejoin:miter;stroke-opacity:1\"/>\n",
       "<path class=\"bond-11\" d=\"M 263.229,196.746 L 263.254,228.693\" style=\"fill:none;fill-rule:evenodd;stroke:#000000;stroke-width:2px;stroke-linecap:butt;stroke-linejoin:miter;stroke-opacity:1\"/>\n",
       "<path class=\"bond-19\" d=\"M 255.008,189.906 L 294.513,167.051\" style=\"fill:none;fill-rule:evenodd;stroke:#000000;stroke-width:2px;stroke-linecap:butt;stroke-linejoin:miter;stroke-opacity:1\"/>\n",
       "<path class=\"bond-12\" d=\"M 255.045,235.545 L 241.757,243.23\" style=\"fill:none;fill-rule:evenodd;stroke:#000000;stroke-width:2px;stroke-linecap:butt;stroke-linejoin:miter;stroke-opacity:1\"/>\n",
       "<path class=\"bond-12\" d=\"M 241.757,243.23 L 228.47,250.914\" style=\"fill:none;fill-rule:evenodd;stroke:#00CC00;stroke-width:2px;stroke-linecap:butt;stroke-linejoin:miter;stroke-opacity:1\"/>\n",
       "<path class=\"bond-13\" d=\"M 255.045,235.545 L 294.586,258.337\" style=\"fill:none;fill-rule:evenodd;stroke:#000000;stroke-width:2px;stroke-linecap:butt;stroke-linejoin:miter;stroke-opacity:1\"/>\n",
       "<path class=\"bond-14\" d=\"M 294.586,258.337 L 334.091,235.481\" style=\"fill:none;fill-rule:evenodd;stroke:#000000;stroke-width:2px;stroke-linecap:butt;stroke-linejoin:miter;stroke-opacity:1\"/>\n",
       "<path class=\"bond-14\" d=\"M 296.398,247.798 L 324.051,231.799\" style=\"fill:none;fill-rule:evenodd;stroke:#000000;stroke-width:2px;stroke-linecap:butt;stroke-linejoin:miter;stroke-opacity:1\"/>\n",
       "<path class=\"bond-15\" d=\"M 334.091,235.481 L 334.054,189.843\" style=\"fill:none;fill-rule:evenodd;stroke:#000000;stroke-width:2px;stroke-linecap:butt;stroke-linejoin:miter;stroke-opacity:1\"/>\n",
       "<path class=\"bond-16\" d=\"M 334.054,189.843 L 294.513,167.051\" style=\"fill:none;fill-rule:evenodd;stroke:#000000;stroke-width:2px;stroke-linecap:butt;stroke-linejoin:miter;stroke-opacity:1\"/>\n",
       "<path class=\"bond-16\" d=\"M 324.021,193.541 L 296.342,177.587\" style=\"fill:none;fill-rule:evenodd;stroke:#000000;stroke-width:2px;stroke-linecap:butt;stroke-linejoin:miter;stroke-opacity:1\"/>\n",
       "<path class=\"bond-17\" d=\"M 294.513,167.051 L 294.499,149.936\" style=\"fill:none;fill-rule:evenodd;stroke:#000000;stroke-width:2px;stroke-linecap:butt;stroke-linejoin:miter;stroke-opacity:1\"/>\n",
       "<path class=\"bond-17\" d=\"M 294.499,149.936 L 294.486,132.822\" style=\"fill:none;fill-rule:evenodd;stroke:#00CC00;stroke-width:2px;stroke-linecap:butt;stroke-linejoin:miter;stroke-opacity:1\"/>\n",
       "<text dominant-baseline=\"central\" text-anchor=\"start\" x=\"88.4318\" y=\"56.5411\" style=\"font-size:22px;font-style:normal;font-weight:normal;fill-opacity:1;stroke:none;font-family:sans-serif;fill:#FF0000\"><tspan>O</tspan></text>\n",
       "<text dominant-baseline=\"central\" text-anchor=\"end\" x=\"65.7122\" y=\"125.026\" style=\"font-size:22px;font-style:normal;font-weight:normal;fill-opacity:1;stroke:none;font-family:sans-serif;fill:#FF0000\"><tspan>HO</tspan></text>\n",
       "<text dominant-baseline=\"central\" text-anchor=\"end\" x=\"223.074\" y=\"170.537\" style=\"font-size:22px;font-style:normal;font-weight:normal;fill-opacity:1;stroke:none;font-family:sans-serif;fill:#0000FF\"><tspan>HN</tspan></text>\n",
       "<text dominant-baseline=\"central\" text-anchor=\"end\" x=\"226.188\" y=\"261.815\" style=\"font-size:22px;font-style:normal;font-weight:normal;fill-opacity:1;stroke:none;font-family:sans-serif;fill:#00CC00\"><tspan>Cl</tspan></text>\n",
       "<text dominant-baseline=\"central\" text-anchor=\"start\" x=\"283.828\" y=\"124.835\" style=\"font-size:22px;font-style:normal;font-weight:normal;fill-opacity:1;stroke:none;font-family:sans-serif;fill:#00CC00\"><tspan>Cl</tspan></text>\n",
       "<text dominant-baseline=\"central\" text-anchor=\"middle\" x=\"57.3545\" y=\"146.99\" style=\"font-size:17px;font-style:normal;font-weight:normal;fill-opacity:1;stroke:none;font-family:sans-serif;fill:#000000\"><tspan>pKa=4.0</tspan></text>\n",
       "</svg>"
      ],
      "text/plain": [
       "<IPython.core.display.SVG object>"
      ]
     },
     "execution_count": 21,
     "metadata": {},
     "output_type": "execute_result"
    }
   ],
   "source": [
    "cp = Chem.Mol(diclofenac)\n",
    "cp.GetAtomWithIdx(2).SetProp(\"atomNote\",\"pKa=4.0\")\n",
    "d2d = rdMolDraw2D.MolDraw2DSVG(350,300)\n",
    "d2d.drawOptions().setHighlightColour((0.8,0.8,0.8))\n",
    "d2d.DrawMolecule(cp,highlightAtoms=[2])\n",
    "d2d.FinishDrawing()\n",
    "SVG(d2d.GetDrawingText())"
   ]
  },
  {
   "cell_type": "code",
   "execution_count": 22,
   "metadata": {},
   "outputs": [
    {
     "data": {
      "image/svg+xml": [
       "<svg xmlns=\"http://www.w3.org/2000/svg\" xmlns:rdkit=\"http://www.rdkit.org/xml\" xmlns:xlink=\"http://www.w3.org/1999/xlink\" version=\"1.1\" baseProfile=\"full\" xml:space=\"preserve\" width=\"350px\" height=\"300px\" viewBox=\"0 0 350 300\">\n",
       "<!-- END OF HEADER -->\n",
       "<rect style=\"opacity:1.0;fill:#FFFFFF;stroke:none\" width=\"350\" height=\"300\" x=\"0\" y=\"0\"> </rect>\n",
       "<path d=\"M 88.9263,49.9009 L 88.964,97.0552\" style=\"fill:none;fill-rule:evenodd;stroke:#CCCCCC;stroke-width:15px;stroke-linecap:butt;stroke-linejoin:miter;stroke-opacity:1\"/>\n",
       "<path d=\"M 88.964,97.0552 L 48.1472,120.661\" style=\"fill:none;fill-rule:evenodd;stroke:#CCCCCC;stroke-width:15px;stroke-linecap:butt;stroke-linejoin:miter;stroke-opacity:1\"/>\n",
       "<path class=\"bond-0\" d=\"M 84.6918,61.6928 L 84.706,79.3757\" style=\"fill:none;fill-rule:evenodd;stroke:#FF0000;stroke-width:2px;stroke-linecap:butt;stroke-linejoin:miter;stroke-opacity:1\"/>\n",
       "<path class=\"bond-0\" d=\"M 84.706,79.3757 L 84.7201,97.0585\" style=\"fill:none;fill-rule:evenodd;stroke:#000000;stroke-width:2px;stroke-linecap:butt;stroke-linejoin:miter;stroke-opacity:1\"/>\n",
       "<path class=\"bond-0\" d=\"M 93.1796,61.686 L 93.1937,79.3689\" style=\"fill:none;fill-rule:evenodd;stroke:#FF0000;stroke-width:2px;stroke-linecap:butt;stroke-linejoin:miter;stroke-opacity:1\"/>\n",
       "<path class=\"bond-0\" d=\"M 93.1937,79.3689 L 93.2079,97.0518\" style=\"fill:none;fill-rule:evenodd;stroke:#000000;stroke-width:2px;stroke-linecap:butt;stroke-linejoin:miter;stroke-opacity:1\"/>\n",
       "<path class=\"bond-1\" d=\"M 88.964,97.0552 L 73.6645,105.903\" style=\"fill:none;fill-rule:evenodd;stroke:#000000;stroke-width:2px;stroke-linecap:butt;stroke-linejoin:miter;stroke-opacity:1\"/>\n",
       "<path class=\"bond-1\" d=\"M 73.6645,105.903 L 58.3649,114.751\" style=\"fill:none;fill-rule:evenodd;stroke:#FF0000;stroke-width:2px;stroke-linecap:butt;stroke-linejoin:miter;stroke-opacity:1\"/>\n",
       "<path class=\"bond-2\" d=\"M 88.964,97.0552 L 129.818,120.595\" style=\"fill:none;fill-rule:evenodd;stroke:#000000;stroke-width:2px;stroke-linecap:butt;stroke-linejoin:miter;stroke-opacity:1\"/>\n",
       "<path class=\"bond-3\" d=\"M 129.818,120.595 L 170.635,96.9891\" style=\"fill:none;fill-rule:evenodd;stroke:#000000;stroke-width:2px;stroke-linecap:butt;stroke-linejoin:miter;stroke-opacity:1\"/>\n",
       "<path class=\"bond-4\" d=\"M 170.635,96.9891 L 170.598,49.8348\" style=\"fill:none;fill-rule:evenodd;stroke:#000000;stroke-width:2px;stroke-linecap:butt;stroke-linejoin:miter;stroke-opacity:1\"/>\n",
       "<path class=\"bond-4\" d=\"M 179.117,89.9092 L 179.091,56.9012\" style=\"fill:none;fill-rule:evenodd;stroke:#000000;stroke-width:2px;stroke-linecap:butt;stroke-linejoin:miter;stroke-opacity:1\"/>\n",
       "<path class=\"bond-18\" d=\"M 170.635,96.9891 L 211.49,120.529\" style=\"fill:none;fill-rule:evenodd;stroke:#000000;stroke-width:2px;stroke-linecap:butt;stroke-linejoin:miter;stroke-opacity:1\"/>\n",
       "<path class=\"bond-5\" d=\"M 170.598,49.8348 L 211.414,26.22\" style=\"fill:none;fill-rule:evenodd;stroke:#000000;stroke-width:2px;stroke-linecap:butt;stroke-linejoin:miter;stroke-opacity:1\"/>\n",
       "<path class=\"bond-6\" d=\"M 211.414,26.22 L 252.269,49.7688\" style=\"fill:none;fill-rule:evenodd;stroke:#000000;stroke-width:2px;stroke-linecap:butt;stroke-linejoin:miter;stroke-opacity:1\"/>\n",
       "<path class=\"bond-6\" d=\"M 213.304,37.1059 L 241.902,53.5901\" style=\"fill:none;fill-rule:evenodd;stroke:#000000;stroke-width:2px;stroke-linecap:butt;stroke-linejoin:miter;stroke-opacity:1\"/>\n",
       "<path class=\"bond-7\" d=\"M 252.269,49.7688 L 252.306,96.9231\" style=\"fill:none;fill-rule:evenodd;stroke:#000000;stroke-width:2px;stroke-linecap:butt;stroke-linejoin:miter;stroke-opacity:1\"/>\n",
       "<path class=\"bond-8\" d=\"M 252.306,96.9231 L 211.49,120.529\" style=\"fill:none;fill-rule:evenodd;stroke:#000000;stroke-width:2px;stroke-linecap:butt;stroke-linejoin:miter;stroke-opacity:1\"/>\n",
       "<path class=\"bond-8\" d=\"M 241.935,93.1164 L 213.363,109.64\" style=\"fill:none;fill-rule:evenodd;stroke:#000000;stroke-width:2px;stroke-linecap:butt;stroke-linejoin:miter;stroke-opacity:1\"/>\n",
       "<path class=\"bond-9\" d=\"M 211.49,120.529 L 211.504,138.211\" style=\"fill:none;fill-rule:evenodd;stroke:#000000;stroke-width:2px;stroke-linecap:butt;stroke-linejoin:miter;stroke-opacity:1\"/>\n",
       "<path class=\"bond-9\" d=\"M 211.504,138.211 L 211.518,155.894\" style=\"fill:none;fill-rule:evenodd;stroke:#0000FF;stroke-width:2px;stroke-linecap:butt;stroke-linejoin:miter;stroke-opacity:1\"/>\n",
       "<path class=\"bond-10\" d=\"M 221.745,173.572 L 237.064,182.402\" style=\"fill:none;fill-rule:evenodd;stroke:#0000FF;stroke-width:2px;stroke-linecap:butt;stroke-linejoin:miter;stroke-opacity:1\"/>\n",
       "<path class=\"bond-10\" d=\"M 237.064,182.402 L 252.382,191.232\" style=\"fill:none;fill-rule:evenodd;stroke:#000000;stroke-width:2px;stroke-linecap:butt;stroke-linejoin:miter;stroke-opacity:1\"/>\n",
       "<path class=\"bond-11\" d=\"M 252.382,191.232 L 252.42,238.386\" style=\"fill:none;fill-rule:evenodd;stroke:#000000;stroke-width:2px;stroke-linecap:butt;stroke-linejoin:miter;stroke-opacity:1\"/>\n",
       "<path class=\"bond-11\" d=\"M 260.875,198.298 L 260.902,231.306\" style=\"fill:none;fill-rule:evenodd;stroke:#000000;stroke-width:2px;stroke-linecap:butt;stroke-linejoin:miter;stroke-opacity:1\"/>\n",
       "<path class=\"bond-19\" d=\"M 252.382,191.232 L 293.199,167.617\" style=\"fill:none;fill-rule:evenodd;stroke:#000000;stroke-width:2px;stroke-linecap:butt;stroke-linejoin:miter;stroke-opacity:1\"/>\n",
       "<path class=\"bond-12\" d=\"M 252.42,238.386 L 238.691,246.326\" style=\"fill:none;fill-rule:evenodd;stroke:#000000;stroke-width:2px;stroke-linecap:butt;stroke-linejoin:miter;stroke-opacity:1\"/>\n",
       "<path class=\"bond-12\" d=\"M 238.691,246.326 L 224.962,254.265\" style=\"fill:none;fill-rule:evenodd;stroke:#00CC00;stroke-width:2px;stroke-linecap:butt;stroke-linejoin:miter;stroke-opacity:1\"/>\n",
       "<path class=\"bond-13\" d=\"M 252.42,238.386 L 293.274,261.935\" style=\"fill:none;fill-rule:evenodd;stroke:#000000;stroke-width:2px;stroke-linecap:butt;stroke-linejoin:miter;stroke-opacity:1\"/>\n",
       "<path class=\"bond-14\" d=\"M 293.274,261.935 L 334.091,238.32\" style=\"fill:none;fill-rule:evenodd;stroke:#000000;stroke-width:2px;stroke-linecap:butt;stroke-linejoin:miter;stroke-opacity:1\"/>\n",
       "<path class=\"bond-14\" d=\"M 295.146,251.046 L 323.718,234.515\" style=\"fill:none;fill-rule:evenodd;stroke:#000000;stroke-width:2px;stroke-linecap:butt;stroke-linejoin:miter;stroke-opacity:1\"/>\n",
       "<path class=\"bond-15\" d=\"M 334.091,238.32 L 334.053,191.166\" style=\"fill:none;fill-rule:evenodd;stroke:#000000;stroke-width:2px;stroke-linecap:butt;stroke-linejoin:miter;stroke-opacity:1\"/>\n",
       "<path class=\"bond-16\" d=\"M 334.053,191.166 L 293.199,167.617\" style=\"fill:none;fill-rule:evenodd;stroke:#000000;stroke-width:2px;stroke-linecap:butt;stroke-linejoin:miter;stroke-opacity:1\"/>\n",
       "<path class=\"bond-16\" d=\"M 323.686,194.987 L 295.088,178.503\" style=\"fill:none;fill-rule:evenodd;stroke:#000000;stroke-width:2px;stroke-linecap:butt;stroke-linejoin:miter;stroke-opacity:1\"/>\n",
       "<path class=\"bond-17\" d=\"M 293.199,167.617 L 293.185,149.934\" style=\"fill:none;fill-rule:evenodd;stroke:#000000;stroke-width:2px;stroke-linecap:butt;stroke-linejoin:miter;stroke-opacity:1\"/>\n",
       "<path class=\"bond-17\" d=\"M 293.185,149.934 L 293.17,132.251\" style=\"fill:none;fill-rule:evenodd;stroke:#00CC00;stroke-width:2px;stroke-linecap:butt;stroke-linejoin:miter;stroke-opacity:1\"/>\n",
       "<text dominant-baseline=\"central\" text-anchor=\"start\" x=\"80.2738\" y=\"53.4374\" style=\"font-size:23px;font-style:normal;font-weight:normal;fill-opacity:1;stroke:none;font-family:sans-serif;fill:#FF0000\"><tspan>O</tspan></text>\n",
       "<text dominant-baseline=\"central\" text-anchor=\"end\" x=\"56.7997\" y=\"124.197\" style=\"font-size:23px;font-style:normal;font-weight:normal;fill-opacity:1;stroke:none;font-family:sans-serif;fill:#FF0000\"><tspan>HO</tspan></text>\n",
       "<text dominant-baseline=\"central\" text-anchor=\"end\" x=\"219.387\" y=\"171.219\" style=\"font-size:23px;font-style:normal;font-weight:normal;fill-opacity:1;stroke:none;font-family:sans-serif;fill:#0000FF\"><tspan>HN</tspan></text>\n",
       "<text dominant-baseline=\"central\" text-anchor=\"end\" x=\"222.605\" y=\"265.528\" style=\"font-size:23px;font-style:normal;font-weight:normal;fill-opacity:1;stroke:none;font-family:sans-serif;fill:#00CC00\"><tspan>Cl</tspan></text>\n",
       "<text dominant-baseline=\"central\" text-anchor=\"start\" x=\"282.159\" y=\"123.999\" style=\"font-size:23px;font-style:normal;font-weight:normal;fill-opacity:1;stroke:none;font-family:sans-serif;fill:#00CC00\"><tspan>Cl</tspan></text>\n",
       "<text dominant-baseline=\"central\" text-anchor=\"middle\" x=\"53.5855\" y=\"83.7034\" style=\"font-size:17px;font-style:normal;font-weight:normal;fill-opacity:1;stroke:none;font-family:sans-serif;fill:#000000\"><tspan>note</tspan></text>\n",
       "<text dominant-baseline=\"central\" text-anchor=\"middle\" x=\"76.0567\" y=\"148.026\" style=\"font-size:17px;font-style:normal;font-weight:normal;fill-opacity:1;stroke:none;font-family:sans-serif;fill:#000000\"><tspan>note 2</tspan></text>\n",
       "</svg>"
      ],
      "text/plain": [
       "<IPython.core.display.SVG object>"
      ]
     },
     "execution_count": 22,
     "metadata": {},
     "output_type": "execute_result"
    }
   ],
   "source": [
    "cp = Chem.Mol(diclofenac)\n",
    "cp.GetBondWithIdx(0).SetProp(\"bondNote\",\"note\")\n",
    "cp.GetBondWithIdx(1).SetProp(\"bondNote\",\"note 2\")\n",
    "d2d = rdMolDraw2D.MolDraw2DSVG(350,300)\n",
    "d2d.drawOptions().setHighlightColour((0.8,0.8,0.8))\n",
    "d2d.DrawMolecule(cp,highlightAtoms=[],highlightBonds=[0,1])\n",
    "d2d.FinishDrawing()\n",
    "SVG(d2d.GetDrawingText())"
   ]
  },
  {
   "cell_type": "markdown",
   "metadata": {},
   "source": [
    "##### Stéréochimie\n",
    "\n",
    "Deux énantiomères de thréonine"
   ]
  },
  {
   "cell_type": "code",
   "execution_count": 23,
   "metadata": {},
   "outputs": [
    {
     "data": {
      "image/svg+xml": [
       "<svg xmlns=\"http://www.w3.org/2000/svg\" xmlns:rdkit=\"http://www.rdkit.org/xml\" xmlns:xlink=\"http://www.w3.org/1999/xlink\" version=\"1.1\" baseProfile=\"full\" xml:space=\"preserve\" width=\"500px\" height=\"150px\" viewBox=\"0 0 500 150\">\n",
       "<!-- END OF HEADER -->\n",
       "<rect style=\"opacity:1.0;fill:#FFFFFF;stroke:none\" width=\"500\" height=\"150\" x=\"0\" y=\"0\"> </rect>\n",
       "<rect style=\"opacity:1.0;fill:#FFFFFF;stroke:none\" width=\"500\" height=\"150\" x=\"0\" y=\"0\"> </rect>\n",
       "<rect style=\"opacity:1.0;fill:#FFFFFF;stroke:none\" width=\"500\" height=\"150\" x=\"0\" y=\"0\"> </rect>\n",
       "<path class=\"bond-0\" d=\"M 92.7723,36.103 L 61.8947,11.6237 L 56.072,21.7592 Z\" style=\"fill:#000000;fill-rule:evenodd;fill-opacity=1;stroke:#000000;stroke-width:2px;stroke-linecap:butt;stroke-linejoin:miter;stroke-opacity:1;\"/>\n",
       "<path class=\"bond-1\" d=\"M 92.7723,36.103 L 105.075,28.9688\" style=\"fill:none;fill-rule:evenodd;stroke:#000000;stroke-width:2px;stroke-linecap:butt;stroke-linejoin:miter;stroke-opacity:1\"/>\n",
       "<path class=\"bond-1\" d=\"M 105.075,28.9688 L 117.378,21.8346\" style=\"fill:none;fill-rule:evenodd;stroke:#FF0000;stroke-width:2px;stroke-linecap:butt;stroke-linejoin:miter;stroke-opacity:1\"/>\n",
       "<path class=\"bond-2\" d=\"M 92.7723,36.103 L 92.8502,75.0662\" style=\"fill:none;fill-rule:evenodd;stroke:#000000;stroke-width:2px;stroke-linecap:butt;stroke-linejoin:miter;stroke-opacity:1\"/>\n",
       "<path class=\"bond-3\" d=\"M 92.8502,75.0662 L 80.3791,78.9226 L 83.3118,83.978 Z\" style=\"fill:#000000;fill-rule:evenodd;fill-opacity=1;stroke:#000000;stroke-width:2px;stroke-linecap:butt;stroke-linejoin:miter;stroke-opacity:1;\"/>\n",
       "<path class=\"bond-3\" d=\"M 80.3791,78.9226 L 73.7734,92.8897 L 67.9079,82.7789 Z\" style=\"fill:#0000FF;fill-rule:evenodd;fill-opacity=1;stroke:#0000FF;stroke-width:2px;stroke-linecap:butt;stroke-linejoin:miter;stroke-opacity:1;\"/>\n",
       "<path class=\"bond-3\" d=\"M 80.3791,78.9226 L 83.3118,83.978 L 73.7734,92.8897 Z\" style=\"fill:#0000FF;fill-rule:evenodd;fill-opacity=1;stroke:#0000FF;stroke-width:2px;stroke-linecap:butt;stroke-linejoin:miter;stroke-opacity:1;\"/>\n",
       "<path class=\"bond-4\" d=\"M 92.8502,75.0662 L 126.631,94.4777\" style=\"fill:none;fill-rule:evenodd;stroke:#000000;stroke-width:2px;stroke-linecap:butt;stroke-linejoin:miter;stroke-opacity:1\"/>\n",
       "<path class=\"bond-5\" d=\"M 126.631,94.4777 L 126.661,109.089\" style=\"fill:none;fill-rule:evenodd;stroke:#000000;stroke-width:2px;stroke-linecap:butt;stroke-linejoin:miter;stroke-opacity:1\"/>\n",
       "<path class=\"bond-5\" d=\"M 126.661,109.089 L 126.69,123.7\" style=\"fill:none;fill-rule:evenodd;stroke:#FF0000;stroke-width:2px;stroke-linecap:butt;stroke-linejoin:miter;stroke-opacity:1\"/>\n",
       "<path class=\"bond-6\" d=\"M 128.39,97.5113 L 140.693,90.3771\" style=\"fill:none;fill-rule:evenodd;stroke:#000000;stroke-width:2px;stroke-linecap:butt;stroke-linejoin:miter;stroke-opacity:1\"/>\n",
       "<path class=\"bond-6\" d=\"M 140.693,90.3771 L 152.996,83.2429\" style=\"fill:none;fill-rule:evenodd;stroke:#FF0000;stroke-width:2px;stroke-linecap:butt;stroke-linejoin:miter;stroke-opacity:1\"/>\n",
       "<path class=\"bond-6\" d=\"M 124.872,91.4442 L 137.175,84.31\" style=\"fill:none;fill-rule:evenodd;stroke:#000000;stroke-width:2px;stroke-linecap:butt;stroke-linejoin:miter;stroke-opacity:1\"/>\n",
       "<path class=\"bond-6\" d=\"M 137.175,84.31 L 149.478,77.1758\" style=\"fill:none;fill-rule:evenodd;stroke:#FF0000;stroke-width:2px;stroke-linecap:butt;stroke-linejoin:miter;stroke-opacity:1\"/>\n",
       "<text dominant-baseline=\"central\" text-anchor=\"start\" x=\"119.326\" y=\"19.4812\" style=\"font-size:19px;font-style:normal;font-weight:normal;fill-opacity:1;stroke:none;font-family:sans-serif;fill:#FF0000\"><tspan>OH</tspan></text>\n",
       "<text dominant-baseline=\"central\" text-anchor=\"end\" x=\"65.4469\" y=\"97.8325\" style=\"font-size:19px;font-style:normal;font-weight:normal;fill-opacity:1;stroke:none;font-family:sans-serif;fill:#0000FF\"><tspan>H</tspan><tspan style=\"baseline-shift:sub;font-size:14.25px;\">2</tspan><tspan>N</tspan></text>\n",
       "<text dominant-baseline=\"central\" text-anchor=\"start\" x=\"119.56\" y=\"136.363\" style=\"font-size:19px;font-style:normal;font-weight:normal;fill-opacity:1;stroke:none;font-family:sans-serif;fill:#FF0000\"><tspan>OH</tspan></text>\n",
       "<text dominant-baseline=\"central\" text-anchor=\"start\" x=\"153.185\" y=\"77.856\" style=\"font-size:19px;font-style:normal;font-weight:normal;fill-opacity:1;stroke:none;font-family:sans-serif;fill:#FF0000\"><tspan>O</tspan></text>\n",
       "<path class=\"bond-0\" d=\"M 282.48,27.9432 L 280.539,31.3217\" style=\"fill:none;fill-rule:evenodd;stroke:#000000;stroke-width:2px;stroke-linecap:butt;stroke-linejoin:miter;stroke-opacity:1\"/>\n",
       "<path class=\"bond-0\" d=\"M 272.187,19.7835 L 268.305,26.5405\" style=\"fill:none;fill-rule:evenodd;stroke:#000000;stroke-width:2px;stroke-linecap:butt;stroke-linejoin:miter;stroke-opacity:1\"/>\n",
       "<path class=\"bond-0\" d=\"M 261.895,11.6237 L 256.072,21.7592\" style=\"fill:none;fill-rule:evenodd;stroke:#000000;stroke-width:2px;stroke-linecap:butt;stroke-linejoin:miter;stroke-opacity:1\"/>\n",
       "<path class=\"bond-1\" d=\"M 292.772,36.103 L 305.075,28.9688\" style=\"fill:none;fill-rule:evenodd;stroke:#000000;stroke-width:2px;stroke-linecap:butt;stroke-linejoin:miter;stroke-opacity:1\"/>\n",
       "<path class=\"bond-1\" d=\"M 305.075,28.9688 L 317.378,21.8346\" style=\"fill:none;fill-rule:evenodd;stroke:#FF0000;stroke-width:2px;stroke-linecap:butt;stroke-linejoin:miter;stroke-opacity:1\"/>\n",
       "<path class=\"bond-2\" d=\"M 292.772,36.103 L 292.85,75.0662\" style=\"fill:none;fill-rule:evenodd;stroke:#000000;stroke-width:2px;stroke-linecap:butt;stroke-linejoin:miter;stroke-opacity:1\"/>\n",
       "<path class=\"bond-3\" d=\"M 284.536,77.6371 L 286.491,81.0074\" style=\"fill:none;fill-rule:evenodd;stroke:#000000;stroke-width:2px;stroke-linecap:butt;stroke-linejoin:miter;stroke-opacity:1\"/>\n",
       "<path class=\"bond-3\" d=\"M 276.222,80.208 L 280.132,86.9486\" style=\"fill:none;fill-rule:evenodd;stroke:#0000FF;stroke-width:2px;stroke-linecap:butt;stroke-linejoin:miter;stroke-opacity:1\"/>\n",
       "<path class=\"bond-3\" d=\"M 267.908,82.7789 L 273.773,92.8897\" style=\"fill:none;fill-rule:evenodd;stroke:#0000FF;stroke-width:2px;stroke-linecap:butt;stroke-linejoin:miter;stroke-opacity:1\"/>\n",
       "<path class=\"bond-4\" d=\"M 292.85,75.0662 L 326.631,94.4777\" style=\"fill:none;fill-rule:evenodd;stroke:#000000;stroke-width:2px;stroke-linecap:butt;stroke-linejoin:miter;stroke-opacity:1\"/>\n",
       "<path class=\"bond-5\" d=\"M 326.631,94.4777 L 326.661,109.089\" style=\"fill:none;fill-rule:evenodd;stroke:#000000;stroke-width:2px;stroke-linecap:butt;stroke-linejoin:miter;stroke-opacity:1\"/>\n",
       "<path class=\"bond-5\" d=\"M 326.661,109.089 L 326.69,123.7\" style=\"fill:none;fill-rule:evenodd;stroke:#FF0000;stroke-width:2px;stroke-linecap:butt;stroke-linejoin:miter;stroke-opacity:1\"/>\n",
       "<path class=\"bond-6\" d=\"M 328.39,97.5113 L 340.693,90.3771\" style=\"fill:none;fill-rule:evenodd;stroke:#000000;stroke-width:2px;stroke-linecap:butt;stroke-linejoin:miter;stroke-opacity:1\"/>\n",
       "<path class=\"bond-6\" d=\"M 340.693,90.3771 L 352.996,83.2429\" style=\"fill:none;fill-rule:evenodd;stroke:#FF0000;stroke-width:2px;stroke-linecap:butt;stroke-linejoin:miter;stroke-opacity:1\"/>\n",
       "<path class=\"bond-6\" d=\"M 324.872,91.4442 L 337.175,84.31\" style=\"fill:none;fill-rule:evenodd;stroke:#000000;stroke-width:2px;stroke-linecap:butt;stroke-linejoin:miter;stroke-opacity:1\"/>\n",
       "<path class=\"bond-6\" d=\"M 337.175,84.31 L 349.478,77.1758\" style=\"fill:none;fill-rule:evenodd;stroke:#FF0000;stroke-width:2px;stroke-linecap:butt;stroke-linejoin:miter;stroke-opacity:1\"/>\n",
       "<text dominant-baseline=\"central\" text-anchor=\"start\" x=\"319.326\" y=\"19.4812\" style=\"font-size:19px;font-style:normal;font-weight:normal;fill-opacity:1;stroke:none;font-family:sans-serif;fill:#FF0000\"><tspan>OH</tspan></text>\n",
       "<text dominant-baseline=\"central\" text-anchor=\"end\" x=\"265.447\" y=\"97.8325\" style=\"font-size:19px;font-style:normal;font-weight:normal;fill-opacity:1;stroke:none;font-family:sans-serif;fill:#0000FF\"><tspan>H</tspan><tspan style=\"baseline-shift:sub;font-size:14.25px;\">2</tspan><tspan>N</tspan></text>\n",
       "<text dominant-baseline=\"central\" text-anchor=\"start\" x=\"319.56\" y=\"136.363\" style=\"font-size:19px;font-style:normal;font-weight:normal;fill-opacity:1;stroke:none;font-family:sans-serif;fill:#FF0000\"><tspan>OH</tspan></text>\n",
       "<text dominant-baseline=\"central\" text-anchor=\"start\" x=\"353.185\" y=\"77.856\" style=\"font-size:19px;font-style:normal;font-weight:normal;fill-opacity:1;stroke:none;font-family:sans-serif;fill:#FF0000\"><tspan>O</tspan></text>\n",
       "</svg>"
      ],
      "text/plain": [
       "<IPython.core.display.SVG object>"
      ]
     },
     "execution_count": 23,
     "metadata": {},
     "output_type": "execute_result"
    }
   ],
   "source": [
    "l_threonine = Chem.MolFromSmiles('C[C@@H](O)[C@H]\\\n",
    "(N)C(O)=O')\n",
    "d_threonine = Chem.MolFromSmiles('C[C@H](O)[C@@H]\\\n",
    "(N)C(O)=O')\n",
    "d2d = rdMolDraw2D.MolDraw2DSVG(500,150,200,150)\n",
    "d2d.DrawMolecules([l_threonine,d_threonine])\n",
    "d2d.FinishDrawing();SVG(d2d.GetDrawingText())"
   ]
  },
  {
   "cell_type": "markdown",
   "metadata": {},
   "source": [
    "##### Libellés des stéréos  absolues"
   ]
  },
  {
   "cell_type": "code",
   "execution_count": 24,
   "metadata": {},
   "outputs": [
    {
     "data": {
      "image/svg+xml": [
       "<svg xmlns=\"http://www.w3.org/2000/svg\" xmlns:rdkit=\"http://www.rdkit.org/xml\" xmlns:xlink=\"http://www.w3.org/1999/xlink\" version=\"1.1\" baseProfile=\"full\" xml:space=\"preserve\" width=\"500px\" height=\"150px\" viewBox=\"0 0 500 150\">\n",
       "<!-- END OF HEADER -->\n",
       "<rect style=\"opacity:1.0;fill:#FFFFFF;stroke:none\" width=\"500\" height=\"150\" x=\"0\" y=\"0\"> </rect>\n",
       "<rect style=\"opacity:1.0;fill:#FFFFFF;stroke:none\" width=\"500\" height=\"150\" x=\"0\" y=\"0\"> </rect>\n",
       "<rect style=\"opacity:1.0;fill:#FFFFFF;stroke:none\" width=\"500\" height=\"150\" x=\"0\" y=\"0\"> </rect>\n",
       "<path class=\"bond-0\" d=\"M 92.7723,36.103 L 61.8947,11.6237 L 56.072,21.7592 Z\" style=\"fill:#000000;fill-rule:evenodd;fill-opacity=1;stroke:#000000;stroke-width:2px;stroke-linecap:butt;stroke-linejoin:miter;stroke-opacity:1;\"/>\n",
       "<path class=\"bond-1\" d=\"M 92.7723,36.103 L 105.075,28.9688\" style=\"fill:none;fill-rule:evenodd;stroke:#000000;stroke-width:2px;stroke-linecap:butt;stroke-linejoin:miter;stroke-opacity:1\"/>\n",
       "<path class=\"bond-1\" d=\"M 105.075,28.9688 L 117.378,21.8346\" style=\"fill:none;fill-rule:evenodd;stroke:#FF0000;stroke-width:2px;stroke-linecap:butt;stroke-linejoin:miter;stroke-opacity:1\"/>\n",
       "<path class=\"bond-2\" d=\"M 92.7723,36.103 L 92.8502,75.0662\" style=\"fill:none;fill-rule:evenodd;stroke:#000000;stroke-width:2px;stroke-linecap:butt;stroke-linejoin:miter;stroke-opacity:1\"/>\n",
       "<path class=\"bond-3\" d=\"M 92.8502,75.0662 L 80.3791,78.9226 L 83.3118,83.978 Z\" style=\"fill:#000000;fill-rule:evenodd;fill-opacity=1;stroke:#000000;stroke-width:2px;stroke-linecap:butt;stroke-linejoin:miter;stroke-opacity:1;\"/>\n",
       "<path class=\"bond-3\" d=\"M 80.3791,78.9226 L 73.7734,92.8897 L 67.9079,82.7789 Z\" style=\"fill:#0000FF;fill-rule:evenodd;fill-opacity=1;stroke:#0000FF;stroke-width:2px;stroke-linecap:butt;stroke-linejoin:miter;stroke-opacity:1;\"/>\n",
       "<path class=\"bond-3\" d=\"M 80.3791,78.9226 L 83.3118,83.978 L 73.7734,92.8897 Z\" style=\"fill:#0000FF;fill-rule:evenodd;fill-opacity=1;stroke:#0000FF;stroke-width:2px;stroke-linecap:butt;stroke-linejoin:miter;stroke-opacity:1;\"/>\n",
       "<path class=\"bond-4\" d=\"M 92.8502,75.0662 L 126.631,94.4777\" style=\"fill:none;fill-rule:evenodd;stroke:#000000;stroke-width:2px;stroke-linecap:butt;stroke-linejoin:miter;stroke-opacity:1\"/>\n",
       "<path class=\"bond-5\" d=\"M 126.631,94.4777 L 126.661,109.089\" style=\"fill:none;fill-rule:evenodd;stroke:#000000;stroke-width:2px;stroke-linecap:butt;stroke-linejoin:miter;stroke-opacity:1\"/>\n",
       "<path class=\"bond-5\" d=\"M 126.661,109.089 L 126.69,123.7\" style=\"fill:none;fill-rule:evenodd;stroke:#FF0000;stroke-width:2px;stroke-linecap:butt;stroke-linejoin:miter;stroke-opacity:1\"/>\n",
       "<path class=\"bond-6\" d=\"M 128.39,97.5113 L 140.693,90.3771\" style=\"fill:none;fill-rule:evenodd;stroke:#000000;stroke-width:2px;stroke-linecap:butt;stroke-linejoin:miter;stroke-opacity:1\"/>\n",
       "<path class=\"bond-6\" d=\"M 140.693,90.3771 L 152.996,83.2429\" style=\"fill:none;fill-rule:evenodd;stroke:#FF0000;stroke-width:2px;stroke-linecap:butt;stroke-linejoin:miter;stroke-opacity:1\"/>\n",
       "<path class=\"bond-6\" d=\"M 124.872,91.4442 L 137.175,84.31\" style=\"fill:none;fill-rule:evenodd;stroke:#000000;stroke-width:2px;stroke-linecap:butt;stroke-linejoin:miter;stroke-opacity:1\"/>\n",
       "<path class=\"bond-6\" d=\"M 137.175,84.31 L 149.478,77.1758\" style=\"fill:none;fill-rule:evenodd;stroke:#FF0000;stroke-width:2px;stroke-linecap:butt;stroke-linejoin:miter;stroke-opacity:1\"/>\n",
       "<text dominant-baseline=\"central\" text-anchor=\"start\" x=\"119.326\" y=\"19.4812\" style=\"font-size:19px;font-style:normal;font-weight:normal;fill-opacity:1;stroke:none;font-family:sans-serif;fill:#FF0000\"><tspan>OH</tspan></text>\n",
       "<text dominant-baseline=\"central\" text-anchor=\"end\" x=\"65.4469\" y=\"97.8325\" style=\"font-size:19px;font-style:normal;font-weight:normal;fill-opacity:1;stroke:none;font-family:sans-serif;fill:#0000FF\"><tspan>H</tspan><tspan style=\"baseline-shift:sub;font-size:14.25px;\">2</tspan><tspan>N</tspan></text>\n",
       "<text dominant-baseline=\"central\" text-anchor=\"start\" x=\"119.56\" y=\"136.363\" style=\"font-size:19px;font-style:normal;font-weight:normal;fill-opacity:1;stroke:none;font-family:sans-serif;fill:#FF0000\"><tspan>OH</tspan></text>\n",
       "<text dominant-baseline=\"central\" text-anchor=\"start\" x=\"153.185\" y=\"77.856\" style=\"font-size:19px;font-style:normal;font-weight:normal;fill-opacity:1;stroke:none;font-family:sans-serif;fill:#FF0000\"><tspan>O</tspan></text>\n",
       "<text dominant-baseline=\"central\" text-anchor=\"middle\" x=\"92.7329\" y=\"18.8131\" style=\"font-size:14px;font-style:normal;font-weight:normal;fill-opacity:1;stroke:none;font-family:sans-serif;fill:#000000\"><tspan>(R)</tspan></text>\n",
       "<text dominant-baseline=\"central\" text-anchor=\"middle\" x=\"75.9589\" y=\"67.5515\" style=\"font-size:14px;font-style:normal;font-weight:normal;fill-opacity:1;stroke:none;font-family:sans-serif;fill:#000000\"><tspan>(S)</tspan></text>\n",
       "<path class=\"bond-0\" d=\"M 282.48,27.9432 L 280.539,31.3217\" style=\"fill:none;fill-rule:evenodd;stroke:#000000;stroke-width:2px;stroke-linecap:butt;stroke-linejoin:miter;stroke-opacity:1\"/>\n",
       "<path class=\"bond-0\" d=\"M 272.187,19.7835 L 268.305,26.5405\" style=\"fill:none;fill-rule:evenodd;stroke:#000000;stroke-width:2px;stroke-linecap:butt;stroke-linejoin:miter;stroke-opacity:1\"/>\n",
       "<path class=\"bond-0\" d=\"M 261.895,11.6237 L 256.072,21.7592\" style=\"fill:none;fill-rule:evenodd;stroke:#000000;stroke-width:2px;stroke-linecap:butt;stroke-linejoin:miter;stroke-opacity:1\"/>\n",
       "<path class=\"bond-1\" d=\"M 292.772,36.103 L 305.075,28.9688\" style=\"fill:none;fill-rule:evenodd;stroke:#000000;stroke-width:2px;stroke-linecap:butt;stroke-linejoin:miter;stroke-opacity:1\"/>\n",
       "<path class=\"bond-1\" d=\"M 305.075,28.9688 L 317.378,21.8346\" style=\"fill:none;fill-rule:evenodd;stroke:#FF0000;stroke-width:2px;stroke-linecap:butt;stroke-linejoin:miter;stroke-opacity:1\"/>\n",
       "<path class=\"bond-2\" d=\"M 292.772,36.103 L 292.85,75.0662\" style=\"fill:none;fill-rule:evenodd;stroke:#000000;stroke-width:2px;stroke-linecap:butt;stroke-linejoin:miter;stroke-opacity:1\"/>\n",
       "<path class=\"bond-3\" d=\"M 284.536,77.6371 L 286.491,81.0074\" style=\"fill:none;fill-rule:evenodd;stroke:#000000;stroke-width:2px;stroke-linecap:butt;stroke-linejoin:miter;stroke-opacity:1\"/>\n",
       "<path class=\"bond-3\" d=\"M 276.222,80.208 L 280.132,86.9486\" style=\"fill:none;fill-rule:evenodd;stroke:#0000FF;stroke-width:2px;stroke-linecap:butt;stroke-linejoin:miter;stroke-opacity:1\"/>\n",
       "<path class=\"bond-3\" d=\"M 267.908,82.7789 L 273.773,92.8897\" style=\"fill:none;fill-rule:evenodd;stroke:#0000FF;stroke-width:2px;stroke-linecap:butt;stroke-linejoin:miter;stroke-opacity:1\"/>\n",
       "<path class=\"bond-4\" d=\"M 292.85,75.0662 L 326.631,94.4777\" style=\"fill:none;fill-rule:evenodd;stroke:#000000;stroke-width:2px;stroke-linecap:butt;stroke-linejoin:miter;stroke-opacity:1\"/>\n",
       "<path class=\"bond-5\" d=\"M 326.631,94.4777 L 326.661,109.089\" style=\"fill:none;fill-rule:evenodd;stroke:#000000;stroke-width:2px;stroke-linecap:butt;stroke-linejoin:miter;stroke-opacity:1\"/>\n",
       "<path class=\"bond-5\" d=\"M 326.661,109.089 L 326.69,123.7\" style=\"fill:none;fill-rule:evenodd;stroke:#FF0000;stroke-width:2px;stroke-linecap:butt;stroke-linejoin:miter;stroke-opacity:1\"/>\n",
       "<path class=\"bond-6\" d=\"M 328.39,97.5113 L 340.693,90.3771\" style=\"fill:none;fill-rule:evenodd;stroke:#000000;stroke-width:2px;stroke-linecap:butt;stroke-linejoin:miter;stroke-opacity:1\"/>\n",
       "<path class=\"bond-6\" d=\"M 340.693,90.3771 L 352.996,83.2429\" style=\"fill:none;fill-rule:evenodd;stroke:#FF0000;stroke-width:2px;stroke-linecap:butt;stroke-linejoin:miter;stroke-opacity:1\"/>\n",
       "<path class=\"bond-6\" d=\"M 324.872,91.4442 L 337.175,84.31\" style=\"fill:none;fill-rule:evenodd;stroke:#000000;stroke-width:2px;stroke-linecap:butt;stroke-linejoin:miter;stroke-opacity:1\"/>\n",
       "<path class=\"bond-6\" d=\"M 337.175,84.31 L 349.478,77.1758\" style=\"fill:none;fill-rule:evenodd;stroke:#FF0000;stroke-width:2px;stroke-linecap:butt;stroke-linejoin:miter;stroke-opacity:1\"/>\n",
       "<text dominant-baseline=\"central\" text-anchor=\"start\" x=\"319.326\" y=\"19.4812\" style=\"font-size:19px;font-style:normal;font-weight:normal;fill-opacity:1;stroke:none;font-family:sans-serif;fill:#FF0000\"><tspan>OH</tspan></text>\n",
       "<text dominant-baseline=\"central\" text-anchor=\"end\" x=\"265.447\" y=\"97.8325\" style=\"font-size:19px;font-style:normal;font-weight:normal;fill-opacity:1;stroke:none;font-family:sans-serif;fill:#0000FF\"><tspan>H</tspan><tspan style=\"baseline-shift:sub;font-size:14.25px;\">2</tspan><tspan>N</tspan></text>\n",
       "<text dominant-baseline=\"central\" text-anchor=\"start\" x=\"319.56\" y=\"136.363\" style=\"font-size:19px;font-style:normal;font-weight:normal;fill-opacity:1;stroke:none;font-family:sans-serif;fill:#FF0000\"><tspan>OH</tspan></text>\n",
       "<text dominant-baseline=\"central\" text-anchor=\"start\" x=\"353.185\" y=\"77.856\" style=\"font-size:19px;font-style:normal;font-weight:normal;fill-opacity:1;stroke:none;font-family:sans-serif;fill:#FF0000\"><tspan>O</tspan></text>\n",
       "<text dominant-baseline=\"central\" text-anchor=\"middle\" x=\"292.733\" y=\"18.8131\" style=\"font-size:14px;font-style:normal;font-weight:normal;fill-opacity:1;stroke:none;font-family:sans-serif;fill:#000000\"><tspan>(S)</tspan></text>\n",
       "<text dominant-baseline=\"central\" text-anchor=\"middle\" x=\"275.959\" y=\"67.5515\" style=\"font-size:14px;font-style:normal;font-weight:normal;fill-opacity:1;stroke:none;font-family:sans-serif;fill:#000000\"><tspan>(R)</tspan></text>\n",
       "</svg>"
      ],
      "text/plain": [
       "<IPython.core.display.SVG object>"
      ]
     },
     "execution_count": 24,
     "metadata": {},
     "output_type": "execute_result"
    }
   ],
   "source": [
    "d2d = rdMolDraw2D.MolDraw2DSVG(500,150,200,150)\n",
    "d2d.drawOptions().addStereoAnnotation=True\n",
    "d2d.DrawMolecules([l_threonine,d_threonine])\n",
    "d2d.FinishDrawing()\n",
    "SVG(d2d.GetDrawingText())"
   ]
  },
  {
   "cell_type": "markdown",
   "metadata": {},
   "source": [
    "##### Diastéromeurs de ma thréonine"
   ]
  },
  {
   "cell_type": "code",
   "execution_count": 25,
   "metadata": {},
   "outputs": [
    {
     "data": {
      "image/svg+xml": [
       "<svg xmlns=\"http://www.w3.org/2000/svg\" xmlns:rdkit=\"http://www.rdkit.org/xml\" xmlns:xlink=\"http://www.w3.org/1999/xlink\" version=\"1.1\" baseProfile=\"full\" xml:space=\"preserve\" width=\"500px\" height=\"150px\" viewBox=\"0 0 500 150\">\n",
       "<!-- END OF HEADER -->\n",
       "<rect style=\"opacity:1.0;fill:#FFFFFF;stroke:none\" width=\"500\" height=\"150\" x=\"0\" y=\"0\"> </rect>\n",
       "<rect style=\"opacity:1.0;fill:#FFFFFF;stroke:none\" width=\"500\" height=\"150\" x=\"0\" y=\"0\"> </rect>\n",
       "<rect style=\"opacity:1.0;fill:#FFFFFF;stroke:none\" width=\"500\" height=\"150\" x=\"0\" y=\"0\"> </rect>\n",
       "<path class=\"bond-0\" d=\"M 107.48,27.9432 L 105.539,31.3217\" style=\"fill:none;fill-rule:evenodd;stroke:#000000;stroke-width:2px;stroke-linecap:butt;stroke-linejoin:miter;stroke-opacity:1\"/>\n",
       "<path class=\"bond-0\" d=\"M 97.1873,19.7835 L 93.3054,26.5405\" style=\"fill:none;fill-rule:evenodd;stroke:#000000;stroke-width:2px;stroke-linecap:butt;stroke-linejoin:miter;stroke-opacity:1\"/>\n",
       "<path class=\"bond-0\" d=\"M 86.8947,11.6237 L 81.072,21.7592\" style=\"fill:none;fill-rule:evenodd;stroke:#000000;stroke-width:2px;stroke-linecap:butt;stroke-linejoin:miter;stroke-opacity:1\"/>\n",
       "<path class=\"bond-1\" d=\"M 117.772,36.103 L 130.075,28.9688\" style=\"fill:none;fill-rule:evenodd;stroke:#000000;stroke-width:2px;stroke-linecap:butt;stroke-linejoin:miter;stroke-opacity:1\"/>\n",
       "<path class=\"bond-1\" d=\"M 130.075,28.9688 L 142.378,21.8346\" style=\"fill:none;fill-rule:evenodd;stroke:#FF0000;stroke-width:2px;stroke-linecap:butt;stroke-linejoin:miter;stroke-opacity:1\"/>\n",
       "<path class=\"bond-2\" d=\"M 117.772,36.103 L 117.85,75.0662\" style=\"fill:none;fill-rule:evenodd;stroke:#000000;stroke-width:2px;stroke-linecap:butt;stroke-linejoin:miter;stroke-opacity:1\"/>\n",
       "<path class=\"bond-3\" d=\"M 117.85,75.0662 L 105.379,78.9226 L 108.312,83.978 Z\" style=\"fill:#000000;fill-rule:evenodd;fill-opacity=1;stroke:#000000;stroke-width:2px;stroke-linecap:butt;stroke-linejoin:miter;stroke-opacity:1;\"/>\n",
       "<path class=\"bond-3\" d=\"M 105.379,78.9226 L 98.7734,92.8897 L 92.9079,82.7789 Z\" style=\"fill:#0000FF;fill-rule:evenodd;fill-opacity=1;stroke:#0000FF;stroke-width:2px;stroke-linecap:butt;stroke-linejoin:miter;stroke-opacity:1;\"/>\n",
       "<path class=\"bond-3\" d=\"M 105.379,78.9226 L 108.312,83.978 L 98.7734,92.8897 Z\" style=\"fill:#0000FF;fill-rule:evenodd;fill-opacity=1;stroke:#0000FF;stroke-width:2px;stroke-linecap:butt;stroke-linejoin:miter;stroke-opacity:1;\"/>\n",
       "<path class=\"bond-4\" d=\"M 117.85,75.0662 L 151.631,94.4777\" style=\"fill:none;fill-rule:evenodd;stroke:#000000;stroke-width:2px;stroke-linecap:butt;stroke-linejoin:miter;stroke-opacity:1\"/>\n",
       "<path class=\"bond-5\" d=\"M 151.631,94.4777 L 151.661,109.089\" style=\"fill:none;fill-rule:evenodd;stroke:#000000;stroke-width:2px;stroke-linecap:butt;stroke-linejoin:miter;stroke-opacity:1\"/>\n",
       "<path class=\"bond-5\" d=\"M 151.661,109.089 L 151.69,123.7\" style=\"fill:none;fill-rule:evenodd;stroke:#FF0000;stroke-width:2px;stroke-linecap:butt;stroke-linejoin:miter;stroke-opacity:1\"/>\n",
       "<path class=\"bond-6\" d=\"M 153.39,97.5113 L 165.693,90.3771\" style=\"fill:none;fill-rule:evenodd;stroke:#000000;stroke-width:2px;stroke-linecap:butt;stroke-linejoin:miter;stroke-opacity:1\"/>\n",
       "<path class=\"bond-6\" d=\"M 165.693,90.3771 L 177.996,83.2429\" style=\"fill:none;fill-rule:evenodd;stroke:#FF0000;stroke-width:2px;stroke-linecap:butt;stroke-linejoin:miter;stroke-opacity:1\"/>\n",
       "<path class=\"bond-6\" d=\"M 149.872,91.4442 L 162.175,84.31\" style=\"fill:none;fill-rule:evenodd;stroke:#000000;stroke-width:2px;stroke-linecap:butt;stroke-linejoin:miter;stroke-opacity:1\"/>\n",
       "<path class=\"bond-6\" d=\"M 162.175,84.31 L 174.478,77.1758\" style=\"fill:none;fill-rule:evenodd;stroke:#FF0000;stroke-width:2px;stroke-linecap:butt;stroke-linejoin:miter;stroke-opacity:1\"/>\n",
       "<text dominant-baseline=\"central\" text-anchor=\"start\" x=\"144.326\" y=\"19.4812\" style=\"font-size:19px;font-style:normal;font-weight:normal;fill-opacity:1;stroke:none;font-family:sans-serif;fill:#FF0000\"><tspan>OH</tspan></text>\n",
       "<text dominant-baseline=\"central\" text-anchor=\"end\" x=\"90.4469\" y=\"97.8325\" style=\"font-size:19px;font-style:normal;font-weight:normal;fill-opacity:1;stroke:none;font-family:sans-serif;fill:#0000FF\"><tspan>H</tspan><tspan style=\"baseline-shift:sub;font-size:14.25px;\">2</tspan><tspan>N</tspan></text>\n",
       "<text dominant-baseline=\"central\" text-anchor=\"start\" x=\"144.56\" y=\"136.363\" style=\"font-size:19px;font-style:normal;font-weight:normal;fill-opacity:1;stroke:none;font-family:sans-serif;fill:#FF0000\"><tspan>OH</tspan></text>\n",
       "<text dominant-baseline=\"central\" text-anchor=\"start\" x=\"178.185\" y=\"77.856\" style=\"font-size:19px;font-style:normal;font-weight:normal;fill-opacity:1;stroke:none;font-family:sans-serif;fill:#FF0000\"><tspan>O</tspan></text>\n",
       "<text dominant-baseline=\"central\" text-anchor=\"middle\" x=\"117.733\" y=\"18.8131\" style=\"font-size:14px;font-style:normal;font-weight:normal;fill-opacity:1;stroke:none;font-family:sans-serif;fill:#000000\"><tspan>(S)</tspan></text>\n",
       "<text dominant-baseline=\"central\" text-anchor=\"middle\" x=\"100.959\" y=\"67.5515\" style=\"font-size:14px;font-style:normal;font-weight:normal;fill-opacity:1;stroke:none;font-family:sans-serif;fill:#000000\"><tspan>(S)</tspan></text>\n",
       "<path class=\"bond-0\" d=\"M 367.772,36.103 L 336.895,11.6237 L 331.072,21.7592 Z\" style=\"fill:#000000;fill-rule:evenodd;fill-opacity=1;stroke:#000000;stroke-width:2px;stroke-linecap:butt;stroke-linejoin:miter;stroke-opacity:1;\"/>\n",
       "<path class=\"bond-1\" d=\"M 367.772,36.103 L 380.075,28.9688\" style=\"fill:none;fill-rule:evenodd;stroke:#000000;stroke-width:2px;stroke-linecap:butt;stroke-linejoin:miter;stroke-opacity:1\"/>\n",
       "<path class=\"bond-1\" d=\"M 380.075,28.9688 L 392.378,21.8346\" style=\"fill:none;fill-rule:evenodd;stroke:#FF0000;stroke-width:2px;stroke-linecap:butt;stroke-linejoin:miter;stroke-opacity:1\"/>\n",
       "<path class=\"bond-2\" d=\"M 367.772,36.103 L 367.85,75.0662\" style=\"fill:none;fill-rule:evenodd;stroke:#000000;stroke-width:2px;stroke-linecap:butt;stroke-linejoin:miter;stroke-opacity:1\"/>\n",
       "<path class=\"bond-3\" d=\"M 359.536,77.6371 L 361.491,81.0074\" style=\"fill:none;fill-rule:evenodd;stroke:#000000;stroke-width:2px;stroke-linecap:butt;stroke-linejoin:miter;stroke-opacity:1\"/>\n",
       "<path class=\"bond-3\" d=\"M 351.222,80.208 L 355.132,86.9486\" style=\"fill:none;fill-rule:evenodd;stroke:#0000FF;stroke-width:2px;stroke-linecap:butt;stroke-linejoin:miter;stroke-opacity:1\"/>\n",
       "<path class=\"bond-3\" d=\"M 342.908,82.7789 L 348.773,92.8897\" style=\"fill:none;fill-rule:evenodd;stroke:#0000FF;stroke-width:2px;stroke-linecap:butt;stroke-linejoin:miter;stroke-opacity:1\"/>\n",
       "<path class=\"bond-4\" d=\"M 367.85,75.0662 L 401.631,94.4777\" style=\"fill:none;fill-rule:evenodd;stroke:#000000;stroke-width:2px;stroke-linecap:butt;stroke-linejoin:miter;stroke-opacity:1\"/>\n",
       "<path class=\"bond-5\" d=\"M 401.631,94.4777 L 401.661,109.089\" style=\"fill:none;fill-rule:evenodd;stroke:#000000;stroke-width:2px;stroke-linecap:butt;stroke-linejoin:miter;stroke-opacity:1\"/>\n",
       "<path class=\"bond-5\" d=\"M 401.661,109.089 L 401.69,123.7\" style=\"fill:none;fill-rule:evenodd;stroke:#FF0000;stroke-width:2px;stroke-linecap:butt;stroke-linejoin:miter;stroke-opacity:1\"/>\n",
       "<path class=\"bond-6\" d=\"M 403.39,97.5113 L 415.693,90.3771\" style=\"fill:none;fill-rule:evenodd;stroke:#000000;stroke-width:2px;stroke-linecap:butt;stroke-linejoin:miter;stroke-opacity:1\"/>\n",
       "<path class=\"bond-6\" d=\"M 415.693,90.3771 L 427.996,83.2429\" style=\"fill:none;fill-rule:evenodd;stroke:#FF0000;stroke-width:2px;stroke-linecap:butt;stroke-linejoin:miter;stroke-opacity:1\"/>\n",
       "<path class=\"bond-6\" d=\"M 399.872,91.4442 L 412.175,84.31\" style=\"fill:none;fill-rule:evenodd;stroke:#000000;stroke-width:2px;stroke-linecap:butt;stroke-linejoin:miter;stroke-opacity:1\"/>\n",
       "<path class=\"bond-6\" d=\"M 412.175,84.31 L 424.478,77.1758\" style=\"fill:none;fill-rule:evenodd;stroke:#FF0000;stroke-width:2px;stroke-linecap:butt;stroke-linejoin:miter;stroke-opacity:1\"/>\n",
       "<text dominant-baseline=\"central\" text-anchor=\"start\" x=\"394.326\" y=\"19.4812\" style=\"font-size:19px;font-style:normal;font-weight:normal;fill-opacity:1;stroke:none;font-family:sans-serif;fill:#FF0000\"><tspan>OH</tspan></text>\n",
       "<text dominant-baseline=\"central\" text-anchor=\"end\" x=\"340.447\" y=\"97.8325\" style=\"font-size:19px;font-style:normal;font-weight:normal;fill-opacity:1;stroke:none;font-family:sans-serif;fill:#0000FF\"><tspan>H</tspan><tspan style=\"baseline-shift:sub;font-size:14.25px;\">2</tspan><tspan>N</tspan></text>\n",
       "<text dominant-baseline=\"central\" text-anchor=\"start\" x=\"394.56\" y=\"136.363\" style=\"font-size:19px;font-style:normal;font-weight:normal;fill-opacity:1;stroke:none;font-family:sans-serif;fill:#FF0000\"><tspan>OH</tspan></text>\n",
       "<text dominant-baseline=\"central\" text-anchor=\"start\" x=\"428.185\" y=\"77.856\" style=\"font-size:19px;font-style:normal;font-weight:normal;fill-opacity:1;stroke:none;font-family:sans-serif;fill:#FF0000\"><tspan>O</tspan></text>\n",
       "<text dominant-baseline=\"central\" text-anchor=\"middle\" x=\"367.733\" y=\"18.8131\" style=\"font-size:14px;font-style:normal;font-weight:normal;fill-opacity:1;stroke:none;font-family:sans-serif;fill:#000000\"><tspan>(R)</tspan></text>\n",
       "<text dominant-baseline=\"central\" text-anchor=\"middle\" x=\"350.959\" y=\"67.5515\" style=\"font-size:14px;font-style:normal;font-weight:normal;fill-opacity:1;stroke:none;font-family:sans-serif;fill:#000000\"><tspan>(R)</tspan></text>\n",
       "</svg>"
      ],
      "text/plain": [
       "<IPython.core.display.SVG object>"
      ]
     },
     "execution_count": 25,
     "metadata": {},
     "output_type": "execute_result"
    }
   ],
   "source": [
    "l_allothreonine = Chem.MolFromSmiles('C[C@H](O)[C@H]\\\n",
    "(N)C(O)=O')\n",
    "d_allothreonine = Chem.MolFromSmiles('C[C@@H](O)[C@@H]\\\n",
    "(N)C(O)=O')\n",
    "d2d = rdMolDraw2D.MolDraw2DSVG(500,150,250,150)\n",
    "d2d.drawOptions().addStereoAnnotation=True\n",
    "d2d.DrawMolecules([l_allothreonine,d_allothreonine])\n",
    "d2d.FinishDrawing();SVG(d2d.GetDrawingText())"
   ]
  },
  {
   "cell_type": "markdown",
   "metadata": {},
   "source": [
    "##### Mise à l'échelle "
   ]
  },
  {
   "cell_type": "code",
   "execution_count": 26,
   "metadata": {},
   "outputs": [
    {
     "data": {
      "image/svg+xml": [
       "<svg xmlns=\"http://www.w3.org/2000/svg\" xmlns:rdkit=\"http://www.rdkit.org/xml\" xmlns:xlink=\"http://www.w3.org/1999/xlink\" version=\"1.1\" baseProfile=\"full\" xml:space=\"preserve\" width=\"200px\" height=\"100px\" viewBox=\"0 0 200 100\">\n",
       "<!-- END OF HEADER -->\n",
       "<rect style=\"opacity:1.0;fill:#FFFFFF;stroke:none\" width=\"200\" height=\"100\" x=\"0\" y=\"0\"> </rect>\n",
       "<path class=\"bond-0\" d=\"M 88.3199,18.6288 L 87.0259,20.8811\" style=\"fill:none;fill-rule:evenodd;stroke:#000000;stroke-width:2px;stroke-linecap:butt;stroke-linejoin:miter;stroke-opacity:1\"/>\n",
       "<path class=\"bond-0\" d=\"M 81.4582,13.189 L 78.8703,17.6936\" style=\"fill:none;fill-rule:evenodd;stroke:#000000;stroke-width:2px;stroke-linecap:butt;stroke-linejoin:miter;stroke-opacity:1\"/>\n",
       "<path class=\"bond-0\" d=\"M 74.5965,7.74916 L 70.7147,14.5061\" style=\"fill:none;fill-rule:evenodd;stroke:#000000;stroke-width:2px;stroke-linecap:butt;stroke-linejoin:miter;stroke-opacity:1\"/>\n",
       "<path class=\"bond-1\" d=\"M 95.1815,24.0686 L 103.383,19.3125\" style=\"fill:none;fill-rule:evenodd;stroke:#000000;stroke-width:2px;stroke-linecap:butt;stroke-linejoin:miter;stroke-opacity:1\"/>\n",
       "<path class=\"bond-1\" d=\"M 103.383,19.3125 L 111.585,14.5564\" style=\"fill:none;fill-rule:evenodd;stroke:#FF0000;stroke-width:2px;stroke-linecap:butt;stroke-linejoin:miter;stroke-opacity:1\"/>\n",
       "<path class=\"bond-2\" d=\"M 95.1815,24.0686 L 95.2335,50.0442\" style=\"fill:none;fill-rule:evenodd;stroke:#000000;stroke-width:2px;stroke-linecap:butt;stroke-linejoin:miter;stroke-opacity:1\"/>\n",
       "<path class=\"bond-3\" d=\"M 95.2335,50.0442 L 86.9194,52.6151 L 88.8745,55.9853 Z\" style=\"fill:#000000;fill-rule:evenodd;fill-opacity=1;stroke:#000000;stroke-width:2px;stroke-linecap:butt;stroke-linejoin:miter;stroke-opacity:1;\"/>\n",
       "<path class=\"bond-3\" d=\"M 86.9194,52.6151 L 82.5156,61.9265 L 78.6053,55.1859 Z\" style=\"fill:#0000FF;fill-rule:evenodd;fill-opacity=1;stroke:#0000FF;stroke-width:2px;stroke-linecap:butt;stroke-linejoin:miter;stroke-opacity:1;\"/>\n",
       "<path class=\"bond-3\" d=\"M 86.9194,52.6151 L 88.8745,55.9853 L 82.5156,61.9265 Z\" style=\"fill:#0000FF;fill-rule:evenodd;fill-opacity=1;stroke:#0000FF;stroke-width:2px;stroke-linecap:butt;stroke-linejoin:miter;stroke-opacity:1;\"/>\n",
       "<path class=\"bond-4\" d=\"M 95.2335,50.0442 L 117.754,62.9852\" style=\"fill:none;fill-rule:evenodd;stroke:#000000;stroke-width:2px;stroke-linecap:butt;stroke-linejoin:miter;stroke-opacity:1\"/>\n",
       "<path class=\"bond-5\" d=\"M 117.754,62.9852 L 117.774,72.726\" style=\"fill:none;fill-rule:evenodd;stroke:#000000;stroke-width:2px;stroke-linecap:butt;stroke-linejoin:miter;stroke-opacity:1\"/>\n",
       "<path class=\"bond-5\" d=\"M 117.774,72.726 L 117.793,82.4668\" style=\"fill:none;fill-rule:evenodd;stroke:#FF0000;stroke-width:2px;stroke-linecap:butt;stroke-linejoin:miter;stroke-opacity:1\"/>\n",
       "<path class=\"bond-6\" d=\"M 118.927,65.0075 L 127.129,60.2514\" style=\"fill:none;fill-rule:evenodd;stroke:#000000;stroke-width:2px;stroke-linecap:butt;stroke-linejoin:miter;stroke-opacity:1\"/>\n",
       "<path class=\"bond-6\" d=\"M 127.129,60.2514 L 135.331,55.4953\" style=\"fill:none;fill-rule:evenodd;stroke:#FF0000;stroke-width:2px;stroke-linecap:butt;stroke-linejoin:miter;stroke-opacity:1\"/>\n",
       "<path class=\"bond-6\" d=\"M 116.582,60.9628 L 124.783,56.2067\" style=\"fill:none;fill-rule:evenodd;stroke:#000000;stroke-width:2px;stroke-linecap:butt;stroke-linejoin:miter;stroke-opacity:1\"/>\n",
       "<path class=\"bond-6\" d=\"M 124.783,56.2067 L 132.985,51.4505\" style=\"fill:none;fill-rule:evenodd;stroke:#FF0000;stroke-width:2px;stroke-linecap:butt;stroke-linejoin:miter;stroke-opacity:1\"/>\n",
       "<text dominant-baseline=\"central\" text-anchor=\"start\" x=\"112.884\" y=\"12.9875\" style=\"font-size:12px;font-style:normal;font-weight:normal;fill-opacity:1;stroke:none;font-family:sans-serif;fill:#FF0000\"><tspan>OH</tspan></text>\n",
       "<text dominant-baseline=\"central\" text-anchor=\"end\" x=\"76.9646\" y=\"65.2217\" style=\"font-size:12px;font-style:normal;font-weight:normal;fill-opacity:1;stroke:none;font-family:sans-serif;fill:#0000FF\"><tspan>H</tspan><tspan style=\"baseline-shift:sub;font-size:9px;\">2</tspan><tspan>N</tspan></text>\n",
       "<text dominant-baseline=\"central\" text-anchor=\"start\" x=\"113.04\" y=\"90.9088\" style=\"font-size:12px;font-style:normal;font-weight:normal;fill-opacity:1;stroke:none;font-family:sans-serif;fill:#FF0000\"><tspan>OH</tspan></text>\n",
       "<text dominant-baseline=\"central\" text-anchor=\"start\" x=\"135.457\" y=\"51.904\" style=\"font-size:12px;font-style:normal;font-weight:normal;fill-opacity:1;stroke:none;font-family:sans-serif;fill:#FF0000\"><tspan>O</tspan></text>\n",
       "<text dominant-baseline=\"central\" text-anchor=\"middle\" x=\"95.1553\" y=\"12.542\" style=\"font-size:9px;font-style:normal;font-weight:normal;fill-opacity:1;stroke:none;font-family:sans-serif;fill:#000000\"><tspan>(S)</tspan></text>\n",
       "<text dominant-baseline=\"central\" text-anchor=\"middle\" x=\"83.9726\" y=\"45.0343\" style=\"font-size:9px;font-style:normal;font-weight:normal;fill-opacity:1;stroke:none;font-family:sans-serif;fill:#000000\"><tspan>(S)</tspan></text>\n",
       "</svg>"
      ],
      "text/plain": [
       "<IPython.core.display.SVG object>"
      ]
     },
     "execution_count": 26,
     "metadata": {},
     "output_type": "execute_result"
    }
   ],
   "source": [
    "d2d = rdMolDraw2D.MolDraw2DSVG(200,100)\n",
    "d2d.drawOptions().addStereoAnnotation=True\n",
    "d2d.drawOptions().fixedBondLength=30\n",
    "d2d.DrawMolecule(l_allothreonine)\n",
    "d2d.FinishDrawing();SVG(d2d.GetDrawingText())"
   ]
  },
  {
   "cell_type": "code",
   "execution_count": 27,
   "metadata": {},
   "outputs": [
    {
     "data": {
      "image/svg+xml": [
       "<svg xmlns=\"http://www.w3.org/2000/svg\" xmlns:rdkit=\"http://www.rdkit.org/xml\" xmlns:xlink=\"http://www.w3.org/1999/xlink\" version=\"1.1\" baseProfile=\"full\" xml:space=\"preserve\" width=\"400px\" height=\"200px\" viewBox=\"0 0 400 200\">\n",
       "<!-- END OF HEADER -->\n",
       "<rect style=\"opacity:1.0;fill:#FFFFFF;stroke:none\" width=\"400\" height=\"200\" x=\"0\" y=\"0\"> </rect>\n",
       "<path class=\"bond-0\" d=\"M 186.51,63.7684 L 185.016,66.3696\" style=\"fill:none;fill-rule:evenodd;stroke:#000000;stroke-width:2px;stroke-linecap:butt;stroke-linejoin:miter;stroke-opacity:1\"/>\n",
       "<path class=\"bond-0\" d=\"M 178.585,57.4857 L 175.597,62.6883\" style=\"fill:none;fill-rule:evenodd;stroke:#000000;stroke-width:2px;stroke-linecap:butt;stroke-linejoin:miter;stroke-opacity:1\"/>\n",
       "<path class=\"bond-0\" d=\"M 170.661,51.2031 L 166.177,59.0069\" style=\"fill:none;fill-rule:evenodd;stroke:#000000;stroke-width:2px;stroke-linecap:butt;stroke-linejoin:miter;stroke-opacity:1\"/>\n",
       "<path class=\"bond-1\" d=\"M 194.435,70.051 L 203.908,64.558\" style=\"fill:none;fill-rule:evenodd;stroke:#000000;stroke-width:2px;stroke-linecap:butt;stroke-linejoin:miter;stroke-opacity:1\"/>\n",
       "<path class=\"bond-1\" d=\"M 203.908,64.558 L 213.38,59.065\" style=\"fill:none;fill-rule:evenodd;stroke:#FF0000;stroke-width:2px;stroke-linecap:butt;stroke-linejoin:miter;stroke-opacity:1\"/>\n",
       "<path class=\"bond-2\" d=\"M 194.435,70.051 L 194.495,100.051\" style=\"fill:none;fill-rule:evenodd;stroke:#000000;stroke-width:2px;stroke-linecap:butt;stroke-linejoin:miter;stroke-opacity:1\"/>\n",
       "<path class=\"bond-3\" d=\"M 194.495,100.051 L 184.893,103.02 L 187.151,106.913 Z\" style=\"fill:#000000;fill-rule:evenodd;fill-opacity=1;stroke:#000000;stroke-width:2px;stroke-linecap:butt;stroke-linejoin:miter;stroke-opacity:1;\"/>\n",
       "<path class=\"bond-3\" d=\"M 184.893,103.02 L 179.807,113.774 L 175.291,105.989 Z\" style=\"fill:#0000FF;fill-rule:evenodd;fill-opacity=1;stroke:#0000FF;stroke-width:2px;stroke-linecap:butt;stroke-linejoin:miter;stroke-opacity:1;\"/>\n",
       "<path class=\"bond-3\" d=\"M 184.893,103.02 L 187.151,106.913 L 179.807,113.774 Z\" style=\"fill:#0000FF;fill-rule:evenodd;fill-opacity=1;stroke:#0000FF;stroke-width:2px;stroke-linecap:butt;stroke-linejoin:miter;stroke-opacity:1;\"/>\n",
       "<path class=\"bond-4\" d=\"M 194.495,100.051 L 220.505,114.997\" style=\"fill:none;fill-rule:evenodd;stroke:#000000;stroke-width:2px;stroke-linecap:butt;stroke-linejoin:miter;stroke-opacity:1\"/>\n",
       "<path class=\"bond-5\" d=\"M 220.505,114.997 L 220.527,126.247\" style=\"fill:none;fill-rule:evenodd;stroke:#000000;stroke-width:2px;stroke-linecap:butt;stroke-linejoin:miter;stroke-opacity:1\"/>\n",
       "<path class=\"bond-5\" d=\"M 220.527,126.247 L 220.55,137.497\" style=\"fill:none;fill-rule:evenodd;stroke:#FF0000;stroke-width:2px;stroke-linecap:butt;stroke-linejoin:miter;stroke-opacity:1\"/>\n",
       "<path class=\"bond-6\" d=\"M 221.859,117.333 L 231.332,111.84\" style=\"fill:none;fill-rule:evenodd;stroke:#000000;stroke-width:2px;stroke-linecap:butt;stroke-linejoin:miter;stroke-opacity:1\"/>\n",
       "<path class=\"bond-6\" d=\"M 231.332,111.84 L 240.805,106.347\" style=\"fill:none;fill-rule:evenodd;stroke:#FF0000;stroke-width:2px;stroke-linecap:butt;stroke-linejoin:miter;stroke-opacity:1\"/>\n",
       "<path class=\"bond-6\" d=\"M 219.151,112.661 L 228.623,107.168\" style=\"fill:none;fill-rule:evenodd;stroke:#000000;stroke-width:2px;stroke-linecap:butt;stroke-linejoin:miter;stroke-opacity:1\"/>\n",
       "<path class=\"bond-6\" d=\"M 228.623,107.168 L 238.096,101.675\" style=\"fill:none;fill-rule:evenodd;stroke:#FF0000;stroke-width:2px;stroke-linecap:butt;stroke-linejoin:miter;stroke-opacity:1\"/>\n",
       "<text dominant-baseline=\"central\" text-anchor=\"start\" x=\"214.88\" y=\"57.253\" style=\"font-size:15px;font-style:normal;font-weight:normal;fill-opacity:1;stroke:none;font-family:sans-serif;fill:#FF0000\"><tspan>OH</tspan></text>\n",
       "<text dominant-baseline=\"central\" text-anchor=\"end\" x=\"173.396\" y=\"117.58\" style=\"font-size:15px;font-style:normal;font-weight:normal;fill-opacity:1;stroke:none;font-family:sans-serif;fill:#0000FF\"><tspan>H</tspan><tspan style=\"baseline-shift:sub;font-size:11.25px;\">2</tspan><tspan>N</tspan></text>\n",
       "<text dominant-baseline=\"central\" text-anchor=\"start\" x=\"215.06\" y=\"147.247\" style=\"font-size:15px;font-style:normal;font-weight:normal;fill-opacity:1;stroke:none;font-family:sans-serif;fill:#FF0000\"><tspan>OH</tspan></text>\n",
       "<text dominant-baseline=\"central\" text-anchor=\"start\" x=\"240.95\" y=\"102.199\" style=\"font-size:15px;font-style:normal;font-weight:normal;fill-opacity:1;stroke:none;font-family:sans-serif;fill:#FF0000\"><tspan>O</tspan></text>\n",
       "<text dominant-baseline=\"central\" text-anchor=\"middle\" x=\"194.405\" y=\"56.7385\" style=\"font-size:11px;font-style:normal;font-weight:normal;fill-opacity:1;stroke:none;font-family:sans-serif;fill:#000000\"><tspan>(S)</tspan></text>\n",
       "<text dominant-baseline=\"central\" text-anchor=\"middle\" x=\"181.489\" y=\"94.265\" style=\"font-size:11px;font-style:normal;font-weight:normal;fill-opacity:1;stroke:none;font-family:sans-serif;fill:#000000\"><tspan>(S)</tspan></text>\n",
       "</svg>"
      ],
      "text/plain": [
       "<IPython.core.display.SVG object>"
      ]
     },
     "execution_count": 27,
     "metadata": {},
     "output_type": "execute_result"
    }
   ],
   "source": [
    "d2d = rdMolDraw2D.MolDraw2DSVG(400,200)\n",
    "d2d.drawOptions().addStereoAnnotation=True\n",
    "d2d.drawOptions().fixedBondLength=30\n",
    "d2d.DrawMolecule(l_allothreonine)\n",
    "d2d.FinishDrawing();SVG(d2d.GetDrawingText())"
   ]
  },
  {
   "cell_type": "code",
   "execution_count": 28,
   "metadata": {},
   "outputs": [],
   "source": [
    "def addEnhancedStereoAnnotations(m):\n",
    "    gpLookup = {Chem.StereoGroupType.STEREO_OR:\"or\",\n",
    "                Chem.StereoGroupType.STEREO_AND:\"&\",\n",
    "                Chem.StereoGroupType.STEREO_ABSOLUTE:\"abs\",\n",
    "               }\n",
    "    sgs = m.GetStereoGroups()\n",
    "    for i,sg in enumerate(sgs):\n",
    "        typ = gpLookup[sg.GetGroupType()]\n",
    "        for at in sg.GetAtoms():\n",
    "            nt = \"\"\n",
    "            if at.HasProp(\"atomNote\"):\n",
    "                nt += at.GetProp(\"atomNote\")+\",\"\n",
    "            nt += f\"{typ}{i+1}\"\n",
    "            at.SetProp(\"atomNote\",nt)"
   ]
  },
  {
   "cell_type": "code",
   "execution_count": 29,
   "metadata": {},
   "outputs": [
    {
     "data": {
      "image/svg+xml": [
       "<svg xmlns=\"http://www.w3.org/2000/svg\" xmlns:rdkit=\"http://www.rdkit.org/xml\" xmlns:xlink=\"http://www.w3.org/1999/xlink\" version=\"1.1\" baseProfile=\"full\" xml:space=\"preserve\" width=\"500px\" height=\"150px\" viewBox=\"0 0 500 150\">\n",
       "<!-- END OF HEADER -->\n",
       "<rect style=\"opacity:1.0;fill:#FFFFFF;stroke:none\" width=\"500\" height=\"150\" x=\"0\" y=\"0\"> </rect>\n",
       "<rect style=\"opacity:1.0;fill:#FFFFFF;stroke:none\" width=\"500\" height=\"150\" x=\"0\" y=\"0\"> </rect>\n",
       "<rect style=\"opacity:1.0;fill:#FFFFFF;stroke:none\" width=\"500\" height=\"150\" x=\"0\" y=\"0\"> </rect>\n",
       "<path class=\"bond-0\" d=\"M 92.7723,36.103 L 61.8947,11.6237 L 56.072,21.7592 Z\" style=\"fill:#000000;fill-rule:evenodd;fill-opacity=1;stroke:#000000;stroke-width:2px;stroke-linecap:butt;stroke-linejoin:miter;stroke-opacity:1;\"/>\n",
       "<path class=\"bond-1\" d=\"M 92.7723,36.103 L 105.075,28.9688\" style=\"fill:none;fill-rule:evenodd;stroke:#000000;stroke-width:2px;stroke-linecap:butt;stroke-linejoin:miter;stroke-opacity:1\"/>\n",
       "<path class=\"bond-1\" d=\"M 105.075,28.9688 L 117.378,21.8346\" style=\"fill:none;fill-rule:evenodd;stroke:#FF0000;stroke-width:2px;stroke-linecap:butt;stroke-linejoin:miter;stroke-opacity:1\"/>\n",
       "<path class=\"bond-2\" d=\"M 92.7723,36.103 L 92.8502,75.0662\" style=\"fill:none;fill-rule:evenodd;stroke:#000000;stroke-width:2px;stroke-linecap:butt;stroke-linejoin:miter;stroke-opacity:1\"/>\n",
       "<path class=\"bond-3\" d=\"M 92.8502,75.0662 L 80.3791,78.9226 L 83.3118,83.978 Z\" style=\"fill:#000000;fill-rule:evenodd;fill-opacity=1;stroke:#000000;stroke-width:2px;stroke-linecap:butt;stroke-linejoin:miter;stroke-opacity:1;\"/>\n",
       "<path class=\"bond-3\" d=\"M 80.3791,78.9226 L 73.7734,92.8897 L 67.9079,82.7789 Z\" style=\"fill:#0000FF;fill-rule:evenodd;fill-opacity=1;stroke:#0000FF;stroke-width:2px;stroke-linecap:butt;stroke-linejoin:miter;stroke-opacity:1;\"/>\n",
       "<path class=\"bond-3\" d=\"M 80.3791,78.9226 L 83.3118,83.978 L 73.7734,92.8897 Z\" style=\"fill:#0000FF;fill-rule:evenodd;fill-opacity=1;stroke:#0000FF;stroke-width:2px;stroke-linecap:butt;stroke-linejoin:miter;stroke-opacity:1;\"/>\n",
       "<path class=\"bond-4\" d=\"M 92.8502,75.0662 L 126.631,94.4777\" style=\"fill:none;fill-rule:evenodd;stroke:#000000;stroke-width:2px;stroke-linecap:butt;stroke-linejoin:miter;stroke-opacity:1\"/>\n",
       "<path class=\"bond-5\" d=\"M 126.631,94.4777 L 126.661,109.089\" style=\"fill:none;fill-rule:evenodd;stroke:#000000;stroke-width:2px;stroke-linecap:butt;stroke-linejoin:miter;stroke-opacity:1\"/>\n",
       "<path class=\"bond-5\" d=\"M 126.661,109.089 L 126.69,123.7\" style=\"fill:none;fill-rule:evenodd;stroke:#FF0000;stroke-width:2px;stroke-linecap:butt;stroke-linejoin:miter;stroke-opacity:1\"/>\n",
       "<path class=\"bond-6\" d=\"M 128.39,97.5113 L 140.693,90.3771\" style=\"fill:none;fill-rule:evenodd;stroke:#000000;stroke-width:2px;stroke-linecap:butt;stroke-linejoin:miter;stroke-opacity:1\"/>\n",
       "<path class=\"bond-6\" d=\"M 140.693,90.3771 L 152.996,83.2429\" style=\"fill:none;fill-rule:evenodd;stroke:#FF0000;stroke-width:2px;stroke-linecap:butt;stroke-linejoin:miter;stroke-opacity:1\"/>\n",
       "<path class=\"bond-6\" d=\"M 124.872,91.4442 L 137.175,84.31\" style=\"fill:none;fill-rule:evenodd;stroke:#000000;stroke-width:2px;stroke-linecap:butt;stroke-linejoin:miter;stroke-opacity:1\"/>\n",
       "<path class=\"bond-6\" d=\"M 137.175,84.31 L 149.478,77.1758\" style=\"fill:none;fill-rule:evenodd;stroke:#FF0000;stroke-width:2px;stroke-linecap:butt;stroke-linejoin:miter;stroke-opacity:1\"/>\n",
       "<text dominant-baseline=\"central\" text-anchor=\"start\" x=\"119.326\" y=\"19.4812\" style=\"font-size:19px;font-style:normal;font-weight:normal;fill-opacity:1;stroke:none;font-family:sans-serif;fill:#FF0000\"><tspan>OH</tspan></text>\n",
       "<text dominant-baseline=\"central\" text-anchor=\"end\" x=\"65.4469\" y=\"97.8325\" style=\"font-size:19px;font-style:normal;font-weight:normal;fill-opacity:1;stroke:none;font-family:sans-serif;fill:#0000FF\"><tspan>H</tspan><tspan style=\"baseline-shift:sub;font-size:14.25px;\">2</tspan><tspan>N</tspan></text>\n",
       "<text dominant-baseline=\"central\" text-anchor=\"start\" x=\"119.56\" y=\"136.363\" style=\"font-size:19px;font-style:normal;font-weight:normal;fill-opacity:1;stroke:none;font-family:sans-serif;fill:#FF0000\"><tspan>OH</tspan></text>\n",
       "<text dominant-baseline=\"central\" text-anchor=\"start\" x=\"153.185\" y=\"77.856\" style=\"font-size:19px;font-style:normal;font-weight:normal;fill-opacity:1;stroke:none;font-family:sans-serif;fill:#FF0000\"><tspan>O</tspan></text>\n",
       "<text dominant-baseline=\"central\" text-anchor=\"middle\" x=\"92.7329\" y=\"18.8131\" style=\"font-size:14px;font-style:normal;font-weight:normal;fill-opacity:1;stroke:none;font-family:sans-serif;fill:#000000\"><tspan>&amp;1</tspan></text>\n",
       "<text dominant-baseline=\"central\" text-anchor=\"middle\" x=\"75.9589\" y=\"67.5515\" style=\"font-size:14px;font-style:normal;font-weight:normal;fill-opacity:1;stroke:none;font-family:sans-serif;fill:#000000\"><tspan>&amp;1</tspan></text>\n",
       "<path class=\"bond-0\" d=\"M 292.772,36.103 L 261.895,11.6237 L 256.072,21.7592 Z\" style=\"fill:#000000;fill-rule:evenodd;fill-opacity=1;stroke:#000000;stroke-width:2px;stroke-linecap:butt;stroke-linejoin:miter;stroke-opacity:1;\"/>\n",
       "<path class=\"bond-1\" d=\"M 292.772,36.103 L 305.075,28.9688\" style=\"fill:none;fill-rule:evenodd;stroke:#000000;stroke-width:2px;stroke-linecap:butt;stroke-linejoin:miter;stroke-opacity:1\"/>\n",
       "<path class=\"bond-1\" d=\"M 305.075,28.9688 L 317.378,21.8346\" style=\"fill:none;fill-rule:evenodd;stroke:#FF0000;stroke-width:2px;stroke-linecap:butt;stroke-linejoin:miter;stroke-opacity:1\"/>\n",
       "<path class=\"bond-2\" d=\"M 292.772,36.103 L 292.85,75.0662\" style=\"fill:none;fill-rule:evenodd;stroke:#000000;stroke-width:2px;stroke-linecap:butt;stroke-linejoin:miter;stroke-opacity:1\"/>\n",
       "<path class=\"bond-3\" d=\"M 292.85,75.0662 L 280.379,78.9226 L 283.312,83.978 Z\" style=\"fill:#000000;fill-rule:evenodd;fill-opacity=1;stroke:#000000;stroke-width:2px;stroke-linecap:butt;stroke-linejoin:miter;stroke-opacity:1;\"/>\n",
       "<path class=\"bond-3\" d=\"M 280.379,78.9226 L 273.773,92.8897 L 267.908,82.7789 Z\" style=\"fill:#0000FF;fill-rule:evenodd;fill-opacity=1;stroke:#0000FF;stroke-width:2px;stroke-linecap:butt;stroke-linejoin:miter;stroke-opacity:1;\"/>\n",
       "<path class=\"bond-3\" d=\"M 280.379,78.9226 L 283.312,83.978 L 273.773,92.8897 Z\" style=\"fill:#0000FF;fill-rule:evenodd;fill-opacity=1;stroke:#0000FF;stroke-width:2px;stroke-linecap:butt;stroke-linejoin:miter;stroke-opacity:1;\"/>\n",
       "<path class=\"bond-4\" d=\"M 292.85,75.0662 L 326.631,94.4777\" style=\"fill:none;fill-rule:evenodd;stroke:#000000;stroke-width:2px;stroke-linecap:butt;stroke-linejoin:miter;stroke-opacity:1\"/>\n",
       "<path class=\"bond-5\" d=\"M 326.631,94.4777 L 326.661,109.089\" style=\"fill:none;fill-rule:evenodd;stroke:#000000;stroke-width:2px;stroke-linecap:butt;stroke-linejoin:miter;stroke-opacity:1\"/>\n",
       "<path class=\"bond-5\" d=\"M 326.661,109.089 L 326.69,123.7\" style=\"fill:none;fill-rule:evenodd;stroke:#FF0000;stroke-width:2px;stroke-linecap:butt;stroke-linejoin:miter;stroke-opacity:1\"/>\n",
       "<path class=\"bond-6\" d=\"M 328.39,97.5113 L 340.693,90.3771\" style=\"fill:none;fill-rule:evenodd;stroke:#000000;stroke-width:2px;stroke-linecap:butt;stroke-linejoin:miter;stroke-opacity:1\"/>\n",
       "<path class=\"bond-6\" d=\"M 340.693,90.3771 L 352.996,83.2429\" style=\"fill:none;fill-rule:evenodd;stroke:#FF0000;stroke-width:2px;stroke-linecap:butt;stroke-linejoin:miter;stroke-opacity:1\"/>\n",
       "<path class=\"bond-6\" d=\"M 324.872,91.4442 L 337.175,84.31\" style=\"fill:none;fill-rule:evenodd;stroke:#000000;stroke-width:2px;stroke-linecap:butt;stroke-linejoin:miter;stroke-opacity:1\"/>\n",
       "<path class=\"bond-6\" d=\"M 337.175,84.31 L 349.478,77.1758\" style=\"fill:none;fill-rule:evenodd;stroke:#FF0000;stroke-width:2px;stroke-linecap:butt;stroke-linejoin:miter;stroke-opacity:1\"/>\n",
       "<text dominant-baseline=\"central\" text-anchor=\"start\" x=\"319.326\" y=\"19.4812\" style=\"font-size:19px;font-style:normal;font-weight:normal;fill-opacity:1;stroke:none;font-family:sans-serif;fill:#FF0000\"><tspan>OH</tspan></text>\n",
       "<text dominant-baseline=\"central\" text-anchor=\"end\" x=\"265.447\" y=\"97.8325\" style=\"font-size:19px;font-style:normal;font-weight:normal;fill-opacity:1;stroke:none;font-family:sans-serif;fill:#0000FF\"><tspan>H</tspan><tspan style=\"baseline-shift:sub;font-size:14.25px;\">2</tspan><tspan>N</tspan></text>\n",
       "<text dominant-baseline=\"central\" text-anchor=\"start\" x=\"319.56\" y=\"136.363\" style=\"font-size:19px;font-style:normal;font-weight:normal;fill-opacity:1;stroke:none;font-family:sans-serif;fill:#FF0000\"><tspan>OH</tspan></text>\n",
       "<text dominant-baseline=\"central\" text-anchor=\"start\" x=\"353.185\" y=\"77.856\" style=\"font-size:19px;font-style:normal;font-weight:normal;fill-opacity:1;stroke:none;font-family:sans-serif;fill:#FF0000\"><tspan>O</tspan></text>\n",
       "<text dominant-baseline=\"central\" text-anchor=\"middle\" x=\"292.733\" y=\"18.8131\" style=\"font-size:14px;font-style:normal;font-weight:normal;fill-opacity:1;stroke:none;font-family:sans-serif;fill:#000000\"><tspan>or1</tspan></text>\n",
       "<text dominant-baseline=\"central\" text-anchor=\"middle\" x=\"275.959\" y=\"67.5515\" style=\"font-size:14px;font-style:normal;font-weight:normal;fill-opacity:1;stroke:none;font-family:sans-serif;fill:#000000\"><tspan>or1</tspan></text>\n",
       "</svg>"
      ],
      "text/plain": [
       "<IPython.core.display.SVG object>"
      ]
     },
     "execution_count": 29,
     "metadata": {},
     "output_type": "execute_result"
    }
   ],
   "source": [
    "threonine_and = Chem.MolFromSmiles('C[C@@H](O)[C@H](N)C(O)=O |&1:1,3|')\n",
    "threonine_or = Chem.MolFromSmiles('C[C@@H](O)[C@H](N)C(O)=O |o1:1,3|')\n",
    "addEnhancedStereoAnnotations(threonine_and)\n",
    "addEnhancedStereoAnnotations(threonine_or)\n",
    "d2d = rdMolDraw2D.MolDraw2DSVG(500,150,200,150)\n",
    "d2d.DrawMolecules([threonine_and,threonine_or])\n",
    "d2d.FinishDrawing()\n",
    "SVG(d2d.GetDrawingText())\n"
   ]
  },
  {
   "cell_type": "code",
   "execution_count": 30,
   "metadata": {},
   "outputs": [
    {
     "data": {
      "image/svg+xml": [
       "<svg xmlns=\"http://www.w3.org/2000/svg\" xmlns:rdkit=\"http://www.rdkit.org/xml\" xmlns:xlink=\"http://www.w3.org/1999/xlink\" version=\"1.1\" baseProfile=\"full\" xml:space=\"preserve\" width=\"600px\" height=\"200px\" viewBox=\"0 0 600 200\">\n",
       "<!-- END OF HEADER -->\n",
       "<rect style=\"opacity:1.0;fill:#FFFFFF;stroke:none\" width=\"600\" height=\"200\" x=\"0\" y=\"0\"> </rect>\n",
       "<rect style=\"opacity:1.0;fill:#FFFFFF;stroke:none\" width=\"600\" height=\"200\" x=\"0\" y=\"0\"> </rect>\n",
       "<path class=\"bond-0\" d=\"M 13.6364,87.3946 L 34.7005,99.5766\" style=\"fill:none;fill-rule:evenodd;stroke:#000000;stroke-width:2px;stroke-linecap:butt;stroke-linejoin:miter;stroke-opacity:1\"/>\n",
       "<path class=\"bond-1\" d=\"M 34.7005,99.5766 L 34.681,123.911\" style=\"fill:none;fill-rule:evenodd;stroke:#000000;stroke-width:2px;stroke-linecap:butt;stroke-linejoin:miter;stroke-opacity:1\"/>\n",
       "<path class=\"bond-2\" d=\"M 34.7005,99.5766 L 42.6058,95.0217\" style=\"fill:none;fill-rule:evenodd;stroke:#000000;stroke-width:2px;stroke-linecap:butt;stroke-linejoin:miter;stroke-opacity:1\"/>\n",
       "<path class=\"bond-2\" d=\"M 42.6058,95.0217 L 50.5111,90.4669\" style=\"fill:none;fill-rule:evenodd;stroke:#0000FF;stroke-width:2px;stroke-linecap:butt;stroke-linejoin:miter;stroke-opacity:1\"/>\n",
       "<path class=\"bond-3\" d=\"M 61.0571,90.4782 L 68.9527,95.0444\" style=\"fill:none;fill-rule:evenodd;stroke:#0000FF;stroke-width:2px;stroke-linecap:butt;stroke-linejoin:miter;stroke-opacity:1\"/>\n",
       "<path class=\"bond-3\" d=\"M 68.9527,95.0444 L 76.8483,99.6106\" style=\"fill:none;fill-rule:evenodd;stroke:#000000;stroke-width:2px;stroke-linecap:butt;stroke-linejoin:miter;stroke-opacity:1\"/>\n",
       "<path class=\"bond-4\" d=\"M 76.8483,99.6106 L 97.9319,87.4627\" style=\"fill:none;fill-rule:evenodd;stroke:#000000;stroke-width:2px;stroke-linecap:butt;stroke-linejoin:miter;stroke-opacity:1\"/>\n",
       "<path class=\"bond-5\" d=\"M 97.9319,87.4627 L 97.9392,78.3372\" style=\"fill:none;fill-rule:evenodd;stroke:#000000;stroke-width:2px;stroke-linecap:butt;stroke-linejoin:miter;stroke-opacity:1\"/>\n",
       "<path class=\"bond-5\" d=\"M 97.9392,78.3372 L 97.9465,69.2117\" style=\"fill:none;fill-rule:evenodd;stroke:#FF0000;stroke-width:2px;stroke-linecap:butt;stroke-linejoin:miter;stroke-opacity:1\"/>\n",
       "<path class=\"bond-6\" d=\"M 97.9319,87.4627 L 118.996,99.6447\" style=\"fill:none;fill-rule:evenodd;stroke:#000000;stroke-width:2px;stroke-linecap:butt;stroke-linejoin:miter;stroke-opacity:1\"/>\n",
       "<path class=\"bond-7\" d=\"M 118.996,99.6447 L 126.697,95.2077\" style=\"fill:none;fill-rule:evenodd;stroke:#000000;stroke-width:2px;stroke-linecap:butt;stroke-linejoin:miter;stroke-opacity:1\"/>\n",
       "<path class=\"bond-7\" d=\"M 126.697,95.2077 L 134.398,90.7707\" style=\"fill:none;fill-rule:evenodd;stroke:#FF0000;stroke-width:2px;stroke-linecap:butt;stroke-linejoin:miter;stroke-opacity:1\"/>\n",
       "<path class=\"bond-8\" d=\"M 145.762,90.7829 L 153.453,95.2308\" style=\"fill:none;fill-rule:evenodd;stroke:#FF0000;stroke-width:2px;stroke-linecap:butt;stroke-linejoin:miter;stroke-opacity:1\"/>\n",
       "<path class=\"bond-8\" d=\"M 153.453,95.2308 L 161.144,99.6788\" style=\"fill:none;fill-rule:evenodd;stroke:#000000;stroke-width:2px;stroke-linecap:butt;stroke-linejoin:miter;stroke-opacity:1\"/>\n",
       "<path class=\"bond-9\" d=\"M 161.144,99.6788 L 161.124,124.014\" style=\"fill:none;fill-rule:evenodd;stroke:#000000;stroke-width:2px;stroke-linecap:butt;stroke-linejoin:miter;stroke-opacity:1\"/>\n",
       "<path class=\"bond-9\" d=\"M 165.521,103.332 L 165.507,120.367\" style=\"fill:none;fill-rule:evenodd;stroke:#000000;stroke-width:2px;stroke-linecap:butt;stroke-linejoin:miter;stroke-opacity:1\"/>\n",
       "<path class=\"bond-18\" d=\"M 161.144,99.6788 L 182.227,87.526\" style=\"fill:none;fill-rule:evenodd;stroke:#000000;stroke-width:2px;stroke-linecap:butt;stroke-linejoin:miter;stroke-opacity:1\"/>\n",
       "<path class=\"bond-10\" d=\"M 161.124,124.014 L 182.188,136.2\" style=\"fill:none;fill-rule:evenodd;stroke:#000000;stroke-width:2px;stroke-linecap:butt;stroke-linejoin:miter;stroke-opacity:1\"/>\n",
       "<path class=\"bond-11\" d=\"M 182.188,136.2 L 203.272,124.048\" style=\"fill:none;fill-rule:evenodd;stroke:#000000;stroke-width:2px;stroke-linecap:butt;stroke-linejoin:miter;stroke-opacity:1\"/>\n",
       "<path class=\"bond-11\" d=\"M 183.164,130.582 L 197.922,122.076\" style=\"fill:none;fill-rule:evenodd;stroke:#000000;stroke-width:2px;stroke-linecap:butt;stroke-linejoin:miter;stroke-opacity:1\"/>\n",
       "<path class=\"bond-12\" d=\"M 203.272,124.048 L 224.336,136.23\" style=\"fill:none;fill-rule:evenodd;stroke:#000000;stroke-width:2px;stroke-linecap:butt;stroke-linejoin:miter;stroke-opacity:1\"/>\n",
       "<path class=\"bond-16\" d=\"M 203.272,124.048 L 203.292,99.7129\" style=\"fill:none;fill-rule:evenodd;stroke:#000000;stroke-width:2px;stroke-linecap:butt;stroke-linejoin:miter;stroke-opacity:1\"/>\n",
       "<path class=\"bond-13\" d=\"M 224.336,136.23 L 245.42,124.082\" style=\"fill:none;fill-rule:evenodd;stroke:#000000;stroke-width:2px;stroke-linecap:butt;stroke-linejoin:miter;stroke-opacity:1\"/>\n",
       "<path class=\"bond-14\" d=\"M 245.42,124.082 L 253.315,128.648\" style=\"fill:none;fill-rule:evenodd;stroke:#000000;stroke-width:2px;stroke-linecap:butt;stroke-linejoin:miter;stroke-opacity:1\"/>\n",
       "<path class=\"bond-14\" d=\"M 253.315,128.648 L 261.211,133.214\" style=\"fill:none;fill-rule:evenodd;stroke:#0000FF;stroke-width:2px;stroke-linecap:butt;stroke-linejoin:miter;stroke-opacity:1\"/>\n",
       "<path class=\"bond-15\" d=\"M 247.61,124.083 L 247.617,114.958\" style=\"fill:none;fill-rule:evenodd;stroke:#000000;stroke-width:2px;stroke-linecap:butt;stroke-linejoin:miter;stroke-opacity:1\"/>\n",
       "<path class=\"bond-15\" d=\"M 247.617,114.958 L 247.625,105.832\" style=\"fill:none;fill-rule:evenodd;stroke:#FF0000;stroke-width:2px;stroke-linecap:butt;stroke-linejoin:miter;stroke-opacity:1\"/>\n",
       "<path class=\"bond-15\" d=\"M 243.23,124.08 L 243.237,114.954\" style=\"fill:none;fill-rule:evenodd;stroke:#000000;stroke-width:2px;stroke-linecap:butt;stroke-linejoin:miter;stroke-opacity:1\"/>\n",
       "<path class=\"bond-15\" d=\"M 243.237,114.954 L 243.244,105.829\" style=\"fill:none;fill-rule:evenodd;stroke:#FF0000;stroke-width:2px;stroke-linecap:butt;stroke-linejoin:miter;stroke-opacity:1\"/>\n",
       "<path class=\"bond-17\" d=\"M 203.292,99.7129 L 182.227,87.526\" style=\"fill:none;fill-rule:evenodd;stroke:#000000;stroke-width:2px;stroke-linecap:butt;stroke-linejoin:miter;stroke-opacity:1\"/>\n",
       "<path class=\"bond-17\" d=\"M 197.938,101.676 L 183.193,93.1455\" style=\"fill:none;fill-rule:evenodd;stroke:#000000;stroke-width:2px;stroke-linecap:butt;stroke-linejoin:miter;stroke-opacity:1\"/>\n",
       "<text dominant-baseline=\"central\" text-anchor=\"middle\" x=\"55.7841\" y=\"89.2538\" style=\"font-size:12px;font-style:normal;font-weight:normal;fill-opacity:1;stroke:none;font-family:sans-serif;fill:#0000FF\"><tspan>N</tspan></text>\n",
       "<text dominant-baseline=\"central\" text-anchor=\"start\" x=\"51.7278\" y=\"77.0864\" style=\"font-size:12px;font-style:normal;font-weight:normal;fill-opacity:1;stroke:none;font-family:sans-serif;fill:#0000FF\"><tspan>H</tspan></text>\n",
       "<text dominant-baseline=\"central\" text-anchor=\"start\" x=\"93.4861\" y=\"64.9531\" style=\"font-size:12px;font-style:normal;font-weight:normal;fill-opacity:1;stroke:none;font-family:sans-serif;fill:#FF0000\"><tspan>OH</tspan></text>\n",
       "<text dominant-baseline=\"central\" text-anchor=\"middle\" x=\"140.08\" y=\"89.3219\" style=\"font-size:12px;font-style:normal;font-weight:normal;fill-opacity:1;stroke:none;font-family:sans-serif;fill:#FF0000\"><tspan>O</tspan></text>\n",
       "<text dominant-baseline=\"central\" text-anchor=\"start\" x=\"262.549\" y=\"138.271\" style=\"font-size:12px;font-style:normal;font-weight:normal;fill-opacity:1;stroke:none;font-family:sans-serif;fill:#0000FF\"><tspan>NH</tspan><tspan style=\"baseline-shift:sub;font-size:9px;\">2</tspan><tspan/></text>\n",
       "<text dominant-baseline=\"central\" text-anchor=\"start\" x=\"240.974\" y=\"101.572\" style=\"font-size:12px;font-style:normal;font-weight:normal;fill-opacity:1;stroke:none;font-family:sans-serif;fill:#FF0000\"><tspan>O</tspan></text>\n",
       "</svg>"
      ],
      "text/plain": [
       "<IPython.core.display.SVG object>"
      ]
     },
     "execution_count": 30,
     "metadata": {},
     "output_type": "execute_result"
    }
   ],
   "source": [
    "atenolol = Chem.MolFromSmiles('CC(C)NCC(O)COc1ccc\\\n",
    "(CC(N)=O)cc1')\n",
    "addEnhancedStereoAnnotations(atenolol)\n",
    "d2d = rdMolDraw2D.MolDraw2DSVG(600,200,300,200)\n",
    "d2d.DrawMolecules([atenolol])\n",
    "d2d.FinishDrawing()\n",
    "SVG(d2d.GetDrawingText())"
   ]
  },
  {
   "cell_type": "code",
   "execution_count": null,
   "metadata": {},
   "outputs": [],
   "source": []
  },
  {
   "cell_type": "code",
   "execution_count": 31,
   "metadata": {},
   "outputs": [],
   "source": [
    "from rdkit.Chem import ChemicalFeatures\n",
    "from rdkit import RDConfig\n",
    "import requests\n",
    "# grab a feature definition file from the RDKit's contrib dir in github:\n",
    "res = requests.get('https://raw.githubusercontent.com/rdkit/rdkit/master/Contrib/M_Kossner/BaseFeatures_DIP2_NoMicrospecies.fdef')\n",
    "fdef = res.text\n",
    "ffact = ChemicalFeatures.BuildFeatureFactoryFromString(fdef)"
   ]
  },
  {
   "cell_type": "code",
   "execution_count": 32,
   "metadata": {},
   "outputs": [
    {
     "data": {
      "image/svg+xml": [
       "<svg xmlns=\"http://www.w3.org/2000/svg\" xmlns:rdkit=\"http://www.rdkit.org/xml\" xmlns:xlink=\"http://www.w3.org/1999/xlink\" version=\"1.1\" baseProfile=\"full\" xml:space=\"preserve\" width=\"600px\" height=\"280px\" viewBox=\"0 0 600 280\">\n",
       "<!-- END OF HEADER -->\n",
       "<rect style=\"opacity:1.0;fill:#FFFFFF;stroke:none\" width=\"600\" height=\"280\" x=\"0\" y=\"0\"> </rect>\n",
       "<ellipse cx=\"25.0749\" cy=\"128.436\" rx=\"11.4386\" ry=\"11.4386\" style=\"fill:#B2B24C;fill-rule:evenodd;stroke:#B2B24C;stroke-width:2px;stroke-linecap:butt;stroke-linejoin:miter;stroke-opacity:1\"/>\n",
       "<ellipse cx=\"44.8591\" cy=\"162.765\" rx=\"11.4386\" ry=\"11.4386\" style=\"fill:#B2B24C;fill-rule:evenodd;stroke:#B2B24C;stroke-width:2px;stroke-linecap:butt;stroke-linejoin:miter;stroke-opacity:1\"/>\n",
       "<path d=\"M 64.6981,106.572 L 63.7281,106.63 L 62.765,106.804 L 61.8158,107.094 L 60.8875,107.496 L 59.9866,108.008 L 59.1196,108.626 L 58.2928,109.346 L 57.5122,110.162 L 56.7833,111.07 L 56.1115,112.061 L 55.5015,113.129 L 54.9578,114.267 L 54.4843,115.466 L 54.0844,116.717 L 53.7609,118.011 L 53.5163,119.34 L 53.3522,120.694 L 53.2699,122.062 L 53.2699,123.435 L 53.3522,124.803 L 53.5163,126.156 L 53.7609,127.485 L 54.0844,128.78 L 54.4843,130.031 L 54.9578,131.23 L 55.5015,132.367 L 56.1115,133.436 L 56.7833,134.427 L 57.5122,135.334 L 58.2928,136.151 L 59.1196,136.871 L 59.9866,137.489 L 60.8875,138.001 L 61.8158,138.403 L 62.765,138.692 L 63.7281,138.867 L 64.6981,138.925 L 64.6981,122.748 Z\" style=\"fill:#FF0000;fill-rule:evenodd;fill-opacity=1;stroke:#FF0000;stroke-width:2px;stroke-linecap:butt;stroke-linejoin:miter;stroke-opacity:1;\"/>\n",
       "<path d=\"M 64.6981,138.925 L 65.6682,138.867 L 66.6312,138.692 L 67.5804,138.403 L 68.5088,138.001 L 69.4097,137.489 L 70.2766,136.871 L 71.1034,136.151 L 71.884,135.334 L 72.6129,134.427 L 73.2847,133.436 L 73.8947,132.367 L 74.4384,131.23 L 74.9119,130.031 L 75.3118,128.78 L 75.6353,127.485 L 75.8799,126.156 L 76.044,124.803 L 76.1264,123.435 L 76.1264,122.062 L 76.044,120.694 L 75.8799,119.34 L 75.6353,118.011 L 75.3118,116.717 L 74.9119,115.466 L 74.4384,114.267 L 73.8947,113.129 L 73.2847,112.061 L 72.6129,111.07 L 71.884,110.162 L 71.1034,109.346 L 70.2766,108.626 L 69.4097,108.008 L 68.5088,107.496 L 67.5804,107.094 L 66.6312,106.804 L 65.6682,106.63 L 64.6981,106.572 L 64.6981,122.748 Z\" style=\"fill:#00FFFF;fill-rule:evenodd;fill-opacity=1;stroke:#00FFFF;stroke-width:2px;stroke-linecap:butt;stroke-linejoin:miter;stroke-opacity:1;\"/>\n",
       "<path d=\"M 109.297,94.184 L 108.062,94.2252 L 106.835,94.3485 L 105.627,94.5531 L 104.445,94.8374 L 103.298,95.1994 L 102.194,95.6365 L 101.141,96.1456 L 100.147,96.7229 L 99.2189,97.3644 L 98.3634,98.0654 L 97.5868,98.8208 L 96.8945,99.6252 L 96.2915,100.473 L 95.7823,101.358 L 95.3704,102.273 L 95.0589,103.213 L 94.85,104.17 L 94.7452,105.137 L 94.7452,106.108 L 94.85,107.075 L 95.0589,108.032 L 95.3704,108.972 L 95.7823,109.887 L 96.2915,110.772 L 96.8945,111.62 L 97.5868,112.424 L 98.3634,113.18 L 99.2189,113.881 L 100.147,114.522 L 101.141,115.1 L 102.194,115.609 L 103.298,116.046 L 104.445,116.408 L 105.627,116.692 L 106.835,116.897 L 108.062,117.02 L 109.297,117.061 L 109.297,105.623 Z\" style=\"fill:#FF0000;fill-rule:evenodd;fill-opacity=1;stroke:#FF0000;stroke-width:2px;stroke-linecap:butt;stroke-linejoin:miter;stroke-opacity:1;\"/>\n",
       "<path d=\"M 109.297,117.061 L 110.532,117.02 L 111.758,116.897 L 112.967,116.692 L 114.149,116.408 L 115.296,116.046 L 116.4,115.609 L 117.453,115.1 L 118.447,114.522 L 119.375,113.881 L 120.23,113.18 L 121.007,112.424 L 121.699,111.62 L 122.302,110.772 L 122.811,109.887 L 123.223,108.972 L 123.535,108.032 L 123.744,107.075 L 123.848,106.108 L 123.848,105.137 L 123.744,104.17 L 123.535,103.213 L 123.223,102.273 L 122.811,101.358 L 122.302,100.473 L 121.699,99.6252 L 121.007,98.8208 L 120.23,98.0654 L 119.375,97.3644 L 118.447,96.7229 L 117.453,96.1456 L 116.4,95.6365 L 115.296,95.1994 L 114.149,94.8374 L 112.967,94.5531 L 111.758,94.3485 L 110.532,94.2252 L 109.297,94.184 L 109.297,105.623 Z\" style=\"fill:#0000FF;fill-rule:evenodd;fill-opacity=1;stroke:#0000FF;stroke-width:2px;stroke-linecap:butt;stroke-linejoin:miter;stroke-opacity:1;\"/>\n",
       "<ellipse cx=\"163.747\" cy=\"139.984\" rx=\"11.4386\" ry=\"11.4386\" style=\"fill:#FFCC7F;fill-rule:evenodd;stroke:#FFCC7F;stroke-width:2px;stroke-linecap:butt;stroke-linejoin:miter;stroke-opacity:1\"/>\n",
       "<path d=\"M 163.729,151.423 L 162.759,151.464 L 161.795,151.587 L 160.846,151.792 L 159.918,152.076 L 159.017,152.438 L 158.15,152.875 L 157.323,153.384 L 156.543,153.962 L 155.814,154.603 L 155.142,155.304 L 154.532,156.059 L 153.988,156.864 L 153.515,157.711 L 153.115,158.596 L 152.791,159.512 L 152.547,160.451 L 152.383,161.408 L 152.3,162.376 L 152.3,163.347 L 152.383,164.314 L 152.547,165.271 L 152.791,166.211 L 153.115,167.126 L 153.515,168.011 L 153.988,168.858 L 154.532,169.663 L 155.142,170.418 L 155.814,171.119 L 156.543,171.761 L 157.323,172.338 L 158.15,172.847 L 159.017,173.284 L 159.918,173.646 L 160.846,173.931 L 161.795,174.135 L 162.759,174.258 L 163.729,174.3 L 163.729,162.861 Z\" style=\"fill:#FFCC7F;fill-rule:evenodd;fill-opacity=1;stroke:#FFCC7F;stroke-width:2px;stroke-linecap:butt;stroke-linejoin:miter;stroke-opacity:1;\"/>\n",
       "<path d=\"M 163.729,174.3 L 164.699,174.258 L 165.662,174.135 L 166.611,173.931 L 167.539,173.646 L 168.44,173.284 L 169.307,172.847 L 170.134,172.338 L 170.915,171.761 L 171.643,171.119 L 172.315,170.418 L 172.925,169.663 L 173.469,168.858 L 173.942,168.011 L 174.342,167.126 L 174.666,166.211 L 174.91,165.271 L 175.075,164.314 L 175.157,163.347 L 175.157,162.376 L 175.075,161.408 L 174.91,160.451 L 174.666,159.512 L 174.342,158.596 L 173.942,157.711 L 173.469,156.864 L 172.925,156.059 L 172.315,155.304 L 171.643,154.603 L 170.915,153.962 L 170.134,153.384 L 169.307,152.875 L 168.44,152.438 L 167.539,152.076 L 166.611,151.792 L 165.662,151.587 L 164.699,151.464 L 163.729,151.423 L 163.729,162.861 Z\" style=\"fill:#B2B24C;fill-rule:evenodd;fill-opacity=1;stroke:#B2B24C;stroke-width:2px;stroke-linecap:butt;stroke-linejoin:miter;stroke-opacity:1;\"/>\n",
       "<path d=\"M 183.531,162.879 L 182.561,162.921 L 181.598,163.044 L 180.649,163.249 L 179.72,163.533 L 178.82,163.895 L 177.953,164.332 L 177.126,164.841 L 176.345,165.418 L 175.616,166.06 L 174.944,166.761 L 174.334,167.516 L 173.791,168.321 L 173.317,169.168 L 172.917,170.053 L 172.594,170.969 L 172.349,171.908 L 172.185,172.865 L 172.103,173.833 L 172.103,174.803 L 172.185,175.771 L 172.349,176.728 L 172.594,177.667 L 172.917,178.583 L 173.317,179.468 L 173.791,180.315 L 174.334,181.12 L 174.944,181.875 L 175.616,182.576 L 176.345,183.218 L 177.126,183.795 L 177.953,184.304 L 178.82,184.741 L 179.72,185.103 L 180.649,185.387 L 181.598,185.592 L 182.561,185.715 L 183.531,185.757 L 183.531,174.318 Z\" style=\"fill:#FFCC7F;fill-rule:evenodd;fill-opacity=1;stroke:#FFCC7F;stroke-width:2px;stroke-linecap:butt;stroke-linejoin:miter;stroke-opacity:1;\"/>\n",
       "<path d=\"M 183.531,185.757 L 184.501,185.715 L 185.464,185.592 L 186.413,185.387 L 187.342,185.103 L 188.243,184.741 L 189.11,184.304 L 189.936,183.795 L 190.717,183.218 L 191.446,182.576 L 192.118,181.875 L 192.728,181.12 L 193.271,180.315 L 193.745,179.468 L 194.145,178.583 L 194.468,177.667 L 194.713,176.728 L 194.877,175.771 L 194.959,174.803 L 194.959,173.833 L 194.877,172.865 L 194.713,171.908 L 194.468,170.969 L 194.145,170.053 L 193.745,169.168 L 193.271,168.321 L 192.728,167.516 L 192.118,166.761 L 191.446,166.06 L 190.717,165.418 L 189.936,164.841 L 189.11,164.332 L 188.243,163.895 L 187.342,163.533 L 186.413,163.249 L 185.464,163.044 L 184.501,162.921 L 183.531,162.879 L 183.531,174.318 Z\" style=\"fill:#B2B24C;fill-rule:evenodd;fill-opacity=1;stroke:#B2B24C;stroke-width:2px;stroke-linecap:butt;stroke-linejoin:miter;stroke-opacity:1;\"/>\n",
       "<path d=\"M 203.352,151.455 L 202.382,151.496 L 201.419,151.619 L 200.47,151.824 L 199.541,152.108 L 198.64,152.47 L 197.773,152.907 L 196.947,153.416 L 196.166,153.994 L 195.437,154.635 L 194.765,155.336 L 194.155,156.091 L 193.612,156.896 L 193.138,157.743 L 192.738,158.628 L 192.415,159.544 L 192.17,160.483 L 192.006,161.44 L 191.924,162.408 L 191.924,163.379 L 192.006,164.346 L 192.17,165.303 L 192.415,166.243 L 192.738,167.158 L 193.138,168.043 L 193.612,168.89 L 194.155,169.695 L 194.765,170.45 L 195.437,171.151 L 196.166,171.793 L 196.947,172.37 L 197.773,172.879 L 198.64,173.316 L 199.541,173.678 L 200.47,173.963 L 201.419,174.167 L 202.382,174.29 L 203.352,174.332 L 203.352,162.893 Z\" style=\"fill:#FFCC7F;fill-rule:evenodd;fill-opacity=1;stroke:#FFCC7F;stroke-width:2px;stroke-linecap:butt;stroke-linejoin:miter;stroke-opacity:1;\"/>\n",
       "<path d=\"M 203.352,174.332 L 204.322,174.29 L 205.285,174.167 L 206.234,173.963 L 207.162,173.678 L 208.063,173.316 L 208.93,172.879 L 209.757,172.37 L 210.538,171.793 L 211.267,171.151 L 211.938,170.45 L 212.548,169.695 L 213.092,168.89 L 213.566,168.043 L 213.966,167.158 L 214.289,166.243 L 214.534,165.303 L 214.698,164.346 L 214.78,163.379 L 214.78,162.408 L 214.698,161.44 L 214.534,160.483 L 214.289,159.544 L 213.966,158.628 L 213.566,157.743 L 213.092,156.896 L 212.548,156.091 L 211.938,155.336 L 211.267,154.635 L 210.538,153.994 L 209.757,153.416 L 208.93,152.907 L 208.063,152.47 L 207.162,152.108 L 206.234,151.824 L 205.285,151.619 L 204.322,151.496 L 203.352,151.455 L 203.352,162.893 Z\" style=\"fill:#B2B24C;fill-rule:evenodd;fill-opacity=1;stroke:#B2B24C;stroke-width:2px;stroke-linecap:butt;stroke-linejoin:miter;stroke-opacity:1;\"/>\n",
       "<ellipse cx=\"223.154\" cy=\"174.345\" rx=\"11.4386\" ry=\"11.4386\" style=\"fill:#B2B24C;fill-rule:evenodd;stroke:#B2B24C;stroke-width:2px;stroke-linecap:butt;stroke-linejoin:miter;stroke-opacity:1\"/>\n",
       "<ellipse cx=\"269.643\" cy=\"174.377\" rx=\"16.7203\" ry=\"11.4386\" style=\"fill:#FF0000;fill-rule:evenodd;stroke:#FF0000;stroke-width:2px;stroke-linecap:butt;stroke-linejoin:miter;stroke-opacity:1\"/>\n",
       "<ellipse cx=\"242.993\" cy=\"140.048\" rx=\"11.4386\" ry=\"11.4386\" style=\"fill:#0000FF;fill-rule:evenodd;stroke:#0000FF;stroke-width:2px;stroke-linecap:butt;stroke-linejoin:miter;stroke-opacity:1\"/>\n",
       "<path d=\"M 203.37,128.577 L 202.4,128.619 L 201.437,128.742 L 200.488,128.947 L 199.559,129.231 L 198.659,129.593 L 197.792,130.03 L 196.965,130.539 L 196.184,131.116 L 195.455,131.758 L 194.783,132.459 L 194.174,133.214 L 193.63,134.019 L 193.156,134.866 L 192.756,135.751 L 192.433,136.667 L 192.188,137.606 L 192.024,138.563 L 191.942,139.531 L 191.942,140.501 L 192.024,141.469 L 192.188,142.426 L 192.433,143.365 L 192.756,144.281 L 193.156,145.166 L 193.63,146.013 L 194.174,146.818 L 194.783,147.573 L 195.455,148.274 L 196.184,148.916 L 196.965,149.493 L 197.792,150.002 L 198.659,150.439 L 199.559,150.801 L 200.488,151.085 L 201.437,151.29 L 202.4,151.413 L 203.37,151.455 L 203.37,140.016 Z\" style=\"fill:#FFCC7F;fill-rule:evenodd;fill-opacity=1;stroke:#FFCC7F;stroke-width:2px;stroke-linecap:butt;stroke-linejoin:miter;stroke-opacity:1;\"/>\n",
       "<path d=\"M 203.37,151.455 L 204.34,151.413 L 205.303,151.29 L 206.252,151.085 L 207.181,150.801 L 208.082,150.439 L 208.949,150.002 L 209.775,149.493 L 210.556,148.916 L 211.285,148.274 L 211.957,147.573 L 212.567,146.818 L 213.11,146.013 L 213.584,145.166 L 213.984,144.281 L 214.307,143.365 L 214.552,142.426 L 214.716,141.469 L 214.798,140.501 L 214.798,139.531 L 214.716,138.563 L 214.552,137.606 L 214.307,136.667 L 213.984,135.751 L 213.584,134.866 L 213.11,134.019 L 212.567,133.214 L 211.957,132.459 L 211.285,131.758 L 210.556,131.116 L 209.775,130.539 L 208.949,130.03 L 208.082,129.593 L 207.181,129.231 L 206.252,128.947 L 205.303,128.742 L 204.34,128.619 L 203.37,128.577 L 203.37,140.016 Z\" style=\"fill:#B2B24C;fill-rule:evenodd;fill-opacity=1;stroke:#B2B24C;stroke-width:2px;stroke-linecap:butt;stroke-linejoin:miter;stroke-opacity:1;\"/>\n",
       "<path d=\"M 183.568,117.121 L 182.598,117.162 L 181.635,117.285 L 180.685,117.49 L 179.757,117.774 L 178.856,118.136 L 177.989,118.573 L 177.162,119.082 L 176.382,119.66 L 175.653,120.301 L 174.981,121.002 L 174.371,121.757 L 173.827,122.562 L 173.354,123.409 L 172.954,124.294 L 172.63,125.21 L 172.386,126.149 L 172.222,127.106 L 172.139,128.074 L 172.139,129.045 L 172.222,130.012 L 172.386,130.969 L 172.63,131.909 L 172.954,132.824 L 173.354,133.709 L 173.827,134.556 L 174.371,135.361 L 174.981,136.116 L 175.653,136.817 L 176.382,137.459 L 177.162,138.036 L 177.989,138.545 L 178.856,138.982 L 179.757,139.344 L 180.685,139.629 L 181.635,139.833 L 182.598,139.957 L 183.568,139.998 L 183.568,128.559 Z\" style=\"fill:#FFCC7F;fill-rule:evenodd;fill-opacity=1;stroke:#FFCC7F;stroke-width:2px;stroke-linecap:butt;stroke-linejoin:miter;stroke-opacity:1;\"/>\n",
       "<path d=\"M 183.568,139.998 L 184.538,139.957 L 185.501,139.833 L 186.45,139.629 L 187.378,139.344 L 188.279,138.982 L 189.146,138.545 L 189.973,138.036 L 190.754,137.459 L 191.482,136.817 L 192.154,136.116 L 192.764,135.361 L 193.308,134.556 L 193.781,133.709 L 194.181,132.824 L 194.505,131.909 L 194.749,130.969 L 194.914,130.012 L 194.996,129.045 L 194.996,128.074 L 194.914,127.106 L 194.749,126.149 L 194.505,125.21 L 194.181,124.294 L 193.781,123.409 L 193.308,122.562 L 192.764,121.757 L 192.154,121.002 L 191.482,120.301 L 190.754,119.66 L 189.973,119.082 L 189.146,118.573 L 188.279,118.136 L 187.378,117.774 L 186.45,117.49 L 185.501,117.285 L 184.538,117.162 L 183.568,117.121 L 183.568,128.559 Z\" style=\"fill:#B2B24C;fill-rule:evenodd;fill-opacity=1;stroke:#B2B24C;stroke-width:2px;stroke-linecap:butt;stroke-linejoin:miter;stroke-opacity:1;\"/>\n",
       "<path class=\"bond-0\" d=\"M 25.0749,128.436 L 44.8774,139.888\" style=\"fill:none;fill-rule:evenodd;stroke:#000000;stroke-width:2px;stroke-linecap:butt;stroke-linejoin:miter;stroke-opacity:1\"/>\n",
       "<path class=\"bond-1\" d=\"M 44.8774,139.888 L 44.8591,162.765\" style=\"fill:none;fill-rule:evenodd;stroke:#000000;stroke-width:2px;stroke-linecap:butt;stroke-linejoin:miter;stroke-opacity:1\"/>\n",
       "<path class=\"bond-2\" d=\"M 44.8774,139.888 L 52.3092,135.606\" style=\"fill:none;fill-rule:evenodd;stroke:#000000;stroke-width:2px;stroke-linecap:butt;stroke-linejoin:miter;stroke-opacity:1\"/>\n",
       "<path class=\"bond-2\" d=\"M 52.3092,135.606 L 59.7409,131.324\" style=\"fill:none;fill-rule:evenodd;stroke:#0000FF;stroke-width:2px;stroke-linecap:butt;stroke-linejoin:miter;stroke-opacity:1\"/>\n",
       "<path class=\"bond-3\" d=\"M 69.6553,131.335 L 77.0779,135.627\" style=\"fill:none;fill-rule:evenodd;stroke:#0000FF;stroke-width:2px;stroke-linecap:butt;stroke-linejoin:miter;stroke-opacity:1\"/>\n",
       "<path class=\"bond-3\" d=\"M 77.0779,135.627 L 84.5006,139.92\" style=\"fill:none;fill-rule:evenodd;stroke:#000000;stroke-width:2px;stroke-linecap:butt;stroke-linejoin:miter;stroke-opacity:1\"/>\n",
       "<path class=\"bond-4\" d=\"M 84.5006,139.92 L 104.321,128.5\" style=\"fill:none;fill-rule:evenodd;stroke:#000000;stroke-width:2px;stroke-linecap:butt;stroke-linejoin:miter;stroke-opacity:1\"/>\n",
       "<path class=\"bond-5\" d=\"M 104.321,128.5 L 104.328,119.921\" style=\"fill:none;fill-rule:evenodd;stroke:#000000;stroke-width:2px;stroke-linecap:butt;stroke-linejoin:miter;stroke-opacity:1\"/>\n",
       "<path class=\"bond-5\" d=\"M 104.328,119.921 L 104.335,111.342\" style=\"fill:none;fill-rule:evenodd;stroke:#FF0000;stroke-width:2px;stroke-linecap:butt;stroke-linejoin:miter;stroke-opacity:1\"/>\n",
       "<path class=\"bond-6\" d=\"M 104.321,128.5 L 124.124,139.952\" style=\"fill:none;fill-rule:evenodd;stroke:#000000;stroke-width:2px;stroke-linecap:butt;stroke-linejoin:miter;stroke-opacity:1\"/>\n",
       "<path class=\"bond-7\" d=\"M 124.124,139.952 L 131.363,135.781\" style=\"fill:none;fill-rule:evenodd;stroke:#000000;stroke-width:2px;stroke-linecap:butt;stroke-linejoin:miter;stroke-opacity:1\"/>\n",
       "<path class=\"bond-7\" d=\"M 131.363,135.781 L 138.603,131.609\" style=\"fill:none;fill-rule:evenodd;stroke:#FF0000;stroke-width:2px;stroke-linecap:butt;stroke-linejoin:miter;stroke-opacity:1\"/>\n",
       "<path class=\"bond-8\" d=\"M 149.286,131.621 L 156.517,135.802\" style=\"fill:none;fill-rule:evenodd;stroke:#FF0000;stroke-width:2px;stroke-linecap:butt;stroke-linejoin:miter;stroke-opacity:1\"/>\n",
       "<path class=\"bond-8\" d=\"M 156.517,135.802 L 163.747,139.984\" style=\"fill:none;fill-rule:evenodd;stroke:#000000;stroke-width:2px;stroke-linecap:butt;stroke-linejoin:miter;stroke-opacity:1\"/>\n",
       "<path class=\"bond-9\" d=\"M 163.747,139.984 L 163.729,162.861\" style=\"fill:none;fill-rule:evenodd;stroke:#000000;stroke-width:2px;stroke-linecap:butt;stroke-linejoin:miter;stroke-opacity:1\"/>\n",
       "<path class=\"bond-9\" d=\"M 167.862,143.419 L 167.849,159.433\" style=\"fill:none;fill-rule:evenodd;stroke:#000000;stroke-width:2px;stroke-linecap:butt;stroke-linejoin:miter;stroke-opacity:1\"/>\n",
       "<path class=\"bond-18\" d=\"M 163.747,139.984 L 183.568,128.559\" style=\"fill:none;fill-rule:evenodd;stroke:#000000;stroke-width:2px;stroke-linecap:butt;stroke-linejoin:miter;stroke-opacity:1\"/>\n",
       "<path class=\"bond-10\" d=\"M 163.729,162.861 L 183.531,174.318\" style=\"fill:none;fill-rule:evenodd;stroke:#000000;stroke-width:2px;stroke-linecap:butt;stroke-linejoin:miter;stroke-opacity:1\"/>\n",
       "<path class=\"bond-11\" d=\"M 183.531,174.318 L 203.352,162.893\" style=\"fill:none;fill-rule:evenodd;stroke:#000000;stroke-width:2px;stroke-linecap:butt;stroke-linejoin:miter;stroke-opacity:1\"/>\n",
       "<path class=\"bond-11\" d=\"M 184.448,169.037 L 198.322,161.039\" style=\"fill:none;fill-rule:evenodd;stroke:#000000;stroke-width:2px;stroke-linecap:butt;stroke-linejoin:miter;stroke-opacity:1\"/>\n",
       "<path class=\"bond-12\" d=\"M 203.352,162.893 L 223.154,174.345\" style=\"fill:none;fill-rule:evenodd;stroke:#000000;stroke-width:2px;stroke-linecap:butt;stroke-linejoin:miter;stroke-opacity:1\"/>\n",
       "<path class=\"bond-16\" d=\"M 203.352,162.893 L 203.37,140.016\" style=\"fill:none;fill-rule:evenodd;stroke:#000000;stroke-width:2px;stroke-linecap:butt;stroke-linejoin:miter;stroke-opacity:1\"/>\n",
       "<path class=\"bond-13\" d=\"M 223.154,174.345 L 242.975,162.925\" style=\"fill:none;fill-rule:evenodd;stroke:#000000;stroke-width:2px;stroke-linecap:butt;stroke-linejoin:miter;stroke-opacity:1\"/>\n",
       "<path class=\"bond-14\" d=\"M 242.975,162.925 L 250.398,167.218\" style=\"fill:none;fill-rule:evenodd;stroke:#000000;stroke-width:2px;stroke-linecap:butt;stroke-linejoin:miter;stroke-opacity:1\"/>\n",
       "<path class=\"bond-14\" d=\"M 250.398,167.218 L 257.82,171.511\" style=\"fill:none;fill-rule:evenodd;stroke:#0000FF;stroke-width:2px;stroke-linecap:butt;stroke-linejoin:miter;stroke-opacity:1\"/>\n",
       "<path class=\"bond-15\" d=\"M 245.034,162.927 L 245.041,154.348\" style=\"fill:none;fill-rule:evenodd;stroke:#000000;stroke-width:2px;stroke-linecap:butt;stroke-linejoin:miter;stroke-opacity:1\"/>\n",
       "<path class=\"bond-15\" d=\"M 245.041,154.348 L 245.048,145.769\" style=\"fill:none;fill-rule:evenodd;stroke:#FF0000;stroke-width:2px;stroke-linecap:butt;stroke-linejoin:miter;stroke-opacity:1\"/>\n",
       "<path class=\"bond-15\" d=\"M 240.916,162.924 L 240.923,154.345\" style=\"fill:none;fill-rule:evenodd;stroke:#000000;stroke-width:2px;stroke-linecap:butt;stroke-linejoin:miter;stroke-opacity:1\"/>\n",
       "<path class=\"bond-15\" d=\"M 240.923,154.345 L 240.93,145.766\" style=\"fill:none;fill-rule:evenodd;stroke:#FF0000;stroke-width:2px;stroke-linecap:butt;stroke-linejoin:miter;stroke-opacity:1\"/>\n",
       "<path class=\"bond-17\" d=\"M 203.37,140.016 L 183.568,128.559\" style=\"fill:none;fill-rule:evenodd;stroke:#000000;stroke-width:2px;stroke-linecap:butt;stroke-linejoin:miter;stroke-opacity:1\"/>\n",
       "<path class=\"bond-17\" d=\"M 198.338,141.862 L 184.476,133.842\" style=\"fill:none;fill-rule:evenodd;stroke:#000000;stroke-width:2px;stroke-linecap:butt;stroke-linejoin:miter;stroke-opacity:1\"/>\n",
       "<text dominant-baseline=\"central\" text-anchor=\"middle\" x=\"64.6981\" y=\"130.183\" style=\"font-size:11px;font-style:normal;font-weight:normal;fill-opacity:1;stroke:none;font-family:sans-serif;fill:#0000FF\"><tspan>N</tspan></text>\n",
       "<text dominant-baseline=\"central\" text-anchor=\"start\" x=\"60.8848\" y=\"118.745\" style=\"font-size:11px;font-style:normal;font-weight:normal;fill-opacity:1;stroke:none;font-family:sans-serif;fill:#0000FF\"><tspan>H</tspan></text>\n",
       "<text dominant-baseline=\"central\" text-anchor=\"start\" x=\"100.142\" y=\"107.338\" style=\"font-size:11px;font-style:normal;font-weight:normal;fill-opacity:1;stroke:none;font-family:sans-serif;fill:#000000\"><tspan>OH</tspan></text>\n",
       "<text dominant-baseline=\"central\" text-anchor=\"middle\" x=\"143.944\" y=\"130.247\" style=\"font-size:11px;font-style:normal;font-weight:normal;fill-opacity:1;stroke:none;font-family:sans-serif;fill:#FF0000\"><tspan>O</tspan></text>\n",
       "<text dominant-baseline=\"central\" text-anchor=\"start\" x=\"259.079\" y=\"176.265\" style=\"font-size:11px;font-style:normal;font-weight:normal;fill-opacity:1;stroke:none;font-family:sans-serif;fill:#0000FF\"><tspan>NH</tspan><tspan style=\"baseline-shift:sub;font-size:8.25px;\">2</tspan><tspan/></text>\n",
       "<text dominant-baseline=\"central\" text-anchor=\"start\" x=\"238.795\" y=\"141.764\" style=\"font-size:11px;font-style:normal;font-weight:normal;fill-opacity:1;stroke:none;font-family:sans-serif;fill:#FF0000\"><tspan>O</tspan></text>\n",
       "<text dominant-baseline=\"central\" text-anchor=\"middle\" x=\"150\" y=\"265\" style=\"font-size:12px;font-style:normal;font-weight:normal;fill-opacity:1;stroke:none;font-family:sans-serif;fill:#000000\"><tspan>atenelol</tspan></text>\n",
       "</svg>"
      ],
      "text/plain": [
       "<IPython.core.display.SVG object>"
      ]
     },
     "execution_count": 32,
     "metadata": {},
     "output_type": "execute_result"
    }
   ],
   "source": [
    "from collections import defaultdict\n",
    "feats = ffact.GetFeaturesForMol(atenolol)\n",
    "colors = {'SingleAtomDonor':(1,0,0),\n",
    "          'SingleAtomAcceptor':(0,0,1),\n",
    "          'BasicGroup':(0,1,1),\n",
    "          'Arom6':(1,0.8,0.5),\n",
    "          'Hphobe':(0.7,0.7,0.3)}\n",
    "atomHighlights = defaultdict(list)\n",
    "highlightRads = {}\n",
    "for feat in feats:\n",
    "    if feat.GetType() in colors:\n",
    "        clr = colors[feat.GetType()]\n",
    "        for aid in feat.GetAtomIds():\n",
    "            atomHighlights[aid].append(clr)\n",
    "            highlightRads[aid] = 0.5\n",
    "\n",
    "d2d = rdMolDraw2D.MolDraw2DSVG(600,280,300,280)\n",
    "d2d.DrawMoleculeWithHighlights(atenolol,\"atenelol\",dict(atomHighlights),{},highlightRads,{})\n",
    "d2d.FinishDrawing()\n",
    "SVG(d2d.GetDrawingText())"
   ]
  },
  {
   "cell_type": "code",
   "execution_count": 33,
   "metadata": {},
   "outputs": [
    {
     "data": {
      "image/svg+xml": [
       "<svg xmlns=\"http://www.w3.org/2000/svg\" xmlns:rdkit=\"http://www.rdkit.org/xml\" xmlns:xlink=\"http://www.w3.org/1999/xlink\" version=\"1.1\" baseProfile=\"full\" xml:space=\"preserve\" width=\"600px\" height=\"280px\" viewBox=\"0 0 600 280\">\n",
       "<!-- END OF HEADER -->\n",
       "<rect style=\"opacity:1.0;fill:#FFFFFF;stroke:none\" width=\"600\" height=\"280\" x=\"0\" y=\"0\"> </rect>\n",
       "<ellipse cx=\"25.2841\" cy=\"128.224\" rx=\"11.6477\" ry=\"11.6477\" style=\"fill:none;stroke:#B2B24C;stroke-width:3px;stroke-linecap:butt;stroke-linejoin:miter;stroke-opacity:1\"/>\n",
       "<ellipse cx=\"45.43\" cy=\"163.181\" rx=\"11.6477\" ry=\"11.6477\" style=\"fill:none;stroke:#B2B24C;stroke-width:3px;stroke-linecap:butt;stroke-linejoin:miter;stroke-opacity:1\"/>\n",
       "<path d=\"M 65.6318,116.609 L 64.644,116.651 L 63.6633,116.777 L 62.6968,116.985 L 61.7515,117.274 L 60.8341,117.643 L 59.9512,118.088 L 59.1093,118.607 L 58.3144,119.194 L 57.5723,119.848 L 56.8882,120.561 L 56.267,121.331 L 55.7134,122.15 L 55.2312,123.013 L 54.824,123.914 L 54.4946,124.846 L 54.2455,125.803 L 54.0784,126.777 L 53.9946,127.762 L 53.9946,128.751 L 54.0784,129.736 L 54.2455,130.711 L 54.4946,131.667 L 54.824,132.6 L 55.2312,133.501 L 55.7134,134.364 L 56.267,135.183 L 56.8882,135.952 L 57.5723,136.666 L 58.3144,137.319 L 59.1093,137.907 L 59.9512,138.425 L 60.8341,138.871 L 61.7515,139.239 L 62.6968,139.529 L 63.6633,139.737 L 64.644,139.863 L 65.6318,139.904\" style=\"fill:none;stroke:#FF0000;stroke-width:3px;stroke-linecap:butt;stroke-linejoin:miter;stroke-opacity:1;\"/>\n",
       "<path d=\"M 65.6318,139.904 L 66.6196,139.863 L 67.6003,139.737 L 68.5667,139.529 L 69.5121,139.239 L 70.4295,138.871 L 71.3123,138.425 L 72.1542,137.907 L 72.9491,137.319 L 73.6913,136.666 L 74.3754,135.952 L 74.9965,135.183 L 75.5501,134.364 L 76.0323,133.501 L 76.4396,132.6 L 76.7689,131.667 L 77.0181,130.711 L 77.1852,129.736 L 77.269,128.751 L 77.269,127.762 L 77.1852,126.777 L 77.0181,125.803 L 76.7689,124.846 L 76.4396,123.914 L 76.0323,123.013 L 75.5501,122.15 L 74.9965,121.331 L 74.3754,120.561 L 73.6913,119.848 L 72.9491,119.194 L 72.1542,118.607 L 71.3123,118.088 L 70.4295,117.643 L 69.5121,117.274 L 68.5667,116.985 L 67.6003,116.777 L 66.6196,116.651 L 65.6318,116.609\" style=\"fill:none;stroke:#00FFFF;stroke-width:3px;stroke-linecap:butt;stroke-linejoin:miter;stroke-opacity:1;\"/>\n",
       "<path d=\"M 105.998,93.3462 L 105.01,93.3882 L 104.03,93.5138 L 103.063,93.7221 L 102.118,94.0116 L 101.2,94.3802 L 100.318,94.8253 L 99.4757,95.3437 L 98.6808,95.9316 L 97.9386,96.5848 L 97.2545,97.2986 L 96.6334,98.0678 L 96.0797,98.887 L 95.5976,99.7501 L 95.1903,100.651 L 94.8609,101.583 L 94.6118,102.54 L 94.4447,103.514 L 94.3609,104.5 L 94.3609,105.488 L 94.4447,106.473 L 94.6118,107.448 L 94.8609,108.405 L 95.1903,109.337 L 95.5976,110.238 L 96.0797,111.101 L 96.6334,111.92 L 97.2545,112.689 L 97.9386,113.403 L 98.6808,114.056 L 99.4757,114.644 L 100.318,115.163 L 101.2,115.608 L 102.118,115.976 L 103.063,116.266 L 104.03,116.474 L 105.01,116.6 L 105.998,116.642\" style=\"fill:none;stroke:#FF0000;stroke-width:3px;stroke-linecap:butt;stroke-linejoin:miter;stroke-opacity:1;\"/>\n",
       "<path d=\"M 105.998,116.642 L 106.986,116.6 L 107.967,116.474 L 108.933,116.266 L 109.878,115.976 L 110.796,115.608 L 111.679,115.163 L 112.521,114.644 L 113.315,114.056 L 114.058,113.403 L 114.742,112.689 L 115.363,111.92 L 115.916,111.101 L 116.399,110.238 L 116.806,109.337 L 117.135,108.405 L 117.384,107.448 L 117.551,106.473 L 117.635,105.488 L 117.635,104.5 L 117.551,103.514 L 117.384,102.54 L 117.135,101.583 L 116.806,100.651 L 116.399,99.7501 L 115.916,98.887 L 115.363,98.0678 L 114.742,97.2986 L 114.058,96.5848 L 113.315,95.9316 L 112.521,95.3437 L 111.679,94.8253 L 110.796,94.3802 L 109.878,94.0116 L 108.933,93.7221 L 107.967,93.5138 L 106.986,93.3882 L 105.998,93.3462\" style=\"fill:none;stroke:#0000FF;stroke-width:3px;stroke-linecap:butt;stroke-linejoin:miter;stroke-opacity:1;\"/>\n",
       "<ellipse cx=\"166.492\" cy=\"139.984\" rx=\"11.6477\" ry=\"11.6477\" style=\"fill:none;stroke:#FFCC7F;stroke-width:3px;stroke-linecap:butt;stroke-linejoin:miter;stroke-opacity:1\"/>\n",
       "<path d=\"M 166.473,151.631 L 165.485,151.673 L 164.505,151.799 L 163.538,152.007 L 162.593,152.297 L 161.675,152.665 L 160.793,153.111 L 159.951,153.629 L 159.156,154.217 L 158.414,154.87 L 157.729,155.584 L 157.108,156.353 L 156.555,157.172 L 156.073,158.035 L 155.665,158.936 L 155.336,159.868 L 155.087,160.825 L 154.92,161.8 L 154.836,162.785 L 154.836,163.773 L 154.92,164.759 L 155.087,165.733 L 155.336,166.69 L 155.665,167.622 L 156.073,168.523 L 156.555,169.386 L 157.108,170.205 L 157.729,170.974 L 158.414,171.688 L 159.156,172.341 L 159.951,172.929 L 160.793,173.448 L 161.675,173.893 L 162.593,174.261 L 163.538,174.551 L 164.505,174.759 L 165.485,174.885 L 166.473,174.927\" style=\"fill:none;stroke:#FFCC7F;stroke-width:3px;stroke-linecap:butt;stroke-linejoin:miter;stroke-opacity:1;\"/>\n",
       "<path d=\"M 166.473,174.927 L 167.461,174.885 L 168.442,174.759 L 169.408,174.551 L 170.353,174.261 L 171.271,173.893 L 172.154,173.448 L 172.995,172.929 L 173.79,172.341 L 174.533,171.688 L 175.217,170.974 L 175.838,170.205 L 176.391,169.386 L 176.874,168.523 L 177.281,167.622 L 177.61,166.69 L 177.859,165.733 L 178.026,164.759 L 178.11,163.773 L 178.11,162.785 L 178.026,161.8 L 177.859,160.825 L 177.61,159.868 L 177.281,158.936 L 176.874,158.035 L 176.391,157.172 L 175.838,156.353 L 175.217,155.584 L 174.533,154.87 L 173.79,154.217 L 172.995,153.629 L 172.154,153.111 L 171.271,152.665 L 170.353,152.297 L 169.408,152.007 L 168.442,151.799 L 167.461,151.673 L 166.473,151.631\" style=\"fill:none;stroke:#B2B24C;stroke-width:3px;stroke-linecap:butt;stroke-linejoin:miter;stroke-opacity:1;\"/>\n",
       "<path d=\"M 186.638,163.298 L 185.65,163.34 L 184.669,163.465 L 183.703,163.674 L 182.757,163.963 L 181.84,164.332 L 180.957,164.777 L 180.115,165.295 L 179.32,165.883 L 178.578,166.536 L 177.894,167.25 L 177.273,168.019 L 176.719,168.838 L 176.237,169.702 L 175.83,170.603 L 175.5,171.535 L 175.251,172.492 L 175.084,173.466 L 175,174.451 L 175,175.44 L 175.084,176.425 L 175.251,177.399 L 175.5,178.356 L 175.83,179.288 L 176.237,180.189 L 176.719,181.052 L 177.273,181.872 L 177.894,182.641 L 178.578,183.355 L 179.32,184.008 L 180.115,184.596 L 180.957,185.114 L 181.84,185.559 L 182.757,185.928 L 183.703,186.217 L 184.669,186.426 L 185.65,186.551 L 186.638,186.593\" style=\"fill:none;stroke:#FFCC7F;stroke-width:3px;stroke-linecap:butt;stroke-linejoin:miter;stroke-opacity:1;\"/>\n",
       "<path d=\"M 186.638,186.593 L 187.625,186.551 L 188.606,186.426 L 189.573,186.217 L 190.518,185.928 L 191.435,185.559 L 192.318,185.114 L 193.16,184.596 L 193.955,184.008 L 194.697,183.355 L 195.381,182.641 L 196.002,181.872 L 196.556,181.052 L 197.038,180.189 L 197.445,179.288 L 197.775,178.356 L 198.024,177.399 L 198.191,176.425 L 198.275,175.44 L 198.275,174.451 L 198.191,173.466 L 198.024,172.492 L 197.775,171.535 L 197.445,170.603 L 197.038,169.702 L 196.556,168.838 L 196.002,168.019 L 195.381,167.25 L 194.697,166.536 L 193.955,165.883 L 193.16,165.295 L 192.318,164.777 L 191.435,164.332 L 190.518,163.963 L 189.573,163.674 L 188.606,163.465 L 187.625,163.34 L 186.638,163.298\" style=\"fill:none;stroke:#B2B24C;stroke-width:3px;stroke-linecap:butt;stroke-linejoin:miter;stroke-opacity:1;\"/>\n",
       "<path d=\"M 206.821,151.664 L 205.833,151.706 L 204.852,151.832 L 203.886,152.04 L 202.94,152.329 L 202.023,152.698 L 201.14,153.143 L 200.298,153.661 L 199.503,154.249 L 198.761,154.903 L 198.077,155.616 L 197.456,156.386 L 196.902,157.205 L 196.42,158.068 L 196.013,158.969 L 195.684,159.901 L 195.434,160.858 L 195.267,161.832 L 195.184,162.817 L 195.184,163.806 L 195.267,164.791 L 195.434,165.766 L 195.684,166.722 L 196.013,167.655 L 196.42,168.556 L 196.902,169.419 L 197.456,170.238 L 198.077,171.007 L 198.761,171.721 L 199.503,172.374 L 200.298,172.962 L 201.14,173.48 L 202.023,173.925 L 202.94,174.294 L 203.886,174.584 L 204.852,174.792 L 205.833,174.917 L 206.821,174.959\" style=\"fill:none;stroke:#FFCC7F;stroke-width:3px;stroke-linecap:butt;stroke-linejoin:miter;stroke-opacity:1;\"/>\n",
       "<path d=\"M 206.821,174.959 L 207.809,174.917 L 208.789,174.792 L 209.756,174.584 L 210.701,174.294 L 211.618,173.925 L 212.501,173.48 L 213.343,172.962 L 214.138,172.374 L 214.88,171.721 L 215.564,171.007 L 216.185,170.238 L 216.739,169.419 L 217.221,168.556 L 217.629,167.655 L 217.958,166.722 L 218.207,165.766 L 218.374,164.791 L 218.458,163.806 L 218.458,162.817 L 218.374,161.832 L 218.207,160.858 L 217.958,159.901 L 217.629,158.969 L 217.221,158.068 L 216.739,157.205 L 216.185,156.386 L 215.564,155.616 L 214.88,154.903 L 214.138,154.249 L 213.343,153.661 L 212.501,153.143 L 211.618,152.698 L 210.701,152.329 L 209.756,152.04 L 208.789,151.832 L 207.809,151.706 L 206.821,151.664\" style=\"fill:none;stroke:#B2B24C;stroke-width:3px;stroke-linecap:butt;stroke-linejoin:miter;stroke-opacity:1;\"/>\n",
       "<ellipse cx=\"226.985\" cy=\"174.973\" rx=\"11.6477\" ry=\"11.6477\" style=\"fill:none;stroke:#B2B24C;stroke-width:3px;stroke-linecap:butt;stroke-linejoin:miter;stroke-opacity:1\"/>\n",
       "<ellipse cx=\"267.333\" cy=\"175.006\" rx=\"11.6477\" ry=\"11.6477\" style=\"fill:none;stroke:#FF0000;stroke-width:3px;stroke-linecap:butt;stroke-linejoin:miter;stroke-opacity:1\"/>\n",
       "<ellipse cx=\"247.187\" cy=\"140.049\" rx=\"11.6477\" ry=\"11.6477\" style=\"fill:none;stroke:#0000FF;stroke-width:3px;stroke-linecap:butt;stroke-linejoin:miter;stroke-opacity:1\"/>\n",
       "<path d=\"M 206.839,128.369 L 205.852,128.411 L 204.871,128.536 L 203.904,128.744 L 202.959,129.034 L 202.042,129.403 L 201.159,129.848 L 200.317,130.366 L 199.522,130.954 L 198.78,131.607 L 198.096,132.321 L 197.475,133.09 L 196.921,133.909 L 196.439,134.772 L 196.032,135.673 L 195.702,136.606 L 195.453,137.562 L 195.286,138.537 L 195.202,139.522 L 195.202,140.511 L 195.286,141.496 L 195.453,142.47 L 195.702,143.427 L 196.032,144.359 L 196.439,145.26 L 196.921,146.123 L 197.475,146.942 L 198.096,147.712 L 198.78,148.425 L 199.522,149.079 L 200.317,149.667 L 201.159,150.185 L 202.042,150.63 L 202.959,150.999 L 203.904,151.288 L 204.871,151.496 L 205.852,151.622 L 206.839,151.664\" style=\"fill:none;stroke:#FFCC7F;stroke-width:3px;stroke-linecap:butt;stroke-linejoin:miter;stroke-opacity:1;\"/>\n",
       "<path d=\"M 206.839,151.664 L 207.827,151.622 L 208.808,151.496 L 209.774,151.288 L 210.72,150.999 L 211.637,150.63 L 212.52,150.185 L 213.362,149.667 L 214.157,149.079 L 214.899,148.425 L 215.583,147.712 L 216.204,146.942 L 216.758,146.123 L 217.24,145.26 L 217.647,144.359 L 217.977,143.427 L 218.226,142.47 L 218.393,141.496 L 218.477,140.511 L 218.477,139.522 L 218.393,138.537 L 218.226,137.562 L 217.977,136.606 L 217.647,135.673 L 217.24,134.772 L 216.758,133.909 L 216.204,133.09 L 215.583,132.321 L 214.899,131.607 L 214.157,130.954 L 213.362,130.366 L 212.52,129.848 L 211.637,129.403 L 210.72,129.034 L 209.774,128.744 L 208.808,128.536 L 207.827,128.411 L 206.839,128.369\" style=\"fill:none;stroke:#B2B24C;stroke-width:3px;stroke-linecap:butt;stroke-linejoin:miter;stroke-opacity:1;\"/>\n",
       "<path d=\"M 186.675,116.702 L 185.687,116.744 L 184.706,116.87 L 183.74,117.078 L 182.795,117.368 L 181.877,117.736 L 180.994,118.181 L 180.152,118.7 L 179.358,119.288 L 178.615,119.941 L 177.931,120.655 L 177.31,121.424 L 176.756,122.243 L 176.274,123.106 L 175.867,124.007 L 175.538,124.939 L 175.289,125.896 L 175.121,126.87 L 175.038,127.856 L 175.038,128.844 L 175.121,129.829 L 175.289,130.804 L 175.538,131.761 L 175.867,132.693 L 176.274,133.594 L 176.756,134.457 L 177.31,135.276 L 177.931,136.045 L 178.615,136.759 L 179.358,137.412 L 180.152,138 L 180.994,138.519 L 181.877,138.964 L 182.795,139.332 L 183.74,139.622 L 184.706,139.83 L 185.687,139.956 L 186.675,139.998\" style=\"fill:none;stroke:#FFCC7F;stroke-width:3px;stroke-linecap:butt;stroke-linejoin:miter;stroke-opacity:1;\"/>\n",
       "<path d=\"M 186.675,139.998 L 187.663,139.956 L 188.643,139.83 L 189.61,139.622 L 190.555,139.332 L 191.473,138.964 L 192.355,138.519 L 193.197,138 L 193.992,137.412 L 194.734,136.759 L 195.418,136.045 L 196.04,135.276 L 196.593,134.457 L 197.075,133.594 L 197.483,132.693 L 197.812,131.761 L 198.061,130.804 L 198.228,129.829 L 198.312,128.844 L 198.312,127.856 L 198.228,126.87 L 198.061,125.896 L 197.812,124.939 L 197.483,124.007 L 197.075,123.106 L 196.593,122.243 L 196.04,121.424 L 195.418,120.655 L 194.734,119.941 L 193.992,119.288 L 193.197,118.7 L 192.355,118.181 L 191.473,117.736 L 190.555,117.368 L 189.61,117.078 L 188.643,116.87 L 187.663,116.744 L 186.675,116.702\" style=\"fill:none;stroke:#B2B24C;stroke-width:3px;stroke-linecap:butt;stroke-linejoin:miter;stroke-opacity:1;\"/>\n",
       "<path class=\"bond-0\" d=\"M 25.2841,128.224 L 45.4486,139.886\" style=\"fill:none;fill-rule:evenodd;stroke:#000000;stroke-width:2px;stroke-linecap:butt;stroke-linejoin:miter;stroke-opacity:1\"/>\n",
       "<path class=\"bond-1\" d=\"M 45.4486,139.886 L 45.43,163.181\" style=\"fill:none;fill-rule:evenodd;stroke:#000000;stroke-width:2px;stroke-linecap:butt;stroke-linejoin:miter;stroke-opacity:1\"/>\n",
       "<path class=\"bond-2\" d=\"M 45.4486,139.886 L 53.0163,135.526\" style=\"fill:none;fill-rule:evenodd;stroke:#000000;stroke-width:2px;stroke-linecap:butt;stroke-linejoin:miter;stroke-opacity:1\"/>\n",
       "<path class=\"bond-2\" d=\"M 53.0163,135.526 L 60.584,131.165\" style=\"fill:none;fill-rule:evenodd;stroke:#0000FF;stroke-width:2px;stroke-linecap:butt;stroke-linejoin:miter;stroke-opacity:1\"/>\n",
       "<path class=\"bond-3\" d=\"M 70.6796,131.176 L 78.2379,135.547\" style=\"fill:none;fill-rule:evenodd;stroke:#0000FF;stroke-width:2px;stroke-linecap:butt;stroke-linejoin:miter;stroke-opacity:1\"/>\n",
       "<path class=\"bond-3\" d=\"M 78.2379,135.547 L 85.7963,139.918\" style=\"fill:none;fill-rule:evenodd;stroke:#000000;stroke-width:2px;stroke-linecap:butt;stroke-linejoin:miter;stroke-opacity:1\"/>\n",
       "<path class=\"bond-4\" d=\"M 85.7963,139.918 L 105.979,128.289\" style=\"fill:none;fill-rule:evenodd;stroke:#000000;stroke-width:2px;stroke-linecap:butt;stroke-linejoin:miter;stroke-opacity:1\"/>\n",
       "<path class=\"bond-5\" d=\"M 105.979,128.289 L 105.986,119.554\" style=\"fill:none;fill-rule:evenodd;stroke:#000000;stroke-width:2px;stroke-linecap:butt;stroke-linejoin:miter;stroke-opacity:1\"/>\n",
       "<path class=\"bond-5\" d=\"M 105.986,119.554 L 105.993,110.818\" style=\"fill:none;fill-rule:evenodd;stroke:#FF0000;stroke-width:2px;stroke-linecap:butt;stroke-linejoin:miter;stroke-opacity:1\"/>\n",
       "<path class=\"bond-6\" d=\"M 105.979,128.289 L 126.144,139.951\" style=\"fill:none;fill-rule:evenodd;stroke:#000000;stroke-width:2px;stroke-linecap:butt;stroke-linejoin:miter;stroke-opacity:1\"/>\n",
       "<path class=\"bond-7\" d=\"M 126.144,139.951 L 133.516,135.704\" style=\"fill:none;fill-rule:evenodd;stroke:#000000;stroke-width:2px;stroke-linecap:butt;stroke-linejoin:miter;stroke-opacity:1\"/>\n",
       "<path class=\"bond-7\" d=\"M 133.516,135.704 L 140.888,131.456\" style=\"fill:none;fill-rule:evenodd;stroke:#FF0000;stroke-width:2px;stroke-linecap:butt;stroke-linejoin:miter;stroke-opacity:1\"/>\n",
       "<path class=\"bond-8\" d=\"M 151.766,131.468 L 159.129,135.726\" style=\"fill:none;fill-rule:evenodd;stroke:#FF0000;stroke-width:2px;stroke-linecap:butt;stroke-linejoin:miter;stroke-opacity:1\"/>\n",
       "<path class=\"bond-8\" d=\"M 159.129,135.726 L 166.492,139.984\" style=\"fill:none;fill-rule:evenodd;stroke:#000000;stroke-width:2px;stroke-linecap:butt;stroke-linejoin:miter;stroke-opacity:1\"/>\n",
       "<path class=\"bond-9\" d=\"M 166.492,139.984 L 166.473,163.279\" style=\"fill:none;fill-rule:evenodd;stroke:#000000;stroke-width:2px;stroke-linecap:butt;stroke-linejoin:miter;stroke-opacity:1\"/>\n",
       "<path class=\"bond-9\" d=\"M 170.682,143.481 L 170.669,159.788\" style=\"fill:none;fill-rule:evenodd;stroke:#000000;stroke-width:2px;stroke-linecap:butt;stroke-linejoin:miter;stroke-opacity:1\"/>\n",
       "<path class=\"bond-18\" d=\"M 166.492,139.984 L 186.675,128.35\" style=\"fill:none;fill-rule:evenodd;stroke:#000000;stroke-width:2px;stroke-linecap:butt;stroke-linejoin:miter;stroke-opacity:1\"/>\n",
       "<path class=\"bond-10\" d=\"M 166.473,163.279 L 186.638,174.945\" style=\"fill:none;fill-rule:evenodd;stroke:#000000;stroke-width:2px;stroke-linecap:butt;stroke-linejoin:miter;stroke-opacity:1\"/>\n",
       "<path class=\"bond-11\" d=\"M 186.638,174.945 L 206.821,163.312\" style=\"fill:none;fill-rule:evenodd;stroke:#000000;stroke-width:2px;stroke-linecap:butt;stroke-linejoin:miter;stroke-opacity:1\"/>\n",
       "<path class=\"bond-11\" d=\"M 187.571,169.568 L 201.699,161.424\" style=\"fill:none;fill-rule:evenodd;stroke:#000000;stroke-width:2px;stroke-linecap:butt;stroke-linejoin:miter;stroke-opacity:1\"/>\n",
       "<path class=\"bond-12\" d=\"M 206.821,163.312 L 226.985,174.973\" style=\"fill:none;fill-rule:evenodd;stroke:#000000;stroke-width:2px;stroke-linecap:butt;stroke-linejoin:miter;stroke-opacity:1\"/>\n",
       "<path class=\"bond-16\" d=\"M 206.821,163.312 L 206.839,140.016\" style=\"fill:none;fill-rule:evenodd;stroke:#000000;stroke-width:2px;stroke-linecap:butt;stroke-linejoin:miter;stroke-opacity:1\"/>\n",
       "<path class=\"bond-13\" d=\"M 226.985,174.973 L 247.168,163.344\" style=\"fill:none;fill-rule:evenodd;stroke:#000000;stroke-width:2px;stroke-linecap:butt;stroke-linejoin:miter;stroke-opacity:1\"/>\n",
       "<path class=\"bond-14\" d=\"M 247.168,163.344 L 254.727,167.716\" style=\"fill:none;fill-rule:evenodd;stroke:#000000;stroke-width:2px;stroke-linecap:butt;stroke-linejoin:miter;stroke-opacity:1\"/>\n",
       "<path class=\"bond-14\" d=\"M 254.727,167.716 L 262.285,172.087\" style=\"fill:none;fill-rule:evenodd;stroke:#0000FF;stroke-width:2px;stroke-linecap:butt;stroke-linejoin:miter;stroke-opacity:1\"/>\n",
       "<path class=\"bond-15\" d=\"M 249.265,163.346 L 249.272,154.61\" style=\"fill:none;fill-rule:evenodd;stroke:#000000;stroke-width:2px;stroke-linecap:butt;stroke-linejoin:miter;stroke-opacity:1\"/>\n",
       "<path class=\"bond-15\" d=\"M 249.272,154.61 L 249.279,145.874\" style=\"fill:none;fill-rule:evenodd;stroke:#FF0000;stroke-width:2px;stroke-linecap:butt;stroke-linejoin:miter;stroke-opacity:1\"/>\n",
       "<path class=\"bond-15\" d=\"M 245.072,163.343 L 245.079,154.607\" style=\"fill:none;fill-rule:evenodd;stroke:#000000;stroke-width:2px;stroke-linecap:butt;stroke-linejoin:miter;stroke-opacity:1\"/>\n",
       "<path class=\"bond-15\" d=\"M 245.079,154.607 L 245.086,145.871\" style=\"fill:none;fill-rule:evenodd;stroke:#FF0000;stroke-width:2px;stroke-linecap:butt;stroke-linejoin:miter;stroke-opacity:1\"/>\n",
       "<path class=\"bond-17\" d=\"M 206.839,140.016 L 186.675,128.35\" style=\"fill:none;fill-rule:evenodd;stroke:#000000;stroke-width:2px;stroke-linecap:butt;stroke-linejoin:miter;stroke-opacity:1\"/>\n",
       "<path class=\"bond-17\" d=\"M 201.715,141.896 L 187.6,133.729\" style=\"fill:none;fill-rule:evenodd;stroke:#000000;stroke-width:2px;stroke-linecap:butt;stroke-linejoin:miter;stroke-opacity:1\"/>\n",
       "<text dominant-baseline=\"central\" text-anchor=\"middle\" x=\"65.6318\" y=\"130.004\" style=\"font-size:11px;font-style:normal;font-weight:normal;fill-opacity:1;stroke:none;font-family:sans-serif;fill:#0000FF\"><tspan>N</tspan></text>\n",
       "<text dominant-baseline=\"central\" text-anchor=\"start\" x=\"61.7487\" y=\"118.356\" style=\"font-size:11px;font-style:normal;font-weight:normal;fill-opacity:1;stroke:none;font-family:sans-serif;fill:#0000FF\"><tspan>H</tspan></text>\n",
       "<text dominant-baseline=\"central\" text-anchor=\"start\" x=\"101.724\" y=\"106.741\" style=\"font-size:11px;font-style:normal;font-weight:normal;fill-opacity:1;stroke:none;font-family:sans-serif;fill:#000000\"><tspan>OH</tspan></text>\n",
       "<text dominant-baseline=\"central\" text-anchor=\"middle\" x=\"146.327\" y=\"130.069\" style=\"font-size:11px;font-style:normal;font-weight:normal;fill-opacity:1;stroke:none;font-family:sans-serif;fill:#FF0000\"><tspan>O</tspan></text>\n",
       "<text dominant-baseline=\"central\" text-anchor=\"start\" x=\"263.566\" y=\"176.928\" style=\"font-size:11px;font-style:normal;font-weight:normal;fill-opacity:1;stroke:none;font-family:sans-serif;fill:#0000FF\"><tspan>NH</tspan><tspan style=\"baseline-shift:sub;font-size:8.25px;\">2</tspan><tspan/></text>\n",
       "<text dominant-baseline=\"central\" text-anchor=\"start\" x=\"242.913\" y=\"141.796\" style=\"font-size:11px;font-style:normal;font-weight:normal;fill-opacity:1;stroke:none;font-family:sans-serif;fill:#FF0000\"><tspan>O</tspan></text>\n",
       "<text dominant-baseline=\"central\" text-anchor=\"middle\" x=\"150\" y=\"265\" style=\"font-size:12px;font-style:normal;font-weight:normal;fill-opacity:1;stroke:none;font-family:sans-serif;fill:#000000\"><tspan>atenelol</tspan></text>\n",
       "</svg>"
      ],
      "text/plain": [
       "<IPython.core.display.SVG object>"
      ]
     },
     "execution_count": 33,
     "metadata": {},
     "output_type": "execute_result"
    }
   ],
   "source": [
    "d2d = rdMolDraw2D.MolDraw2DSVG(600,280,300,280)\n",
    "dos = d2d.drawOptions()\n",
    "dos.atomHighlightsAreCircles = True\n",
    "dos.fillHighlights=False\n",
    "d2d.DrawMoleculeWithHighlights(atenolol,\"atenelol\",dict(atomHighlights),{},highlightRads,{})\n",
    "d2d.FinishDrawing()\n",
    "SVG(d2d.GetDrawingText())"
   ]
  },
  {
   "cell_type": "code",
   "execution_count": 34,
   "metadata": {},
   "outputs": [
    {
     "data": {
      "image/svg+xml": [
       "<svg xmlns=\"http://www.w3.org/2000/svg\" xmlns:rdkit=\"http://www.rdkit.org/xml\" xmlns:xlink=\"http://www.w3.org/1999/xlink\" version=\"1.1\" baseProfile=\"full\" xml:space=\"preserve\" width=\"400px\" height=\"400px\" viewBox=\"0 0 400 400\">\n",
       "<!-- END OF HEADER -->\n",
       "<rect style=\"opacity:1.0;fill:#FFFFFF;stroke:none\" width=\"400\" height=\"400\" x=\"0\" y=\"0\"> </rect>\n",
       "<path d=\"M 207.876,196.548 L 265.503,196.733 L 265.58,172.529 L 207.953,172.345 Z\" style=\"fill:#CC00CC;fill-rule:evenodd;fill-opacity=1;stroke:#CC00CC;stroke-width:2px;stroke-linecap:butt;stroke-linejoin:miter;stroke-opacity:1;\"/>\n",
       "<path d=\"M 254.02,188.332 L 271.642,243.193 L 294.685,235.791 L 277.063,180.93 Z\" style=\"fill:#CC00CC;fill-rule:evenodd;fill-opacity=1;stroke:#CC00CC;stroke-width:2px;stroke-linecap:butt;stroke-linejoin:miter;stroke-opacity:1;\"/>\n",
       "<path d=\"M 275.341,248.725 L 327.839,293.201 L 343.484,274.735 L 290.986,230.258 Z\" style=\"fill:#CCCC00;fill-rule:evenodd;fill-opacity=1;stroke:#CCCC00;stroke-width:2px;stroke-linecap:butt;stroke-linejoin:miter;stroke-opacity:1;\"/>\n",
       "<path d=\"M 323.63,282.666 L 317.43,339.958 L 341.492,342.563 L 347.693,285.27 Z\" style=\"fill:#CCCC00;fill-rule:evenodd;fill-opacity=1;stroke:#CCCC00;stroke-width:2px;stroke-linecap:butt;stroke-linejoin:miter;stroke-opacity:1;\"/>\n",
       "<path d=\"M 324.575,330.189 L 271.847,353.459 L 281.618,375.602 L 334.347,352.332 Z\" style=\"fill:#CCCC00;fill-rule:evenodd;fill-opacity=1;stroke:#CCCC00;stroke-width:2px;stroke-linecap:butt;stroke-linejoin:miter;stroke-opacity:1;\"/>\n",
       "<path d=\"M 283.878,354.763 L 237.373,320.74 L 223.082,340.274 L 269.587,374.297 Z\" style=\"fill:#CCCC00;fill-rule:evenodd;fill-opacity=1;stroke:#CCCC00;stroke-width:2px;stroke-linecap:butt;stroke-linejoin:miter;stroke-opacity:1;\"/>\n",
       "<path d=\"M 225.343,319.435 L 172.626,342.694 L 182.396,364.837 L 235.113,341.579 Z\" style=\"fill:#00CCCC;fill-rule:evenodd;fill-opacity=1;stroke:#00CCCC;stroke-width:2px;stroke-linecap:butt;stroke-linejoin:miter;stroke-opacity:1;\"/>\n",
       "<path d=\"M 184.655,343.998 L 138.139,309.975 L 123.85,329.51 L 170.366,363.533 Z\" style=\"fill:#00CCCC;fill-rule:evenodd;fill-opacity=1;stroke:#00CCCC;stroke-width:2px;stroke-linecap:butt;stroke-linejoin:miter;stroke-opacity:1;\"/>\n",
       "<path d=\"M 143.026,321.047 L 149.238,263.755 L 125.176,261.146 L 118.963,318.438 Z\" style=\"fill:#00CCCC;fill-rule:evenodd;fill-opacity=1;stroke:#00CCCC;stroke-width:2px;stroke-linecap:butt;stroke-linejoin:miter;stroke-opacity:1;\"/>\n",
       "<path d=\"M 142.091,273.522 L 194.808,250.264 L 185.039,228.12 L 132.322,251.378 Z\" style=\"fill:#00CCCC;fill-rule:evenodd;fill-opacity=1;stroke:#00CCCC;stroke-width:2px;stroke-linecap:butt;stroke-linejoin:miter;stroke-opacity:1;\"/>\n",
       "<path d=\"M 197.068,229.424 L 189.924,239.192 L 236.44,273.215 L 243.584,263.447 Z\" style=\"fill:#CC00CC;fill-rule:evenodd;fill-opacity=1;stroke:#CC00CC;stroke-width:2px;stroke-linecap:butt;stroke-linejoin:miter;stroke-opacity:1;\"/>\n",
       "<path d=\"M 189.924,239.192 L 182.779,248.96 L 229.296,282.983 L 236.44,273.215 Z\" style=\"fill:#00CCCC;fill-rule:evenodd;fill-opacity=1;stroke:#00CCCC;stroke-width:2px;stroke-linecap:butt;stroke-linejoin:miter;stroke-opacity:1;\"/>\n",
       "<path d=\"M 201.42,242.97 L 219.411,188.225 L 196.418,180.668 L 178.427,235.414 Z\" style=\"fill:#CC00CC;fill-rule:evenodd;fill-opacity=1;stroke:#CC00CC;stroke-width:2px;stroke-linecap:butt;stroke-linejoin:miter;stroke-opacity:1;\"/>\n",
       "<path d=\"M 229.358,263.402 L 236.44,273.215 L 283.164,239.492 L 276.081,229.679 Z\" style=\"fill:#CC00CC;fill-rule:evenodd;fill-opacity=1;stroke:#CC00CC;stroke-width:2px;stroke-linecap:butt;stroke-linejoin:miter;stroke-opacity:1;\"/>\n",
       "<path d=\"M 236.44,273.215 L 243.522,283.027 L 290.246,249.304 L 283.164,239.492 Z\" style=\"fill:#CCCC00;fill-rule:evenodd;fill-opacity=1;stroke:#CCCC00;stroke-width:2px;stroke-linecap:butt;stroke-linejoin:miter;stroke-opacity:1;\"/>\n",
       "<path d=\"M 248.471,274.519 L 236.44,273.215 L 230.228,330.507 L 242.259,331.812 Z\" style=\"fill:#CCCC00;fill-rule:evenodd;fill-opacity=1;stroke:#CCCC00;stroke-width:2px;stroke-linecap:butt;stroke-linejoin:miter;stroke-opacity:1;\"/>\n",
       "<path d=\"M 236.44,273.215 L 224.409,271.91 L 218.197,329.203 L 230.228,330.507 Z\" style=\"fill:#00CCCC;fill-rule:evenodd;fill-opacity=1;stroke:#00CCCC;stroke-width:2px;stroke-linecap:butt;stroke-linejoin:miter;stroke-opacity:1;\"/>\n",
       "<ellipse cx=\"207.915\" cy=\"184.447\" rx=\"17.288\" ry=\"17.288\" style=\"fill:#CC00CC;fill-rule:evenodd;stroke:#CC00CC;stroke-width:2px;stroke-linecap:butt;stroke-linejoin:miter;stroke-opacity:1\"/>\n",
       "<ellipse cx=\"265.541\" cy=\"184.631\" rx=\"17.288\" ry=\"17.288\" style=\"fill:#CC00CC;fill-rule:evenodd;stroke:#CC00CC;stroke-width:2px;stroke-linecap:butt;stroke-linejoin:miter;stroke-opacity:1\"/>\n",
       "<path d=\"M 283.164,222.204 L 281.698,222.266 L 280.242,222.452 L 278.807,222.761 L 277.404,223.191 L 276.043,223.738 L 274.732,224.399 L 273.483,225.168 L 272.303,226.041 L 271.201,227.01 L 270.186,228.07 L 269.264,229.212 L 268.442,230.427 L 267.727,231.708 L 267.122,233.046 L 266.633,234.429 L 266.264,235.849 L 266.016,237.296 L 265.891,238.758 L 265.891,240.225 L 266.016,241.688 L 266.264,243.134 L 266.633,244.554 L 267.122,245.938 L 267.727,247.275 L 268.442,248.556 L 269.264,249.772 L 270.186,250.913 L 271.201,251.973 L 272.303,252.942 L 273.483,253.815 L 274.732,254.584 L 276.043,255.245 L 277.404,255.792 L 278.807,256.222 L 280.242,256.531 L 281.698,256.717 L 283.164,256.78 L 283.164,239.492 Z\" style=\"fill:#CC00CC;fill-rule:evenodd;fill-opacity=1;stroke:#CC00CC;stroke-width:2px;stroke-linecap:butt;stroke-linejoin:miter;stroke-opacity:1;\"/>\n",
       "<path d=\"M 283.164,256.78 L 284.63,256.717 L 286.085,256.531 L 287.52,256.222 L 288.923,255.792 L 290.285,255.245 L 291.595,254.584 L 292.845,253.815 L 294.024,252.942 L 295.126,251.973 L 296.141,250.913 L 297.063,249.772 L 297.885,248.556 L 298.601,247.275 L 299.205,245.938 L 299.694,244.554 L 300.064,243.134 L 300.312,241.688 L 300.436,240.225 L 300.436,238.758 L 300.312,237.296 L 300.064,235.849 L 299.694,234.429 L 299.205,233.046 L 298.601,231.708 L 297.885,230.427 L 297.063,229.212 L 296.141,228.07 L 295.126,227.01 L 294.024,226.041 L 292.845,225.168 L 291.595,224.399 L 290.285,223.738 L 288.923,223.191 L 287.52,222.761 L 286.085,222.452 L 284.63,222.266 L 283.164,222.204 L 283.164,239.492 Z\" style=\"fill:#CCCC00;fill-rule:evenodd;fill-opacity=1;stroke:#CCCC00;stroke-width:2px;stroke-linecap:butt;stroke-linejoin:miter;stroke-opacity:1;\"/>\n",
       "<ellipse cx=\"335.662\" cy=\"283.968\" rx=\"17.288\" ry=\"17.288\" style=\"fill:#CCCC00;fill-rule:evenodd;stroke:#CCCC00;stroke-width:2px;stroke-linecap:butt;stroke-linejoin:miter;stroke-opacity:1\"/>\n",
       "<ellipse cx=\"329.461\" cy=\"341.26\" rx=\"17.288\" ry=\"17.288\" style=\"fill:#CCCC00;fill-rule:evenodd;stroke:#CCCC00;stroke-width:2px;stroke-linecap:butt;stroke-linejoin:miter;stroke-opacity:1\"/>\n",
       "<ellipse cx=\"276.733\" cy=\"364.53\" rx=\"17.288\" ry=\"17.288\" style=\"fill:#CCCC00;fill-rule:evenodd;stroke:#CCCC00;stroke-width:2px;stroke-linecap:butt;stroke-linejoin:miter;stroke-opacity:1\"/>\n",
       "<path d=\"M 230.228,313.219 L 228.762,313.282 L 227.306,313.468 L 225.872,313.777 L 224.468,314.207 L 223.107,314.754 L 221.796,315.415 L 220.547,316.184 L 219.367,317.057 L 218.265,318.026 L 217.25,319.086 L 216.328,320.227 L 215.506,321.443 L 214.791,322.724 L 214.186,324.061 L 213.697,325.445 L 213.328,326.865 L 213.08,328.311 L 212.955,329.774 L 212.955,331.241 L 213.08,332.703 L 213.328,334.15 L 213.697,335.57 L 214.186,336.953 L 214.791,338.29 L 215.506,339.572 L 216.328,340.787 L 217.25,341.929 L 218.265,342.989 L 219.367,343.958 L 220.547,344.831 L 221.796,345.6 L 223.107,346.261 L 224.468,346.808 L 225.872,347.238 L 227.306,347.547 L 228.762,347.733 L 230.228,347.795 L 230.228,330.507 Z\" style=\"fill:#CCCC00;fill-rule:evenodd;fill-opacity=1;stroke:#CCCC00;stroke-width:2px;stroke-linecap:butt;stroke-linejoin:miter;stroke-opacity:1;\"/>\n",
       "<path d=\"M 230.228,347.795 L 231.694,347.733 L 233.149,347.547 L 234.584,347.238 L 235.987,346.808 L 237.349,346.261 L 238.659,345.6 L 239.909,344.831 L 241.088,343.958 L 242.19,342.989 L 243.205,341.929 L 244.127,340.787 L 244.949,339.572 L 245.665,338.29 L 246.269,336.953 L 246.758,335.57 L 247.128,334.15 L 247.376,332.703 L 247.5,331.241 L 247.5,329.774 L 247.376,328.311 L 247.128,326.865 L 246.758,325.445 L 246.269,324.061 L 245.665,322.724 L 244.949,321.443 L 244.127,320.227 L 243.205,319.086 L 242.19,318.026 L 241.088,317.057 L 239.909,316.184 L 238.659,315.415 L 237.349,314.754 L 235.987,314.207 L 234.584,313.777 L 233.149,313.468 L 231.694,313.282 L 230.228,313.219 L 230.228,330.507 Z\" style=\"fill:#00CCCC;fill-rule:evenodd;fill-opacity=1;stroke:#00CCCC;stroke-width:2px;stroke-linecap:butt;stroke-linejoin:miter;stroke-opacity:1;\"/>\n",
       "<ellipse cx=\"177.511\" cy=\"353.765\" rx=\"17.288\" ry=\"17.288\" style=\"fill:#00CCCC;fill-rule:evenodd;stroke:#00CCCC;stroke-width:2px;stroke-linecap:butt;stroke-linejoin:miter;stroke-opacity:1\"/>\n",
       "<ellipse cx=\"130.994\" cy=\"319.743\" rx=\"17.288\" ry=\"17.288\" style=\"fill:#00CCCC;fill-rule:evenodd;stroke:#00CCCC;stroke-width:2px;stroke-linecap:butt;stroke-linejoin:miter;stroke-opacity:1\"/>\n",
       "<ellipse cx=\"137.207\" cy=\"262.45\" rx=\"17.288\" ry=\"17.288\" style=\"fill:#00CCCC;fill-rule:evenodd;stroke:#00CCCC;stroke-width:2px;stroke-linecap:butt;stroke-linejoin:miter;stroke-opacity:1\"/>\n",
       "<path d=\"M 189.924,221.904 L 188.457,221.966 L 187.002,222.153 L 185.567,222.462 L 184.164,222.891 L 182.803,223.439 L 181.492,224.099 L 180.243,224.869 L 179.063,225.741 L 177.961,226.711 L 176.946,227.77 L 176.024,228.912 L 175.202,230.128 L 174.487,231.409 L 173.882,232.746 L 173.393,234.13 L 173.024,235.55 L 172.776,236.996 L 172.651,238.458 L 172.651,239.926 L 172.776,241.388 L 173.024,242.834 L 173.393,244.254 L 173.882,245.638 L 174.487,246.975 L 175.202,248.256 L 176.024,249.472 L 176.946,250.614 L 177.961,251.673 L 179.063,252.643 L 180.243,253.515 L 181.492,254.285 L 182.803,254.945 L 184.164,255.492 L 185.567,255.922 L 187.002,256.231 L 188.457,256.418 L 189.924,256.48 L 189.924,239.192 Z\" style=\"fill:#CC00CC;fill-rule:evenodd;fill-opacity=1;stroke:#CC00CC;stroke-width:2px;stroke-linecap:butt;stroke-linejoin:miter;stroke-opacity:1;\"/>\n",
       "<path d=\"M 189.924,256.48 L 191.39,256.418 L 192.845,256.231 L 194.28,255.922 L 195.683,255.492 L 197.045,254.945 L 198.355,254.285 L 199.604,253.515 L 200.784,252.643 L 201.886,251.673 L 202.901,250.614 L 203.823,249.472 L 204.645,248.256 L 205.361,246.975 L 205.965,245.638 L 206.454,244.254 L 206.824,242.834 L 207.072,241.388 L 207.196,239.926 L 207.196,238.458 L 207.072,236.996 L 206.824,235.55 L 206.454,234.13 L 205.965,232.746 L 205.361,231.409 L 204.645,230.128 L 203.823,228.912 L 202.901,227.77 L 201.886,226.711 L 200.784,225.741 L 199.604,224.869 L 198.355,224.099 L 197.045,223.439 L 195.683,222.891 L 194.28,222.462 L 192.845,222.153 L 191.39,221.966 L 189.924,221.904 L 189.924,239.192 Z\" style=\"fill:#00CCCC;fill-rule:evenodd;fill-opacity=1;stroke:#00CCCC;stroke-width:2px;stroke-linecap:butt;stroke-linejoin:miter;stroke-opacity:1;\"/>\n",
       "<path d=\"M 251.412,264.571 L 250.636,263.348 L 249.761,262.195 L 248.792,261.119 L 247.736,260.128 L 246.602,259.228 L 245.396,258.427 L 244.127,257.73 L 242.804,257.141 L 241.437,256.665 L 240.034,256.305 L 238.607,256.063 L 237.164,255.942 L 235.716,255.942 L 234.273,256.063 L 232.846,256.305 L 231.443,256.665 L 230.076,257.141 L 228.753,257.73 L 227.484,258.427 L 226.278,259.228 L 225.144,260.128 L 224.088,261.119 L 223.119,262.195 L 222.244,263.348 L 221.468,264.571 L 236.44,273.215 Z\" style=\"fill:#CC00CC;fill-rule:evenodd;fill-opacity=1;stroke:#CC00CC;stroke-width:2px;stroke-linecap:butt;stroke-linejoin:miter;stroke-opacity:1;\"/>\n",
       "<path d=\"M 221.468,264.571 L 220.797,265.854 L 220.236,267.189 L 219.789,268.566 L 219.458,269.975 L 219.247,271.408 L 219.156,272.853 L 219.186,274.3 L 219.337,275.74 L 219.609,277.163 L 219.998,278.557 L 220.503,279.914 L 221.119,281.224 L 221.843,282.478 L 222.669,283.667 L 223.592,284.783 L 224.605,285.817 L 225.701,286.763 L 226.873,287.614 L 228.111,288.364 L 229.408,289.008 L 230.754,289.541 L 232.141,289.96 L 233.557,290.261 L 234.993,290.442 L 236.44,290.503 L 236.44,273.215 Z\" style=\"fill:#CCCC00;fill-rule:evenodd;fill-opacity=1;stroke:#CCCC00;stroke-width:2px;stroke-linecap:butt;stroke-linejoin:miter;stroke-opacity:1;\"/>\n",
       "<path d=\"M 236.44,290.503 L 237.887,290.442 L 239.323,290.261 L 240.739,289.96 L 242.125,289.541 L 243.472,289.008 L 244.768,288.364 L 246.007,287.614 L 247.178,286.763 L 248.274,285.817 L 249.287,284.783 L 250.21,283.667 L 251.037,282.478 L 251.761,281.224 L 252.377,279.914 L 252.882,278.557 L 253.271,277.163 L 253.542,275.74 L 253.694,274.3 L 253.724,272.853 L 253.633,271.408 L 253.422,269.975 L 253.091,268.566 L 252.644,267.189 L 252.083,265.854 L 251.412,264.571 L 236.44,273.215 Z\" style=\"fill:#00CCCC;fill-rule:evenodd;fill-opacity=1;stroke:#00CCCC;stroke-width:2px;stroke-linecap:butt;stroke-linejoin:miter;stroke-opacity:1;\"/>\n",
       "<path class=\"bond-0\" d=\"M 214.95,46.9952 L 206.379,66.0754\" style=\"fill:none;fill-rule:evenodd;stroke:#0000FF;stroke-width:2px;stroke-linecap:butt;stroke-linejoin:miter;stroke-opacity:1\"/>\n",
       "<path class=\"bond-0\" d=\"M 206.379,66.0754 L 197.807,85.1556\" style=\"fill:none;fill-rule:evenodd;stroke:#000000;stroke-width:2px;stroke-linecap:butt;stroke-linejoin:miter;stroke-opacity:1\"/>\n",
       "<path class=\"bond-0\" d=\"M 205.488,42.7445 L 198.202,58.9627\" style=\"fill:none;fill-rule:evenodd;stroke:#0000FF;stroke-width:2px;stroke-linecap:butt;stroke-linejoin:miter;stroke-opacity:1\"/>\n",
       "<path class=\"bond-0\" d=\"M 198.202,58.9627 L 190.917,75.1809\" style=\"fill:none;fill-rule:evenodd;stroke:#000000;stroke-width:2px;stroke-linecap:butt;stroke-linejoin:miter;stroke-opacity:1\"/>\n",
       "<path class=\"bond-0\" d=\"M 224.412,51.2459 L 217.126,67.4641\" style=\"fill:none;fill-rule:evenodd;stroke:#0000FF;stroke-width:2px;stroke-linecap:butt;stroke-linejoin:miter;stroke-opacity:1\"/>\n",
       "<path class=\"bond-0\" d=\"M 217.126,67.4641 L 209.84,83.6823\" style=\"fill:none;fill-rule:evenodd;stroke:#000000;stroke-width:2px;stroke-linecap:butt;stroke-linejoin:miter;stroke-opacity:1\"/>\n",
       "<path class=\"bond-1\" d=\"M 197.807,85.1556 L 174.191,137.711\" style=\"fill:none;fill-rule:evenodd;stroke:#000000;stroke-width:2px;stroke-linecap:butt;stroke-linejoin:miter;stroke-opacity:1\"/>\n",
       "<path class=\"bond-2\" d=\"M 174.191,137.711 L 116.864,143.543\" style=\"fill:none;fill-rule:evenodd;stroke:#000000;stroke-width:2px;stroke-linecap:butt;stroke-linejoin:miter;stroke-opacity:1\"/>\n",
       "<path class=\"bond-4\" d=\"M 174.191,137.711 L 207.915,184.447\" style=\"fill:none;fill-rule:evenodd;stroke:#000000;stroke-width:2px;stroke-linecap:butt;stroke-linejoin:miter;stroke-opacity:1\"/>\n",
       "<path class=\"bond-4\" d=\"M 187.662,138.652 L 211.268,171.367\" style=\"fill:none;fill-rule:evenodd;stroke:#000000;stroke-width:2px;stroke-linecap:butt;stroke-linejoin:miter;stroke-opacity:1\"/>\n",
       "<path class=\"bond-3\" d=\"M 116.864,143.543 L 94.4443,145.824\" style=\"fill:none;fill-rule:evenodd;stroke:#000000;stroke-width:2px;stroke-linecap:butt;stroke-linejoin:miter;stroke-opacity:1\"/>\n",
       "<path class=\"bond-3\" d=\"M 94.4443,145.824 L 72.0242,148.105\" style=\"fill:none;fill-rule:evenodd;stroke:#0000FF;stroke-width:2px;stroke-linecap:butt;stroke-linejoin:miter;stroke-opacity:1\"/>\n",
       "<path class=\"bond-3\" d=\"M 109.089,133.908 L 90.0315,135.846\" style=\"fill:none;fill-rule:evenodd;stroke:#000000;stroke-width:2px;stroke-linecap:butt;stroke-linejoin:miter;stroke-opacity:1\"/>\n",
       "<path class=\"bond-3\" d=\"M 90.0315,135.846 L 70.9744,137.785\" style=\"fill:none;fill-rule:evenodd;stroke:#0000FF;stroke-width:2px;stroke-linecap:butt;stroke-linejoin:miter;stroke-opacity:1\"/>\n",
       "<path class=\"bond-3\" d=\"M 111.188,154.547 L 92.1311,156.486\" style=\"fill:none;fill-rule:evenodd;stroke:#000000;stroke-width:2px;stroke-linecap:butt;stroke-linejoin:miter;stroke-opacity:1\"/>\n",
       "<path class=\"bond-3\" d=\"M 92.1311,156.486 L 73.074,158.424\" style=\"fill:none;fill-rule:evenodd;stroke:#0000FF;stroke-width:2px;stroke-linecap:butt;stroke-linejoin:miter;stroke-opacity:1\"/>\n",
       "<path class=\"bond-5\" d=\"M 207.915,184.447 L 265.541,184.631\" style=\"fill:none;fill-rule:evenodd;stroke:#000000;stroke-width:2px;stroke-linecap:butt;stroke-linejoin:miter;stroke-opacity:1\"/>\n",
       "<path class=\"bond-17\" d=\"M 207.915,184.447 L 189.924,239.192\" style=\"fill:none;fill-rule:evenodd;stroke:#000000;stroke-width:2px;stroke-linecap:butt;stroke-linejoin:miter;stroke-opacity:1\"/>\n",
       "<path class=\"bond-6\" d=\"M 269.727,187.693 L 281.469,171.644\" style=\"fill:none;fill-rule:evenodd;stroke:#000000;stroke-width:2px;stroke-linecap:butt;stroke-linejoin:miter;stroke-opacity:1\"/>\n",
       "<path class=\"bond-6\" d=\"M 281.469,171.644 L 293.21,155.595\" style=\"fill:none;fill-rule:evenodd;stroke:#FF0000;stroke-width:2px;stroke-linecap:butt;stroke-linejoin:miter;stroke-opacity:1\"/>\n",
       "<path class=\"bond-6\" d=\"M 261.356,181.569 L 273.097,165.52\" style=\"fill:none;fill-rule:evenodd;stroke:#000000;stroke-width:2px;stroke-linecap:butt;stroke-linejoin:miter;stroke-opacity:1\"/>\n",
       "<path class=\"bond-6\" d=\"M 273.097,165.52 L 284.839,149.471\" style=\"fill:none;fill-rule:evenodd;stroke:#FF0000;stroke-width:2px;stroke-linecap:butt;stroke-linejoin:miter;stroke-opacity:1\"/>\n",
       "<path class=\"bond-7\" d=\"M 265.541,184.631 L 283.164,239.492\" style=\"fill:none;fill-rule:evenodd;stroke:#000000;stroke-width:2px;stroke-linecap:butt;stroke-linejoin:miter;stroke-opacity:1\"/>\n",
       "<path class=\"bond-8\" d=\"M 283.164,239.492 L 335.662,283.968\" style=\"fill:none;fill-rule:evenodd;stroke:#000000;stroke-width:2px;stroke-linecap:butt;stroke-linejoin:miter;stroke-opacity:1\"/>\n",
       "<path class=\"bond-8\" d=\"M 279.863,259.354 L 316.612,290.487\" style=\"fill:none;fill-rule:evenodd;stroke:#000000;stroke-width:2px;stroke-linecap:butt;stroke-linejoin:miter;stroke-opacity:1\"/>\n",
       "<path class=\"bond-18\" d=\"M 283.164,239.492 L 236.44,273.215\" style=\"fill:none;fill-rule:evenodd;stroke:#000000;stroke-width:2px;stroke-linecap:butt;stroke-linejoin:miter;stroke-opacity:1\"/>\n",
       "<path class=\"bond-9\" d=\"M 335.662,283.968 L 329.461,341.26\" style=\"fill:none;fill-rule:evenodd;stroke:#000000;stroke-width:2px;stroke-linecap:butt;stroke-linejoin:miter;stroke-opacity:1\"/>\n",
       "<path class=\"bond-10\" d=\"M 329.461,341.26 L 276.733,364.53\" style=\"fill:none;fill-rule:evenodd;stroke:#000000;stroke-width:2px;stroke-linecap:butt;stroke-linejoin:miter;stroke-opacity:1\"/>\n",
       "<path class=\"bond-10\" d=\"M 317.364,335.261 L 280.454,351.55\" style=\"fill:none;fill-rule:evenodd;stroke:#000000;stroke-width:2px;stroke-linecap:butt;stroke-linejoin:miter;stroke-opacity:1\"/>\n",
       "<path class=\"bond-11\" d=\"M 276.733,364.53 L 230.228,330.507\" style=\"fill:none;fill-rule:evenodd;stroke:#000000;stroke-width:2px;stroke-linecap:butt;stroke-linejoin:miter;stroke-opacity:1\"/>\n",
       "<path class=\"bond-12\" d=\"M 230.228,330.507 L 177.511,353.765\" style=\"fill:none;fill-rule:evenodd;stroke:#000000;stroke-width:2px;stroke-linecap:butt;stroke-linejoin:miter;stroke-opacity:1\"/>\n",
       "<path class=\"bond-19\" d=\"M 230.228,330.507 L 236.44,273.215\" style=\"fill:none;fill-rule:evenodd;stroke:#000000;stroke-width:2px;stroke-linecap:butt;stroke-linejoin:miter;stroke-opacity:1\"/>\n",
       "<path class=\"bond-19\" d=\"M 241.472,323.032 L 245.82,282.927\" style=\"fill:none;fill-rule:evenodd;stroke:#000000;stroke-width:2px;stroke-linecap:butt;stroke-linejoin:miter;stroke-opacity:1\"/>\n",
       "<path class=\"bond-13\" d=\"M 177.511,353.765 L 130.994,319.743\" style=\"fill:none;fill-rule:evenodd;stroke:#000000;stroke-width:2px;stroke-linecap:butt;stroke-linejoin:miter;stroke-opacity:1\"/>\n",
       "<path class=\"bond-13\" d=\"M 176.657,340.29 L 144.096,316.474\" style=\"fill:none;fill-rule:evenodd;stroke:#000000;stroke-width:2px;stroke-linecap:butt;stroke-linejoin:miter;stroke-opacity:1\"/>\n",
       "<path class=\"bond-14\" d=\"M 130.994,319.743 L 137.207,262.45\" style=\"fill:none;fill-rule:evenodd;stroke:#000000;stroke-width:2px;stroke-linecap:butt;stroke-linejoin:miter;stroke-opacity:1\"/>\n",
       "<path class=\"bond-15\" d=\"M 137.207,262.45 L 189.924,239.192\" style=\"fill:none;fill-rule:evenodd;stroke:#000000;stroke-width:2px;stroke-linecap:butt;stroke-linejoin:miter;stroke-opacity:1\"/>\n",
       "<path class=\"bond-15\" d=\"M 149.301,268.452 L 186.203,252.171\" style=\"fill:none;fill-rule:evenodd;stroke:#000000;stroke-width:2px;stroke-linecap:butt;stroke-linejoin:miter;stroke-opacity:1\"/>\n",
       "<path class=\"bond-16\" d=\"M 189.924,239.192 L 236.44,273.215\" style=\"fill:none;fill-rule:evenodd;stroke:#000000;stroke-width:2px;stroke-linecap:butt;stroke-linejoin:miter;stroke-opacity:1\"/>\n",
       "<text dominant-baseline=\"central\" text-anchor=\"start\" x=\"211.817\" y=\"36.9105\" style=\"font-size:28px;font-style:normal;font-weight:normal;fill-opacity:1;stroke:none;font-family:sans-serif;fill:#0000FF\"><tspan>N</tspan></text>\n",
       "<text dominant-baseline=\"central\" text-anchor=\"end\" x=\"69.1429\" y=\"153.697\" style=\"font-size:28px;font-style:normal;font-weight:normal;fill-opacity:1;stroke:none;font-family:sans-serif;fill:#0000FF\"><tspan>N</tspan></text>\n",
       "<text dominant-baseline=\"central\" text-anchor=\"start\" x=\"288.99\" y=\"142.448\" style=\"font-size:28px;font-style:normal;font-weight:normal;fill-opacity:1;stroke:none;font-family:sans-serif;fill:#FF0000\"><tspan>O</tspan></text>\n",
       "<text dominant-baseline=\"central\" text-anchor=\"middle\" x=\"200\" y=\"377.8\" style=\"font-size:12px;font-style:normal;font-weight:normal;fill-opacity:1;stroke:none;font-family:sans-serif;fill:#000000\"><tspan>CHEMBL2314369</tspan></text>\n",
       "</svg>"
      ],
      "text/plain": [
       "<IPython.core.display.SVG object>"
      ]
     },
     "execution_count": 34,
     "metadata": {},
     "output_type": "execute_result"
    }
   ],
   "source": [
    "chembl2314369=Chem.MolFromSmiles('N#CC(C#N)=C1C(=O)c2cccc3cccc1c23')\n",
    "rings = chembl2314369.GetRingInfo()\n",
    "\n",
    "colors = [(0.8,0.0,0.8),(0.8,0.8,0),(0,0.8,0.8),(0,0,0.8)]\n",
    "\n",
    "athighlights = defaultdict(list)\n",
    "arads = {}\n",
    "for i,rng in enumerate(rings.AtomRings()):\n",
    "    for aid in rng:\n",
    "        athighlights[aid].append(colors[i])\n",
    "        arads[aid] = 0.3\n",
    "\n",
    "bndhighlights = defaultdict(list)\n",
    "for i,rng in enumerate(rings.BondRings()):\n",
    "    for bid in rng:\n",
    "        bndhighlights[bid].append(colors[i])\n",
    "    \n",
    "d2d = rdMolDraw2D.MolDraw2DSVG(400,400)\n",
    "d2d.DrawMoleculeWithHighlights(chembl2314369,'CHEMBL2314369',dict(athighlights),dict(bndhighlights),arads,{})\n",
    "d2d.FinishDrawing()\n",
    "SVG(d2d.GetDrawingText())"
   ]
  },
  {
   "cell_type": "code",
   "execution_count": 35,
   "metadata": {},
   "outputs": [
    {
     "name": "stdout",
     "output_type": "stream",
     "text": [
      "2020.03.4\n"
     ]
    }
   ],
   "source": [
    "from rdkit import Chem\n",
    "from rdkit.Chem import Draw\n",
    "from rdkit.Chem.Draw import IPythonConsole\n",
    "IPythonConsole.molSize=(450,350)\n",
    "from rdkit.Chem import rdRGroupDecomposition\n",
    "from rdkit.Chem import rdqueries\n",
    "from rdkit.Chem import rdDepictor\n",
    "from rdkit.Chem.Draw import rdMolDraw2D\n",
    "from rdkit import Geometry\n",
    "rdDepictor.SetPreferCoordGen(True)\n",
    "import pandas as pd\n",
    "\n",
    "from IPython.display import SVG,Image\n",
    "from ipywidgets import interact\n",
    "\n",
    "import rdkit\n",
    "print(rdkit.__version__)"
   ]
  },
  {
   "cell_type": "code",
   "execution_count": 36,
   "metadata": {},
   "outputs": [
    {
     "data": {
      "text/html": [
       "<div>\n",
       "<style scoped>\n",
       "    .dataframe tbody tr th:only-of-type {\n",
       "        vertical-align: middle;\n",
       "    }\n",
       "\n",
       "    .dataframe tbody tr th {\n",
       "        vertical-align: top;\n",
       "    }\n",
       "\n",
       "    .dataframe thead th {\n",
       "        text-align: right;\n",
       "    }\n",
       "</style>\n",
       "<table border=\"1\" class=\"dataframe\">\n",
       "  <thead>\n",
       "    <tr style=\"text-align: right;\">\n",
       "      <th></th>\n",
       "      <th>assay_id</th>\n",
       "      <th>doc_id</th>\n",
       "      <th>description</th>\n",
       "      <th>assay_organism</th>\n",
       "      <th>assay_chembl_id</th>\n",
       "      <th>aidx</th>\n",
       "      <th>pref_name</th>\n",
       "      <th>activity_id</th>\n",
       "      <th>molregno</th>\n",
       "      <th>standard_relation</th>\n",
       "      <th>...</th>\n",
       "      <th>src_id (#1)</th>\n",
       "      <th>type</th>\n",
       "      <th>relation</th>\n",
       "      <th>value</th>\n",
       "      <th>units</th>\n",
       "      <th>text_value</th>\n",
       "      <th>standard_text_value</th>\n",
       "      <th>standard_inchi_key</th>\n",
       "      <th>canonical_smiles</th>\n",
       "      <th>compound_chembl_id</th>\n",
       "    </tr>\n",
       "  </thead>\n",
       "  <tbody>\n",
       "    <tr>\n",
       "      <th>0</th>\n",
       "      <td>50641</td>\n",
       "      <td>17759</td>\n",
       "      <td>Inhibitory activity against human CDK2 (Cyclin...</td>\n",
       "      <td>NaN</td>\n",
       "      <td>CHEMBL658107</td>\n",
       "      <td>CLD0</td>\n",
       "      <td>Cyclin-dependent kinase 2</td>\n",
       "      <td>265814</td>\n",
       "      <td>68026</td>\n",
       "      <td>&gt;</td>\n",
       "      <td>...</td>\n",
       "      <td>1</td>\n",
       "      <td>Ki</td>\n",
       "      <td>&gt;</td>\n",
       "      <td>20.00</td>\n",
       "      <td>uM</td>\n",
       "      <td>NaN</td>\n",
       "      <td>NaN</td>\n",
       "      <td>RPXWUUDZINQPTJ-UHFFFAOYSA-N</td>\n",
       "      <td>CNc1nccc(n1)c2sc(C)nc2C</td>\n",
       "      <td>CHEMBL46474</td>\n",
       "    </tr>\n",
       "    <tr>\n",
       "      <th>1</th>\n",
       "      <td>50641</td>\n",
       "      <td>17759</td>\n",
       "      <td>Inhibitory activity against human CDK2 (Cyclin...</td>\n",
       "      <td>NaN</td>\n",
       "      <td>CHEMBL658107</td>\n",
       "      <td>CLD0</td>\n",
       "      <td>Cyclin-dependent kinase 2</td>\n",
       "      <td>265817</td>\n",
       "      <td>67880</td>\n",
       "      <td>=</td>\n",
       "      <td>...</td>\n",
       "      <td>1</td>\n",
       "      <td>Ki</td>\n",
       "      <td>=</td>\n",
       "      <td>0.14</td>\n",
       "      <td>uM</td>\n",
       "      <td>NaN</td>\n",
       "      <td>NaN</td>\n",
       "      <td>GDZTURHUKDAJGD-UHFFFAOYSA-N</td>\n",
       "      <td>Cc1nc(C)c(s1)c2ccnc(Nc3ccc(O)cc3)n2</td>\n",
       "      <td>CHEMBL442957</td>\n",
       "    </tr>\n",
       "    <tr>\n",
       "      <th>2</th>\n",
       "      <td>50641</td>\n",
       "      <td>17759</td>\n",
       "      <td>Inhibitory activity against human CDK2 (Cyclin...</td>\n",
       "      <td>NaN</td>\n",
       "      <td>CHEMBL658107</td>\n",
       "      <td>CLD0</td>\n",
       "      <td>Cyclin-dependent kinase 2</td>\n",
       "      <td>267078</td>\n",
       "      <td>67751</td>\n",
       "      <td>=</td>\n",
       "      <td>...</td>\n",
       "      <td>1</td>\n",
       "      <td>Ki</td>\n",
       "      <td>=</td>\n",
       "      <td>6.50</td>\n",
       "      <td>uM</td>\n",
       "      <td>NaN</td>\n",
       "      <td>NaN</td>\n",
       "      <td>CTFDMGIBHFQWKB-UHFFFAOYSA-N</td>\n",
       "      <td>Cc1nc(C)c(s1)c2ccnc(N)n2</td>\n",
       "      <td>CHEMBL47302</td>\n",
       "    </tr>\n",
       "    <tr>\n",
       "      <th>3</th>\n",
       "      <td>50641</td>\n",
       "      <td>17759</td>\n",
       "      <td>Inhibitory activity against human CDK2 (Cyclin...</td>\n",
       "      <td>NaN</td>\n",
       "      <td>CHEMBL658107</td>\n",
       "      <td>CLD0</td>\n",
       "      <td>Cyclin-dependent kinase 2</td>\n",
       "      <td>267081</td>\n",
       "      <td>67782</td>\n",
       "      <td>=</td>\n",
       "      <td>...</td>\n",
       "      <td>1</td>\n",
       "      <td>Ki</td>\n",
       "      <td>=</td>\n",
       "      <td>1.20</td>\n",
       "      <td>uM</td>\n",
       "      <td>NaN</td>\n",
       "      <td>NaN</td>\n",
       "      <td>HOKDXVAONYXHJK-UHFFFAOYSA-N</td>\n",
       "      <td>Cc1nc(C)c(s1)c2ccnc(Nc3ccccc3F)n2</td>\n",
       "      <td>CHEMBL297447</td>\n",
       "    </tr>\n",
       "    <tr>\n",
       "      <th>4</th>\n",
       "      <td>50641</td>\n",
       "      <td>17759</td>\n",
       "      <td>Inhibitory activity against human CDK2 (Cyclin...</td>\n",
       "      <td>NaN</td>\n",
       "      <td>CHEMBL658107</td>\n",
       "      <td>CLD0</td>\n",
       "      <td>Cyclin-dependent kinase 2</td>\n",
       "      <td>267084</td>\n",
       "      <td>67961</td>\n",
       "      <td>=</td>\n",
       "      <td>...</td>\n",
       "      <td>1</td>\n",
       "      <td>Ki</td>\n",
       "      <td>=</td>\n",
       "      <td>0.11</td>\n",
       "      <td>uM</td>\n",
       "      <td>NaN</td>\n",
       "      <td>NaN</td>\n",
       "      <td>XNKSRGHGPSHYIW-UHFFFAOYSA-N</td>\n",
       "      <td>CNc1nc(C)c(s1)c2ccnc(Nc3cccc(O)c3)n2</td>\n",
       "      <td>CHEMBL44119</td>\n",
       "    </tr>\n",
       "  </tbody>\n",
       "</table>\n",
       "<p>5 rows × 28 columns</p>\n",
       "</div>"
      ],
      "text/plain": [
       "   assay_id  doc_id                                        description  \\\n",
       "0     50641   17759  Inhibitory activity against human CDK2 (Cyclin...   \n",
       "1     50641   17759  Inhibitory activity against human CDK2 (Cyclin...   \n",
       "2     50641   17759  Inhibitory activity against human CDK2 (Cyclin...   \n",
       "3     50641   17759  Inhibitory activity against human CDK2 (Cyclin...   \n",
       "4     50641   17759  Inhibitory activity against human CDK2 (Cyclin...   \n",
       "\n",
       "  assay_organism assay_chembl_id  aidx                  pref_name  \\\n",
       "0            NaN    CHEMBL658107  CLD0  Cyclin-dependent kinase 2   \n",
       "1            NaN    CHEMBL658107  CLD0  Cyclin-dependent kinase 2   \n",
       "2            NaN    CHEMBL658107  CLD0  Cyclin-dependent kinase 2   \n",
       "3            NaN    CHEMBL658107  CLD0  Cyclin-dependent kinase 2   \n",
       "4            NaN    CHEMBL658107  CLD0  Cyclin-dependent kinase 2   \n",
       "\n",
       "   activity_id  molregno standard_relation  ...  src_id (#1) type  relation  \\\n",
       "0       265814     68026                 >  ...            1   Ki         >   \n",
       "1       265817     67880                 =  ...            1   Ki         =   \n",
       "2       267078     67751                 =  ...            1   Ki         =   \n",
       "3       267081     67782                 =  ...            1   Ki         =   \n",
       "4       267084     67961                 =  ...            1   Ki         =   \n",
       "\n",
       "   value  units  text_value  standard_text_value           standard_inchi_key  \\\n",
       "0  20.00     uM         NaN                  NaN  RPXWUUDZINQPTJ-UHFFFAOYSA-N   \n",
       "1   0.14     uM         NaN                  NaN  GDZTURHUKDAJGD-UHFFFAOYSA-N   \n",
       "2   6.50     uM         NaN                  NaN  CTFDMGIBHFQWKB-UHFFFAOYSA-N   \n",
       "3   1.20     uM         NaN                  NaN  HOKDXVAONYXHJK-UHFFFAOYSA-N   \n",
       "4   0.11     uM         NaN                  NaN  XNKSRGHGPSHYIW-UHFFFAOYSA-N   \n",
       "\n",
       "                       canonical_smiles compound_chembl_id  \n",
       "0               CNc1nccc(n1)c2sc(C)nc2C        CHEMBL46474  \n",
       "1   Cc1nc(C)c(s1)c2ccnc(Nc3ccc(O)cc3)n2       CHEMBL442957  \n",
       "2              Cc1nc(C)c(s1)c2ccnc(N)n2        CHEMBL47302  \n",
       "3     Cc1nc(C)c(s1)c2ccnc(Nc3ccccc3F)n2       CHEMBL297447  \n",
       "4  CNc1nc(C)c(s1)c2ccnc(Nc3cccc(O)c3)n2        CHEMBL44119  \n",
       "\n",
       "[5 rows x 28 columns]"
      ]
     },
     "execution_count": 36,
     "metadata": {},
     "output_type": "execute_result"
    }
   ],
   "source": [
    "df = pd.read_csv('cdk2_rgd_dataset.csv')\n",
    "df.head()"
   ]
  },
  {
   "cell_type": "code",
   "execution_count": null,
   "metadata": {},
   "outputs": [],
   "source": []
  }
 ],
 "metadata": {
  "kernelspec": {
   "display_name": "Python 3",
   "language": "python",
   "name": "python3"
  },
  "language_info": {
   "codemirror_mode": {
    "name": "ipython",
    "version": 3
   },
   "file_extension": ".py",
   "mimetype": "text/x-python",
   "name": "python",
   "nbconvert_exporter": "python",
   "pygments_lexer": "ipython3",
   "version": "3.8.6"
  }
 },
 "nbformat": 4,
 "nbformat_minor": 4
}
