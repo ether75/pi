{
 "cells": [
  {
   "cell_type": "code",
   "execution_count": 1,
   "metadata": {},
   "outputs": [
    {
     "name": "stdout",
     "output_type": "stream",
     "text": [
      "Made a lattice for Ag:  <class 'ase.lattice.FCC'>\n"
     ]
    }
   ],
   "source": [
    "import ase.lattice\n",
    "ag_lattice = ase.lattice.FCC(a=4.09)\n",
    "print(\"Made a lattice for Ag: \", type(ag_lattice))\n",
    "assert isinstance(ag_lattice,\n",
    "        ase.lattice.BravaisLattice)"
   ]
  },
  {
   "cell_type": "code",
   "execution_count": 2,
   "metadata": {},
   "outputs": [
    {
     "name": "stdout",
     "output_type": "stream",
     "text": [
      "Cell([[0.0, 2.045, 2.045], [2.045, 0.0, 2.045], [2.045, 2.045, 0.0]])\n"
     ]
    }
   ],
   "source": [
    "from ase import Atoms\n",
    "ag_cell = ag_lattice.tocell()\n",
    "ag_atoms = Atoms('Ag', cell=ag_cell, pbc=True)\n",
    "print(ag_atoms.cell)"
   ]
  },
  {
   "cell_type": "code",
   "execution_count": 3,
   "metadata": {},
   "outputs": [],
   "source": [
    "from ase.visualize import view\n",
    "view(ag_atoms)"
   ]
  },
  {
   "cell_type": "code",
   "execution_count": null,
   "metadata": {},
   "outputs": [],
   "source": []
  }
 ],
 "metadata": {
  "kernelspec": {
   "display_name": "SageMath 9.2",
   "language": "sage",
   "name": "sagemath"
  },
  "language_info": {
   "codemirror_mode": {
    "name": "ipython",
    "version": 3
   },
   "file_extension": ".py",
   "mimetype": "text/x-python",
   "name": "python",
   "nbconvert_exporter": "python",
   "pygments_lexer": "ipython3",
   "version": "3.8.6"
  }
 },
 "nbformat": 4,
 "nbformat_minor": 4
}
