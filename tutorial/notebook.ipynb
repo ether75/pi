{
 "cells": [
  {
   "cell_type": "markdown",
   "metadata": {},
   "source": [
    "## <center> AMBER Tutorial </center>\n",
    "# <center> Interactive data analysis with NGLView, pytraj and Jupyter notebook </center>\n",
    "### <center> By Hai Nguyen (BSD 2-clause) </center>"
   ]
  },
  {
   "cell_type": "markdown",
   "metadata": {},
   "source": [
    "## What is NGLView?\n",
    "\n",
    "[NGLView](https://github.com/arose/nglview) is a viewer for molecular structures and trajectories in [Jupyter notebook](http://jupyter.org/)."
   ]
  },
  {
   "cell_type": "markdown",
   "metadata": {},
   "source": [
    "## Requirement\n",
    "\n",
    "- [AmberTools >= 16](http://ambermd.org/#AmberTools)\n",
    "- If you allow AMBER to install Python distribution from Miniconda, you have most needed packages (except NGLView) for this tutorial.\n",
    "- If not, you need to install (either using `pip` or `conda`)\n",
    "    ```bash\n",
    "    conda install jupyter notebook\n",
    "    ```\n",
    "- Install [NGLView development version](https://github.com/arose/nglview): \n",
    "    ```bash\n",
    "     amber.conda install nglview==0.5.1 -c ambermd\n",
    "    ```\n",
    "- You know how to use Linux command line. If not, please check [basic AMBER tutorial](http://ambermd.org/tutorials/basic/tutorial0/)\n",
    "- You know how to open a Jupyter notebook"
   ]
  },
  {
   "cell_type": "markdown",
   "metadata": {},
   "source": [
    "## How to follow this tutorial?\n",
    "\n",
    "- Open notebook\n",
    "   ```bash\n",
    "   amber.jupyter notebook notebook.ipynb\n",
    "   # where notebook.ipynb is the name of this notebook\n",
    "   ```\n",
    "- Just copy and paste commands to your notebook, then hit \"**Ctrl-Enter**\"\n",
    "\n",
    "- Files: [tutorial_files.zip](tutorial_files.zip)"
   ]
  },
  {
   "cell_type": "markdown",
   "metadata": {},
   "source": [
    "# Example: View a single pdb file"
   ]
  },
  {
   "cell_type": "code",
   "execution_count": 1,
   "metadata": {
    "scrolled": true
   },
   "outputs": [
    {
     "data": {
      "application/vnd.jupyter.widget-view+json": {
       "model_id": "939e9b2fad8849afab9e430edf0b3812",
       "version_major": 2,
       "version_minor": 0
      },
      "text/plain": []
     },
     "metadata": {},
     "output_type": "display_data"
    },
    {
     "name": "stdout",
     "output_type": "stream",
     "text": [
      "nglview version = 2.7.7\n",
      "pytraj version = 2.0.5.dev0\n"
     ]
    },
    {
     "data": {
      "application/vnd.jupyter.widget-view+json": {
       "model_id": "f68dd1705da14efa9737deaad67690d1",
       "version_major": 2,
       "version_minor": 0
      },
      "text/plain": [
       "NGLWidget()"
      ]
     },
     "metadata": {},
     "output_type": "display_data"
    }
   ],
   "source": [
    "import warnings\n",
    "warnings.filterwarnings('ignore') # make the notebook nicer\n",
    "from __future__ import print_function\n",
    "\n",
    "import pytraj as pt\n",
    "import nglview as nv\n",
    "\n",
    "print(\"nglview version = {}\".format(nv.__version__))\n",
    "print(\"pytraj version = {}\".format(pt.__version__))\n",
    "\n",
    "traj = pt.load('data/wt1mg.pdb')\n",
    "view = nv.show_pytraj(traj);view"
   ]
  },
  {
   "cell_type": "markdown",
   "metadata": {},
   "source": [
    "You should expect to see"
   ]
  },
  {
   "cell_type": "code",
   "execution_count": 2,
   "metadata": {},
   "outputs": [
    {
     "data": {
      "application/vnd.jupyter.widget-view+json": {
       "model_id": "7cef57096a2f4ab8a2fb83835b029880",
       "version_major": 2,
       "version_minor": 0
      },
      "text/plain": [
       "Image(value=b'', width='99%')"
      ]
     },
     "metadata": {},
     "output_type": "display_data"
    }
   ],
   "source": [
    "view.render_image()"
   ]
  },
  {
   "cell_type": "code",
   "execution_count": 3,
   "metadata": {},
   "outputs": [
    {
     "data": {
      "image/png": "\n",
      "text/plain": [
       "<IPython.core.display.Image object>"
      ]
     },
     "execution_count": 3,
     "metadata": {},
     "output_type": "execute_result"
    }
   ],
   "source": [
    "view._display_image()"
   ]
  },
  {
   "cell_type": "markdown",
   "metadata": {},
   "source": [
    "### Please see a similiar visualization in [live view](view.html) or try below\n",
    "\n",
    "If you are running this notebook, your will have more controls."
   ]
  },
  {
   "cell_type": "code",
   "execution_count": 4,
   "metadata": {},
   "outputs": [
    {
     "data": {
      "text/html": [
       "\n",
       "        <iframe\n",
       "            width=\"700\"\n",
       "            height=\"700\"\n",
       "            src=\"view.html\"\n",
       "            frameborder=\"0\"\n",
       "            allowfullscreen\n",
       "        ></iframe>\n",
       "        "
      ],
      "text/plain": [
       "<IPython.lib.display.IFrame at 0x7f8addbc5490>"
      ]
     },
     "execution_count": 4,
     "metadata": {},
     "output_type": "execute_result"
    }
   ],
   "source": [
    "from IPython.display import IFrame\n",
    "\n",
    "IFrame(src=\"view.html\", width=700, height=700)"
   ]
  },
  {
   "cell_type": "markdown",
   "metadata": {},
   "source": [
    "# Example: View an AMBER trajectory"
   ]
  },
  {
   "cell_type": "code",
   "execution_count": 5,
   "metadata": {},
   "outputs": [
    {
     "data": {
      "application/vnd.jupyter.widget-view+json": {
       "model_id": "845e58e3fa4e4b1f9b91e11d83723739",
       "version_major": 2,
       "version_minor": 0
      },
      "text/plain": [
       "NGLWidget(max_frame=99)"
      ]
     },
     "metadata": {},
     "output_type": "display_data"
    }
   ],
   "source": [
    "traj2 = pt.load('data/DPDP.nc', 'data/DPDP.parm7')\n",
    "\n",
    "# superpose to 1st frame, using only CA atoms\n",
    "traj2.superpose(ref=0, mask='@CA')\n",
    "\n",
    "view2 = nv.show_pytraj(traj2)\n",
    "view2.clear_representations()\n",
    "view2.add_representation('ball+stick')\n",
    "view2.add_representation('licorice', \n",
    "                        selection='not hydrogen')\n",
    "view2"
   ]
  },
  {
   "cell_type": "markdown",
   "metadata": {},
   "source": [
    "You should expect to see "
   ]
  },
  {
   "cell_type": "code",
   "execution_count": 6,
   "metadata": {},
   "outputs": [
    {
     "data": {
      "application/vnd.jupyter.widget-view+json": {
       "model_id": "04cdc839cbe940e9b56a285d16cd18f8",
       "version_major": 2,
       "version_minor": 0
      },
      "text/plain": [
       "Image(value=b'', width='99%')"
      ]
     },
     "metadata": {},
     "output_type": "display_data"
    }
   ],
   "source": [
    "view2.render_image()"
   ]
  },
  {
   "cell_type": "code",
   "execution_count": 7,
   "metadata": {},
   "outputs": [
    {
     "data": {
      "image/png": "\n",
      "text/plain": [
       "<IPython.core.display.Image object>"
      ]
     },
     "execution_count": 7,
     "metadata": {},
     "output_type": "execute_result"
    }
   ],
   "source": [
    "view2._display_image()"
   ]
  },
  {
   "cell_type": "markdown",
   "metadata": {},
   "source": [
    "# Example: Load ccp4 data"
   ]
  },
  {
   "cell_type": "code",
   "execution_count": 8,
   "metadata": {},
   "outputs": [
    {
     "data": {
      "application/vnd.jupyter.widget-view+json": {
       "model_id": "6bfe3d046a4f4859a4236fc993447d4c",
       "version_major": 2,
       "version_minor": 0
      },
      "text/plain": [
       "NGLWidget()"
      ]
     },
     "metadata": {},
     "output_type": "display_data"
    }
   ],
   "source": [
    "# load pdb file\n",
    "traj3 = pt.load('data/3pqr.pdb')\n",
    "\n",
    "# create view\n",
    "view3 = nv.show_pytraj(traj3)\n",
    "\n",
    "# display\n",
    "view3.center()\n",
    "view3"
   ]
  },
  {
   "cell_type": "code",
   "execution_count": 9,
   "metadata": {},
   "outputs": [],
   "source": [
    "# load ccp4 data\n",
    "# use: view3._load_data\n",
    "view3._load_data('data/3pqr.ccp4.gz')"
   ]
  },
  {
   "cell_type": "code",
   "execution_count": 10,
   "metadata": {},
   "outputs": [],
   "source": [
    "# add representations for loaded data (model 1)\n",
    "#view3._clear_repr(component=1)\n",
    "view3.add_surface(component=1, color='blue', wireframe=True, opacity=0.2, isolevel=3.)"
   ]
  },
  {
   "cell_type": "markdown",
   "metadata": {},
   "source": [
    "After zooming in by mouse, you should expect to see"
   ]
  },
  {
   "cell_type": "code",
   "execution_count": 11,
   "metadata": {},
   "outputs": [
    {
     "data": {
      "application/vnd.jupyter.widget-view+json": {
       "model_id": "bbd02f5fff3c4cb7a41f9fc396f1f375",
       "version_major": 2,
       "version_minor": 0
      },
      "text/plain": [
       "Image(value=b'', width='99%')"
      ]
     },
     "metadata": {},
     "output_type": "display_data"
    }
   ],
   "source": [
    "view3.render_image()"
   ]
  },
  {
   "cell_type": "code",
   "execution_count": 12,
   "metadata": {},
   "outputs": [
    {
     "data": {
      "image/png": "\n",
      "text/plain": [
       "<IPython.core.display.Image object>"
      ]
     },
     "execution_count": 12,
     "metadata": {},
     "output_type": "execute_result"
    }
   ],
   "source": [
    "# need to call _display_image in different Cell\n",
    "view3._display_image()"
   ]
  },
  {
   "cell_type": "markdown",
   "metadata": {},
   "source": [
    "# Example: Display Lipid Bilayer "
   ]
  },
  {
   "cell_type": "code",
   "execution_count": 13,
   "metadata": {},
   "outputs": [
    {
     "name": "stdout",
     "output_type": "stream",
     "text": [
      "pytraj.Trajectory, 1 frames: \n",
      "Size: 0.001057 (GB)\n",
      "<Topology: 47280 atoms, 9408 residues, 9000 mols, non-PBC>\n",
      "           \n"
     ]
    },
    {
     "data": {
      "application/vnd.jupyter.widget-view+json": {
       "model_id": "1bd8350757154b23940ef600902a5867",
       "version_major": 2,
       "version_minor": 0
      },
      "text/plain": [
       "NGLWidget()"
      ]
     },
     "metadata": {},
     "output_type": "display_data"
    }
   ],
   "source": [
    "# PDB file is from: http://www.ks.uiuc.edu/Training/Tutorials/science/membrane/\n",
    "traj_lipid = pt.load('data/kcsa_popcwi.pdb')\n",
    "print(traj_lipid)\n",
    "view_lipid = nv.show_pytraj(traj_lipid)\n",
    "view_lipid"
   ]
  },
  {
   "cell_type": "code",
   "execution_count": 14,
   "metadata": {},
   "outputs": [],
   "source": [
    "view_lipid.clear_representations()\n",
    "view_lipid.add_cartoon('protein')\n",
    "view_lipid.add_licorice('TIP and not hydrogen', linewidth=1.)\n",
    "view_lipid.add_licorice('not hydrogen', opacity=0.5)"
   ]
  },
  {
   "cell_type": "code",
   "execution_count": 15,
   "metadata": {},
   "outputs": [
    {
     "data": {
      "application/vnd.jupyter.widget-view+json": {
       "model_id": "06d66ea08f4642b4877296c46108a437",
       "version_major": 2,
       "version_minor": 0
      },
      "text/plain": [
       "Image(value=b'', width='99%')"
      ]
     },
     "metadata": {},
     "output_type": "display_data"
    }
   ],
   "source": [
    "view_lipid.orientation = [[-70.94550361812348, -23.54590217040876, -13.725642929758788],\n",
    " [0.17341421016637665, 0.05082474596059873, -0.9835366576342925],\n",
    " [-0.10400009155273438, 1.1669998168945312, -5.298999786376953],\n",
    " [0, 0, 0]]\n",
    "\n",
    "view_lipid.render_image()"
   ]
  },
  {
   "cell_type": "code",
   "execution_count": 16,
   "metadata": {},
   "outputs": [
    {
     "data": {
      "image/png": "\n",
      "text/plain": [
       "<IPython.core.display.Image object>"
      ]
     },
     "execution_count": 16,
     "metadata": {},
     "output_type": "execute_result"
    }
   ],
   "source": [
    "view_lipid._display_image()"
   ]
  },
  {
   "cell_type": "markdown",
   "metadata": {},
   "source": [
    "# Render high quality image\n",
    "\n",
    "NGLView is able to render high quality image for publication. You can call `download_image(...)` method."
   ]
  },
  {
   "cell_type": "code",
   "execution_count": 17,
   "metadata": {},
   "outputs": [],
   "source": [
    "# specify very high `factor` value to have better quality\n",
    "# NGLView will render the current frame and download the image\n",
    "\n",
    "# uncomment for rendering\n",
    "# view3.parameters = dict(theme='light')\n",
    "# view3.download_image(filename='my_image.png', factor=15, trim=True)"
   ]
  },
  {
   "cell_type": "markdown",
   "metadata": {},
   "source": [
    "[click here](images/my_image.png) to see the rendered image"
   ]
  },
  {
   "cell_type": "markdown",
   "metadata": {},
   "source": [
    "## You can also use pytraj to analyze data - Example: compute DSSP"
   ]
  },
  {
   "cell_type": "code",
   "execution_count": 18,
   "metadata": {},
   "outputs": [
    {
     "name": "stdout",
     "output_type": "stream",
     "text": [
      "resdues = ['ACE:1' 'VAL:2' 'PHE:3' ... 'LEU:20' 'GLN:21' 'NHE:22']\n"
     ]
    }
   ],
   "source": [
    "dssp_data = pt.dssp(traj2)\n",
    "print('resdues = {}'.format(dssp_data[0]))"
   ]
  },
  {
   "cell_type": "code",
   "execution_count": 19,
   "metadata": {
    "scrolled": true
   },
   "outputs": [
    {
     "name": "stdout",
     "output_type": "stream",
     "text": [
      "dssp = [['0' 'b' 'b' ... 'b' '0' '0']\n",
      " ['0' 'b' 'b' ... 'b' 'b' '0']\n",
      " ['0' 'b' 'b' ... 'b' '0' '0']\n",
      " ...\n",
      " ['0' 'b' 'b' ... 'b' '0' '0']\n",
      " ['0' 'b' 'b' ... 'b' '0' '0']\n",
      " ['0' 'b' 'b' ... 'b' '0' '0']]\n"
     ]
    }
   ],
   "source": [
    "print('dssp = {}'.format(dssp_data[1]))"
   ]
  },
  {
   "cell_type": "markdown",
   "metadata": {},
   "source": [
    "## You can also use pytraj to make new trajectory and visualize it"
   ]
  },
  {
   "cell_type": "markdown",
   "metadata": {},
   "source": [
    "### Replicate cell"
   ]
  },
  {
   "cell_type": "code",
   "execution_count": 20,
   "metadata": {},
   "outputs": [
    {
     "data": {
      "text/plain": [
       "pytraj.Trajectory, 1 frames: \n",
       "Size: 0.000118 (GB)\n",
       "<Topology: 5293 atoms, 1704 residues, 1692 mols, PBC with box type = ortho>\n",
       "           "
      ]
     },
     "execution_count": 20,
     "metadata": {},
     "output_type": "execute_result"
    }
   ],
   "source": [
    "# load a trajectory with single frame\n",
    "traj3 = pt.datafiles.load_tz2_ortho()[:1]\n",
    "traj3"
   ]
  },
  {
   "cell_type": "code",
   "execution_count": 21,
   "metadata": {},
   "outputs": [
    {
     "data": {
      "application/vnd.jupyter.widget-view+json": {
       "model_id": "cc0f244b50b54e0a84529e3d8442f40b",
       "version_major": 2,
       "version_minor": 0
      },
      "text/plain": [
       "NGLWidget()"
      ]
     },
     "metadata": {},
     "output_type": "display_data"
    }
   ],
   "source": [
    "view3 = nv.show_pytraj(traj3)\n",
    "view3.representations = [];view3"
   ]
  },
  {
   "cell_type": "code",
   "execution_count": 22,
   "metadata": {},
   "outputs": [],
   "source": [
    "view3.add_representation('ball+stick', selection='protein', color='blue')\n",
    "view3.add_representation('line', selection='water')"
   ]
  },
  {
   "cell_type": "code",
   "execution_count": 23,
   "metadata": {},
   "outputs": [
    {
     "data": {
      "text/plain": [
       "pytraj.Trajectory, 1 frames: \n",
       "Size: 0.000237 (GB)\n",
       "<Topology: 10586 atoms, 3408 residues, 3384 mols, non-PBC>\n",
       "           "
      ]
     },
     "execution_count": 23,
     "metadata": {},
     "output_type": "execute_result"
    }
   ],
   "source": [
    "traj4 = pt.replicate_cell(traj3, direction=('001', '111'))\n",
    "traj4"
   ]
  },
  {
   "cell_type": "code",
   "execution_count": 24,
   "metadata": {},
   "outputs": [
    {
     "data": {
      "application/vnd.jupyter.widget-view+json": {
       "model_id": "c368e7176bf1418b86e199fb0e5c4c48",
       "version_major": 2,
       "version_minor": 0
      },
      "text/plain": [
       "NGLWidget()"
      ]
     },
     "metadata": {},
     "output_type": "display_data"
    }
   ],
   "source": [
    "view4 = nv.show_pytraj(traj4)\n",
    "view4.representations = []\n",
    "view4"
   ]
  },
  {
   "cell_type": "code",
   "execution_count": 25,
   "metadata": {},
   "outputs": [],
   "source": [
    "view4.add_representation('cartoon', selection='protein', color='blue')\n",
    "view4.add_representation('line', selection='water')"
   ]
  },
  {
   "cell_type": "markdown",
   "metadata": {},
   "source": [
    "Click [here](./images/replicate_cell.png) if you want to see how to result looks like"
   ]
  },
  {
   "cell_type": "code",
   "execution_count": 26,
   "metadata": {},
   "outputs": [
    {
     "data": {
      "application/vnd.jupyter.widget-view+json": {
       "model_id": "66a40bdeef6f411393803f258a9223d4",
       "version_major": 2,
       "version_minor": 0
      },
      "text/plain": [
       "Image(value=b'', width='99%')"
      ]
     },
     "metadata": {},
     "output_type": "display_data"
    }
   ],
   "source": [
    "view4.orientation = [[1.7307010437006827, 14.438547748522044, -72.27208013737686],\n",
    " [-0.6887824733588872, 0.7139114858593536, 0.1261312600100375],\n",
    " [-35.171499490737915, -41.96850076317787, -54.250999450683594],\n",
    " [0, 0, 0]]\n",
    "\n",
    "view4.render_image()"
   ]
  },
  {
   "cell_type": "code",
   "execution_count": 27,
   "metadata": {},
   "outputs": [
    {
     "data": {
      "image/png": "\n",
      "text/plain": [
       "<IPython.core.display.Image object>"
      ]
     },
     "execution_count": 27,
     "metadata": {},
     "output_type": "execute_result"
    }
   ],
   "source": [
    "view4._display_image()"
   ]
  },
  {
   "cell_type": "markdown",
   "metadata": {},
   "source": [
    "\n",
    "\n",
    "# Example: Using two consoles for visualization\n",
    "\n",
    "Sometimes it is more convinient to use two screens or two consoles, one for viewing protein and one for performing analysis (like VMD, PyMol, ...). You can also do that with Jupyter notebook.\n",
    "\n",
    "First, open the notebook. In the first Cell (or your favorite Cell), enter:\n",
    "\n",
    "    %qtconsole # make sure to run the Cell\n",
    "\n",
    "A new console will pop up. It share the same memory with the notebook. You can control the viewer by typing any command\n",
    "in this new console. \n",
    "\n",
    "![](images/two_consoles.png)"
   ]
  },
  {
   "cell_type": "markdown",
   "metadata": {},
   "source": [
    "### updated date"
   ]
  },
  {
   "cell_type": "code",
   "execution_count": 29,
   "metadata": {},
   "outputs": [
    {
     "data": {
      "text/plain": [
       "'2020-09-10'"
      ]
     },
     "execution_count": 29,
     "metadata": {},
     "output_type": "execute_result"
    }
   ],
   "source": [
    "from time import gmtime, strftime\n",
    "strftime(\"%Y-%m-%d\", gmtime())"
   ]
  },
  {
   "cell_type": "code",
   "execution_count": 31,
   "metadata": {},
   "outputs": [
    {
     "ename": "NameError",
     "evalue": "name 'getpdb_prm' is not defined",
     "output_type": "error",
     "traceback": [
      "\u001b[0;31m---------------------------------------------------------------------------\u001b[0m",
      "\u001b[0;31mNameError\u001b[0m                                 Traceback (most recent call last)",
      "\u001b[0;32m<ipython-input-31-6f0f4e07294d>\u001b[0m in \u001b[0;36m<module>\u001b[0;34m\u001b[0m\n\u001b[0;32m----> 1\u001b[0;31m \u001b[0mm\u001b[0m \u001b[0;34m=\u001b[0m \u001b[0mgetpdb_prm\u001b[0m\u001b[0;34m(\u001b[0m \u001b[0;34m\"wt1mg.pdb\"\u001b[0m\u001b[0;34m,\u001b[0m \u001b[0;34m\"leaprc.protein.ff14SB\"\u001b[0m\u001b[0;34m,\u001b[0m \u001b[0;34m\"\"\u001b[0m\u001b[0;34m,\u001b[0m \u001b[0;36m0\u001b[0m \u001b[0;34m)\u001b[0m\u001b[0;34m;\u001b[0m\u001b[0;34m\u001b[0m\u001b[0;34m\u001b[0m\u001b[0m\n\u001b[0m",
      "\u001b[0;31mNameError\u001b[0m: name 'getpdb_prm' is not defined"
     ]
    }
   ],
   "source": [
    "m = getpdb_prm( \"wt1mg.pdb\", \"leaprc.protein.ff14SB\", \"\", 0 );"
   ]
  },
  {
   "cell_type": "code",
   "execution_count": null,
   "metadata": {},
   "outputs": [],
   "source": []
  }
 ],
 "metadata": {
  "kernelspec": {
   "display_name": "Python 3",
   "language": "python",
   "name": "python3"
  },
  "language_info": {
   "codemirror_mode": {
    "name": "ipython",
    "version": 3
   },
   "file_extension": ".py",
   "mimetype": "text/x-python",
   "name": "python",
   "nbconvert_exporter": "python",
   "pygments_lexer": "ipython3",
   "version": "3.8.2"
  }
 },
 "nbformat": 4,
 "nbformat_minor": 1
}
