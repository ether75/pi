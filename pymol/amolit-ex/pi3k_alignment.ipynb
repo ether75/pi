{
  "cells": [
    {
      "cell_type": "code",
      "execution_count": null,
      "metadata": {
        "collapsed": false
      },
      "outputs": [],
      "source": [
        "%matplotlib inline"
      ]
    },
    {
      "cell_type": "markdown",
      "metadata": {},
      "source": [
        "\nComparison of human PI3K family\n===============================\n\n.. currentmodule:: biotite.sequence.graphics\n\nThe following script visualizes the sequence alignment of six proteins\nof the human Phosphoinositide 3-kinase (PI3K) family, including PI3K\nitself.\n\nAt first we fetch the respective sequences. and align them using\n*Clustal Omega*.\n"
      ]
    },
    {
      "cell_type": "code",
      "execution_count": null,
      "metadata": {
        "collapsed": false
      },
      "outputs": [],
      "source": [
        "# Code source: Patrick Kunzmann\n# License: BSD 3 clause\n\nimport warnings\nimport numpy as np\nimport matplotlib.pyplot as plt\nimport biotite\nimport biotite.database.entrez as entrez\nimport biotite.sequence as seq\nimport biotite.sequence.align as align\nimport biotite.sequence.graphics as graphics\nimport biotite.sequence.io.fasta as fasta\nimport biotite.application.clustalo as clustalo\n\nuids  = [\"5JHB_A\", \"5LUQ_A\",   \"5FLC_B\", \"5YZ0_A\", \"5NP0_A\", \"4FUL_A\"]\nnames = [\"PI3K\",   \"DNA-PKcs\", \"mTOR\",   \"ATR\",    \"ATM\",    \"hSMG-1\"]\n\nsequences = []\nfile = fasta.FastaFile.read(entrez.fetch_single_file(\n    uids, None, db_name=\"protein\", ret_type=\"fasta\"\n))\nfor header, seq_str in file.items():\n    sequences.append(seq.ProteinSequence(seq_str))\n\nalignment = clustalo.ClustalOmegaApp.align(sequences)"
      ]
    },
    {
      "cell_type": "markdown",
      "metadata": {},
      "source": [
        "Since the sequences are relatively long, the display of the entire\nalignment using a :func:`plot_alignment` would be too big.\nInstead we use a heat map, which highlights the similarity in the\nalignment column using a color map.\n\nLike the :class:`LetterSimilarityPlotter` we will use the\n*average normalized similarity* as measure.\n\n"
      ]
    },
    {
      "cell_type": "code",
      "execution_count": null,
      "metadata": {
        "collapsed": false
      },
      "outputs": [],
      "source": [
        "def get_average_normalized_similarity(trace_code, matrix, seq_i, pos_i):\n        code1 = trace_code[seq_i, pos_i]\n        if code1 == -1:\n            return np.nan\n        similarities = np.zeros(trace_code.shape[0])\n        for i in range(trace_code.shape[0]):\n            code2 = trace_code[i, pos_i]\n            if code2 == -1:\n                similarities[i] = 0\n            else:\n                sim = matrix[code1, code2]\n                # Normalize (range 0.0 - 1.0)\n                min_sim = np.min(matrix[code1])\n                max_sim = np.max(matrix[code1])\n                sim = (sim - min_sim) / (max_sim - min_sim)\n                similarities[i] = sim\n        # Delete self-similarity\n        similarities = np.delete(similarities, seq_i)\n        return np.average(similarities)\n\nmatrix = align.SubstitutionMatrix.std_protein_matrix()\n# Get the alignment columns as symbols codes (-1 for gaps)\ntrace_code = align.get_codes(alignment)\nsimilarities = np.zeros(trace_code.shape)\nfor i in range(similarities.shape[0]):\n    for j in range(similarities.shape[1]):\n        similarities[i,j] = get_average_normalized_similarity(\n            trace_code, matrix.score_matrix(), i, j\n        )\n\nfigure = plt.figure(figsize=(8.0, 3.0))\nax = figure.add_subplot(111)\nheatmap = ax.pcolor(\n    similarities, cmap=\"RdYlGn\", vmin=0.0, vmax=1.0\n)\ncbar = figure.colorbar(heatmap)\nfigure.tight_layout()"
      ]
    },
    {
      "cell_type": "markdown",
      "metadata": {},
      "source": [
        "As the plot creates a heatmap field for every alignment column,\nthe plot looks quite confusing.\nIt is not clearly visible, which parts of the sequences have a low or\nhigh similarity to each other. \nHence, we create bins, that contain the mean similarity over a range of\ncolumns.\n\n"
      ]
    },
    {
      "cell_type": "code",
      "execution_count": null,
      "metadata": {
        "collapsed": false
      },
      "outputs": [],
      "source": [
        "def calculate_bins(similarities, bin_count):\n    edges = np.linspace(0, similarities.shape[1], bin_count, dtype=int)\n    edges = np.append(edges, similarities.shape[1])\n    binned_similarities = np.zeros(similarities.shape)\n    for i in range(similarities.shape[0]):\n        for j in range(len(edges) - 1):\n            binned_similarities[i, edges[j]:edges[j+1]] = \\\n                np.nanmean(similarities[i, edges[j]:edges[j+1]])\n    return binned_similarities\n\nwith warnings.catch_warnings():\n    # Catch warnings about empty slice for gap-only parts\n    warnings.simplefilter(\"ignore\")\n    similarities = calculate_bins(similarities, 100)\n\nfigure = plt.figure(figsize=(8.0, 3.0))\nax = figure.add_subplot(111)\nheatmap = ax.pcolor(\n    similarities, cmap=\"RdYlGn\", vmin=0.0, vmax=1.0\n)\ncbar = figure.colorbar(heatmap)\n# Furthermore, add some labels to the figure\ncbar.set_label(\"Average normalized similarity\")\nax.set_xlabel(\"Alignment position\")\nax.set_yticks([0.5, 1.5, 2.5, 3.5, 4.5, 5.5])\nax.set_yticklabels(names)\nfigure.tight_layout()\n# sphinx_gallery_thumbnail_number = 2"
      ]
    },
    {
      "cell_type": "markdown",
      "metadata": {},
      "source": [
        "Finally we show the alignment columns without the terminal gaps of the\nPI3K sequence, comprising the more conserved parts.\n\nSince the alignment is still relatively long, we will reduce the\nsize of the font and the backgrounbd boxes, to fit more alignment\ncolumns into one line.\n\n"
      ]
    },
    {
      "cell_type": "code",
      "execution_count": null,
      "metadata": {
        "collapsed": false
      },
      "outputs": [],
      "source": [
        "# Find start position and exclusive stop position of 'PI3K' sequence\n# (index 0)\ntrace = alignment.trace\n# From beginning of the sequence...\nfor i in range(len(trace)):\n    # Check if all sequences have no gap at the given position\n    if trace[i,0] != -1:\n        start_index = i\n        break\n# ...and the end of the sequence\nfor i in range(len(trace)-1, -1, -1):\n    # Check if all sequences have no gap at the given position\n    if trace[i,0] != -1:\n        stop_index = i+1\n        break\n\n# Truncate alignment to region where the 'PI3K' sequence exists\nalignment.trace = alignment.trace[start_index:stop_index]\n\nmatrix = align.SubstitutionMatrix.std_protein_matrix()\nfig = plt.figure(figsize=(8.0, 15))\nax = fig.add_subplot(111)\n# The alignment is quite long\n# -> Reduce font size to reduce figure size\ngraphics.plot_alignment_similarity_based(\n    ax, alignment, matrix=matrix, symbols_per_line=80, labels=names,\n    show_numbers=True,\n    label_size=10, number_size=10, symbol_size=6,\n    color=biotite.colors[\"orange\"]\n)\nfig.tight_layout()\n\nplt.show()"
      ]
    }
  ],
  "metadata": {
    "kernelspec": {
      "display_name": "Python 3",
      "language": "python",
      "name": "python3"
    },
    "language_info": {
      "codemirror_mode": {
        "name": "ipython",
        "version": 3
      },
      "file_extension": ".py",
      "mimetype": "text/x-python",
      "name": "python",
      "nbconvert_exporter": "python",
      "pygments_lexer": "ipython3",
      "version": "3.8.3"
    }
  },
  "nbformat": 4,
  "nbformat_minor": 0
}