{
 "cells": [
  {
   "cell_type": "code",
   "execution_count": 1,
   "metadata": {},
   "outputs": [],
   "source": [
    "#import pymol\n",
    "#pymol.finish_launching([\"pymol\", \"-qk\"])"
   ]
  },
  {
   "cell_type": "code",
   "execution_count": 2,
   "metadata": {},
   "outputs": [],
   "source": [
    "import numpy as np\n",
    "from matplotlib.colors import to_rgb\n",
    "import biotite\n",
    "from biotite.sequence import ProteinSequence\n",
    "import biotite.structure as struc\n",
    "import biotite.structure.io.mmtf as mmtf\n",
    "import biotite.database.rcsb as rcsb\n",
    "import ammolite\n",
    "PNG_SIZE = (200, 200)\n",
    "BACKBONE_ATOMS = [\"N\", \"C\", \"O\", \"HA\"]"
   ]
  },
  {
   "cell_type": "code",
   "execution_count": 4,
   "metadata": {},
   "outputs": [
    {
     "ename": "RequestError",
     "evalue": "PDB ID 2rt is invalid",
     "output_type": "error",
     "traceback": [
      "\u001b[0;31m---------------------------------------------------------------------------\u001b[0m",
      "\u001b[0;31mRequestError\u001b[0m                              Traceback (most recent call last)",
      "\u001b[0;32m<ipython-input-4-87329891067e>\u001b[0m in \u001b[0;36m<module>\u001b[0;34m\u001b[0m\n\u001b[0;32m----> 1\u001b[0;31m \u001b[0mmmtf_file\u001b[0m \u001b[0;34m=\u001b[0m \u001b[0mmmtf\u001b[0m\u001b[0;34m.\u001b[0m\u001b[0mMMTFFile\u001b[0m\u001b[0;34m.\u001b[0m\u001b[0mread\u001b[0m\u001b[0;34m(\u001b[0m\u001b[0mrcsb\u001b[0m\u001b[0;34m.\u001b[0m\u001b[0mfetch\u001b[0m\u001b[0;34m(\u001b[0m\u001b[0;34m\"2rt\"\u001b[0m\u001b[0;34m,\u001b[0m \u001b[0;34m\"mmtf\"\u001b[0m\u001b[0;34m)\u001b[0m\u001b[0;34m)\u001b[0m\u001b[0;34m\u001b[0m\u001b[0;34m\u001b[0m\u001b[0m\n\u001b[0m\u001b[1;32m      2\u001b[0m \u001b[0mstructure\u001b[0m \u001b[0;34m=\u001b[0m \u001b[0mmmtf\u001b[0m\u001b[0;34m.\u001b[0m\u001b[0mget_structure\u001b[0m\u001b[0;34m(\u001b[0m\u001b[0mmmtf_file\u001b[0m\u001b[0;34m,\u001b[0m \u001b[0mmodel\u001b[0m\u001b[0;34m=\u001b[0m\u001b[0;36m1\u001b[0m\u001b[0;34m,\u001b[0m \u001b[0minclude_bonds\u001b[0m\u001b[0;34m=\u001b[0m\u001b[0;32mTrue\u001b[0m\u001b[0;34m)\u001b[0m\u001b[0;34m\u001b[0m\u001b[0;34m\u001b[0m\u001b[0m\n\u001b[1;32m      3\u001b[0m \u001b[0;31m# Select one monomer of the dimer\u001b[0m\u001b[0;34m\u001b[0m\u001b[0;34m\u001b[0m\u001b[0;34m\u001b[0m\u001b[0m\n\u001b[1;32m      4\u001b[0m \u001b[0mstructure\u001b[0m \u001b[0;34m=\u001b[0m \u001b[0mstructure\u001b[0m\u001b[0;34m[\u001b[0m\u001b[0mstructure\u001b[0m\u001b[0;34m.\u001b[0m\u001b[0mchain_id\u001b[0m \u001b[0;34m==\u001b[0m \u001b[0mstructure\u001b[0m\u001b[0;34m.\u001b[0m\u001b[0mchain_id\u001b[0m\u001b[0;34m[\u001b[0m\u001b[0;36m0\u001b[0m\u001b[0;34m]\u001b[0m\u001b[0;34m]\u001b[0m\u001b[0;34m\u001b[0m\u001b[0;34m\u001b[0m\u001b[0m\n\u001b[1;32m      5\u001b[0m \u001b[0;31m# Remove water and ions\u001b[0m\u001b[0;34m\u001b[0m\u001b[0;34m\u001b[0m\u001b[0;34m\u001b[0m\u001b[0m\n",
      "\u001b[0;32m/usr/local/lib/python3.8/dist-packages/biotite/database/rcsb/download.py\u001b[0m in \u001b[0;36mfetch\u001b[0;34m(pdb_ids, format, target_path, overwrite, verbose)\u001b[0m\n\u001b[1;32m    124\u001b[0m                     \u001b[0mr\u001b[0m \u001b[0;34m=\u001b[0m \u001b[0mrequests\u001b[0m\u001b[0;34m.\u001b[0m\u001b[0mget\u001b[0m\u001b[0;34m(\u001b[0m\u001b[0m_mmtf_url\u001b[0m \u001b[0;34m+\u001b[0m \u001b[0mid\u001b[0m\u001b[0;34m)\u001b[0m\u001b[0;34m\u001b[0m\u001b[0;34m\u001b[0m\u001b[0m\n\u001b[1;32m    125\u001b[0m                     \u001b[0mcontent\u001b[0m \u001b[0;34m=\u001b[0m \u001b[0mr\u001b[0m\u001b[0;34m.\u001b[0m\u001b[0mcontent\u001b[0m\u001b[0;34m\u001b[0m\u001b[0;34m\u001b[0m\u001b[0m\n\u001b[0;32m--> 126\u001b[0;31m                     \u001b[0m_assert_valid_file\u001b[0m\u001b[0;34m(\u001b[0m\u001b[0mr\u001b[0m\u001b[0;34m.\u001b[0m\u001b[0mtext\u001b[0m\u001b[0;34m,\u001b[0m \u001b[0mid\u001b[0m\u001b[0;34m)\u001b[0m\u001b[0;34m\u001b[0m\u001b[0;34m\u001b[0m\u001b[0m\n\u001b[0m\u001b[1;32m    127\u001b[0m                     \u001b[0;32mif\u001b[0m \u001b[0mfile\u001b[0m \u001b[0;32mis\u001b[0m \u001b[0;32mNone\u001b[0m\u001b[0;34m:\u001b[0m\u001b[0;34m\u001b[0m\u001b[0;34m\u001b[0m\u001b[0m\n\u001b[1;32m    128\u001b[0m                         \u001b[0mfile\u001b[0m \u001b[0;34m=\u001b[0m \u001b[0mio\u001b[0m\u001b[0;34m.\u001b[0m\u001b[0mBytesIO\u001b[0m\u001b[0;34m(\u001b[0m\u001b[0mcontent\u001b[0m\u001b[0;34m)\u001b[0m\u001b[0;34m\u001b[0m\u001b[0;34m\u001b[0m\u001b[0m\n",
      "\u001b[0;32m/usr/local/lib/python3.8/dist-packages/biotite/database/rcsb/download.py\u001b[0m in \u001b[0;36m_assert_valid_file\u001b[0;34m(response_text, pdb_id)\u001b[0m\n\u001b[1;32m    166\u001b[0m     \u001b[0;32mif\u001b[0m \u001b[0;34m\"404 Not Found\"\u001b[0m \u001b[0;32min\u001b[0m \u001b[0mresponse_text\u001b[0m \u001b[0;32mor\u001b[0m\u001b[0;31m \u001b[0m\u001b[0;31m\\\u001b[0m\u001b[0;34m\u001b[0m\u001b[0;34m\u001b[0m\u001b[0m\n\u001b[1;32m    167\u001b[0m        \u001b[0;34m\"<title>RCSB Protein Data Bank Error Page</title>\"\u001b[0m \u001b[0;32min\u001b[0m \u001b[0mresponse_text\u001b[0m\u001b[0;34m:\u001b[0m\u001b[0;34m\u001b[0m\u001b[0;34m\u001b[0m\u001b[0m\n\u001b[0;32m--> 168\u001b[0;31m             \u001b[0;32mraise\u001b[0m \u001b[0mRequestError\u001b[0m\u001b[0;34m(\u001b[0m\u001b[0;34m\"PDB ID {:} is invalid\"\u001b[0m\u001b[0;34m.\u001b[0m\u001b[0mformat\u001b[0m\u001b[0;34m(\u001b[0m\u001b[0mpdb_id\u001b[0m\u001b[0;34m)\u001b[0m\u001b[0;34m)\u001b[0m\u001b[0;34m\u001b[0m\u001b[0;34m\u001b[0m\u001b[0m\n\u001b[0m",
      "\u001b[0;31mRequestError\u001b[0m: PDB ID 2rt is invalid"
     ]
    }
   ],
   "source": [
    "mmtf_file = mmtf.MMTFFile.read(rcsb.fetch(\"2RT\", \"mmtf\"))\n",
    "structure = mmtf.get_structure(mmtf_file, model=1, include_bonds=True)\n",
    "# Select one monomer of the dimer\n",
    "structure = structure[structure.chain_id == structure.chain_id[0]]\n",
    "# Remove water and ions\n",
    "structure = structure[\n",
    "    ~struc.filter_solvent(structure) &\n",
    "    ~struc.filter_monoatomic_ions(structure)\n",
    "]\n",
    "strep_mask = struc.filter_amino_acids(structure)\n",
    "biotin_mask = (structure.res_name == \"BTN\")\n",
    "pymol_obj = ammolite.PyMOLObject.from_structure(structure)\n",
    "pymol_obj.cartoon(\"loop\", strep_mask)\n",
    "pymol_obj.set(\"cartoon_transparency\", 0.5)\n",
    "pymol_obj.color(\"salmon\", strep_mask & (structure.element == \"C\"))\n",
    "pymol_obj.color(\"forest\",    biotin_mask & (structure.element == \"C\"))\n",
    "pymol_obj.zoom(biotin_mask, buffer=5.0)\n",
    "ammolite.show(PNG_SIZE)"
   ]
  },
  {
   "cell_type": "code",
   "execution_count": null,
   "metadata": {},
   "outputs": [],
   "source": [
    "bonds = struc.hbond(structure, strep_mask, biotin_mask)\n",
    "\n",
    "res_ids = []\n",
    "for i, (donor, hydrogen, acceptor) in enumerate(bonds):\n",
    "    # Highlight streptavidin residues bound to biotin\n",
    "    if structure.res_name[donor] != \"BTN\":\n",
    "        res_id = structure.res_id[donor]\n",
    "        res_name = structure.res_name[donor]\n",
    "    elif structure.res_name[acceptor] != \"BTN\":\n",
    "        res_id = structure.res_id[acceptor]\n",
    "        res_name = structure.res_name[acceptor]\n",
    "    else:\n",
    "        ValueError(\"The bond is not between streptavidin and biotin\")\n",
    "    res_ids.append(res_id)\n",
    "    pymol_obj.show(\n",
    "        \"sticks\",\n",
    "         (structure.res_id == res_id) & ~np.isin(structure.atom_name, BACKBONE_ATOMS)\n",
    "    )\n",
    "    pymol_obj.label(\n",
    "        (structure.res_id == res_id) & (structure.atom_name == \"CA\"),\n",
    "        ProteinSequence.convert_letter_3to1(res_name) + str(res_id)\n",
    "    )\n",
    "    \n",
    "    # Show all atoms involved in the bond, even if they are not part of\n",
    "    # the residue (e.g. backbone atoms)\n",
    "    pymol_obj.show(\n",
    "        \"sticks\",\n",
    "        [donor, hydrogen, acceptor] \n",
    "    )\n",
    "    \n",
    "    # Display hydrogen bonds\n",
    "    pymol_obj.distance(f\"bond_{i}\", hydrogen, acceptor, show_label=False)\n",
    "\n",
    "pymol_obj.orient(biotin_mask | np.isin(structure.res_id, res_ids))\n",
    "ammolite.cmd.set(\"label_color\", \"black\")\n",
    "ammolite.cmd.set(\"label_size\", 30)\n",
    "ammolite.show(PNG_SIZE)"
   ]
  }
 ],
 "metadata": {
  "kernelspec": {
   "display_name": "Python 3",
   "language": "python",
   "name": "python3"
  },
  "language_info": {
   "codemirror_mode": {
    "name": "ipython",
    "version": 3
   },
   "file_extension": ".py",
   "mimetype": "text/x-python",
   "name": "python",
   "nbconvert_exporter": "python",
   "pygments_lexer": "ipython3",
   "version": "3.8.2"
  }
 },
 "nbformat": 4,
 "nbformat_minor": 4
}
