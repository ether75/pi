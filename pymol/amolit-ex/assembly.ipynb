{
 "cells": [
  {
   "cell_type": "markdown",
   "metadata": {},
   "source": [
    "# Assembly of a clathrin D6 coat\n",
    "\n",
    "In this example the entire biological assembly of a clathrin D6 coat is loaded from a *mmCIF* file in visualized in *PyMOL*.\n",
    "Each chain is colored individually based on a qualitative *Matplotlib* colormap."
   ]
  },
  {
   "cell_type": "markdown",
   "metadata": {},
   "source": [
    "#import pymol\n",
    "#pymol.finish_launching([\"pymol\", \"-qk\"])\n",
    "from pymol2 import PyMOL\n",
    "import ammolite\n",
    "\n",
    "pymol_app = PyMOL()\n",
    "pymol_app.start()\n",
    "ammolite.setup_parameters(pymol_instance=pymol_app)\n",
    "cmd = pymol_app.cmd\n",
    "\n",
    "pymol_object = ammolite.PyMOLObject.from_structure(\n",
    "    atom_array, pymol_instance=pymol_app\n",
    ")"
   ]
  },
  {
   "cell_type": "code",
   "execution_count": 1,
   "metadata": {},
   "outputs": [],
   "source": [
    "#import os \n",
    "#import sys\n",
    "#sys.path.insert(0, \"/usr/local/lib/python3.8/site-packages\")"
   ]
  },
  {
   "cell_type": "code",
   "execution_count": 2,
   "metadata": {},
   "outputs": [],
   "source": [
    "import numpy as np\n",
    "import matplotlib.pyplot as plt\n",
    "import biotite.structure as struc\n",
    "import biotite.structure.io.pdbx as pdbx\n",
    "import biotite.database.rcsb as rcsb\n",
    "import ammolite\n",
    "PNG_SIZE = (800, 800)"
   ]
  },
  {
   "cell_type": "code",
   "execution_count": 3,
   "metadata": {},
   "outputs": [],
   "source": [
    "assembly = pdbx.get_assembly(\n",
    "    pdbx.PDBxFile.read(rcsb.fetch(\"1XI4\", \"cif\")),\n",
    "    model=1\n",
    ")"
   ]
  },
  {
   "cell_type": "code",
   "execution_count": 4,
   "metadata": {
    "scrolled": true
   },
   "outputs": [],
   "source": [
    "# Structure contains only CA\n",
    "# Bonds are not required for visulization -> empty bond list\n",
    "assembly.bonds = struc.BondList(assembly.array_length())"
   ]
  },
  {
   "cell_type": "code",
   "execution_count": 5,
   "metadata": {},
   "outputs": [],
   "source": [
    "# General configuration\n",
    "ammolite.cmd.bg_color(\"white\")\n",
    "ammolite.cmd.set(\"cartoon_side_chain_helper\", 1)\n",
    "ammolite.cmd.set(\"cartoon_oval_length\", 0.8)\n",
    "ammolite.cmd.set(\"depth_cue\", 0)\n",
    "ammolite.cmd.set(\"valence\", 0)"
   ]
  },
  {
   "cell_type": "code",
   "execution_count": null,
   "metadata": {},
   "outputs": [],
   "source": [
    "#import ammolite\n",
    "#ammolite.launch_pymol()\n",
    "pymol_obj = ammolite.PyMOLObject.from_structure(assembly)\n",
    "pymol_obj.show_as(\"spheres\")\n",
    "ammolite.cmd.set(\"sphere_scale\", 1.5)\n",
    "ammolite.show(PNG_SIZE)"
   ]
  },
  {
   "cell_type": "code",
   "execution_count": null,
   "metadata": {},
   "outputs": [],
   "source": [
    "chain_ids = np.unique(assembly.chain_id)\n",
    "for chain_id, color in zip(chain_ids, plt.get_cmap(\"tab20\").colors):\n",
    "    pymol_obj.color(color, assembly.chain_id == chain_id)\n",
    "ammolite.show(PNG_SIZE)"
   ]
  },
  {
   "cell_type": "code",
   "execution_count": null,
   "metadata": {},
   "outputs": [],
   "source": []
  }
 ],
 "metadata": {
  "kernelspec": {
   "display_name": "Python 3",
   "language": "python",
   "name": "python3"
  },
  "language_info": {
   "codemirror_mode": {
    "name": "ipython",
    "version": 3
   },
   "file_extension": ".py",
   "mimetype": "text/x-python",
   "name": "python",
   "nbconvert_exporter": "python",
   "pygments_lexer": "ipython3",
   "version": "3.8.2"
  }
 },
 "nbformat": 4,
 "nbformat_minor": 4
}
