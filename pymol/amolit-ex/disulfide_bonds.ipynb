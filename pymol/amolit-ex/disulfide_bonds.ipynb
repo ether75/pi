{
 "cells": [
  {
   "cell_type": "code",
   "execution_count": 1,
   "metadata": {},
   "outputs": [],
   "source": [
    "%matplotlib inline"
   ]
  },
  {
   "cell_type": "markdown",
   "metadata": {},
   "source": [
    "\n",
    "Detection of disulfide bonds\n",
    "============================\n",
    "\n",
    "This example presents a function that detects disulfide bridges\n",
    "in protein structures.\n",
    "Then the detected disulfide bonds are visualized and added to the\n",
    "`bonds` attribute of the :class:`AtomArray`.\n",
    "\n",
    "The employed criteria for disulfide bonds are quite simple in this case:\n",
    "the $S_\\gamma$ atoms of two cystein residues must be in a vicinity\n",
    "of $2.05 \\pm 0.05$ Å and the dihedral angle of\n",
    "$C_\\beta - S_\\gamma - S^\\prime_\\gamma - C^\\prime_\\beta$ must be\n",
    "$90 \\pm 10 ^{\\circ}$.\n"
   ]
  },
  {
   "cell_type": "code",
   "execution_count": 2,
   "metadata": {},
   "outputs": [],
   "source": [
    "# Code source: Patrick Kunzmann\n",
    "# License: BSD 3 clause\n",
    "\n",
    "from tempfile import gettempdir\n",
    "import numpy as np\n",
    "import matplotlib.pyplot as plt\n",
    "import matplotlib.patches as patches\n",
    "import biotite.sequence as seq\n",
    "import biotite.structure as struc\n",
    "import biotite.structure.io as strucio\n",
    "import biotite.structure.io.mmtf as mmtf\n",
    "import biotite.database.rcsb as rcsb\n",
    "\n",
    "\n",
    "def detect_disulfide_bonds(structure, distance=2.05, distance_tol=0.05,\n",
    "                           dihedral=90, dihedral_tol=10):\n",
    "    # Array where detected disulfide bonds are stored\n",
    "    disulfide_bonds = []\n",
    "    # A mask that selects only S-gamma atoms of cysteins\n",
    "    sulfide_mask = (structure.res_name == \"CYS\") & \\\n",
    "                   (structure.atom_name == \"SG\")\n",
    "    # sulfides in adjacency to other sulfides are detected in an\n",
    "    # efficient manner via a cell list\n",
    "    cell_list = struc.CellList(\n",
    "        structure,\n",
    "        cell_size=distance+distance_tol,\n",
    "        selection=sulfide_mask\n",
    "    )\n",
    "    # Iterate over every index corresponding to an S-gamma atom\n",
    "    for sulfide_i in np.where(sulfide_mask)[0]:\n",
    "        # Find indices corresponding to other S-gamma atoms,\n",
    "        # that are adjacent to the position of structure[sulfide_i]\n",
    "        # We use the faster 'get_atoms_in_cells()' instead of\n",
    "        # `get_atoms()`, as precise distance measurement is done\n",
    "        # afterwards anyway\n",
    "        potential_bond_partner_indices = cell_list.get_atoms_in_cells(\n",
    "            coord=structure.coord[sulfide_i]\n",
    "        )\n",
    "        # Iterate over every index corresponding to an S-gamma atom\n",
    "        # as bond partner\n",
    "        for sulfide_j in potential_bond_partner_indices:\n",
    "            if sulfide_i == sulfide_j:\n",
    "                # A sulfide cannot create a bond with itself:\n",
    "                continue\n",
    "            # Create 'Atom' instances\n",
    "            # of the potentially bonds S-gamma atoms\n",
    "            sg1 = structure[sulfide_i]\n",
    "            sg2 = structure[sulfide_j]\n",
    "            # For dihedral angle measurement the corresponding\n",
    "            # C-beta atoms are required, too\n",
    "            cb1 = structure[\n",
    "                (structure.chain_id == sg1.chain_id) &\n",
    "                (structure.res_id == sg1.res_id) &\n",
    "                (structure.atom_name == \"CB\")\n",
    "            ]\n",
    "            cb2 = structure[\n",
    "                (structure.chain_id == sg2.chain_id) &\n",
    "                (structure.res_id == sg2.res_id) &\n",
    "                (structure.atom_name == \"CB\")\n",
    "            ]\n",
    "            # Measure distance and dihedral angle and check criteria\n",
    "            bond_dist = struc.distance(sg1, sg2)\n",
    "            bond_dihed = np.abs(np.rad2deg(struc.dihedral(cb1, sg1, sg2, cb2)))\n",
    "            if bond_dist  > distance - distance_tol and \\\n",
    "               bond_dist  < distance + distance_tol and \\\n",
    "               bond_dihed > dihedral - dihedral_tol and \\\n",
    "               bond_dihed < dihedral + dihedral_tol:\n",
    "                    # Atom meet criteria -> we found a disulfide bond\n",
    "                    # -> the indices of the bond S-gamma atoms\n",
    "                    # are put into a tuple with the lower index first\n",
    "                    bond_tuple = sorted((sulfide_i, sulfide_j))\n",
    "                    # Add bond to list of bonds, but each bond only once\n",
    "                    if bond_tuple not in disulfide_bonds:\n",
    "                        disulfide_bonds.append(bond_tuple)\n",
    "    return np.array(disulfide_bonds, dtype=int)"
   ]
  },
  {
   "cell_type": "markdown",
   "metadata": {},
   "source": [
    "As test case a structure of a *cysteine knot* protein is used,\n",
    "specifically the squash trypsin inhibitor *EETI-II*\n",
    "(PDB: `2IT7 <http://www.rcsb.org/structure/2IT7>`_).\n",
    "This motif is famous for its three characteristic disulfide bridges\n",
    "forming a 'knot'.\n",
    "However, the loaded MMTF file already has information about the\n",
    "covalent bonds - including the disulfide bridges.\n",
    "To have a proper test case, all disulfide bonds are removed from the\n",
    "structure and we pretend that the structure never had information\n",
    "about the disulfide bonds.\n",
    "For later verification that the implemented function wroks correctly,\n",
    "the disulfide bonds, that are removed, are printed out.\n",
    "\n"
   ]
  },
  {
   "cell_type": "code",
   "execution_count": 3,
   "metadata": {},
   "outputs": [
    {
     "name": "stdout",
     "output_type": "stream",
     "text": [
      "    A       2  CYS SG     S        -5.182    1.760   -2.385\n",
      "    A      19  CYS SG     S        -4.800   -0.230   -2.187\n",
      "\n",
      "    A       9  CYS SG     S         4.169   -0.459   -0.194\n",
      "    A      21  CYS SG     S         5.347   -0.755   -1.829\n",
      "\n",
      "    A      15  CYS SG     S         0.741   -1.839   -1.408\n",
      "    A      27  CYS SG     S         0.436   -1.062    0.449\n",
      "\n"
     ]
    }
   ],
   "source": [
    "mmtf_file = mmtf.MMTFFile.read(\n",
    "    rcsb.fetch(\"2IT7\", \"mmtf\", gettempdir())\n",
    ")\n",
    "knottin = mmtf.get_structure(mmtf_file, include_bonds=True, model=1)\n",
    "sulfide_indices = np.where(\n",
    "    (knottin.res_name == \"CYS\") & (knottin.atom_name == \"SG\")\n",
    ")[0]\n",
    "for i, j, _ in knottin.bonds.as_array():\n",
    "    if i in sulfide_indices and j in sulfide_indices:\n",
    "        print(knottin[i])\n",
    "        print(knottin[j])\n",
    "        print()\n",
    "        knottin.bonds.remove_bond(i,j)"
   ]
  },
  {
   "cell_type": "markdown",
   "metadata": {},
   "source": [
    "Now the sanitized structure is put into the disulfide detection\n",
    "function.\n",
    "The detected bonds are printed out and we expect to see the same\n",
    "bonds, that were removed in the code snippet above.\n",
    "\n"
   ]
  },
  {
   "cell_type": "code",
   "execution_count": 4,
   "metadata": {},
   "outputs": [
    {
     "name": "stdout",
     "output_type": "stream",
     "text": [
      "    A       2  CYS SG     S        -5.182    1.760   -2.385\n",
      "    A      19  CYS SG     S        -4.800   -0.230   -2.187\n",
      "\n",
      "    A       9  CYS SG     S         4.169   -0.459   -0.194\n",
      "    A      21  CYS SG     S         5.347   -0.755   -1.829\n",
      "\n",
      "    A      15  CYS SG     S         0.741   -1.839   -1.408\n",
      "    A      27  CYS SG     S         0.436   -1.062    0.449\n",
      "\n"
     ]
    }
   ],
   "source": [
    "disulfide_bonds = detect_disulfide_bonds(knottin)\n",
    "for sg1_index, sg2_index in disulfide_bonds:\n",
    "    print(knottin[sg1_index])\n",
    "    print(knottin[sg2_index])\n",
    "    print()"
   ]
  },
  {
   "cell_type": "markdown",
   "metadata": {},
   "source": [
    "The found disulfide bonds are visualized with the help of\n",
    "*Matplotlib*:\n",
    "The amino acid sequence is written on the X-axis and the disulfide\n",
    "bonds are depicted by yellow semi-ellipses.\n",
    "\n"
   ]
  },
  {
   "cell_type": "code",
   "execution_count": 5,
   "metadata": {},
   "outputs": [
    {
     "data": {
      "image/png": "[encoded data removed]",
      "text/plain": [
       "<Figure size 288x72 with 1 Axes>"
      ]
     },
     "metadata": {
      "needs_background": "light"
     },
     "output_type": "display_data"
    }
   ],
   "source": [
    "# Create a sequence object for each residue in the structure\n",
    "# As we want each residue to appear only once in the sequence,\n",
    "# we choose an atom that appears in each residue once: the CA\n",
    "sequence = seq.ProteinSequence(knottin.res_name[knottin.atom_name == \"CA\"])\n",
    "figure = plt.figure(figsize=(4.0, 1.0))\n",
    "ax = figure.gca()\n",
    "MARGIN = 0.2\n",
    "ax.set_xlim(1-MARGIN, len(sequence)+MARGIN)\n",
    "ax.set_ylim(0, 1+MARGIN)\n",
    "ax.set_xticks(np.arange(1, len(sequence)+1))\n",
    "ax.set_xticklabels(str(sequence))\n",
    "ax.yaxis.set_tick_params(\n",
    "    left=False, right=False, labelleft=False, labelright=False\n",
    ")\n",
    "ax.xaxis.set_tick_params(\n",
    "    bottom=True, top=False, labelbottom=True, labeltop=False, width=0\n",
    ")\n",
    "ax.set_frame_on(False)\n",
    "for sg1_index, sg2_index in disulfide_bonds:\n",
    "    sg1_res_id = knottin.res_id[sg1_index]\n",
    "    sg2_res_id = knottin.res_id[sg2_index]\n",
    "    ellipse_center = (sg1_res_id + sg2_res_id) / 2\n",
    "    ellipse_width = sg2_res_id - sg1_res_id\n",
    "    # Height is 2 instead of 1,\n",
    "    # because only the upper half of the ellipse is visible\n",
    "    ax.add_patch(patches.Ellipse(\n",
    "        xy=(ellipse_center, 0), width=ellipse_width, height=2,\n",
    "        facecolor=\"None\", edgecolor=\"gold\", linewidth=2\n",
    "    ))\n",
    "figure.tight_layout()"
   ]
  },
  {
   "cell_type": "markdown",
   "metadata": {},
   "source": [
    "Finally, the detected bonds are added to the structure.\n",
    "Basically, the removal step above is reversed.\n",
    "\n"
   ]
  },
  {
   "cell_type": "code",
   "execution_count": 7,
   "metadata": {},
   "outputs": [],
   "source": []
  },
  {
   "cell_type": "code",
   "execution_count": null,
   "metadata": {},
   "outputs": [],
   "source": []
  }
 ],
 "metadata": {
  "kernelspec": {
   "display_name": "Python 3",
   "language": "python",
   "name": "python3"
  },
  "language_info": {
   "codemirror_mode": {
    "name": "ipython",
    "version": 3
   },
   "file_extension": ".py",
   "mimetype": "text/x-python",
   "name": "python",
   "nbconvert_exporter": "python",
   "pygments_lexer": "ipython3",
   "version": "3.8.2"
  }
 },
 "nbformat": 4,
 "nbformat_minor": 1
}
