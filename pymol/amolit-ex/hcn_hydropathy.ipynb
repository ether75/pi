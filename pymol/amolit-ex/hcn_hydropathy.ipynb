{
  "cells": [
    {
      "cell_type": "code",
      "execution_count": null,
      "metadata": {
        "collapsed": false
      },
      "outputs": [],
      "source": [
        "%matplotlib inline"
      ]
    },
    {
      "cell_type": "markdown",
      "metadata": {},
      "source": [
        "\nHydropathy and conservation of HCN channels\n===========================================\n\nThis script creates a hydropathy plot of the human HCN1 channel protein\nand compares it with the positional conservation within the HCN family.\nEventually, an alignment of the HCN family is visualized using colors\nhighlighting the hydropathy of the amino acid.\n\nThe HCN1 sequence is required for the hydropathy calculation.\nAs the sequence annotation is also needed for the comparison of the\nhydropathy with the actual position of the transmembrane helices,\nthe corresponding GenPept file is downloaded.\n"
      ]
    },
    {
      "cell_type": "code",
      "execution_count": null,
      "metadata": {
        "collapsed": false
      },
      "outputs": [],
      "source": [
        "# Code source: Patrick Kunzmann\n# License: BSD 3 clause\n\nimport numpy as np\nimport matplotlib.pyplot as plt\nfrom matplotlib.patches import Patch\nimport biotite\nimport biotite.database.entrez as entrez\nimport biotite.sequence as seq\nimport biotite.sequence.align as align\nimport biotite.sequence.graphics as graphics\nimport biotite.sequence.io.fasta as fasta\nimport biotite.sequence.io.genbank as gb\nimport biotite.application.mafft as mafft\n\n# Taken from\n# Kyte, J and Doolittle, RF.\n# \"A simple method for displaying\n# the hydropathic character of a protein\".\n# Journal of Molecular Biology (2015). 157(1):105\u201332.\n# doi:10.1016/0022-2836(82)90515-0\nhydropathy_dict = {\n    \"I\" :  4.5,\n    \"V\" :  4.2,\n    \"L\" :  3.8,\n    \"F\" :  2.8,\n    \"C\" :  2.5,\n    \"M\" :  1.9,\n    \"A\" :  1.8,\n    \"G\" : -0.4,\n    \"T\" : -0.7,\n    \"S\" : -0.8,\n    \"W\" : -0.9,\n    \"Y\" : -1.3,\n    \"P\" : -1.6,\n    \"H\" : -3.2,\n    \"E\" : -3.5,\n    \"Q\" : -3.5,\n    \"D\" : -3.5,\n    \"N\" : -3.5,\n    \"K\" : -3.9,\n    \"R\" : -4.5\n}\n\n# Look for the Swiss-Prot entry contaning the human HCN1 channel\nquery =   entrez.SimpleQuery(\"HCN1\", \"Gene Name\") \\\n        & entrez.SimpleQuery(\"homo sapiens\", \"Organism\") \\\n        & entrez.SimpleQuery(\"srcdb_swiss-prot\", \"Properties\")\nuids = entrez.search(query, db_name=\"protein\")\n\ngp_file = gb.GenBankFile.read(entrez.fetch(\n    uids[0], None, \"gp\", db_name=\"protein\", ret_type=\"gp\"\n))\nhcn1 = seq.ProteinSequence(gb.get_sequence(gp_file, format=\"gp\"))\nprint(hcn1)"
      ]
    },
    {
      "cell_type": "markdown",
      "metadata": {},
      "source": [
        "The positional hydropathy is calculated and smoothened using\na moving average for clearer visualization.\n\n"
      ]
    },
    {
      "cell_type": "code",
      "execution_count": null,
      "metadata": {
        "collapsed": false
      },
      "outputs": [],
      "source": [
        "hydropathies = np.array([hydropathy_dict[symbol] for symbol in hcn1])\n\ndef moving_average(data_set, window_size):\n    weights = np.full(window_size, 1/window_size)\n    return np.convolve(data_set, weights, mode='valid')\n\n# Apply moving average over 15 amino acids for clearer visualization\nma_radius = 7\nhydropathies = moving_average(hydropathies, 2*ma_radius+1)"
      ]
    },
    {
      "cell_type": "markdown",
      "metadata": {},
      "source": [
        "In order to assess the positional conservation, the sequences\nof all human HCN proteins are downloaded and aligned.\n\n"
      ]
    },
    {
      "cell_type": "code",
      "execution_count": null,
      "metadata": {
        "collapsed": false
      },
      "outputs": [],
      "source": [
        "names = [\"HCN1\", \"HCN2\", \"HCN3\", \"HCN4\"]\n\nuids = []\nfor name in names:\n    query =   entrez.SimpleQuery(name, \"Gene Name\") \\\n            & entrez.SimpleQuery(\"homo sapiens\", \"Organism\") \\\n            & entrez.SimpleQuery(\"srcdb_swiss-prot\", \"Properties\")\n    uids += entrez.search(query, db_name=\"protein\")\n\nfasta_file = fasta.FastaFile.read(entrez.fetch_single_file(\n    uids, None, db_name=\"protein\", ret_type=\"fasta\"\n))\n\nfor header in fasta_file:\n    print(header)\n\nsequences = []\nfor seq_str in fasta_file.values():\n    sequences.append(seq.ProteinSequence(seq_str))\n\nalignment = mafft.MafftApp.align(sequences)"
      ]
    },
    {
      "cell_type": "markdown",
      "metadata": {},
      "source": [
        "As measure for the positional conservation, the similarity score is\nused.\nFor this purpose each column is extracted from the alignment and\nscored.\nThe scores are put into an array with the index being the\ncorresponding position of the HCN1 sequence.\n\n"
      ]
    },
    {
      "cell_type": "code",
      "execution_count": null,
      "metadata": {
        "collapsed": false
      },
      "outputs": [],
      "source": [
        "matrix = align.SubstitutionMatrix.std_protein_matrix()\nscores = np.zeros(len(hcn1))\nfor i in range(len(alignment)):\n    # The column is also an alignment with length 1\n    column = alignment[i:i+1]\n    hcn1_index = column.trace[0,0]\n    if hcn1_index == -1:\n        # Gap in HCN1 row\n        # As similarity score should be analyzed in dependence of the\n        # HCN1 sequence position, alignment columns with a gap in HCN1\n        # are ignored\n        continue\n    scores[hcn1_index] = align.score(column, matrix, gap_penalty=-5)\n\nscores = moving_average(scores, 2*ma_radius+1)"
      ]
    },
    {
      "cell_type": "markdown",
      "metadata": {},
      "source": [
        "Now the hydropathy and the similarity score can be plotted.\n\n"
      ]
    },
    {
      "cell_type": "code",
      "execution_count": null,
      "metadata": {
        "collapsed": false
      },
      "outputs": [],
      "source": [
        "figure = plt.figure(figsize=(8.0, 4.0))\nax = figure.add_subplot(111)\n\n# Plot hydropathy\nax.plot(\n    np.arange(1+ma_radius, len(hcn1)-ma_radius+1), hydropathies,\n    color=biotite.colors[\"dimorange\"]\n)\nax.axhline(0, color=\"gray\", linewidth=0.5)\nax.set_xlim(1, len(hcn1)+1)\nax.set_xlabel(\"HCN1 sequence position\")\nax.set_ylabel(\"Hydropathy (15 residues moving average)\")\n\n# Draw boxes for annotated transmembrane helices for comparison\n# with hydropathy plot\nannotation = gb.get_annotation(gp_file, include_only=[\"Region\"])\ntransmembrane_annotation = seq.Annotation(\n    [feature for feature in annotation\n     if feature.qual[\"region_name\"] == \"Transmembrane region\"]\n)\nfor feature in transmembrane_annotation:\n    first, last = feature.get_location_range()\n    ax.axvspan(first, last, color=(0.0, 0.0, 0.0, 0.2), linewidth=0)\n\n# Plot similarity score as measure for conservation\nax2 = ax.twinx()\nax2.plot(\n    np.arange(1+ma_radius, len(hcn1)-ma_radius+1), scores,\n    color=biotite.colors[\"brightorange\"]\n)\nax2.set_ylabel(\"Similarity score (15 residues moving average)\")\n\nax.legend(\n    handles=[\n        Patch(color=biotite.colors[\"dimorange\"],    label=\"Hydropathy\"),\n        Patch(color=biotite.colors[\"brightorange\"], label=\"Score\"     )\n    ],\n    fontsize=9\n)"
      ]
    },
    {
      "cell_type": "markdown",
      "metadata": {},
      "source": [
        "The plot signifies two points:\nAt first the transmembrane helices have a high hydropathy,\nas expected.\nSecondly the sequence conservation is extraordinarily high in the\ntransmembrane region.\n\nFinally the alignment itself is visualized.\nAs this example focuses on the hydropathy, the colors of the symbols\nshould illustrate the hydropathy of the respective amino acid.\nHence, a color scheme is created from a color map with the hydropathy\nvalues as input.\nHydrophilic amino acids are depicted in blue, hydrophobic ones in red.\n\n"
      ]
    },
    {
      "cell_type": "code",
      "execution_count": null,
      "metadata": {
        "collapsed": false
      },
      "outputs": [],
      "source": [
        "def hydropathy_to_color(hydropathy, colormap):\n    # Normalize hydropathy to range between 0 and 1\n    # (orginally between -4.5 and 4.5)\n    norm_hydropathy = (hydropathy - (-4.5)) / (4.5 - (-4.5))\n    return colormap(norm_hydropathy)\n\n# Create a color scheme highlighting the hydropathy \ncolormap = plt.get_cmap(\"coolwarm\")\ncolorscheme = [\n    hydropathy_to_color(hydropathy_dict[symbol], colormap)\n    if symbol in hydropathy_dict else None\n    for symbol in sequences[0].get_alphabet()\n]\n\n# Show only the first 600 alignment columns for the sake of brevity\n# This part contains all transmembrane helices\nfig = plt.figure(figsize=(8.0, 15))\nax = fig.add_subplot(111)\n# Color the symbols instead of the background\ngraphics.plot_alignment_type_based(\n    ax, alignment[:600], labels=names, show_numbers=True,\n    color_scheme=colorscheme\n)\n\nplt.show()"
      ]
    }
  ],
  "metadata": {
    "kernelspec": {
      "display_name": "Python 3",
      "language": "python",
      "name": "python3"
    },
    "language_info": {
      "codemirror_mode": {
        "name": "ipython",
        "version": 3
      },
      "file_extension": ".py",
      "mimetype": "text/x-python",
      "name": "python",
      "nbconvert_exporter": "python",
      "pygments_lexer": "ipython3",
      "version": "3.8.3"
    }
  },
  "nbformat": 4,
  "nbformat_minor": 0
}