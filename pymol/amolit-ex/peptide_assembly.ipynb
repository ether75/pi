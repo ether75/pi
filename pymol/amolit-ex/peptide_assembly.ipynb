{
  "cells": [
    {
      "cell_type": "code",
      "execution_count": null,
      "metadata": {
        "collapsed": false
      },
      "outputs": [],
      "source": [
        "%matplotlib inline"
      ]
    },
    {
      "cell_type": "markdown",
      "metadata": {},
      "source": [
        "\nAssembly of a straight peptide from sequence\n============================================\n\nThis script presents a function that takes an amino acid sequence and\nbuilds a straight peptide structure (like a $\\beta$-strand) from\nit, including intramolecular bond information.\n\nThe function starts by building a straight peptide backbone based on\nbond geometry.\nThen for each amino acid, the respective side chain atoms and their\ngeometry are obtained from the reference PDB component dataset via\n:func:`biotite.structure.info.residue()` and the atoms are appended to\nthe backbone in the right orientation.\n\nFor simplicity reasons, the scripts always uses an angle of\n$120^\\circ$ for all backbone bond angles.\n"
      ]
    },
    {
      "cell_type": "code",
      "execution_count": null,
      "metadata": {
        "collapsed": false
      },
      "outputs": [],
      "source": [
        "# Code source: Patrick Kunzmann\n# License: BSD 3 clause\n\nfrom tempfile import NamedTemporaryFile\nimport itertools\nimport numpy as np\nfrom numpy.linalg import norm\nimport biotite.sequence as seq\nimport biotite.structure as struc\nimport biotite.structure.io as strucio\nimport biotite.structure.info as info\n\n\n\nN_CA_LENGTH       = 1.46\nCA_C_LENGTH       = 1.54\nC_N_LENGTH        = 1.34\nC_O_LENGTH        = 1.43\nC_O_DOUBLE_LENGTH = 1.23\nN_H_LENGTH        = 1.01\nO_H_LENGTH        = 0.97\n\n\n\ndef calculate_atom_coord_by_z_rotation(coord1, coord2, angle, bond_length):\n    rot_axis = [0, 0, 1]\n\n    # Calculate the coordinates of a new atoms by rotating the previous\n    # bond by the given angle (usually 120 degrees) \n    new_coord = struc.rotate_about_axis(\n            atoms = coord2,\n            axis = rot_axis,\n            angle = np.deg2rad(angle),\n            support = coord1\n        )\n    \n    # Scale bond to correct bond length\n    bond_vector = new_coord - coord1\n    new_coord = coord1 + bond_vector * bond_length / norm(bond_vector)\n\n    return new_coord\n\n\n\ndef assemble_peptide(sequence):\n    res_names = [seq.ProteinSequence.convert_letter_1to3(r) for r in sequence]\n    peptide = struc.AtomArray(length=0)\n    \n\n    for res_id, res_name, connect_angle in zip(np.arange(1, len(res_names)+1),\n                                               res_names,\n                                               itertools.cycle([120, -120])):\n        # Create backbone\n        atom_n = struc.Atom(\n            [0.0, 0.0, 0.0], atom_name=\"N\", element=\"N\"\n        )\n        \n        atom_ca = struc.Atom(\n            [0.0, N_CA_LENGTH, 0.0], atom_name=\"CA\", element=\"C\"\n        )\n        \n        coord_c = calculate_atom_coord_by_z_rotation(\n            atom_ca.coord, atom_n.coord, 120, CA_C_LENGTH\n        )\n        atom_c = struc.Atom(\n            coord_c, atom_name=\"C\", element=\"C\"\n        )\n        \n        coord_o = calculate_atom_coord_by_z_rotation(\n            atom_c.coord, atom_ca.coord, 120, C_O_DOUBLE_LENGTH\n        )\n        atom_o = struc.Atom(\n            coord_o, atom_name=\"O\", element=\"O\"\n        )\n        \n        coord_h = calculate_atom_coord_by_z_rotation(\n            atom_n.coord, atom_ca.coord, -120, N_H_LENGTH\n        )\n        atom_h = struc.Atom(\n            coord_h, atom_name=\"H\", element=\"H\"\n        )\n\n        backbone = struc.array([atom_n, atom_ca, atom_c, atom_o, atom_h])\n        backbone.res_id[:] = res_id\n        backbone.res_name[:] = res_name\n\n        # Add bonds between backbone atoms\n        bonds = struc.BondList(backbone.array_length())\n        bonds.add_bond(0, 1, struc.BondType.SINGLE) # N-CA\n        bonds.add_bond(1, 2, struc.BondType.SINGLE) # CA-C\n        bonds.add_bond(2, 3, struc.BondType.DOUBLE) # C-O\n        bonds.add_bond(0, 4, struc.BondType.SINGLE) # N-H\n        backbone.bonds = bonds\n\n\n        # Get residue from dataset\n        residue = info.residue(res_name)\n        # Superimpose backbone of residue\n        # with backbone created previously \n        _, transformation = struc.superimpose(\n            backbone[struc.filter_backbone(backbone)],\n            residue[struc.filter_backbone(residue)]\n        )\n        residue = struc.superimpose_apply(residue, transformation)\n        # Remove backbone atoms from residue because they are already\n        # existing in the backbone created prevoisly\n        side_chain = residue[~np.isin(\n            residue.atom_name,\n            [\"N\", \"CA\", \"C\", \"O\", \"OXT\", \"H\", \"H2\", \"H3\", \"HXT\"]\n        )]\n        \n\n        # Assemble backbone with side chain (including HA)\n        # and set annotation arrays\n        residue = backbone + side_chain\n        residue.bonds.add_bond(\n            np.where(residue.atom_name == \"CA\")[0][0],\n            np.where(residue.atom_name == \"CB\")[0][0],\n            struc.BondType.SINGLE\n        )\n        residue.bonds.add_bond(\n            np.where(residue.atom_name == \"CA\")[0][0],\n            np.where(residue.atom_name == \"HA\")[0][0],\n            struc.BondType.SINGLE\n        )\n        residue.chain_id[:] = \"A\"\n        residue.res_id[:] = res_id\n        residue.res_name[:] = res_name\n        peptide += residue\n\n        # Connect current residue to existing residues in the chain\n        if res_id > 1:\n            index_prev_ca = np.where(\n                (peptide.res_id == res_id-1) &\n                (peptide.atom_name == \"CA\")\n            )[0][0]\n            index_prev_c = np.where(\n                (peptide.res_id == res_id-1) &\n                (peptide.atom_name == \"C\")\n            )[0][0]\n            index_curr_n = np.where(\n                (peptide.res_id == res_id) &\n                (peptide.atom_name == \"N\")\n            )[0][0]\n            index_curr_c = np.where(\n                (peptide.res_id == res_id) &\n                (peptide.atom_name == \"C\")\n            )[0][0]\n            curr_residue_mask = peptide.res_id == res_id\n\n            # Adjust geometry\n            curr_coord_n  = calculate_atom_coord_by_z_rotation(\n                peptide.coord[index_prev_c],  peptide.coord[index_prev_ca],\n                connect_angle, C_N_LENGTH\n            )\n            peptide.coord[curr_residue_mask] -=  peptide.coord[index_curr_n]\n            peptide.coord[curr_residue_mask] += curr_coord_n\n            # Adjacent residues should show in opposing directions\n            # -> rotate residues with even residue ID by 180 degrees\n            if res_id % 2 == 0:\n                coord_n = peptide.coord[index_curr_n]\n                coord_c = peptide.coord[index_curr_c]\n                peptide.coord[curr_residue_mask] = struc.rotate_about_axis(\n                    atoms = peptide.coord[curr_residue_mask],\n                    axis = coord_c - coord_n,\n                    angle = np.deg2rad(180),\n                    support = coord_n\n                )\n\n            # Add bond between previous C and current N\n            peptide.bonds.add_bond(\n                index_prev_c, index_curr_n, struc.BondType.SINGLE\n            )\n    \n\n    # Add N-terminal hydrogen\n    atom_n = peptide[(peptide.res_id == 1) & (peptide.atom_name == \"N\")][0]\n    atom_h = peptide[(peptide.res_id == 1) & (peptide.atom_name == \"H\")][0]\n    coord_h2 = calculate_atom_coord_by_z_rotation(\n        atom_n.coord, atom_h.coord, -120, N_H_LENGTH\n    )\n    atom_h2 = struc.Atom(\n        coord_h2,\n        chain_id=\"A\", res_id=1, res_name=atom_h.res_name, atom_name=\"H2\",\n        element=\"H\"\n    )\n    peptide = struc.array([atom_h2]) + peptide\n    peptide.bonds.add_bond(0, 1, struc.BondType.SINGLE) # H2-N\n\n    # Add C-terminal hydroxyl group\n    last_id = len(sequence)\n    index_c = np.where(\n        (peptide.res_id == last_id) & (peptide.atom_name == \"C\")\n    )[0][0]\n    index_o = np.where(\n        (peptide.res_id == last_id) & (peptide.atom_name == \"O\")\n    )[0][0]\n    coord_oxt = calculate_atom_coord_by_z_rotation(\n        peptide.coord[index_c], peptide.coord[index_o], connect_angle, C_O_LENGTH\n    )\n    coord_hxt = calculate_atom_coord_by_z_rotation(\n        coord_oxt, peptide.coord[index_c], connect_angle, O_H_LENGTH\n    )\n    atom_oxt = struc.Atom(\n        coord_oxt,\n        chain_id=\"A\", res_id=last_id, res_name=peptide[index_c].res_name,\n        atom_name=\"OXT\", element=\"O\"\n    )\n    atom_hxt = struc.Atom(\n        coord_hxt,\n        chain_id=\"A\", res_id=last_id, res_name=peptide[index_c].res_name,\n        atom_name=\"HXT\", element=\"H\"\n    )\n    peptide = peptide + struc.array([atom_oxt, atom_hxt])\n    peptide.bonds.add_bond(index_c, -2, struc.BondType.SINGLE) # C-OXT\n    peptide.bonds.add_bond(-2,      -1, struc.BondType.SINGLE) # OXT-HXT\n\n\n    return peptide\n\n\n\nsequence = seq.ProteinSequence(\"TITANITE\")\natom_array = assemble_peptide(sequence)\nout_file = NamedTemporaryFile(suffix=\".mmtf\", delete=False)\nstrucio.save_structure(out_file.name, atom_array)\n# Visualization with PyMOL...\n\nout_file.close()"
      ]
    }
  ],
  "metadata": {
    "kernelspec": {
      "display_name": "Python 3",
      "language": "python",
      "name": "python3"
    },
    "language_info": {
      "codemirror_mode": {
        "name": "ipython",
        "version": 3
      },
      "file_extension": ".py",
      "mimetype": "text/x-python",
      "name": "python",
      "nbconvert_exporter": "python",
      "pygments_lexer": "ipython3",
      "version": "3.8.3"
    }
  },
  "nbformat": 4,
  "nbformat_minor": 0
}