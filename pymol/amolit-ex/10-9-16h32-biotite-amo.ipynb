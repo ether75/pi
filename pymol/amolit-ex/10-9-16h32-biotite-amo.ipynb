{
 "cells": [
  {
   "cell_type": "code",
   "execution_count": 1,
   "metadata": {},
   "outputs": [
    {
     "name": "stdout",
     "output_type": "stream",
     "text": [
      "['A', 'C', 'G', 'T']\n",
      "['A', 'C', 'G', 'T', 'R', 'Y', 'W', 'S', 'M', 'K', 'H', 'B', 'V', 'D', 'N']\n"
     ]
    }
   ],
   "source": [
    "import biotite.sequence as seq\n",
    "seq1 = seq.NucleotideSequence(\"ACCGTATCAAG\")\n",
    "print(seq1.get_alphabet())\n",
    "# Constructing a sequence with ambiguous nucleic bases\n",
    "seq2 = seq.NucleotideSequence(\"TANNCGNGG\")\n",
    "print(seq2.get_alphabet())"
   ]
  },
  {
   "cell_type": "code",
   "execution_count": 2,
   "metadata": {},
   "outputs": [
    {
     "name": "stdout",
     "output_type": "stream",
     "text": [
      "Original: TACAGTT\n",
      "Reverse complement: AACTGTA\n"
     ]
    }
   ],
   "source": [
    "seq1 = seq.NucleotideSequence(\"tacagtt\")\n",
    "print(\"Original:\", seq1)\n",
    "seq2 = seq1.reverse().complement()\n",
    "print(\"Reverse complement:\", seq2)"
   ]
  },
  {
   "cell_type": "code",
   "execution_count": 3,
   "metadata": {},
   "outputs": [
    {
     "name": "stdout",
     "output_type": "stream",
     "text": [
      "ASX-ILE-GLN-THR-ILE-THR-GLU\n"
     ]
    }
   ],
   "source": [
    "prot_seq = seq.ProteinSequence(\"BIQTITE\")\n",
    "print(\"-\".join([seq.ProteinSequence.convert_letter_1to3(symbol)\n",
    "                for symbol in prot_seq]))"
   ]
  },
  {
   "cell_type": "code",
   "execution_count": 4,
   "metadata": {},
   "outputs": [
    {
     "name": "stdout",
     "output_type": "stream",
     "text": [
      "Protein sequence MMYAIG* from base 4 to base 24\n",
      "Protein sequence MYAIG* from base 7 to base 24\n",
      "Protein sequence MQ* from base 11 to base 19\n",
      "Protein sequence M from base 25 to base 27\n",
      "Complete translation: HMMYAIG*M\n"
     ]
    }
   ],
   "source": [
    "dna = seq.NucleotideSequence(\"CATATGATGTATGCAATAGGGTGAATG\")\n",
    "proteins, pos = dna.translate()\n",
    "for i in range(len(proteins)):\n",
    "    print(\n",
    "        f\"Protein sequence {str(proteins[i])} \"\n",
    "        f\"from base {pos[i][0]+1} to base {pos[i][1]}\"\n",
    "    )\n",
    "protein = dna.translate(complete=True)\n",
    "print(\"Complete translation:\", str(protein))"
   ]
  },
  {
   "cell_type": "code",
   "execution_count": 5,
   "metadata": {},
   "outputs": [
    {
     "name": "stdout",
     "output_type": "stream",
     "text": [
      "Y\n",
      "('TAC', 'TAT')\n",
      "14\n",
      "((0, 2, 0), (0, 2, 2), (1, 2, 0), (1, 2, 1), (1, 2, 2), (1, 2, 3))\n"
     ]
    }
   ],
   "source": [
    "table = seq.CodonTable.default_table()\n",
    "# Find the amino acid encoded by a given codon\n",
    "print(table[\"TAC\"])\n",
    "# Find the codons encoding a given amino acid\n",
    "print(table[\"Y\"])\n",
    "# Works also for codes instead of symbols\n",
    "print(table[(1,2,3)])\n",
    "print(table[14])"
   ]
  },
  {
   "cell_type": "code",
   "execution_count": 6,
   "metadata": {},
   "outputs": [
    {
     "name": "stdout",
     "output_type": "stream",
     "text": [
      "Yeast Mitochondrial:\n",
      "AAA K      AAC N      AAG K      AAT N\n",
      "ACA T      ACC T      ACG T      ACT T\n",
      "AGA R      AGC S      AGG R      AGT S\n",
      "ATA M i    ATC I      ATG M i    ATT I\n",
      "\n",
      "CAA Q      CAC H      CAG Q      CAT H\n",
      "CCA P      CCC P      CCG P      CCT P\n",
      "CGA R      CGC R      CGG R      CGT R\n",
      "CTA T      CTC T      CTG T      CTT T\n",
      "\n",
      "GAA E      GAC D      GAG E      GAT D\n",
      "GCA A      GCC A      GCG A      GCT A\n",
      "GGA G      GGC G      GGG G      GGT G\n",
      "GTA V      GTC V      GTG V      GTT V\n",
      "\n",
      "TAA *      TAC Y      TAG *      TAT Y\n",
      "TCA S      TCC S      TCG S      TCT S\n",
      "TGA W      TGC C      TGG W      TGT C\n",
      "TTA L      TTC F      TTG L      TTT F\n",
      "\n",
      "Bacterial:\n",
      "AAA K      AAC N      AAG K      AAT N\n",
      "ACA T      ACC T      ACG T      ACT T\n",
      "AGA R      AGC S      AGG R      AGT S\n",
      "ATA I i    ATC I i    ATG M i    ATT I\n",
      "\n",
      "CAA Q      CAC H      CAG Q      CAT H\n",
      "CCA P      CCC P      CCG P      CCT P\n",
      "CGA R      CGC R      CGG R      CGT R\n",
      "CTA L      CTC L      CTG L i    CTT L\n",
      "\n",
      "GAA E      GAC D      GAG E      GAT D\n",
      "GCA A      GCC A      GCG A      GCT A\n",
      "GGA G      GGC G      GGG G      GGT G\n",
      "GTA V      GTC V      GTG V i    GTT V\n",
      "\n",
      "TAA *      TAC Y      TAG *      TAT Y\n",
      "TCA S      TCC S      TCG S      TCT S\n",
      "TGA *      TGC C      TGG W      TGT C\n",
      "TTA L      TTC F      TTG L i    TTT F\n"
     ]
    }
   ],
   "source": [
    "# Use the official NCBI table name\n",
    "table = seq.CodonTable.load(\"Yeast Mitochondrial\")\n",
    "print(\"Yeast Mitochondrial:\")\n",
    "print(table)\n",
    "print()\n",
    "# Use the official NCBI table ID\n",
    "table = seq.CodonTable.load(11)\n",
    "print(\"Bacterial:\")\n",
    "print(table)"
   ]
  },
  {
   "cell_type": "code",
   "execution_count": 7,
   "metadata": {},
   "outputs": [
    {
     "name": "stdout",
     "output_type": "stream",
     "text": [
      "Header: NC_001416.1 Enterobacteria phage lambda, complete genome\n",
      "48502\n",
      "Sequence: GGGCGGCGACCTCGCGGGTTTTCGCTATTTATGAAAATTTTCCGGTTTAA ...\n",
      "Sequence length: 48502\n"
     ]
    }
   ],
   "source": [
    "from tempfile import gettempdir, NamedTemporaryFile\n",
    "import biotite.sequence as seq\n",
    "import biotite.sequence.io.fasta as fasta\n",
    "import biotite.database.entrez as entrez\n",
    "\n",
    "file_path = entrez.fetch(\n",
    "    \"NC_001416\", gettempdir(), suffix=\"fa\",\n",
    "    db_name=\"nuccore\", ret_type=\"fasta\"\n",
    ")\n",
    "fasta_file = fasta.FastaFile.read(file_path)\n",
    "for header, string in fasta_file.items():\n",
    "    print(\"Header:\", header)\n",
    "    print(len(string))\n",
    "    print(\"Sequence:\", string[:50], \"...\")\n",
    "    print(\"Sequence length:\", len(string))"
   ]
  },
  {
   "cell_type": "code",
   "execution_count": 8,
   "metadata": {},
   "outputs": [
    {
     "name": "stdout",
     "output_type": "stream",
     "text": [
      "NucleotideSequence\n",
      "GGGCGGCGACCTCGCGGGTTTTCGCTATTTATGAAAATTTTCCGGTTTAA\n"
     ]
    }
   ],
   "source": [
    "dna_seq = fasta.get_sequence(fasta_file)\n",
    "print(type(dna_seq).__name__)\n",
    "print(dna_seq[:50])"
   ]
  },
  {
   "cell_type": "code",
   "execution_count": 9,
   "metadata": {},
   "outputs": [
    {
     "name": "stdout",
     "output_type": "stream",
     "text": [
      ">gibberish\n",
      "ATCGGATCTATCGATGCTAGCTACAGCTAT\n",
      ">more gibberish\n",
      "ACGATCTACTAGCTGATGTCGTGCATGTACG\n"
     ]
    }
   ],
   "source": [
    "# Create new empty FASTA file\n",
    "fasta_file = fasta.FastaFile()\n",
    "# PROTIP: Let your cat walk over the keyboard\n",
    "dna_seq1 = seq.NucleotideSequence(\"ATCGGATCTATCGATGCTAGCTACAGCTAT\")\n",
    "dna_seq2 = seq.NucleotideSequence(\"ACGATCTACTAGCTGATGTCGTGCATGTACG\")\n",
    "# Append entries to file...\n",
    "# ... via set_sequence()\n",
    "fasta.set_sequence(fasta_file, dna_seq1, header=\"gibberish\")\n",
    "# .. or dictionary style\n",
    "fasta_file[\"more gibberish\"] = str(dna_seq2)\n",
    "print(fasta_file)\n",
    "temp_file = NamedTemporaryFile(suffix=\".fasta\")\n",
    "fasta_file.write(temp_file.name)\n",
    "temp_file.close()"
   ]
  },
  {
   "cell_type": "code",
   "execution_count": 10,
   "metadata": {},
   "outputs": [
    {
     "name": "stdout",
     "output_type": "stream",
     "text": [
      "Occurences of 'TAT': [ 4 11]\n",
      "Occurences of 'C': [1 2 7]\n"
     ]
    }
   ],
   "source": [
    "import biotite.sequence as seq\n",
    "main_seq = seq.NucleotideSequence(\"ACCGTATCAAGTATTG\")\n",
    "sub_seq = seq.NucleotideSequence(\"TAT\")\n",
    "print(\"Occurences of 'TAT':\", seq.find_subsequence(main_seq, sub_seq))\n",
    "print(\"Occurences of 'C':\", seq.find_symbol(main_seq, \"C\"))"
   ]
  },
  {
   "cell_type": "code",
   "execution_count": 11,
   "metadata": {},
   "outputs": [
    {
     "name": "stdout",
     "output_type": "stream",
     "text": [
      "\n",
      "BLOSUM62\n",
      "\n",
      "    A   C   D   E   F   G   H   I   K   L   M   N   P   Q   R   S   T   V   W   Y   B   Z   X   *\n",
      "A   4   0  -2  -1  -2   0  -2  -1  -1  -1  -1  -2  -1  -1  -1   1   0   0  -3  -2  -2  -1   0  -4\n",
      "C   0   9  -3  -4  -2  -3  -3  -1  -3  -1  -1  -3  -3  -3  -3  -1  -1  -1  -2  -2  -3  -3  -2  -4\n",
      "D  -2  -3   6   2  -3  -1  -1  -3  -1  -4  -3   1  -1   0  -2   0  -1  -3  -4  -3   4   1  -1  -4\n",
      "E  -1  -4   2   5  -3  -2   0  -3   1  -3  -2   0  -1   2   0   0  -1  -2  -3  -2   1   4  -1  -4\n",
      "F  -2  -2  -3  -3   6  -3  -1   0  -3   0   0  -3  -4  -3  -3  -2  -2  -1   1   3  -3  -3  -1  -4\n",
      "G   0  -3  -1  -2  -3   6  -2  -4  -2  -4  -3   0  -2  -2  -2   0  -2  -3  -2  -3  -1  -2  -1  -4\n",
      "H  -2  -3  -1   0  -1  -2   8  -3  -1  -3  -2   1  -2   0   0  -1  -2  -3  -2   2   0   0  -1  -4\n",
      "I  -1  -1  -3  -3   0  -4  -3   4  -3   2   1  -3  -3  -3  -3  -2  -1   3  -3  -1  -3  -3  -1  -4\n",
      "K  -1  -3  -1   1  -3  -2  -1  -3   5  -2  -1   0  -1   1   2   0  -1  -2  -3  -2   0   1  -1  -4\n",
      "L  -1  -1  -4  -3   0  -4  -3   2  -2   4   2  -3  -3  -2  -2  -2  -1   1  -2  -1  -4  -3  -1  -4\n",
      "M  -1  -1  -3  -2   0  -3  -2   1  -1   2   5  -2  -2   0  -1  -1  -1   1  -1  -1  -3  -1  -1  -4\n",
      "N  -2  -3   1   0  -3   0   1  -3   0  -3  -2   6  -2   0   0   1   0  -3  -4  -2   3   0  -1  -4\n",
      "P  -1  -3  -1  -1  -4  -2  -2  -3  -1  -3  -2  -2   7  -1  -2  -1  -1  -2  -4  -3  -2  -1  -2  -4\n",
      "Q  -1  -3   0   2  -3  -2   0  -3   1  -2   0   0  -1   5   1   0  -1  -2  -2  -1   0   3  -1  -4\n",
      "R  -1  -3  -2   0  -3  -2   0  -3   2  -2  -1   0  -2   1   5  -1  -1  -3  -3  -2  -1   0  -1  -4\n",
      "S   1  -1   0   0  -2   0  -1  -2   0  -2  -1   1  -1   0  -1   4   1  -2  -3  -2   0   0   0  -4\n",
      "T   0  -1  -1  -1  -2  -2  -2  -1  -1  -1  -1   0  -1  -1  -1   1   5   0  -2  -2  -1  -1   0  -4\n",
      "V   0  -1  -3  -2  -1  -3  -3   3  -2   1   1  -3  -2  -2  -3  -2   0   4  -3  -1  -3  -2  -1  -4\n",
      "W  -3  -2  -4  -3   1  -2  -2  -3  -3  -2  -1  -4  -4  -2  -3  -3  -2  -3  11   2  -4  -3  -2  -4\n",
      "Y  -2  -2  -3  -2   3  -3   2  -1  -2  -1  -1  -2  -3  -1  -2  -2  -2  -1   2   7  -3  -2  -1  -4\n",
      "B  -2  -3   4   1  -3  -1   0  -3   0  -4  -3   3  -2   0  -1   0  -1  -3  -4  -3   4   1  -1  -4\n",
      "Z  -1  -3   1   4  -3  -2   0  -3   1  -3  -1   0  -1   3   0   0  -1  -2  -3  -2   1   4  -1  -4\n",
      "X   0  -2  -1  -1  -1  -1  -1  -1  -1  -1  -1  -1  -2  -1  -1   0   0  -1  -2  -1  -1  -1  -1  -4\n",
      "*  -4  -4  -4  -4  -4  -4  -4  -4  -4  -4  -4  -4  -4  -4  -4  -4  -4  -4  -4  -4  -4  -4  -4   1\n",
      "\n",
      "\n",
      "Identity matrix\n",
      "\n",
      "    A   C   D   E   F   G   H   I   K   L   M   N   P   Q   R   S   T   V   W   Y   B   Z   X   *\n",
      "A   1   0   0   0   0   0   0   0   0   0   0   0   0   0   0   0   0   0   0   0   0   0   0   0\n",
      "C   0   1   0   0   0   0   0   0   0   0   0   0   0   0   0   0   0   0   0   0   0   0   0   0\n",
      "D   0   0   1   0   0   0   0   0   0   0   0   0   0   0   0   0   0   0   0   0   0   0   0   0\n",
      "E   0   0   0   1   0   0   0   0   0   0   0   0   0   0   0   0   0   0   0   0   0   0   0   0\n",
      "F   0   0   0   0   1   0   0   0   0   0   0   0   0   0   0   0   0   0   0   0   0   0   0   0\n",
      "G   0   0   0   0   0   1   0   0   0   0   0   0   0   0   0   0   0   0   0   0   0   0   0   0\n",
      "H   0   0   0   0   0   0   1   0   0   0   0   0   0   0   0   0   0   0   0   0   0   0   0   0\n",
      "I   0   0   0   0   0   0   0   1   0   0   0   0   0   0   0   0   0   0   0   0   0   0   0   0\n",
      "K   0   0   0   0   0   0   0   0   1   0   0   0   0   0   0   0   0   0   0   0   0   0   0   0\n",
      "L   0   0   0   0   0   0   0   0   0   1   0   0   0   0   0   0   0   0   0   0   0   0   0   0\n",
      "M   0   0   0   0   0   0   0   0   0   0   1   0   0   0   0   0   0   0   0   0   0   0   0   0\n",
      "N   0   0   0   0   0   0   0   0   0   0   0   1   0   0   0   0   0   0   0   0   0   0   0   0\n",
      "P   0   0   0   0   0   0   0   0   0   0   0   0   1   0   0   0   0   0   0   0   0   0   0   0\n",
      "Q   0   0   0   0   0   0   0   0   0   0   0   0   0   1   0   0   0   0   0   0   0   0   0   0\n",
      "R   0   0   0   0   0   0   0   0   0   0   0   0   0   0   1   0   0   0   0   0   0   0   0   0\n",
      "S   0   0   0   0   0   0   0   0   0   0   0   0   0   0   0   1   0   0   0   0   0   0   0   0\n",
      "T   0   0   0   0   0   0   0   0   0   0   0   0   0   0   0   0   1   0   0   0   0   0   0   0\n",
      "V   0   0   0   0   0   0   0   0   0   0   0   0   0   0   0   0   0   1   0   0   0   0   0   0\n",
      "W   0   0   0   0   0   0   0   0   0   0   0   0   0   0   0   0   0   0   1   0   0   0   0   0\n",
      "Y   0   0   0   0   0   0   0   0   0   0   0   0   0   0   0   0   0   0   0   1   0   0   0   0\n",
      "B   0   0   0   0   0   0   0   0   0   0   0   0   0   0   0   0   0   0   0   0   1   0   0   0\n",
      "Z   0   0   0   0   0   0   0   0   0   0   0   0   0   0   0   0   0   0   0   0   0   1   0   0\n",
      "X   0   0   0   0   0   0   0   0   0   0   0   0   0   0   0   0   0   0   0   0   0   0   1   0\n",
      "*   0   0   0   0   0   0   0   0   0   0   0   0   0   0   0   0   0   0   0   0   0   0   0   1\n"
     ]
    }
   ],
   "source": [
    "import biotite.sequence as seq\n",
    "import biotite.sequence.align as align\n",
    "import numpy as np\n",
    "\n",
    "alph = seq.ProteinSequence.alphabet\n",
    "# Load the standard protein substitution matrix, which is BLOSUM62\n",
    "matrix = align.SubstitutionMatrix.std_protein_matrix()\n",
    "print(\"\\nBLOSUM62\\n\")\n",
    "print(matrix)\n",
    "# Load another matrix from internal database\n",
    "matrix = align.SubstitutionMatrix(alph, alph, \"BLOSUM50\")\n",
    "# Load a matrix dictionary representation,\n",
    "# modify it, and create the SubstitutionMatrix\n",
    "# (The dictionary could be alternatively loaded from a string containing\n",
    "# the matrix in NCBI format)\n",
    "matrix_dict = align.SubstitutionMatrix.dict_from_db(\"BLOSUM62\")\n",
    "matrix_dict[(\"P\",\"Y\")] = 100\n",
    "matrix = align.SubstitutionMatrix(alph, alph, matrix_dict)\n",
    "# And now create a matrix by directly provding the ndarray\n",
    "# containing the similarity scores\n",
    "# (identity matrix in our case)\n",
    "scores = np.identity(len(alph), dtype=int)\n",
    "matrix = align.SubstitutionMatrix(alph, alph, scores)\n",
    "print(\"\\n\\nIdentity matrix\\n\")\n",
    "print(matrix)"
   ]
  },
  {
   "cell_type": "code",
   "execution_count": 12,
   "metadata": {},
   "outputs": [
    {
     "name": "stdout",
     "output_type": "stream",
     "text": [
      "Accession: AJ311647\n",
      "Definition: Gallus gallus AVD gene for avidin, exons 1-4.\n"
     ]
    }
   ],
   "source": [
    "import biotite.sequence.io.genbank as gb\n",
    "\n",
    "file_path = entrez.fetch(\n",
    "    \"AJ311647\", gettempdir(), suffix=\"gb\",\n",
    "    db_name=\"nuccore\", ret_type=\"gb\"\n",
    ")\n",
    "file = gb.GenBankFile.read(file_path)\n",
    "print(\"Accession:\", gb.get_accession(file))\n",
    "print(\"Definition:\", gb.get_definition(file))"
   ]
  },
  {
   "cell_type": "code",
   "execution_count": 13,
   "metadata": {},
   "outputs": [
    {
     "name": "stdout",
     "output_type": "stream",
     "text": [
      "intron         ['474-898 >']\n",
      "gene           ['98-1152 >']\n",
      "exon           ['263-473 >']\n",
      "exon           ['899-1019 >']\n",
      "exon           ['1107-1152 >']\n",
      "source         ['1-1224 >']\n",
      "sig_peptide    ['98-169 >']\n",
      "intron         ['1020-1106 >']\n",
      "intron         ['179-262 >']\n",
      "CDS            ['98-178 >', '263-473 >', '899-1019 >', '1107-1152 >']\n",
      "exon           ['98-178 >']\n",
      "mRNA           ['98-178 >', '263-473 >', '899-1019 >', '1107-1152 >']\n",
      "regulatory     ['1215-1220 >']\n",
      "regulatory     ['26-33 >']\n"
     ]
    }
   ],
   "source": [
    "annotation = gb.get_annotation(file)\n",
    "for feature in annotation:\n",
    "    # Convert the feature locations in better readable format\n",
    "    locs = [str(loc) for loc in sorted(feature.locs, key=lambda l: l.first)]\n",
    "    print(f\"{feature.key:12}   {locs}\")"
   ]
  },
  {
   "cell_type": "code",
   "execution_count": 14,
   "metadata": {},
   "outputs": [
    {
     "name": "stdout",
     "output_type": "stream",
     "text": [
      "polyA_signal_sequence\n",
      "TATA_box\n"
     ]
    }
   ],
   "source": [
    "for feature in annotation:\n",
    "    if feature.key == \"regulatory\":\n",
    "        print(feature.qual[\"regulatory_class\"])"
   ]
  },
  {
   "cell_type": "code",
   "execution_count": 17,
   "metadata": {},
   "outputs": [
    {
     "ename": "AttributeError",
     "evalue": "module 'matplotlib' has no attribute 'subplots'",
     "output_type": "error",
     "traceback": [
      "\u001b[0;31m---------------------------------------------------------------------------\u001b[0m",
      "\u001b[0;31mAttributeError\u001b[0m                            Traceback (most recent call last)",
      "\u001b[0;32m<ipython-input-17-b5f8599d60e1>\u001b[0m in \u001b[0;36m<module>\u001b[0;34m\u001b[0m\n\u001b[1;32m      6\u001b[0m         \u001b[0mloc\u001b[0m \u001b[0;34m=\u001b[0m \u001b[0mlist\u001b[0m\u001b[0;34m(\u001b[0m\u001b[0mfeature\u001b[0m\u001b[0;34m.\u001b[0m\u001b[0mlocs\u001b[0m\u001b[0;34m)\u001b[0m\u001b[0;34m[\u001b[0m\u001b[0;36m0\u001b[0m\u001b[0;34m]\u001b[0m\u001b[0;34m\u001b[0m\u001b[0;34m\u001b[0m\u001b[0m\n\u001b[1;32m      7\u001b[0m         \u001b[0mloc_range\u001b[0m \u001b[0;34m=\u001b[0m \u001b[0;34m(\u001b[0m\u001b[0mloc\u001b[0m\u001b[0;34m.\u001b[0m\u001b[0mfirst\u001b[0m\u001b[0;34m,\u001b[0m \u001b[0mloc\u001b[0m\u001b[0;34m.\u001b[0m\u001b[0mlast\u001b[0m\u001b[0;34m+\u001b[0m\u001b[0;36m1\u001b[0m\u001b[0;34m)\u001b[0m\u001b[0;34m\u001b[0m\u001b[0;34m\u001b[0m\u001b[0m\n\u001b[0;32m----> 8\u001b[0;31m \u001b[0mfig\u001b[0m\u001b[0;34m,\u001b[0m \u001b[0max\u001b[0m \u001b[0;34m=\u001b[0m \u001b[0mplt\u001b[0m\u001b[0;34m.\u001b[0m\u001b[0msubplots\u001b[0m\u001b[0;34m(\u001b[0m\u001b[0mfigsize\u001b[0m\u001b[0;34m=\u001b[0m\u001b[0;34m(\u001b[0m\u001b[0;36m8.0\u001b[0m\u001b[0;34m,\u001b[0m \u001b[0;36m1.0\u001b[0m\u001b[0;34m)\u001b[0m\u001b[0;34m)\u001b[0m\u001b[0;34m\u001b[0m\u001b[0;34m\u001b[0m\u001b[0m\n\u001b[0m\u001b[1;32m      9\u001b[0m graphics.plot_feature_map(\n\u001b[1;32m     10\u001b[0m     \u001b[0max\u001b[0m\u001b[0;34m,\u001b[0m\u001b[0;34m\u001b[0m\u001b[0;34m\u001b[0m\u001b[0m\n",
      "\u001b[0;31mAttributeError\u001b[0m: module 'matplotlib' has no attribute 'subplots'"
     ]
    }
   ],
   "source": [
    "import matplotlib\n",
    "# Get the range of the entire annotation via the *source* feature\n",
    "for feature in annotation:\n",
    "    if feature.key == \"source\":\n",
    "        # loc_range has exclusive stop\n",
    "        loc = list(feature.locs)[0]\n",
    "        loc_range = (loc.first, loc.last+1)\n",
    "fig, ax = plt.subplots(figsize=(8.0, 1.0))\n",
    "graphics.plot_feature_map(\n",
    "    ax,\n",
    "    seq.Annotation(\n",
    "        [feature for feature in annotation if feature.key == \"CDS\"]\n",
    "    ),\n",
    "    multi_line=False,\n",
    "    loc_range=loc_range,\n",
    "    show_line_position=True\n",
    ")\n",
    "fig.tight_layout()"
   ]
  },
  {
   "cell_type": "code",
   "execution_count": null,
   "metadata": {},
   "outputs": [],
   "source": [
    "# At first we have the find the feature with the 'gene' key\n",
    "for feature in annotation:\n",
    "    if feature.key == \"gene\":\n",
    "        gene_feature = feature\n",
    "# Then we create a subannotation from the feature's location\n",
    "# Since the stop value of the slice is still exclusive,\n",
    "# the stop value is the position of the last base +1\n",
    "loc = list(gene_feature.locs)[0]\n",
    "sub_annot = annotation[loc.first : loc.last +1]\n",
    "# Print the remaining features and their locations\n",
    "for feature in sub_annot:\n",
    "    locs = [str(loc) for loc in sorted(feature.locs, key=lambda l: l.first)]\n",
    "    print(f\"{feature.key:12}   {locs}\")"
   ]
  },
  {
   "cell_type": "code",
   "execution_count": null,
   "metadata": {},
   "outputs": [],
   "source": [
    "for feature in sub_annot:\n",
    "    defects = [str(location.defect) for location\n",
    "               in sorted(feature.locs, key=lambda l: l.first)]\n",
    "    print(f\"{feature.key:12}   {defects}\")"
   ]
  },
  {
   "cell_type": "code",
   "execution_count": null,
   "metadata": {},
   "outputs": [],
   "source": [
    "annot_seq = gb.get_annotated_sequence(file)\n",
    "print(\"Same annotation as before?\", (annotation == annot_seq.annotation))\n",
    "print(annot_seq.sequence[:60], \"...\")"
   ]
  },
  {
   "cell_type": "code",
   "execution_count": null,
   "metadata": {},
   "outputs": [],
   "source": [
    "print(\"Sequence start before indexing:\", annot_seq.sequence_start)\n",
    "for feature in annot_seq.annotation:\n",
    "    if feature.key == \"regulatory\" \\\n",
    "        and feature.qual[\"regulatory_class\"] == \"polyA_signal_sequence\":\n",
    "            polya_feature = feature\n",
    "loc = list(polya_feature.locs)[0]\n",
    "# Get annotated sequence containing only the poly-A signal region\n",
    "poly_a = annot_seq[loc.first : loc.last +1]\n",
    "print(\"Sequence start after indexing:\", poly_a.sequence_start)\n",
    "print(poly_a.sequence)"
   ]
  },
  {
   "cell_type": "code",
   "execution_count": null,
   "metadata": {},
   "outputs": [],
   "source": [
    "for feature in annot_seq.annotation:\n",
    "    if feature.key == \"CDS\":\n",
    "        cds_feature = feature\n",
    "cds_seq = annot_seq[cds_feature]\n",
    "print(cds_seq[:60], \"...\")"
   ]
  },
  {
   "cell_type": "code",
   "execution_count": null,
   "metadata": {},
   "outputs": [],
   "source": [
    "cds_seq = seq.NucleotideSequence(cds_seq)\n",
    "# Now we can translate the unambiguous sequence.\n",
    "prot_seq = cds_seq.translate(complete=True)\n",
    "print(prot_seq[:60], \"...\")\n",
    "print(\n",
    "    \"Are the translated sequences equal?\",\n",
    "    # Remove stops of our translation\n",
    "    (str(prot_seq.remove_stops()) ==\n",
    "    # Remove whitespace characters from translation given by CDS feature\n",
    "    cds_feature.qual[\"translation\"].replace(\" \", \"\"))\n",
    ")"
   ]
  },
  {
   "cell_type": "code",
   "execution_count": null,
   "metadata": {},
   "outputs": [],
   "source": [
    "import biotite.sequence.phylo as phylo\n",
    "\n",
    "# The reference objects\n",
    "fruits = [\"Apple\", \"Pear\", \"Orange\", \"Lemon\", \"Banana\"]\n",
    "# Create nodes\n",
    "apple  = phylo.TreeNode(index=fruits.index(\"Apple\"))\n",
    "pear   = phylo.TreeNode(index=fruits.index(\"Pear\"))\n",
    "orange = phylo.TreeNode(index=fruits.index(\"Orange\"))\n",
    "lemon  = phylo.TreeNode(index=fruits.index(\"Lemon\"))\n",
    "banana = phylo.TreeNode(index=fruits.index(\"Banana\"))\n",
    "intermediate1 = phylo.TreeNode(\n",
    "    children=(apple, pear), distances=(2.0, 2.0)\n",
    ")\n",
    "intermediate2 = phylo.TreeNode((orange, lemon), (1.0, 1.0))\n",
    "intermediate3 = phylo.TreeNode((intermediate2, banana), (2.0, 3.0))\n",
    "root = phylo.TreeNode((intermediate1, intermediate3), (2.0, 1.0))\n",
    "# Create tree from root node\n",
    "tree = phylo.Tree(root=root)\n",
    "# Trees can be converted into Newick notation\n",
    "print(\"Tree:\", tree.to_newick(labels=fruits))\n",
    "# Distances can be omitted\n",
    "print(\n",
    "    \"Tree w/o distances:\",\n",
    "    tree.to_newick(labels=fruits, include_distance=False)\n",
    ")\n",
    "# Distances can be measured\n",
    "distance = tree.get_distance(fruits.index(\"Apple\"), fruits.index(\"Banana\"))\n",
    "print(\"Distance Apple-Banana:\", distance)"
   ]
  },
  {
   "cell_type": "code",
   "execution_count": null,
   "metadata": {},
   "outputs": [],
   "source": [
    "fig, ax = plt.subplots(figsize=(6.0, 6.0))\n",
    "graphics.plot_dendrogram(ax, tree, labels=fruits)\n",
    "fig.tight_layout()"
   ]
  },
  {
   "cell_type": "code",
   "execution_count": null,
   "metadata": {},
   "outputs": [],
   "source": [
    "distances = np.array([\n",
    "    [ 0, 17, 21, 31, 23],\n",
    "    [17, 0,  30, 34, 21],\n",
    "    [21, 30, 0,  28, 39],\n",
    "    [31, 34, 28,  0, 43],\n",
    "    [23, 21, 39, 43,  0]\n",
    "])\n",
    "tree = phylo.upgma(distances)\n",
    "fig, ax = plt.subplots(figsize=(6.0, 3.0))\n",
    "graphics.plot_dendrogram(ax, tree, orientation=\"top\")\n",
    "fig.tight_layout()"
   ]
  },
  {
   "cell_type": "code",
   "execution_count": null,
   "metadata": {},
   "outputs": [],
   "source": [
    "import biotite.structure as struc\n",
    "atom1 = struc.Atom([0,0,0], chain_id=\"A\", res_id=1, res_name=\"GLY\",\n",
    "                   atom_name=\"N\", element=\"N\")\n",
    "atom2 = struc.Atom([0,1,1], chain_id=\"A\", res_id=1, res_name=\"GLY\",\n",
    "                   atom_name=\"CA\", element=\"C\")\n",
    "atom3 = struc.Atom([0,0,2], chain_id=\"A\", res_id=1, res_name=\"GLY\",\n",
    "                   atom_name=\"C\", element=\"C\")"
   ]
  },
  {
   "cell_type": "code",
   "execution_count": null,
   "metadata": {},
   "outputs": [],
   "source": [
    "array = struc.array([atom1, atom2, atom3])\n",
    "print(\"Chain ID:\", array.chain_id)\n",
    "print(\"Residue ID:\", array.res_id)\n",
    "print(\"Atom name:\", array.atom_name)\n",
    "print(\"Coordinates:\", array.coord)\n",
    "print()\n",
    "print(array)"
   ]
  },
  {
   "cell_type": "code",
   "execution_count": null,
   "metadata": {},
   "outputs": [],
   "source": [
    "array.add_annotation(\"foo\", dtype=bool)\n",
    "array.set_annotation(\"bar\", [1, 2, 3])\n",
    "print(array.foo)\n",
    "print(array.bar)"
   ]
  },
  {
   "cell_type": "code",
   "execution_count": null,
   "metadata": {},
   "outputs": [],
   "source": [
    "stack = struc.stack([array, array.copy()])\n",
    "print(stack)"
   ]
  },
  {
   "cell_type": "code",
   "execution_count": null,
   "metadata": {},
   "outputs": [],
   "source": [
    "from tempfile import gettempdir, NamedTemporaryFile\n",
    "import biotite.structure.io.pdb as pdb\n",
    "import biotite.database.rcsb as rcsb\n",
    "\n",
    "pdb_file_path = rcsb.fetch(\"1l2y\", \"pdb\", gettempdir())\n",
    "pdb_file = pdb.PDBFile.read(pdb_file_path)\n",
    "tc5b = pdb_file.get_structure()\n",
    "print(type(tc5b).__name__)\n",
    "print(tc5b.stack_depth())\n",
    "print(tc5b.array_length())\n",
    "print(tc5b.shape)"
   ]
  },
  {
   "cell_type": "code",
   "execution_count": null,
   "metadata": {},
   "outputs": [],
   "source": [
    "pdb_file = pdb.PDBFile()\n",
    "pdb_file.set_structure(tc5b)\n",
    "temp_file = NamedTemporaryFile(suffix=\".pdb\")\n",
    "pdb_file.write(temp_file.name)\n",
    "temp_file.close()"
   ]
  },
  {
   "cell_type": "code",
   "execution_count": null,
   "metadata": {},
   "outputs": [],
   "source": [
    "import biotite.structure.io.pdbx as pdbx\n",
    "cif_file_path = rcsb.fetch(\"1l2y\", \"cif\", gettempdir())\n",
    "cif_file = pdbx.PDBxFile.read(cif_file_path)\n",
    "print(cif_file[\"1L2Y\", \"audit_author\"][\"name\"])"
   ]
  },
  {
   "cell_type": "code",
   "execution_count": null,
   "metadata": {},
   "outputs": [],
   "source": [
    "cif_file[\"audit_author\"] = {\n",
    "    \"name\" : [\"Doe, Jane\", \"Doe, John\"],\n",
    "    \"pdbx_ordinal\" : [\"1\",\"2\"]\n",
    "}\n",
    "tc5b = pdbx.get_structure(cif_file)\n",
    "# Do some fancy stuff\n",
    "pdbx.set_structure(cif_file, tc5b)\n",
    "import numpy as np\n",
    "import biotite.structure.io.mmtf as mmtf\n",
    "mmtf_file_path = rcsb.fetch(\"1l2y\", \"mmtf\", gettempdir())\n",
    "mmtf_file = mmtf.MMTFFile.read(mmtf_file_path)\n",
    "stack = mmtf.get_structure(mmtf_file)\n",
    "array = mmtf.get_structure(mmtf_file, model=1)\n",
    "# Do some fancy stuff\n",
    "mmtf.set_structure(mmtf_file, array)\n",
    "# Field is not encoded\n",
    "print(mmtf_file[\"title\"])\n",
    "# Field is encoded and is automatically decoded\n",
    "print(mmtf_file[\"groupIdList\"])"
   ]
  },
  {
   "cell_type": "code",
   "execution_count": null,
   "metadata": {},
   "outputs": [],
   "source": [
    "mmtf_file[\"title\"] = \"Some other title\"\n",
    "print(mmtf_file[\"title\"])\n",
    "# Determine appropriate codec from the codec used originally\n",
    "mmtf_file.set_array(\n",
    "    \"groupIdList\",\n",
    "    np.arange(20,40),\n",
    "    codec=mmtf_file.get_codec(\"groupIdList\"))\n",
    "print(mmtf_file[\"groupIdList\"])"
   ]
  },
  {
   "cell_type": "code",
   "execution_count": null,
   "metadata": {},
   "outputs": [],
   "source": [
    "import biotite.structure.io.npz as npz\n",
    "file = npz.NpzFile()\n",
    "file.set_structure(array)\n",
    "reloaded_array = file.get_structure()"
   ]
  },
  {
   "cell_type": "code",
   "execution_count": null,
   "metadata": {},
   "outputs": [],
   "source": [
    "import biotite.structure.io as strucio\n",
    "stack_from_pdb = strucio.load_structure(pdb_file_path)\n",
    "stack_from_cif = strucio.load_structure(cif_file_path)\n",
    "temp_file = NamedTemporaryFile(suffix=\".cif\")\n",
    "strucio.save_structure(temp_file.name, stack_from_pdb)\n",
    "temp_file.close()"
   ]
  },
  {
   "cell_type": "code",
   "execution_count": null,
   "metadata": {},
   "outputs": [],
   "source": [
    "from tempfile import NamedTemporaryFile\n",
    "import requests\n",
    "import biotite.structure.io.xtc as xtc\n",
    "\n",
    "# Download 1L2Y as XTC file for demonstration purposes\n",
    "temp_xtc_file = NamedTemporaryFile(\"wb\", suffix=\".xtc\")\n",
    "response = requests.get(\n",
    "    \"https://raw.githubusercontent.com/biotite-dev/biotite/master/\"\n",
    "    \"tests/structure/data/1l2y.xtc\"\n",
    ")\n",
    "temp_xtc_file.write(response.content)\n",
    "\n",
    "traj_file = xtc.XTCFile.read(temp_xtc_file.name)\n",
    "coord = traj_file.get_coord()\n",
    "print(coord.shape)"
   ]
  },
  {
   "cell_type": "code",
   "execution_count": null,
   "metadata": {},
   "outputs": [],
   "source": [
    "traj_file = xtc.XTCFile.read(temp_xtc_file.name, step=2)\n",
    "coord = traj_file.get_coord()\n",
    "print(coord.shape)"
   ]
  },
  {
   "cell_type": "code",
   "execution_count": null,
   "metadata": {},
   "outputs": [],
   "source": [
    "import biotite.database.rcsb as rcsb\n",
    "import biotite.structure.io.mmtf as mmtf\n",
    "mmtf_file_path = rcsb.fetch(\"1l2y\", \"mmtf\", gettempdir())\n",
    "mmtf_file = mmtf.MMTFFile.read(mmtf_file_path)\n",
    "template = mmtf.get_structure(mmtf_file, model=1)\n",
    "traj_file = xtc.XTCFile.read(temp_xtc_file.name)\n",
    "trajectory = traj_file.get_structure(template)\n",
    "temp_xtc_file.close()"
   ]
  },
  {
   "cell_type": "code",
   "execution_count": null,
   "metadata": {},
   "outputs": [],
   "source": [
    "from tempfile import gettempdir\n",
    "import biotite.structure as struc\n",
    "import biotite.database.rcsb as rcsb\n",
    "import biotite.structure.io as strucio\n",
    "file_path = rcsb.fetch(\"1l2y\", \"mmtf\", gettempdir())\n",
    "stack = strucio.load_structure(file_path)\n",
    "print(type(stack).__name__)\n",
    "print(stack.shape)\n",
    "# Get the third model\n",
    "array = stack[2]\n",
    "print(type(array).__name__)\n",
    "print(array.shape)\n",
    "# Get the fifth atom\n",
    "atom = array[4]\n",
    "print(type(atom).__name__)\n",
    "print(atom.shape)"
   ]
  },
  {
   "cell_type": "code",
   "execution_count": null,
   "metadata": {},
   "outputs": [],
   "source": [
    "# Get the first atom\n",
    "atom = array[0]\n",
    "# Get a subarray containing the first and third atom\n",
    "subarray = array[[0,2]]\n",
    "# Get a subarray containing a range of atoms using slices\n",
    "subarray = array[100:200]\n",
    "# Filter all carbon atoms in residue 1\n",
    "subarray = array[(array.element == \"C\") & (array.res_id == 1)]\n",
    "# Filter all atoms where the X-coordinate is smaller than 2\n",
    "subarray = array[array.coord[:,0] < 2]\n",
    "# Get an atom array from the first model\n",
    "subarray = stack[0]\n",
    "# Get a substack containing the first 10 models\n",
    "substack = stack[:10]\n",
    "# Get the first 100 atoms from the third model\n",
    "subarray = stack[2, :100]\n",
    "# Get the first 100 atoms from the models 3, 4 and 5\n",
    "substack = stack[2:5, :100]\n",
    "# Get the first atom in the second model\n",
    "atom = stack[1,0]\n",
    "# Get a stack containing arrays containing only the first atom\n",
    "substack = stack[:, 0]\n",
    "backbone = array[struc.filter_backbone(array)]\n",
    "print(backbone.atom_name)"
   ]
  },
  {
   "cell_type": "code",
   "execution_count": null,
   "metadata": {},
   "outputs": [],
   "source": []
  }
 ],
 "metadata": {
  "kernelspec": {
   "display_name": "Python 3",
   "language": "python",
   "name": "python3"
  },
  "language_info": {
   "codemirror_mode": {
    "name": "ipython",
    "version": 3
   },
   "file_extension": ".py",
   "mimetype": "text/x-python",
   "name": "python",
   "nbconvert_exporter": "python",
   "pygments_lexer": "ipython3",
   "version": "3.8.2"
  }
 },
 "nbformat": 4,
 "nbformat_minor": 4
}
