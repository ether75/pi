{
  "cells": [
    {
      "cell_type": "code",
      "execution_count": null,
      "metadata": {
        "collapsed": false
      },
      "outputs": [],
      "source": [
        "%matplotlib inline"
      ]
    },
    {
      "cell_type": "markdown",
      "metadata": {},
      "source": [
        "\nPolymorphisms in the THCA synthase gene\n=======================================\n\nThe THCA synthase catalyzes the last step in the synthesis of\ntetrahydrocannabinolic acid (THCA), the precursor molecule of\ntetrahydrocannabinol (THC).\n\nTwo types of *cannabis sativa* are distinguished: While the *drug-type*\nstrains produce high levels of THCA, *fiber-type* strains produce a low\namount. One molecular difference between these two types are\npolymorphisms in THCA synthase gene [1]_.\n\nThis script takes THCA synthase gene sequences from different\n*cannabis sativa* strains, translates them into protein sequences and\ncreates a consensus sequence for each of the two strain types.\nEventually, an alignment is plotted depicting the polymorphic positions\nbetween the two consensus sequences.\n\n.. [1] M Kojoma, H Seki, S Yoshida and T Muranaka,\n       \"DNA polymorphisms in the tetrahydrocannabinolic acid (THCA) synthase\n       gene in 'drug-type' and 'fiber-type' Cannabis sativa L.\"\n       Forensic Sci Int, 159, 132-140 (2006).\n"
      ]
    },
    {
      "cell_type": "code",
      "execution_count": null,
      "metadata": {
        "collapsed": false
      },
      "outputs": [],
      "source": [
        "# Code source: Patrick Kunzmann\n# License: BSD 3 clause\n\nimport numpy as np\nimport matplotlib.pyplot as plt\nfrom matplotlib.colors import LinearSegmentedColormap\nimport biotite.sequence as seq\nimport biotite.sequence.align as align\nimport biotite.sequence.io.genbank as gb\nimport biotite.sequence.align as align\nimport biotite.sequence.graphics as graphics\nimport biotite.database.entrez as entrez\nimport biotite.application.clustalo as clustalo\n\n\n# Search for DNA sequences that belong to the cited article\nquery =   entrez.SimpleQuery(\"Forensic Sci. Int.\", \"Journal\") \\\n        & entrez.SimpleQuery(\"159\", \"Volume\") \\\n        & entrez.SimpleQuery(\"132-140\", \"Page Number\")\nuids = entrez.search(query, db_name=\"nuccore\")\n\n# Download and read file containing the Genbank records for the THCA\n# synthase genes \nmulti_file = gb.MultiFile.read(entrez.fetch_single_file(\n    uids, file_name=None, db_name=\"nuccore\", ret_type=\"gb\"\n))\n\n\n# This dictionary maps the strain ID to the protein sequence\nsequences = {}\n\nfor gb_file in multi_file:\n    annotation = gb.get_annotation(gb_file)\n    \n    # Find ID of strain in 'source' feature\n    strain = None\n    for feature in annotation:\n        if feature.key == \"source\":\n            strain = int(feature.qual[\"strain\"])\n    assert strain is not None\n    \n    # Find corresponding protein sequence in 'CDS' feature\n    sequence = None\n    for feature in annotation:\n        if feature.key == \"CDS\":\n            sequence = seq.ProteinSequence(\n                # Remove whitespace in sequence\n                # resulting from line breaks\n                feature.qual[\"translation\"].replace(\" \", \"\")\n            )\n    assert sequence is not None\n\n    sequences[strain] = sequence\n\n\n# None of the THCA synthase variants have an insertion or deletion\n# -> each one should have the same sequence length\nseq_len = len(list(sequences.values())[0])\nfor sequence in sequences.values():\n    assert len(sequence) == seq_len\n\n# Create consensus sequences for the drug-type and fiber-type cannabis\n# strains\ndef create_consensus(sequences):\n    seq_len = len(sequences[0])\n    consensus_code = np.zeros(seq_len, dtype=int)\n    for seq_pos in range(seq_len):\n        # Count the number of occurrences of each amino acid\n        # at the given sequence position\n        counts = np.bincount(\n            [sequence.code[seq_pos] for sequence in sequences]\n        )\n        # The consensus amino acid is the most frequent amino acid\n        consensus_code[seq_pos] = np.argmax(counts)\n    # Create empty ProteinSequence object...\n    consensus_sequence = seq.ProteinSequence()\n    # ...and fill it with the sequence code containing the consensus\n    # sequence\n    consensus_sequence.code = consensus_code\n    return consensus_sequence\n\ndrug_type_consensus = create_consensus(\n    [sequences[strain] for strain in (1, 10, 13, 20, 53, 54)]\n)\nfiber_type_consensus = create_consensus(\n    [sequences[strain] for strain in (9, 5, 11, 45, 66, 68, 78)]\n)\n\n\n# Create an alignment for visualization purposes\n# No insertion/deletions -> Align ungapped\nmatrix = align.SubstitutionMatrix.std_protein_matrix()\nalignment = align.align_ungapped(\n    drug_type_consensus, fiber_type_consensus, matrix=matrix\n)\n\n# A colormap for hightlighting sequence dissimilarity:\n# At low similarity the symbols are colored red,\n# at high similarity the symbols are colored white\ncmap = LinearSegmentedColormap.from_list(\n    \"custom\", colors=[(1.0, 0.3, 0.3), (1.0, 1.0, 1.0)]\n    #                    ^ reddish        ^ white\n)\n\nfig = plt.figure(figsize=(8.0, 6.0))\nax = fig.add_subplot(111)\n\ngraphics.plot_alignment_similarity_based(\n    ax, alignment, matrix=matrix, symbols_per_line=50,\n    labels=[\"Drug-type\", \"Fiber-type\"],\n    show_numbers=True, cmap=cmap, symbol_size=8\n)\n\nfig.tight_layout()\n\nplt.show()"
      ]
    }
  ],
  "metadata": {
    "kernelspec": {
      "display_name": "Python 3",
      "language": "python",
      "name": "python3"
    },
    "language_info": {
      "codemirror_mode": {
        "name": "ipython",
        "version": 3
      },
      "file_extension": ".py",
      "mimetype": "text/x-python",
      "name": "python",
      "nbconvert_exporter": "python",
      "pygments_lexer": "ipython3",
      "version": "3.8.3"
    }
  },
  "nbformat": 4,
  "nbformat_minor": 0
}